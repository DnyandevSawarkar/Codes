{
 "cells": [
  {
   "cell_type": "code",
   "execution_count": 5,
   "id": "34535633",
   "metadata": {},
   "outputs": [],
   "source": []
  },
  {
   "cell_type": "code",
   "execution_count": 6,
   "id": "2c76758a",
   "metadata": {},
   "outputs": [],
   "source": []
  },
  {
   "cell_type": "code",
   "execution_count": 8,
   "id": "57819050",
   "metadata": {},
   "outputs": [
    {
     "name": "stdout",
     "output_type": "stream",
     "text": [
      "Enter the limit: 3\n",
      "0 : EVEN\n",
      "1 : ODD\n",
      "2 : EVEN\n",
      "3 : ODD\n"
     ]
    }
   ],
   "source": [
    "num()"
   ]
  },
  {
   "cell_type": "code",
   "execution_count": 10,
   "id": "bfafeeff",
   "metadata": {},
   "outputs": [],
   "source": [
    "class test:\n",
    "    def num():\n",
    "        lim = int(input(\"Enter the limit: \"))\n",
    "\n",
    "        #print(\"{0}, {1}\".format(1, 2))\n",
    "        for i in range(0, lim + 1):\n",
    "            check(i)\n",
    "    \n",
    "    def check(i):\n",
    "        if i%2 == 0:\n",
    "            print(\"{0} : EVEN\".format(i))\n",
    "        else:\n",
    "            print(\"{0} : ODD\".format(i))"
   ]
  },
  {
   "cell_type": "code",
   "execution_count": 11,
   "id": "45d9ee43",
   "metadata": {},
   "outputs": [],
   "source": [
    "obj = test()"
   ]
  },
  {
   "cell_type": "code",
   "execution_count": 12,
   "id": "b03727de",
   "metadata": {},
   "outputs": [
    {
     "name": "stdout",
     "output_type": "stream",
     "text": [
      "Enter the limit: 3\n",
      "0 : EVEN\n",
      "1 : ODD\n",
      "2 : EVEN\n",
      "3 : ODD\n"
     ]
    }
   ],
   "source": [
    "test.num()"
   ]
  },
  {
   "cell_type": "code",
   "execution_count": null,
   "id": "5ce059ea",
   "metadata": {},
   "outputs": [],
   "source": []
  }
 ],
 "metadata": {
  "kernelspec": {
   "display_name": "Python 3",
   "language": "python",
   "name": "python3"
  },
  "language_info": {
   "codemirror_mode": {
    "name": "ipython",
    "version": 3
   },
   "file_extension": ".py",
   "mimetype": "text/x-python",
   "name": "python",
   "nbconvert_exporter": "python",
   "pygments_lexer": "ipython3",
   "version": "3.9.5"
  }
 },
 "nbformat": 4,
 "nbformat_minor": 5
}
