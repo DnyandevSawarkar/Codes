{
 "cells": [
  {
   "cell_type": "markdown",
   "metadata": {},
   "source": [
    "## TASK 2 Variables in Python"
   ]
  },
  {
   "cell_type": "markdown",
   "metadata": {},
   "source": [
    "### Assignment 1  ( 3 Marks )\n",
    "Write all the codes from the video provided in Resource file. "
   ]
  },
  {
   "cell_type": "code",
   "execution_count": 1,
   "metadata": {},
   "outputs": [
    {
     "name": "stdout",
     "output_type": "stream",
     "text": [
      "BMW 10\n",
      "BMW 10\n",
      "BMW 8\n",
      "BMW 10\n",
      "BMW 8 4\n",
      "BMW 10 4\n",
      "BMW 8 5\n",
      "BMW 10 5\n"
     ]
    }
   ],
   "source": [
    "'''Code In Video Provided'''\n",
    "#1\n",
    "class Car:\n",
    "  \n",
    "    def __init__(self):\n",
    "        self.mil = 10\n",
    "        \n",
    "        self.com = \"BMW\"\n",
    "\n",
    "c1 = Car()\n",
    "c2 = Car()\n",
    "\n",
    "print(c1.com, c1.mil) #Output of variable c1\n",
    "\n",
    "print(c2.com, c2.mil) #Output of variable c2\n",
    "\n",
    "#2\n",
    "class Car:\n",
    "   \n",
    "    def __init__(self):\n",
    "        self.mil = 10\n",
    "        self.com = \"BMW\"\n",
    "\n",
    "c1 = Car()\n",
    "c2 = Car()\n",
    "\n",
    "c1.mil = 8\n",
    "\n",
    "\n",
    "print(c1.com, c1.mil) #Output of variable c1\n",
    "\n",
    "print(c2.com, c2.mil) #Output of variable c2\n",
    "\n",
    "#3\n",
    "class Car:\n",
    "    wheels = 4\n",
    "    def __init__(self):\n",
    "        self.mil = 10\n",
    "        self.com = \"BMW\"\n",
    "\n",
    "c1 = Car()\n",
    "c2 = Car()\n",
    "\n",
    "c1.mil = 8\n",
    "\n",
    "print(c1.com, c1.mil, c1.wheels) #Output of variable c1\n",
    "\n",
    "print(c2.com, c2.mil, c2.wheels) #Output of variable c2\n",
    "\n",
    "#4\n",
    "class Car:                       \n",
    "    wheels = 4\n",
    "    def __init__(self):\n",
    "        self.mil = 10            \n",
    "        self.com = \"BMW\"         \n",
    "\n",
    "c1 = Car()\n",
    "c2 = Car()\n",
    "\n",
    "c1.mil = 8\n",
    "\n",
    "Car.wheels = 5\n",
    "\n",
    "print(c1.com, c1.mil, c1.wheels) #Output of variable c1\n",
    "\n",
    "print(c2.com, c2.mil, c2.wheels) #Output of variable c2"
   ]
  },
  {
   "cell_type": "markdown",
   "metadata": {},
   "source": [
    "### Assignment 2  ( 5 Marks )\n",
    "List 5 legal variable names and 3 illegal variable names of different types."
   ]
  },
  {
   "cell_type": "code",
   "execution_count": 2,
   "metadata": {},
   "outputs": [
    {
     "name": "stdout",
     "output_type": "stream",
     "text": [
      "Yash\n",
      "Jaikr\n",
      "SVPCET\n",
      "100\n",
      "200\n"
     ]
    }
   ],
   "source": [
    "'''5 Legal variable names'''\n",
    "#1\n",
    "variable1 = \"Yash\"\n",
    "print (variable1)           \n",
    "\n",
    "#2\n",
    "variable2 = \"Jaikr\"\n",
    "print (variable2)             \n",
    "\n",
    "#3\n",
    "variable3 = \"SVPCET\"\n",
    "print (variable3)            \n",
    "\n",
    "#4\n",
    "variable4 = 100\n",
    "print (variable4)            \n",
    "\n",
    "#5\n",
    "variable5 = 200\n",
    "print (variable5)          "
   ]
  },
  {
   "cell_type": "code",
   "execution_count": 3,
   "metadata": {},
   "outputs": [
    {
     "ename": "SyntaxError",
     "evalue": "invalid syntax (<ipython-input-3-7ce30cda8209>, line 3)",
     "output_type": "error",
     "traceback": [
      "\u001b[1;36m  File \u001b[1;32m\"<ipython-input-3-7ce30cda8209>\"\u001b[1;36m, line \u001b[1;32m3\u001b[0m\n\u001b[1;33m    @Variable_1 = \"Yash\"\u001b[0m\n\u001b[1;37m                ^\u001b[0m\n\u001b[1;31mSyntaxError\u001b[0m\u001b[1;31m:\u001b[0m invalid syntax\n"
     ]
    }
   ],
   "source": [
    "'''3 Illegal variable names and Their Output'''\n",
    "#1\n",
    "@Variable_1 = \"Yash\"                    \n",
    "print (num)                 "
   ]
  },
  {
   "cell_type": "code",
   "execution_count": 4,
   "metadata": {},
   "outputs": [
    {
     "ename": "SyntaxError",
     "evalue": "invalid syntax (<ipython-input-4-937885c5b6b6>, line 2)",
     "output_type": "error",
     "traceback": [
      "\u001b[1;36m  File \u001b[1;32m\"<ipython-input-4-937885c5b6b6>\"\u001b[1;36m, line \u001b[1;32m2\u001b[0m\n\u001b[1;33m    &Variable_@2 = \"5000\"\u001b[0m\n\u001b[1;37m    ^\u001b[0m\n\u001b[1;31mSyntaxError\u001b[0m\u001b[1;31m:\u001b[0m invalid syntax\n"
     ]
    }
   ],
   "source": [
    "#2\n",
    "&Variable_@2 = \"5000\"           \n",
    "print (alphabte)            "
   ]
  },
  {
   "cell_type": "code",
   "execution_count": 5,
   "metadata": {},
   "outputs": [
    {
     "ename": "SyntaxError",
     "evalue": "invalid syntax (<ipython-input-5-62efd9e1546e>, line 2)",
     "output_type": "error",
     "traceback": [
      "\u001b[1;36m  File \u001b[1;32m\"<ipython-input-5-62efd9e1546e>\"\u001b[1;36m, line \u001b[1;32m2\u001b[0m\n\u001b[1;33m    &3_Variable = \"Error\"\u001b[0m\n\u001b[1;37m    ^\u001b[0m\n\u001b[1;31mSyntaxError\u001b[0m\u001b[1;31m:\u001b[0m invalid syntax\n"
     ]
    }
   ],
   "source": [
    "#3\n",
    "&3_Variable = \"Error\"         \n",
    "print (location)            "
   ]
  },
  {
   "cell_type": "markdown",
   "metadata": {},
   "source": [
    "### Assignment 3  ( 7 Marks )\n",
    "Write a program to print your Name, age, percentage of 1st semester and postal address in different lines"
   ]
  },
  {
   "cell_type": "code",
   "execution_count": 6,
   "metadata": {},
   "outputs": [
    {
     "name": "stdout",
     "output_type": "stream",
     "text": [
      "Entre name : Yash Jaikr\n",
      "Name :  Yash Jaikr\n",
      "Entre age : 18\n",
      "Age :  18\n",
      "Entre percentage : 100\n",
      "Percentage :  100.0\n",
      "Entre address : Near Railway Gate,Ballarpur\n",
      "Address :  Near Railway Gate,Ballarpur\n"
     ]
    }
   ],
   "source": [
    "'''This Code Prints Name,Age,Percentageof 1st sem,Address By Tacking Input From User'''\n",
    "\n",
    "\n",
    "#1 \n",
    "name = input(\"Entre name : \")                        #This variable is used to store value of input of Name \n",
    "\n",
    "print(\"Name : \",name)                                #Output of name      \n",
    "\n",
    "#2\n",
    "age = int(input(\"Entre age : \"))                     #This variable is used to  store value of input of Age\n",
    "\n",
    "print(\"Age : \",age)                                  #Output of age\n",
    "\n",
    "\n",
    "#3\n",
    "percentage_of_1st_semester = input(\"Entre percentage : \") #This variable is used to store value of input of Percentage\n",
    "\n",
    "print(\"Percentage : \",percentage_of_1st_semester)    #Output of percentage_of_1st_semester\n",
    "\n",
    "#4\n",
    "postal_address = input(\"Entre address : \")           #This Variable is used to store value of input of address\n",
    "print(\"Address : \",postal_address)                   #Output of postel_Address"
   ]
  }
 ],
 "metadata": {
  "kernelspec": {
   "display_name": "Python 3",
   "language": "python",
   "name": "python3"
  },
  "language_info": {
   "codemirror_mode": {
    "name": "ipython",
    "version": 3
   },
   "file_extension": ".py",
   "mimetype": "text/x-python",
   "name": "python",
   "nbconvert_exporter": "python",
   "pygments_lexer": "ipython3",
   "version": "3.9.5"
  }
 },
 "nbformat": 4,
 "nbformat_minor": 2
}
