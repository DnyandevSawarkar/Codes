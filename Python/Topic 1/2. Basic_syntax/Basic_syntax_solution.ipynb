{
 "cells": [
  {
   "cell_type": "markdown",
   "metadata": {},
   "source": [
    "## <center>Basic Syntax </center>\n",
    "### <center>Author: R-LABS Team </center> "
   ]
  },
  {
   "cell_type": "markdown",
   "metadata": {},
   "source": [
    "### Topics to be covered\n",
    "1. Lines & indentation\n",
    "2. Comments\n",
    "3. Getting user's input\n",
    "4. Displaying output"
   ]
  },
  {
   "cell_type": "markdown",
   "metadata": {},
   "source": [
    "# Learn By Doing"
   ]
  },
  {
   "cell_type": "markdown",
   "metadata": {},
   "source": [
    "### 1. Lines and indentation\n",
    "<b>Line:</b> In Python, a portion of text which is terminated by a newline character (i.e. by pressing “Enter”) is called a line."
   ]
  },
  {
   "cell_type": "code",
   "execution_count": 1,
   "metadata": {},
   "outputs": [
    {
     "name": "stdout",
     "output_type": "stream",
     "text": [
      "5\n"
     ]
    }
   ],
   "source": [
    "# can you complete the code for subtraction of two numbers.\n",
    "a = 3      # this is line/segment 1\n",
    "b = 2      # this is line/segment 2\n",
    "c = a+b    # this is line/segment 3\n",
    "print(c)   # this is line/segment 4"
   ]
  },
  {
   "cell_type": "code",
   "execution_count": 2,
   "metadata": {},
   "outputs": [
    {
     "data": {
      "text/plain": [
       "5"
      ]
     },
     "execution_count": 2,
     "metadata": {},
     "output_type": "execute_result"
    }
   ],
   "source": [
    "d = 10\n",
    "e = 5\n",
    "f = d-e\n",
    "f\n"
   ]
  },
  {
   "cell_type": "markdown",
   "metadata": {},
   "source": [
    "<b>Indentation:</b> Indentation means to start a new line of code few spaces away from the margin of the main part of the text.\n",
    "- It is used for building blocks of statements.\n",
    "- In C/C++ <b>'{'</b> , <b>'}'</b> were used for denoting a block.\n",
    "- In python it is replaced by <b>indentation</b>.\n",
    "\n",
    "- When a block is to be started, type the colon symbol (<b>:</b>) and press Enter.\n",
    "- When the block has to be ended, just press <b>backspace</b>. \n",
    "- The indentation will be removed and the cursor will go back to the previous margin."
   ]
  },
  {
   "cell_type": "code",
   "execution_count": 3,
   "metadata": {},
   "outputs": [
    {
     "name": "stdout",
     "output_type": "stream",
     "text": [
      "Present\n"
     ]
    }
   ],
   "source": [
    "# Let us look at an example\n",
    "roll_no = 33\n",
    "# the colon (:) in the statement below indicates starting of new block.\n",
    "if roll_no == 33:\n",
    "    print(\"Present\")\n",
    "# The statement below also indicates starting of another block\n",
    "else:\n",
    "    print(\"Absent\")"
   ]
  },
  {
   "cell_type": "markdown",
   "metadata": {},
   "source": [
    "Lets see if you understood the concept of indentation."
   ]
  },
  {
   "cell_type": "code",
   "execution_count": 35,
   "metadata": {},
   "outputs": [
    {
     "name": "stdout",
     "output_type": "stream",
     "text": [
      "x is greater than y!\n",
      "x is greater than y!\n"
     ]
    }
   ],
   "source": [
    "# Find and correct the indentation error of the code\n",
    "y = 2\n",
    "x = 5\n",
    "if x > y:\n",
    "    print(\"x is greater than y!\")\n",
    "    print(\"x is greater than y!\")\n",
    "else:\n",
    "    print(\"y is greater than x\")"
   ]
  },
  {
   "cell_type": "markdown",
   "metadata": {},
   "source": [
    "A block of statement can be written inside another block of statement. Let us see this with an example\n"
   ]
  },
  {
   "cell_type": "code",
   "execution_count": null,
   "metadata": {},
   "outputs": [],
   "source": [
    "y = 2\n",
    "x = 5\n",
    "# statement below indicates one block of statement.\n",
    "if x > y:\n",
    "    print(\"x is greater than y!\")\n",
    "    # statement below is another block of statement inside the above block.\n",
    "    if x == 5:\n",
    "        print(\"x is equal to 5\")"
   ]
  },
  {
   "cell_type": "markdown",
   "metadata": {},
   "source": [
    "### 2. Comments\n",
    "- It is a piece of text, which gives explanation about the code.\n",
    "- It does not affect the output of the code."
   ]
  },
  {
   "cell_type": "markdown",
   "metadata": {},
   "source": [
    "### 2.1. Single line comments\n",
    "- In python, single line comment starts with <b>'#'</b>.\n",
    "- Comment can be started from any part of the line.\n",
    "- Anything written after <b>'#'</b> is considered as comment.\n",
    "<br><br>Let us look at some examples.</br></br>"
   ]
  },
  {
   "cell_type": "markdown",
   "metadata": {},
   "source": [
    "First let us take alook at comments starting from the beginning of the line."
   ]
  },
  {
   "cell_type": "code",
   "execution_count": null,
   "metadata": {},
   "outputs": [],
   "source": [
    "# Store the values in variables 'number1', 'number2'\n",
    "number1 = 32\n",
    "number2 = 2\n",
    "# multiply 'number1' with 'number2' and store it in 'product'\n",
    "product = number1 * number2\n",
    "# print the value of 'product'.\n",
    "product"
   ]
  },
  {
   "cell_type": "markdown",
   "metadata": {},
   "source": [
    "Now lets see an example of comments after a statement of code"
   ]
  },
  {
   "cell_type": "code",
   "execution_count": null,
   "metadata": {},
   "outputs": [],
   "source": [
    "number3 = 2     # store 2 in 'number3' \n",
    "number4 = 50    \n",
    "div = number3 / number4 \n",
    "div"
   ]
  },
  {
   "cell_type": "markdown",
   "metadata": {},
   "source": [
    "So give comments for the rest of the statements in above code.\n",
    "<br>By now you must have understood, how to write a comment.</br>"
   ]
  },
  {
   "cell_type": "markdown",
   "metadata": {},
   "source": [
    "### 2.2. Multi-line comments\n",
    "- In python, for multiple comment statements, you need to put <b>'#'</b> before every line of comment.\n",
    "- An alternative to this is to put multiple comment statements in between triple quotes. (This is not exactly a comment, but is treated as one.)"
   ]
  },
  {
   "cell_type": "markdown",
   "metadata": {},
   "source": [
    "Let us look at some examples.\n",
    "<br><br>Example below shows how to comment multiple lines using <b>'#'</b>.</br></br>"
   ]
  },
  {
   "cell_type": "code",
   "execution_count": null,
   "metadata": {},
   "outputs": [],
   "source": [
    "#This is a comment\n",
    "#written in\n",
    "#more than just one line\n",
    "print(\"Hello, World!\")"
   ]
  },
  {
   "cell_type": "markdown",
   "metadata": {},
   "source": [
    "Now let us look at an example on how to comment multiple lines using <b>triple quotes</b>."
   ]
  },
  {
   "cell_type": "code",
   "execution_count": null,
   "metadata": {},
   "outputs": [],
   "source": [
    "'''\n",
    "This is a comment\n",
    "written in\n",
    "more than just one line\n",
    "'''\n",
    "print(\"The above comment is using triple quotes!\")"
   ]
  },
  {
   "cell_type": "markdown",
   "metadata": {},
   "source": [
    "### 3. Getting user's input\n",
    "- To get inputs from the user python uses an in-built function named <b>input().</b> (Like 'scanf' in C language.)\n",
    "\n",
    "<br> <b>Syntax:</b></br>\n",
    "<br>&emsp;&emsp;&emsp;input<b>(</b>your_message_in_double_quotes<b>)</b></br>"
   ]
  },
  {
   "cell_type": "markdown",
   "metadata": {},
   "source": [
    "One example is done for you. "
   ]
  },
  {
   "cell_type": "code",
   "execution_count": 4,
   "metadata": {},
   "outputs": [
    {
     "name": "stdout",
     "output_type": "stream",
     "text": [
      "Enter your roll no.: 1\n"
     ]
    }
   ],
   "source": [
    "roll_no = input(\"Enter your roll no.: \")"
   ]
  },
  {
   "cell_type": "code",
   "execution_count": 6,
   "metadata": {},
   "outputs": [
    {
     "name": "stdout",
     "output_type": "stream",
     "text": [
      "Enter your users name.: YASH\n"
     ]
    }
   ],
   "source": [
    "# Now, you write a code to get the users name.\n",
    "users_name = input(\"Enter your users name.: \")"
   ]
  },
  {
   "cell_type": "markdown",
   "metadata": {},
   "source": [
    "Now let us see another example to input  2 numbers from user and add it."
   ]
  },
  {
   "cell_type": "code",
   "execution_count": 7,
   "metadata": {},
   "outputs": [
    {
     "name": "stdout",
     "output_type": "stream",
     "text": [
      "Enter value of n1: 10\n",
      "Enter value of n2: 10\n"
     ]
    },
    {
     "data": {
      "text/plain": [
       "'1010'"
      ]
     },
     "execution_count": 7,
     "metadata": {},
     "output_type": "execute_result"
    }
   ],
   "source": [
    "n1 = input(\"Enter value of n1: \")\n",
    "n2 = input(\"Enter value of n2: \")\n",
    "s1 = n1+n2\n",
    "s1"
   ]
  },
  {
   "cell_type": "markdown",
   "metadata": {},
   "source": [
    "The expected answer was to get the sum of n1 and n2 i.e. 25 .\n",
    "<br><br>But here we are getting somthing else.</br></br>\n",
    "\n",
    "<b>This is because the inputs taken from the user are in form of strings.</b></br>\n",
    "\n",
    "- Thus n1 & n2 are not integers but they are strings.\n",
    "- So when we say <b>n1+n2</b>, both the strings get concatinated (i.e. n1 gets joined to n2).\n",
    "- Thus here we see the the output comes out to be '232'."
   ]
  },
  {
   "cell_type": "markdown",
   "metadata": {},
   "source": [
    "So if the inputs taken from the user are in form of string how will be do any mathematical operation on them???\n",
    "<br><br>It's quite simple!!</br></br>\n",
    "<br><br><b>We convert the strings into integers.</b></br></br>\n",
    "<br>Now let us see how this conversion is done</br>"
   ]
  },
  {
   "cell_type": "code",
   "execution_count": 8,
   "metadata": {},
   "outputs": [
    {
     "name": "stdout",
     "output_type": "stream",
     "text": [
      "Enter a number: 10\n"
     ]
    }
   ],
   "source": [
    "inp = int(input(\"Enter a number: \"))"
   ]
  },
  {
   "cell_type": "markdown",
   "metadata": {},
   "source": [
    "Isn't it simple!!\n",
    "\n",
    "<br>So now using this conversion, try writing a code for addition of two numbers.</br>"
   ]
  },
  {
   "cell_type": "code",
   "execution_count": 36,
   "metadata": {},
   "outputs": [
    {
     "name": "stdout",
     "output_type": "stream",
     "text": [
      "Enter value of n1: 100\n",
      "Value of n1 is 100\n",
      "Enter value of n2: 10\n",
      "Value of n2 is 10\n",
      "Value of s1 is 110\n",
      "Value of s2 is 90\n",
      "Value of prod is 1000\n",
      "Value of divi is 1.0\n"
     ]
    }
   ],
   "source": [
    "# write your code here\n",
    "n1 = int(input(\"Enter value of n1: \"))\n",
    "print(\"Value of n1 is\",n1)\n",
    "n2 = int(input(\"Enter value of n2: \"))\n",
    "print(\"Value of n2 is\",n2)\n",
    "s1 = n1+n2\n",
    "s1\n",
    "print(\"Value of s1 is\",s1)\n",
    "s2 = n1-n2\n",
    "s2\n",
    "print(\"Value of s2 is\",s2)\n",
    "prod = n1*n2\n",
    "prod\n",
    "print(\"Value of prod is\",prod)\n",
    "divi = n1/n1\n",
    "divi\n",
    "print(\"Value of divi is\",divi)"
   ]
  },
  {
   "cell_type": "code",
   "execution_count": 29,
   "metadata": {},
   "outputs": [
    {
     "name": "stdout",
     "output_type": "stream",
     "text": [
      "Enter value of n1: 10\n",
      "Enter n1 :  10\n",
      "Enter value of n2: 10\n",
      "Enter n2 :  10\n"
     ]
    },
    {
     "data": {
      "text/plain": [
       "0"
      ]
     },
     "execution_count": 29,
     "metadata": {},
     "output_type": "execute_result"
    }
   ],
   "source": [
    "n1 = int(input(\"Enter value of n1: \"))\n",
    "print(\"Enter n1 : \",n1)\n",
    "n2 = int(input(\"Enter value of n2: \"))\n",
    "print(\"Enter n2 : \",n2)\n",
    "s1 = n1-n2\n",
    "s1"
   ]
  },
  {
   "cell_type": "markdown",
   "metadata": {},
   "source": [
    "### 4.Displaying the output"
   ]
  },
  {
   "cell_type": "markdown",
   "metadata": {},
   "source": [
    "There is an in-built function in python named print() to display the output.\n",
    "<br>Let us see the different ways to use print statement.</br>"
   ]
  },
  {
   "cell_type": "code",
   "execution_count": null,
   "metadata": {},
   "outputs": [],
   "source": [
    "# Let us see how to print a string\n",
    "print(\"This is a string\")"
   ]
  },
  {
   "cell_type": "code",
   "execution_count": null,
   "metadata": {},
   "outputs": [],
   "source": [
    "# Printing the value in a variable\n",
    "var = 12\n",
    "print(var)"
   ]
  },
  {
   "cell_type": "markdown",
   "metadata": {},
   "source": [
    "You can print multiple values using single print()"
   ]
  },
  {
   "cell_type": "code",
   "execution_count": 13,
   "metadata": {},
   "outputs": [
    {
     "name": "stdout",
     "output_type": "stream",
     "text": [
      "Value is 4\n",
      "Python_language 4 us\n"
     ]
    }
   ],
   "source": [
    "# Printing string and variable\n",
    "var1 = 4\n",
    "print(\"Value is\", var1)\n",
    "\n",
    "# we'll see one more example\n",
    "print(\"Python_language\",var1,\"us\")"
   ]
  },
  {
   "cell_type": "markdown",
   "metadata": {},
   "source": [
    "In the above output you see that all the variables and strings are seperated with space.\n",
    "<br><br>This is because the print() function has a parameter named <b>'sep'</b>. By default this adds space between all the values.</br></br>\n",
    "<br>We can change the seperator from space to comma, slash etc.</br>\n",
    "<br><br>Let us see an example for the same.</br></br>"
   ]
  },
  {
   "cell_type": "code",
   "execution_count": 21,
   "metadata": {},
   "outputs": [
    {
     "name": "stdout",
     "output_type": "stream",
     "text": [
      "Value is = 4\n",
      "Python_language/4/us\n"
     ]
    }
   ],
   "source": [
    "var2 = 4\n",
    "print(\"Value is\",var2, sep=\" = \")\n",
    "print(\"Python_language\",var2,\"us\", sep=\"/\")"
   ]
  },
  {
   "cell_type": "code",
   "execution_count": null,
   "metadata": {},
   "outputs": [],
   "source": [
    "var3 = 8\n",
    "print(\"Hello\")\n",
    "print(\"World\")\n",
    "print(var3)"
   ]
  },
  {
   "cell_type": "markdown",
   "metadata": {},
   "source": [
    "From the above code we see that values of seperate print functions are displayed on seperate lines.\n",
    "<br><br>This is because the print() function has a parameter named <b>'end'</b>. By default it adds a one new-line (1 Enter) at the end of every print statement.</br>"
   ]
  },
  {
   "cell_type": "markdown",
   "metadata": {},
   "source": [
    "Let us see some of the examples using <b>'end'</b> parameter"
   ]
  },
  {
   "cell_type": "code",
   "execution_count": 22,
   "metadata": {},
   "outputs": [
    {
     "name": "stdout",
     "output_type": "stream",
     "text": [
      "Hello World 8\n"
     ]
    }
   ],
   "source": [
    "var4 = 8\n",
    "print(\"Hello World\", end = ' ')\n",
    "print(var4)"
   ]
  },
  {
   "cell_type": "markdown",
   "metadata": {},
   "source": [
    "In the above example, <b>end = '&emsp;'</b> adds 1 space after the first statement, then prints the second statement on the same line.\n",
    "<br><br>Lets look at one more example</br></br>"
   ]
  },
  {
   "cell_type": "code",
   "execution_count": 24,
   "metadata": {},
   "outputs": [
    {
     "name": "stdout",
     "output_type": "stream",
     "text": [
      "Hello World\n",
      "\n",
      "8\n"
     ]
    }
   ],
   "source": [
    "var5 = 8\n",
    "print(\"Hello World\", end = '\\n\\n')\n",
    "print(var4)"
   ]
  },
  {
   "cell_type": "markdown",
   "metadata": {},
   "source": [
    "In the above example, <b>end = '\\n\\n'</b> adds 2 new lines  after the first statement, then prints the second statement on the same line."
   ]
  },
  {
   "cell_type": "markdown",
   "metadata": {},
   "source": [
    "Hope you have understood the usage of <b>sep, end</b> in print function.\n",
    "\n",
    " In the code given below, put appropriate symbols/ spaces in place of '?' to get the output as shown:\n",
    "<br><b>OUTPUT :</b></br>\n",
    "<br>&ensp;&ensp;26,letters</br>\n",
    "<br>&ensp;&ensp;32 marks</br>"
   ]
  },
  {
   "cell_type": "code",
   "execution_count": 34,
   "metadata": {},
   "outputs": [
    {
     "name": "stdout",
     "output_type": "stream",
     "text": [
      "26?letters\n",
      "32 marks?marks\n"
     ]
    }
   ],
   "source": [
    "w = 26\n",
    "x = 32\n",
    "y = \"letters\"\n",
    "z = \"marks\"\n",
    "\n",
    "print(w,y,sep ='?') \n",
    "print(x,z,end = '?')\n",
    "print(z)"
   ]
  },
  {
   "cell_type": "markdown",
   "metadata": {},
   "source": [
    "## Assignments"
   ]
  },
  {
   "cell_type": "markdown",
   "metadata": {},
   "source": [
    "### Assignment 1\n",
    "Write all the codes from the video. "
   ]
  },
  {
   "cell_type": "code",
   "execution_count": null,
   "metadata": {},
   "outputs": [],
   "source": [
    "#Answer to assignment 1\n"
   ]
  },
  {
   "cell_type": "markdown",
   "metadata": {},
   "source": [
    "### Assignment 2\n",
    "Write a code to input 2 numbers from user and perform addition, subtraction, mutiplication and division on it & print the output. "
   ]
  },
  {
   "cell_type": "code",
   "execution_count": null,
   "metadata": {},
   "outputs": [],
   "source": [
    "# Answer to asignment 2\n"
   ]
  },
  {
   "cell_type": "markdown",
   "metadata": {},
   "source": [
    "### Assignment 3\n",
    "Write a code to input the name, roll number of a student. Also input marks obtained in Physics, chemistry and maths. Find the total marks.\n",
    "<br>Print the output as shown below</br>\n",
    "<br><b>OUTPUT :</b></br>\n",
    "<br>Name<b>:</b> &nbsp;name_of_student</br>\n",
    "<br>Roll No<b>.:</b> &nbsp;roll_no_of_student</br>\n",
    "<br>Total<b>:</b> &nbsp;total_marks</br>"
   ]
  },
  {
   "cell_type": "code",
   "execution_count": null,
   "metadata": {},
   "outputs": [],
   "source": [
    "# Answer to asignment 3\n"
   ]
  }
 ],
 "metadata": {
  "kernelspec": {
   "display_name": "Python 3",
   "language": "python",
   "name": "python3"
  },
  "language_info": {
   "codemirror_mode": {
    "name": "ipython",
    "version": 3
   },
   "file_extension": ".py",
   "mimetype": "text/x-python",
   "name": "python",
   "nbconvert_exporter": "python",
   "pygments_lexer": "ipython3",
   "version": "3.9.5"
  }
 },
 "nbformat": 4,
 "nbformat_minor": 2
}
