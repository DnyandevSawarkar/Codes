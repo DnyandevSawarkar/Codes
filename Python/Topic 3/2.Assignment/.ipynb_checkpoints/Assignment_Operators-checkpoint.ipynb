{
 "cells": [
  {
   "cell_type": "markdown",
   "metadata": {},
   "source": [
    "## Assignment 1 (3M)\n",
    "\n",
    "##Write all the codes explained in the video given in Resource file."
   ]
  },
  {
   "cell_type": "code",
   "execution_count": null,
   "metadata": {},
   "outputs": [],
   "source": [
    "'''\n",
    "Following are the codes from both Video given in resource file\n",
    "'''"
   ]
  },
  {
   "cell_type": "code",
   "execution_count": null,
   "metadata": {},
   "outputs": [],
   "source": [
    "#video 1"
   ]
  },
  {
   "cell_type": "code",
   "execution_count": 1,
   "metadata": {},
   "outputs": [
    {
     "name": "stdout",
     "output_type": "stream",
     "text": [
      "sum : 5\n",
      "diffrence : -1\n",
      "product : 6\n",
      "division : 0.6666666666666666\n",
      "4\n",
      "6\n",
      "18\n"
     ]
    }
   ],
   "source": [
    "#1\n",
    "x = 2                                     #Assined Value\n",
    "y = 3                                     #Assined Value\n",
    "print(\"sum :\",x+y)                        #addition\n",
    "print(\"diffrence :\",x-y)                  #substraction\n",
    "print(\"product :\",x*y)                    #multiplication\n",
    "print(\"division :\",x/y)                   #division\n",
    "x = x+2                                   #New Assined Value (x +2)\n",
    "print(x)                                  #output of x+2\n",
    "x +=2\n",
    "print(x)\n",
    "x *=3                                     #x to power 3\n",
    "print(x)"
   ]
  },
  {
   "cell_type": "code",
   "execution_count": 2,
   "metadata": {},
   "outputs": [
    {
     "name": "stdout",
     "output_type": "stream",
     "text": [
      "5\n",
      "6\n"
     ]
    }
   ],
   "source": [
    "#2\n",
    "a,b = 5,6   #Assined Value\n",
    "print(a)    #Output \n",
    "print(b)    #Output "
   ]
  },
  {
   "cell_type": "code",
   "execution_count": 3,
   "metadata": {},
   "outputs": [
    {
     "name": "stdout",
     "output_type": "stream",
     "text": [
      "7\n",
      "-7\n",
      "-7\n"
     ]
    }
   ],
   "source": [
    "#3\n",
    "n = 7     #Assined Value\n",
    "print(n)  #output\n",
    "print(-n) #output but negative\n",
    "\n",
    "#print(n) #extra same output\n",
    "\n",
    "n = -n    #assinged new value\n",
    "print(n)  #output of new value"
   ]
  },
  {
   "cell_type": "code",
   "execution_count": 4,
   "metadata": {
    "scrolled": true
   },
   "outputs": [
    {
     "name": "stdout",
     "output_type": "stream",
     "text": [
      "True\n",
      "False\n",
      "False\n",
      "True\n",
      "True\n",
      "True\n",
      "False\n",
      "True\n"
     ]
    }
   ],
   "source": [
    "#4\n",
    "a = 5                  #assined value\n",
    "b = 6                  #assined value\n",
    "\n",
    "#outputs\n",
    "print(a < b)           #operator          \n",
    "print(a > b)           #operator\n",
    "print(a == b)          #equal to  operator \n",
    "\n",
    "a = 6                  #new assined value\n",
    "\n",
    "#outputs\n",
    "print(a == b)          #equal  to operator \n",
    "print(a <= b)          #less than equal to  operator \n",
    "print(a >= b)          #greater than equal to  operator \n",
    "print(a != b)          #not equal to  operator \n",
    "\n",
    "b = 7                  #new assined value\n",
    "\n",
    "#outputs\n",
    "print(a != b)          #not equal to  operator "
   ]
  },
  {
   "cell_type": "code",
   "execution_count": 5,
   "metadata": {},
   "outputs": [
    {
     "name": "stdout",
     "output_type": "stream",
     "text": [
      "True\n",
      "False\n",
      "True\n"
     ]
    }
   ],
   "source": [
    "#5\n",
    "a = 5                  #assined value\n",
    "b = 4                  #assined value\n",
    "\n",
    "#and\n",
    "print(a < 8 and b < 5) # 1 1 = true\n",
    "print(a < 8 and b < 2) # 1 0 = false\n",
    "\n",
    "#or\n",
    "print(a < 8 or b < 2)  # 1 0 = true"
   ]
  },
  {
   "cell_type": "code",
   "execution_count": 6,
   "metadata": {},
   "outputs": [
    {
     "name": "stdout",
     "output_type": "stream",
     "text": [
      "True\n",
      "False\n",
      "False\n"
     ]
    }
   ],
   "source": [
    "#6\n",
    "x = True\n",
    "print(x)\n",
    "print(not x)  #    Not operator\n",
    "x = not x\n",
    "print(x)"
   ]
  },
  {
   "cell_type": "code",
   "execution_count": null,
   "metadata": {},
   "outputs": [],
   "source": [
    "#video 2"
   ]
  },
  {
   "cell_type": "code",
   "execution_count": 7,
   "metadata": {},
   "outputs": [
    {
     "name": "stdout",
     "output_type": "stream",
     "text": [
      "-13\n",
      "12\n",
      "13\n",
      "24\n",
      "31\n",
      "13\n",
      "1\n",
      "7\n",
      "40\n",
      "2\n"
     ]
    }
   ],
   "source": [
    "#1\n",
    "print(~12)       #Compliment  Bitwise operators\n",
    "\n",
    "print(12 & 13)   #Bitwise And operators (example 1)\n",
    "print(12 | 13)   #Bitwise or operators (example 1)\n",
    "\n",
    "print(25 & 30)   #Bitwise and operators (example 2)\n",
    "print(25 | 30)   #Bitwise or operators (example 2)(HW)\n",
    "\n",
    "print(12 ^ 1)    #Bitwise XOR operators (example 1)\n",
    "print(12 ^ 13)   #Bitwise XOR operators (example 2)\n",
    "print(25 ^ 30)   #Bitwise XOR operators (example 3)\n",
    "\n",
    "print(10 << 2)   #Left shift Bitwise operators\n",
    "\n",
    "print(10 >> 2)   #Right shift Bitwise operators"
   ]
  },
  {
   "cell_type": "markdown",
   "metadata": {},
   "source": [
    "### Assignment 2   (5 M) \n",
    "\n",
    "##Write a program to find the square of a number."
   ]
  },
  {
   "cell_type": "code",
   "execution_count": 8,
   "metadata": {},
   "outputs": [
    {
     "name": "stdout",
     "output_type": "stream",
     "text": [
      "Entre a Number :2\n",
      "Square of 2 is 4."
     ]
    }
   ],
   "source": [
    "'''\n",
    "This code helps us to find SQUARE OF ANY NUMBER \n",
    "by getting Input from USER\n",
    "'''\n",
    "num = int(input(\"Entre a Number :\"))            #variable 'num' is used to store value of user input \n",
    "\n",
    "square = num**2                                 #use of Exponential Operator for suqaring the number\n",
    "\n",
    "print(\"Square of\",num,\"is\",square,end = \".\")    #prints Output of Square of user input Number"
   ]
  },
  {
   "cell_type": "markdown",
   "metadata": {},
   "source": [
    "### Assignment 3  (7 M)\n",
    "\n",
    "##Write a code to find Area of circle and Area of rectangle"
   ]
  },
  {
   "cell_type": "code",
   "execution_count": 9,
   "metadata": {
    "scrolled": true
   },
   "outputs": [
    {
     "name": "stdout",
     "output_type": "stream",
     "text": [
      "Entre radius : 10\n",
      "Find AREA of CIRCLE is 314.1 sq. unit's."
     ]
    }
   ],
   "source": [
    "'''\n",
    "This code helps us to Find AREA of CIRCLE \n",
    "by getting Input For RADIUS\n",
    "'''\n",
    "\n",
    "r = int(input(\"Entre radius : \"))                #Variable 'r' is use to store input value of Radius in units \n",
    "\n",
    "#Formula of Area Of Circle\n",
    "area = 3.141 * r**2                              #area = (pie * radius's square)\n",
    "\n",
    "print(\"Find AREA of CIRCLE is\",area,\"sq. unit's\",end = \".\") #Prints output Value Of Area Of Circle in Sq units"
   ]
  },
  {
   "cell_type": "code",
   "execution_count": 10,
   "metadata": {},
   "outputs": [
    {
     "name": "stdout",
     "output_type": "stream",
     "text": [
      "Entre Diameter : 20\n",
      "AREA of CIRCLE is 314.1 sq. unit's."
     ]
    }
   ],
   "source": [
    "'''\n",
    "This Code Helps us to Find AREA of CIRCLE \n",
    "By getting input for DIAMETER\n",
    "'''\n",
    "\n",
    "d = int(input(\"Entre Diameter : \"))           #Variable 'd' is use to store input value of Daimeter in units \n",
    "\n",
    "#Formula of Area Of Circle\n",
    "area = (3.141 * d**2)/4                       #area = (pie * diameter's square) / 4 \n",
    "\n",
    "print(\"AREA of CIRCLE is\",area,\"sq. unit's\",end = \".\")   #Prints output Value Of Area Of Circle in Sq units"
   ]
  },
  {
   "cell_type": "code",
   "execution_count": 11,
   "metadata": {},
   "outputs": [
    {
     "name": "stdout",
     "output_type": "stream",
     "text": [
      "Entre LENGTH : 10\n",
      "Entre BREADTH : 15\n",
      "AREA Of RECTANGLE is 150 sq. unit's."
     ]
    }
   ],
   "source": [
    "'''\n",
    "This code helps us to find AREA Of RECTANGLE\n",
    "by getting Input for Length And Breadth\n",
    "'''\n",
    "\n",
    "l = int(input(\"Entre LENGTH : \"))          #Variable 'l' is use to store input value of Length in units\n",
    "b = int(input(\"Entre BREADTH : \"))         #Variable 'b' is use to store input value of Breadth in units\n",
    "\n",
    "#Formula of Area Of Rectangle\n",
    "area = l * b                               #area = length * breadth\n",
    "\n",
    "print(\"AREA Of RECTANGLE is\",area,\"sq. unit's\",end = \".\")    #Prints output Value Of Area Of RECTANGLE in Sq units"
   ]
  }
 ],
 "metadata": {
  "kernelspec": {
   "display_name": "Python 3",
   "language": "python",
   "name": "python3"
  },
  "language_info": {
   "codemirror_mode": {
    "name": "ipython",
    "version": 3
   },
   "file_extension": ".py",
   "mimetype": "text/x-python",
   "name": "python",
   "nbconvert_exporter": "python",
   "pygments_lexer": "ipython3",
   "version": "3.9.5"
  }
 },
 "nbformat": 4,
 "nbformat_minor": 4
}
