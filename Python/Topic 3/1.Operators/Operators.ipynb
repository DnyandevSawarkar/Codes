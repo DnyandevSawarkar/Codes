{
 "cells": [
  {
   "cell_type": "markdown",
   "metadata": {},
   "source": [
    "## <center>Task 2.1 - Basic Operators </center>\n",
    "### <center>Author: R-LABS Team </center>                                              "
   ]
  },
  {
   "cell_type": "markdown",
   "metadata": {},
   "source": [
    "# Topics to be covered\n",
    "\n",
    "1.Arithmetic operators\n",
    "\n",
    "2.Comparision operators\n",
    "\n",
    "3.Logical operators\n",
    "\n",
    "4.Assignment operators\n",
    "\n",
    "5.Bitwise operators"
   ]
  },
  {
   "cell_type": "markdown",
   "metadata": {},
   "source": [
    "# Learn By Doing"
   ]
  },
  {
   "cell_type": "markdown",
   "metadata": {},
   "source": [
    "# 1.Arithmetic operator\n",
    "\n",
    "You all know the basic addition, substraction, multiplication,division. This are the basic arithmetic operators "
   ]
  },
  {
   "cell_type": "code",
   "execution_count": 4,
   "metadata": {},
   "outputs": [
    {
     "name": "stdout",
     "output_type": "stream",
     "text": [
      "Output\n",
      "x + y = 9\n",
      "x - y = 1\n",
      "x * y = 20\n",
      "x / y = 1.25\n",
      "x // y = 1\n"
     ]
    }
   ],
   "source": [
    "x = 5             #Assigned a value to x\n",
    "y = 4             # Assigned a value to y\n",
    "\n",
    "print('Output')\n",
    "print('x + y =',x+y)   #Addition of x and y\n",
    "\n",
    "print('x - y =',x-y)   # substraction of x and y\n",
    "\n",
    "print('x * y =',x*y)    # Multipliaction\n",
    "\n",
    "print('x / y =',x/y)    # Division of x by y\n",
    "\n",
    "print('x // y =',x//y)  #Double/Floor division\n"
   ]
  },
  {
   "cell_type": "markdown",
   "metadata": {},
   "source": [
    " EXERCISE:\n",
    " Try to use Arithmetic operators for the given values\n",
    "a = 5, b=10, c=15, d=20\n",
    "\n",
    "Hint = use in this manner (a+b) + (c+d)\n",
    "\n",
    "Output should be\n",
    "\n",
    "Addition is 50\n",
    "\n",
    "Substraction is is -20\n",
    "\n",
    "Multiplication is  525\n",
    "\n",
    "Division is 0.42857142857142855\n",
    "\n",
    "Floor division is 0\n"
   ]
  },
  {
   "cell_type": "code",
   "execution_count": 2,
   "metadata": {},
   "outputs": [
    {
     "name": "stdout",
     "output_type": "stream",
     "text": [
      "Output\n",
      "Addition is  50\n",
      "Addition is  -20\n",
      "Addition is  525\n",
      "Addition is  0.42857142857142855\n",
      "Addition is  0\n"
     ]
    }
   ],
   "source": [
    "# write code here\n",
    "a = 5              # Assigned value to a\n",
    "b = 10             # Assigned value to b\n",
    "c = 15             # Assigned value to c\n",
    "d = 20             # Assigned value to d\n",
    "\n",
    "print('Output')\n",
    "print('Addition is ',(a+b)+(c+d))    #Addition of (a+b) and (c+d)\n",
    "\n",
    "print('Addition is ',(a+b)-(c+d))    #substraction of (a+b) and (c+d)\n",
    "\n",
    "print('Addition is ',(a+b)*(c+d))    #Multipliaction of (a+b) and (c+d)\n",
    "\n",
    "print('Addition is ',(a+b)/(c+d))    #Division of (a+b) and (c+d)\n",
    "\n",
    "print('Addition is ',(a+b)//(c+d))   #Double/Floor of (a+b) and (c+d)\n"
   ]
  },
  {
   "cell_type": "markdown",
   "metadata": {},
   "source": [
    "So this was just a basic example of you can perform this operations "
   ]
  },
  {
   "cell_type": "markdown",
   "metadata": {},
   "source": [
    "# 2. Comparison Operators\n",
    "Comparison operators are used to compare values. It returns either True or False according to the condition. \n",
    "\n",
    "Lets see how can we use comparison operators"
   ]
  },
  {
   "cell_type": "code",
   "execution_count": null,
   "metadata": {
    "collapsed": true
   },
   "outputs": [],
   "source": [
    "a = 5\n",
    "b = 10\n",
    "a>b"
   ]
  },
  {
   "cell_type": "markdown",
   "metadata": {},
   "source": [
    "Here we assigned the values. Now how can we take input from our output window."
   ]
  },
  {
   "cell_type": "code",
   "execution_count": 1,
   "metadata": {},
   "outputs": [
    {
     "name": "stdout",
     "output_type": "stream",
     "text": [
      "Enter the value of x5\n",
      "Enter the value of y4\n"
     ]
    },
    {
     "data": {
      "text/plain": [
       "True"
      ]
     },
     "execution_count": 1,
     "metadata": {},
     "output_type": "execute_result"
    }
   ],
   "source": [
    "x = input('Enter the value of x ')       # for taking input for x\n",
    "y = input('Enter the value of y ')      # for taking input for x\n",
    "x>y                                    #this is the operator used for comparcomparison between x and y"
   ]
  },
  {
   "cell_type": "markdown",
   "metadata": {
    "collapsed": true
   },
   "source": [
    "Like the above examples we can use operators for comparision of two different numbers"
   ]
  },
  {
   "cell_type": "code",
   "execution_count": 5,
   "metadata": {},
   "outputs": [
    {
     "name": "stdout",
     "output_type": "stream",
     "text": [
      "x > y is False\n",
      "x < y is True\n"
     ]
    }
   ],
   "source": [
    " # In this code we used print function to display the the output \n",
    "x = 100\n",
    "y = 120\n",
    "print('x > y is',x>y)\n",
    "print('x < y is',x<y)\n"
   ]
  },
  {
   "cell_type": "markdown",
   "metadata": {},
   "source": [
    "EXERCISE: write a code to Perform all comparison operators"
   ]
  },
  {
   "cell_type": "code",
   "execution_count": null,
   "metadata": {
    "collapsed": true
   },
   "outputs": [],
   "source": [
    "#Write code here"
   ]
  },
  {
   "cell_type": "markdown",
   "metadata": {
    "collapsed": true
   },
   "source": [
    "# 3.Logical operators\n",
    "\n",
    "The logical operators in Python are used to combine the true or false values of variables (or expressions) so you can figure out their resultant truth value. \n",
    " \n",
    " \n",
    "\n",
    "How can we write logical operators\n"
   ]
  },
  {
   "cell_type": "code",
   "execution_count": 13,
   "metadata": {},
   "outputs": [
    {
     "data": {
      "text/plain": [
       "True"
      ]
     },
     "execution_count": 13,
     "metadata": {},
     "output_type": "execute_result"
    }
   ],
   "source": [
    "not True\n",
    "not False\n",
    "not 5 > 3\n",
    "not (5 > 3 and 5 > 2)\n",
    "not (5 > 3 and 5 < 33)\n",
    "not (5 < 3 and 5 < 33)"
   ]
  },
  {
   "cell_type": "markdown",
   "metadata": {
    "collapsed": true
   },
   "source": [
    "Another way of using logical operators by using variables."
   ]
  },
  {
   "cell_type": "code",
   "execution_count": 8,
   "metadata": {},
   "outputs": [
    {
     "data": {
      "text/plain": [
       "False"
      ]
     },
     "execution_count": 8,
     "metadata": {},
     "output_type": "execute_result"
    }
   ],
   "source": [
    "a = 5 >3\n",
    "b = 5<33\n",
    "not(a and b)"
   ]
  },
  {
   "cell_type": "markdown",
   "metadata": {
    "collapsed": true
   },
   "source": [
    "Here i assigned a value to a which is 5>3 it is a false statement and for b = 5<33 it is  true but after applying not operator the answer will become false as not means negation or opposite"
   ]
  },
  {
   "cell_type": "markdown",
   "metadata": {},
   "source": [
    "# Assignment Operator\n",
    "\n",
    "#### Assignment operators are used in Python to assign values to variables. \n",
    "#### a = 5 is a simple assignment operator that assigns the value 5 on the right to the variable a on the left. \n",
    "#### There are various compound operators in Python like a += 5 that adds to the variable and later assigns the same. \n",
    "#### It is equivalent to a = a + 5. "
   ]
  },
  {
   "cell_type": "code",
   "execution_count": 17,
   "metadata": {},
   "outputs": [
    {
     "name": "stdout",
     "output_type": "stream",
     "text": [
      "Value of c is  1\n"
     ]
    }
   ],
   "source": [
    "a = 21        #assigned value to a\n",
    "b = 10\n",
    "c = 22\n",
    "c //= a      # assigned value to c this is equivalent to c=c//a which means the value of c will be perform floor division\n",
    "print (\"Value of c is \", c)"
   ]
  },
  {
   "cell_type": "code",
   "execution_count": 14,
   "metadata": {},
   "outputs": [
    {
     "name": "stdout",
     "output_type": "stream",
     "text": [
      "Value of c is  27\n"
     ]
    }
   ],
   "source": [
    "a = 2\n",
    "b = 10\n",
    "c = 25\n",
    "c += a     # incrementing the value of c, it can be also written as c = c+a\n",
    "print (\"Value of c is \", c )"
   ]
  },
  {
   "cell_type": "markdown",
   "metadata": {},
   "source": [
    "EXERCISE: Write a code to perform any 4 Assignment Operators except the above explained operators."
   ]
  },
  {
   "cell_type": "code",
   "execution_count": 14,
   "metadata": {},
   "outputs": [
    {
     "name": "stdout",
     "output_type": "stream",
     "text": [
      "Value of c is  1.0\n"
     ]
    }
   ],
   "source": [
    "# Write codes here\n",
    "a = 21        #assigned value to a\n",
    "b = 10\n",
    "c = 21\n",
    "c /= a      \n",
    "print (\"Value of c is \", c)"
   ]
  },
  {
   "cell_type": "code",
   "execution_count": 11,
   "metadata": {},
   "outputs": [
    {
     "name": "stdout",
     "output_type": "stream",
     "text": [
      "Value of c is  0\n"
     ]
    }
   ],
   "source": [
    "a = 21        #assigned value to a\n",
    "b = 10\n",
    "c = 21\n",
    "c %= a      \n",
    "print (\"Value of c is \", c)"
   ]
  },
  {
   "cell_type": "code",
   "execution_count": 8,
   "metadata": {},
   "outputs": [
    {
     "name": "stdout",
     "output_type": "stream",
     "text": [
      "Value of c is  -21\n"
     ]
    }
   ],
   "source": [
    "a = 21        #assigned value to a\n",
    "b = 10\n",
    "c = 0\n",
    "c -= a      \n",
    "print (\"Value of c is \", c)"
   ]
  },
  {
   "cell_type": "code",
   "execution_count": 13,
   "metadata": {},
   "outputs": [
    {
     "name": "stdout",
     "output_type": "stream",
     "text": [
      "Value of c is  210\n"
     ]
    }
   ],
   "source": [
    "a = 21        #assigned value to a\n",
    "b = 10\n",
    "c = 10\n",
    "c *= a      \n",
    "print (\"Value of c is \", c)"
   ]
  },
  {
   "cell_type": "markdown",
   "metadata": {},
   "source": [
    "# Bitwise operators\n",
    "\n",
    "In Python, bitwise operators are used to perform bitwise calculations on integers. The integers are first converted into binary and then operations are performed on bit by bit, hence the name bitwise operators\n"
   ]
  },
  {
   "cell_type": "markdown",
   "metadata": {},
   "source": [
    "1.compliment (~)"
   ]
  },
  {
   "cell_type": "code",
   "execution_count": 16,
   "metadata": {},
   "outputs": [
    {
     "data": {
      "text/plain": [
       "-10"
      ]
     },
     "execution_count": 16,
     "metadata": {},
     "output_type": "execute_result"
    }
   ],
   "source": [
    "~9"
   ]
  },
  {
   "cell_type": "markdown",
   "metadata": {},
   "source": [
    "Now how -10 lets see First we know the binary number of 9 is 1001 but we have to use (8 4 2 1) format so we will write the binary number as 0000 1001. We have \n",
    " \n",
    "0000 1001 (binary number of 9) \n",
    "\n",
    "Now we will find the negation of above binary number For negation 0 will become 1 and 1 will become 0. After negation we have 1111 0110 as answer which is -10. \n",
    " \n",
    " \n",
    "Now for better under standing we will calculate binary number of -10 Binary number of 10 is 0000 1010 \n",
    "Now by 2’s compliment \n",
    "0000 1010 \n",
    "\n",
    "1111 0101 (Negation of 10)  \n",
    "       \n",
    "       +1 \n",
    "       \n",
    "11110110 (binary of -10)\n",
    "\n",
    "This is how we calculate the complement of any number. "
   ]
  },
  {
   "cell_type": "markdown",
   "metadata": {},
   "source": [
    "2.Bitwise AND(&)"
   ]
  },
  {
   "cell_type": "code",
   "execution_count": 17,
   "metadata": {},
   "outputs": [
    {
     "data": {
      "text/plain": [
       "8"
      ]
     },
     "execution_count": 17,
     "metadata": {},
     "output_type": "execute_result"
    }
   ],
   "source": [
    "10 & 12 "
   ]
  },
  {
   "cell_type": "markdown",
   "metadata": {},
   "source": [
    "10 & 12 will give output as 8 \n",
    "Explanation 10 – 0000 1010\n",
    "\n",
    "12 – 0000 1100 \n",
    "  \n",
    "Now by Truth Table of AND \n",
    "\n",
    "0000 1010 \n",
    "\n",
    "0000 1100 \n",
    "\n",
    "00001000 (This is binary number of 8) "
   ]
  },
  {
   "cell_type": "markdown",
   "metadata": {},
   "source": [
    "3.Bitwise OR (|)"
   ]
  },
  {
   "cell_type": "code",
   "execution_count": 21,
   "metadata": {},
   "outputs": [
    {
     "data": {
      "text/plain": [
       "14"
      ]
     },
     "execution_count": 21,
     "metadata": {},
     "output_type": "execute_result"
    }
   ],
   "source": [
    "10|12 "
   ]
  },
  {
   "cell_type": "markdown",
   "metadata": {},
   "source": [
    "Explanation \n",
    "\n",
    "10 – 0000 1010 \n",
    "\n",
    "12 – 0000 1100 \n",
    " \n",
    "Now by Truth Table of OR \n",
    "\n",
    "0000 1010\n",
    "\n",
    "0000 1100\n",
    "\n",
    "00001110 (This is binary number of 14) "
   ]
  },
  {
   "cell_type": "markdown",
   "metadata": {},
   "source": [
    "4.Bitwise XOR (^)"
   ]
  },
  {
   "cell_type": "code",
   "execution_count": null,
   "metadata": {
    "collapsed": true
   },
   "outputs": [],
   "source": [
    "10 ^ 12 "
   ]
  },
  {
   "cell_type": "markdown",
   "metadata": {},
   "source": [
    "Explanation 10 – 0000 1010 12 – 0000 1100 \n",
    " \n",
    "Now by Truth Table of OR \n",
    "\n",
    "0000 1010\n",
    "\n",
    "0000 1100\n",
    "\n",
    "00000110 (This is binary number of 6) "
   ]
  },
  {
   "cell_type": "markdown",
   "metadata": {},
   "source": [
    "5.Right Shift (>>)"
   ]
  },
  {
   "cell_type": "code",
   "execution_count": 22,
   "metadata": {},
   "outputs": [
    {
     "data": {
      "text/plain": [
       "3"
      ]
     },
     "execution_count": 22,
     "metadata": {},
     "output_type": "execute_result"
    }
   ],
   "source": [
    "12>>2 "
   ]
  },
  {
   "cell_type": "markdown",
   "metadata": {},
   "source": [
    "Binary number of 12 is 1100 \n",
    "Always assume a dot after the binary digit i.e 1100. After applying left shift operator It will be shifted by two bits i.e 0011 which is equivalent to 3. "
   ]
  },
  {
   "cell_type": "markdown",
   "metadata": {},
   "source": [
    "6.Left Shift (<<)"
   ]
  },
  {
   "cell_type": "code",
   "execution_count": 23,
   "metadata": {},
   "outputs": [
    {
     "data": {
      "text/plain": [
       "48"
      ]
     },
     "execution_count": 23,
     "metadata": {},
     "output_type": "execute_result"
    }
   ],
   "source": [
    "12<<2 "
   ]
  },
  {
   "cell_type": "markdown",
   "metadata": {},
   "source": [
    "Binary number of 12 is 1100 \n",
    "Always assume a dot after the binary digit i.e 1100. After applying left shift operator It will be shifted by two bits i.e \n",
    " \n",
    "110000 which is equivalent to 48. "
   ]
  },
  {
   "cell_type": "markdown",
   "metadata": {},
   "source": [
    "EXERCISE:\n",
    "    Write a program to perform Bitwise operatorion for 5,6 and explain the output(any 4 operator)\n",
    "    \n",
    "    "
   ]
  },
  {
   "cell_type": "code",
   "execution_count": 12,
   "metadata": {
    "collapsed": true
   },
   "outputs": [],
   "source": [
    "# write your code here"
   ]
  },
  {
   "cell_type": "code",
   "execution_count": null,
   "metadata": {},
   "outputs": [],
   "source": [
    "## TASK 2.1"
   ]
  },
  {
   "cell_type": "markdown",
   "metadata": {
    "collapsed": true
   },
   "source": [
    "### Assignment 1 (3M)\n",
    "\n",
    "Write all the codes explained in the video given in Resource file."
   ]
  },
  {
   "cell_type": "code",
   "execution_count": 1,
   "metadata": {},
   "outputs": [],
   "source": [
    "# TeamName#TaskNumber#YourName \n",
    "# write code of Assignment 1"
   ]
  },
  {
   "cell_type": "markdown",
   "metadata": {
    "collapsed": true
   },
   "source": [
    "### Assignment 2   (5 M) "
   ]
  },
  {
   "cell_type": "markdown",
   "metadata": {
    "collapsed": true
   },
   "source": [
    "Write a program to find the square of a number."
   ]
  },
  {
   "cell_type": "code",
   "execution_count": 16,
   "metadata": {},
   "outputs": [],
   "source": [
    "# TeamName#TaskNumber#YourName \n",
    "# write your code here.\n"
   ]
  },
  {
   "cell_type": "markdown",
   "metadata": {},
   "source": [
    "### Assignment 3  (7 M)\n",
    "Write a code to find Area of circle and Area of rectangle"
   ]
  },
  {
   "cell_type": "code",
   "execution_count": null,
   "metadata": {},
   "outputs": [],
   "source": [
    "# TeamName#TaskNumber#YourName \n",
    "# write your code here."
   ]
  },
  {
   "cell_type": "code",
   "execution_count": null,
   "metadata": {
    "collapsed": true
   },
   "outputs": [],
   "source": []
  }
 ],
 "metadata": {
  "kernelspec": {
   "display_name": "Python 3",
   "language": "python",
   "name": "python3"
  },
  "language_info": {
   "codemirror_mode": {
    "name": "ipython",
    "version": 3
   },
   "file_extension": ".py",
   "mimetype": "text/x-python",
   "name": "python",
   "nbconvert_exporter": "python",
   "pygments_lexer": "ipython3",
   "version": "3.9.5"
  }
 },
 "nbformat": 4,
 "nbformat_minor": 2
}
