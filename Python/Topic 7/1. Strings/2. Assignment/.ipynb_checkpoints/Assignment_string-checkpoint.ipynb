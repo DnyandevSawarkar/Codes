{
 "cells": [
  {
   "cell_type": "markdown",
   "metadata": {},
   "source": [
    "### ASSIGNMENT 1 (3 MARKS)\n",
    "Write all the codes explain in a video provided in resource file.(Refer first video link for writing assignment 1)\n"
   ]
  },
  {
   "cell_type": "code",
   "execution_count": null,
   "metadata": {},
   "outputs": [],
   "source": [
    "# write your code here"
   ]
  },
  {
   "cell_type": "markdown",
   "metadata": {},
   "source": [
    "### ASSIGNMENT 2 (5 MARKS)\n",
    "Find length and count no. of r in a given string PERFORMER."
   ]
  },
  {
   "cell_type": "code",
   "execution_count": null,
   "metadata": {},
   "outputs": [],
   "source": [
    "# write your code here"
   ]
  },
  {
   "cell_type": "markdown",
   "metadata": {},
   "source": [
    "### ASSIGNMENT 3 (7 MARKS)\n",
    "\n",
    "Code is given . Find out the errors and do the correction to get required Output.\n",
    "\n",
    "#### NOTE:   You can change the given string. But the string must be same for every case.\n",
    "\n",
    "OUTPUT:-\n",
    "1. Length of your string should be 11.\n",
    "2. Convert string to uppercase\n",
    "3. Get 1th word of your using negative indexing\n",
    "4. Range to get second word from your string\n",
    "5. Split the string\n",
    "6. Replace any word from your string with word 'Capstone-course'"
   ]
  },
  {
   "cell_type": "code",
   "execution_count": null,
   "metadata": {},
   "outputs": [],
   "source": [
    "\n",
    "s='U can take any string of your choice...'\n",
    "\n",
    "#length should be 11\n",
    "print('length of s= ', len(s))\n",
    "\n",
    "# Convert everything to uppercase\n",
    "print(\"S in uppercase: \". s.Upper())\n",
    "\n",
    "# getting 1th word using negative indexing\n",
    "print('6th char. from string is: ',s.[])\n",
    "\n",
    "# what is the range to get second word from your string \n",
    "print('range to get 2nd word from string are: ' , s[])\n",
    "\n",
    "# split the string\n",
    "print('after spliting string is: ',s.split(s))\n",
    "\n",
    "# Replace\n",
    "print('After replacing: ',s.())\n"
   ]
  }
 ],
 "metadata": {
  "kernelspec": {
   "display_name": "Python 3",
   "language": "python",
   "name": "python3"
  },
  "language_info": {
   "codemirror_mode": {
    "name": "ipython",
    "version": 3
   },
   "file_extension": ".py",
   "mimetype": "text/x-python",
   "name": "python",
   "nbconvert_exporter": "python",
   "pygments_lexer": "ipython3",
   "version": "3.9.5"
  }
 },
 "nbformat": 4,
 "nbformat_minor": 4
}
