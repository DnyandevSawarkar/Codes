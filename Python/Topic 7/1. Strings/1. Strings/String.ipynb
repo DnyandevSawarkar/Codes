{
 "cells": [
  {
   "cell_type": "markdown",
   "metadata": {},
   "source": [
    "## <center>String </center>\n",
    "### <center>Author: R-LABS Team </center> "
   ]
  },
  {
   "cell_type": "markdown",
   "metadata": {},
   "source": [
    "### Topics to be covered\n",
    "\n",
    "1. Creating string and assigning variable\n",
    "2. Accessing the characters\n",
    "3. Change or delete the string\n",
    "4. Python string operations \n",
    "    4.1. Concatenation\n",
    "    4.2. Iterating through string\n",
    "    4.3. String Membership test\n",
    "5. Built-in functions\n",
    "6. Python string formatting\n",
    "    6.1. Escape sequence\n",
    "    6.2. Formatting of string"
   ]
  },
  {
   "cell_type": "markdown",
   "metadata": {},
   "source": [
    "# Learn By Doing"
   ]
  },
  {
   "cell_type": "markdown",
   "metadata": {},
   "source": [
    "### 1. Creating string and assigning variable\n",
    "\n",
    "String can be created by enclosing the characters inside a single quote or double quote. Triple quote is also used in Python but generally used to represent multiline string."
   ]
  },
  {
   "cell_type": "code",
   "execution_count": 3,
   "metadata": {},
   "outputs": [
    {
     "name": "stdout",
     "output_type": "stream",
     "text": [
      "COVID-19\n",
      "Lockdown till 03.05.2020\n",
      "Hello Folks\n",
      "\n",
      "Wel-come to\n",
      "\n",
      "OSTP-2020\n"
     ]
    }
   ],
   "source": [
    "# Creating a string with single\n",
    "str = 'COVID-19'\n",
    "print(str)\n",
    "\n"
   ]
  },
  {
   "cell_type": "code",
   "execution_count": null,
   "metadata": {},
   "outputs": [],
   "source": [
    "# Creating a string with double quote\n",
    "str = \"Lockdown till 03.05.2020\"\n",
    "print(str)\n",
    "\n"
   ]
  },
  {
   "cell_type": "code",
   "execution_count": null,
   "metadata": {},
   "outputs": [],
   "source": [
    "# Creating a string with triple quote\n",
    "str = '''Hello Folks\n",
    "\n",
    "Wel-come to\n",
    "\n",
    "OSTP-2020'''\n",
    "print(str)"
   ]
  },
  {
   "cell_type": "code",
   "execution_count": 4,
   "metadata": {},
   "outputs": [],
   "source": [
    "# write your code here for better understanding"
   ]
  },
  {
   "cell_type": "markdown",
   "metadata": {},
   "source": [
    "### 2. Accessing the characters in string\n",
    "\n",
    "We can access an individual characters using indexing and a range of characters using slicing. Index starts from 0.\n",
    "We can access a range of elements or extracting some part of string by using Slicing operator (colon).\n",
    "Python also done negative indexing for its sequences.\n",
    "The index with -1 refers the last element in string. Similarly, -2 refers second last element in a string and so on."
   ]
  },
  {
   "cell_type": "code",
   "execution_count": 5,
   "metadata": {},
   "outputs": [
    {
     "name": "stdout",
     "output_type": "stream",
     "text": [
      "str=  Basics of Python\n",
      "str[0]=  B\n",
      "str[-1]=  n\n",
      "str[1:5]=  asic\n"
     ]
    }
   ],
   "source": [
    "# Let's see some examples\n",
    "\n",
    "str = \"Basics of Python\"\n",
    "print('str= ', str)\n",
    "\n",
    "# Accessing first char.\n",
    "print('str[0]= ' ,str[0])\n",
    "\n",
    "# Accessing Last char.\n",
    "print('str[-1]= ' ,str[-1])\n",
    "\n",
    "# Slicing 2nd to 5th char.\n",
    "print('str[1:5]= ' ,str[1:5])"
   ]
  },
  {
   "cell_type": "code",
   "execution_count": 6,
   "metadata": {},
   "outputs": [],
   "source": [
    "# write a code to access char. from a range [3:-2] in above string."
   ]
  },
  {
   "cell_type": "markdown",
   "metadata": {},
   "source": [
    "### 3. Change or delete string\n",
    "\n",
    "Strings are immutable. Immutable means elements of string cannot be changed once it has been assigned. We can simply reassign a string with same name or variable."
   ]
  },
  {
   "cell_type": "code",
   "execution_count": 7,
   "metadata": {},
   "outputs": [
    {
     "ename": "TypeError",
     "evalue": "'str' object does not support item assignment",
     "output_type": "error",
     "traceback": [
      "\u001b[1;31m---------------------------------------------------------------------------\u001b[0m",
      "\u001b[1;31mTypeError\u001b[0m                                 Traceback (most recent call last)",
      "\u001b[1;32m<ipython-input-7-00731aa09297>\u001b[0m in \u001b[0;36m<module>\u001b[1;34m()\u001b[0m\n\u001b[0;32m      2\u001b[0m \u001b[1;33m\u001b[0m\u001b[0m\n\u001b[0;32m      3\u001b[0m \u001b[0mstr\u001b[0m\u001b[1;33m=\u001b[0m\u001b[1;34m'Hello their!'\u001b[0m\u001b[1;33m\u001b[0m\u001b[0m\n\u001b[1;32m----> 4\u001b[1;33m \u001b[0mstr\u001b[0m\u001b[1;33m[\u001b[0m\u001b[1;36m3\u001b[0m\u001b[1;33m]\u001b[0m\u001b[1;33m=\u001b[0m\u001b[1;34m'o'\u001b[0m\u001b[1;33m\u001b[0m\u001b[0m\n\u001b[0m",
      "\u001b[1;31mTypeError\u001b[0m: 'str' object does not support item assignment"
     ]
    }
   ],
   "source": [
    "# Let's see an example to see that char. in string get change or not.\n",
    "\n",
    "str='Hello their!'\n",
    "str[3]='o'\n"
   ]
  },
  {
   "cell_type": "code",
   "execution_count": 8,
   "metadata": {},
   "outputs": [
    {
     "ename": "TypeError",
     "evalue": "'str' object doesn't support item deletion",
     "output_type": "error",
     "traceback": [
      "\u001b[1;31m---------------------------------------------------------------------------\u001b[0m",
      "\u001b[1;31mTypeError\u001b[0m                                 Traceback (most recent call last)",
      "\u001b[1;32m<ipython-input-8-4fc8e2bd86c4>\u001b[0m in \u001b[0;36m<module>\u001b[1;34m()\u001b[0m\n\u001b[0;32m      2\u001b[0m \u001b[1;31m# let's see\u001b[0m\u001b[1;33m\u001b[0m\u001b[1;33m\u001b[0m\u001b[0m\n\u001b[0;32m      3\u001b[0m \u001b[1;33m\u001b[0m\u001b[0m\n\u001b[1;32m----> 4\u001b[1;33m \u001b[1;32mdel\u001b[0m \u001b[0mstr\u001b[0m\u001b[1;33m[\u001b[0m\u001b[1;36m3\u001b[0m\u001b[1;33m]\u001b[0m\u001b[1;33m\u001b[0m\u001b[0m\n\u001b[0m",
      "\u001b[1;31mTypeError\u001b[0m: 'str' object doesn't support item deletion"
     ]
    }
   ],
   "source": [
    "# can we delete the char. in string \n",
    "# let's see\n",
    "\n",
    "del str[3]"
   ]
  },
  {
   "cell_type": "code",
   "execution_count": 10,
   "metadata": {},
   "outputs": [
    {
     "ename": "NameError",
     "evalue": "name 'str' is not defined",
     "output_type": "error",
     "traceback": [
      "\u001b[1;31m---------------------------------------------------------------------------\u001b[0m",
      "\u001b[1;31mNameError\u001b[0m                                 Traceback (most recent call last)",
      "\u001b[1;32m<ipython-input-10-30590bf5f347>\u001b[0m in \u001b[0;36m<module>\u001b[1;34m()\u001b[0m\n\u001b[0;32m      2\u001b[0m \u001b[1;31m# TO Delete any string we use keyword del\u001b[0m\u001b[1;33m\u001b[0m\u001b[1;33m\u001b[0m\u001b[0m\n\u001b[0;32m      3\u001b[0m \u001b[1;33m\u001b[0m\u001b[0m\n\u001b[1;32m----> 4\u001b[1;33m \u001b[1;32mdel\u001b[0m \u001b[0mstr\u001b[0m\u001b[1;33m\u001b[0m\u001b[0m\n\u001b[0m\u001b[0;32m      5\u001b[0m \u001b[0mprint\u001b[0m\u001b[1;33m(\u001b[0m\u001b[0mstr\u001b[0m\u001b[1;33m)\u001b[0m\u001b[1;33m\u001b[0m\u001b[0m\n",
      "\u001b[1;31mNameError\u001b[0m: name 'str' is not defined"
     ]
    }
   ],
   "source": [
    "# ABOVE BOTH EXAMPLE HAVING ERROR. BECAUSE STRING IS IMMUTABLE.\n",
    "# TO Delete any string we use keyword del. complete string get delete.\n",
    "\n",
    "del str\n",
    "print(str)"
   ]
  },
  {
   "cell_type": "code",
   "execution_count": 11,
   "metadata": {},
   "outputs": [],
   "source": [
    "# write your example here"
   ]
  },
  {
   "cell_type": "markdown",
   "metadata": {},
   "source": [
    "### 4. Python string operations"
   ]
  },
  {
   "cell_type": "markdown",
   "metadata": {},
   "source": [
    "### 4.1 Concatenation ( addition of two or more strings)"
   ]
  },
  {
   "cell_type": "code",
   "execution_count": 13,
   "metadata": {},
   "outputs": [
    {
     "name": "stdout",
     "output_type": "stream",
     "text": [
      "str=  HelloWorld\n",
      "str=  HelloHelloHelloHello\n"
     ]
    }
   ],
   "source": [
    "x='Hello'\n",
    "y='World'\n",
    "\n",
    "# Using + operator\n",
    "print('str= ', x+y)\n",
    "\n",
    "# Using * operator\n",
    "print('str= ', x * 4)"
   ]
  },
  {
   "cell_type": "code",
   "execution_count": 14,
   "metadata": {},
   "outputs": [],
   "source": [
    "# write your ex. of + and * operators"
   ]
  },
  {
   "cell_type": "markdown",
   "metadata": {},
   "source": [
    "### 4.2  Iterating through string"
   ]
  },
  {
   "cell_type": "code",
   "execution_count": 15,
   "metadata": {},
   "outputs": [
    {
     "name": "stdout",
     "output_type": "stream",
     "text": [
      "P\n",
      "y\n",
      "t\n",
      "h\n",
      "o\n",
      "n\n"
     ]
    }
   ],
   "source": [
    "# for example\n",
    "\n",
    "# Iterating string using FOR Loop.\n",
    "count =0\n",
    "for i in 'Python':\n",
    "    print(i)"
   ]
  },
  {
   "cell_type": "code",
   "execution_count": 16,
   "metadata": {},
   "outputs": [],
   "source": [
    "# write your code for better understanding"
   ]
  },
  {
   "cell_type": "markdown",
   "metadata": {},
   "source": [
    "### 4.3 String Membership test\n",
    "\n",
    "To check if sub string is present in large string or not, using keyword in and not in."
   ]
  },
  {
   "cell_type": "code",
   "execution_count": 24,
   "metadata": {},
   "outputs": [
    {
     "data": {
      "text/plain": [
       "True"
      ]
     },
     "execution_count": 24,
     "metadata": {},
     "output_type": "execute_result"
    }
   ],
   "source": [
    "# For Ex.\n",
    "\n",
    "'key' in 'keyword'"
   ]
  },
  {
   "cell_type": "code",
   "execution_count": 23,
   "metadata": {},
   "outputs": [
    {
     "data": {
      "text/plain": [
       "False"
      ]
     },
     "execution_count": 23,
     "metadata": {},
     "output_type": "execute_result"
    }
   ],
   "source": [
    "'o' not in 'python'"
   ]
  },
  {
   "cell_type": "code",
   "execution_count": 25,
   "metadata": {},
   "outputs": [],
   "source": [
    "# Try to test your Example"
   ]
  },
  {
   "cell_type": "markdown",
   "metadata": {},
   "source": [
    "### 5. Built-in functions and methods"
   ]
  },
  {
   "cell_type": "code",
   "execution_count": 26,
   "metadata": {},
   "outputs": [
    {
     "name": "stdout",
     "output_type": "stream",
     "text": [
      "list(enumerate(str) =  [(0, 'H'), (1, 'e'), (2, 'l'), (3, 'l'), (4, 'o')]\n",
      "len(str) =  5\n"
     ]
    }
   ],
   "source": [
    "# let's see some examples using functions and some methods\n",
    "\n",
    "# Built-in Functions: len() and enumerator() are commonly used. Refer the resource of string for more understanding. \n",
    "\n",
    "str = 'Hello'\n",
    "# enumerate()\n",
    "list_enumerate = list(enumerate(str))\n",
    "print('list(enumerate(str) = ', list_enumerate)\n",
    "#character count\n",
    "print('len(str) = ', len(str))\n"
   ]
  },
  {
   "cell_type": "markdown",
   "metadata": {},
   "source": [
    "#### Built-in methods: here we are using some methods like find(),join(),lower() ,Capitalize() and split().\n",
    "\n",
    "#### But For more methods refer resources and video link provided in resources."
   ]
  },
  {
   "cell_type": "code",
   "execution_count": 27,
   "metadata": {},
   "outputs": [
    {
     "data": {
      "text/plain": [
       "4"
      ]
     },
     "execution_count": 27,
     "metadata": {},
     "output_type": "execute_result"
    }
   ],
   "source": [
    "# Built-in methods\n",
    "\n",
    "# using find\n",
    "'Python'.find( 'on' )  # it gives the position"
   ]
  },
  {
   "cell_type": "code",
   "execution_count": 29,
   "metadata": {},
   "outputs": [
    {
     "data": {
      "text/plain": [
       "'Online summer Training Program 2020'"
      ]
     },
     "execution_count": 29,
     "metadata": {},
     "output_type": "execute_result"
    }
   ],
   "source": [
    "#using join\n",
    "' '.join(['Online','summer', 'Training','Program','2020'])   # this will join all words into one string"
   ]
  },
  {
   "cell_type": "code",
   "execution_count": 30,
   "metadata": {},
   "outputs": [
    {
     "data": {
      "text/plain": [
       "'python'"
      ]
     },
     "execution_count": 30,
     "metadata": {},
     "output_type": "execute_result"
    }
   ],
   "source": [
    "# using lower\n",
    "'PyTHon'.lower()"
   ]
  },
  {
   "cell_type": "code",
   "execution_count": 31,
   "metadata": {},
   "outputs": [
    {
     "data": {
      "text/plain": [
       "'Learn by doing'"
      ]
     },
     "execution_count": 31,
     "metadata": {},
     "output_type": "execute_result"
    }
   ],
   "source": [
    "# using capatilize\n",
    "'learn by doing'.capitalize()  # it will capitalize the first word."
   ]
  },
  {
   "cell_type": "code",
   "execution_count": 32,
   "metadata": {},
   "outputs": [
    {
     "data": {
      "text/plain": [
       "['Hello', 'Python', 'Trainees']"
      ]
     },
     "execution_count": 32,
     "metadata": {},
     "output_type": "execute_result"
    }
   ],
   "source": [
    "# using split\n",
    "'Hello Python Trainees'.split()  # this will split all words into list"
   ]
  },
  {
   "cell_type": "markdown",
   "metadata": {},
   "source": [
    "### 6. Python string formatting"
   ]
  },
  {
   "cell_type": "markdown",
   "metadata": {},
   "source": [
    "### 6.1 ESCAPE sequence\n",
    "\n",
    "Escape sequences are starts with backslash(\\) and is interpreted differently. If we use single quote to represent string then all the single quotes in string must be escaped. Similar is the case with Double quote. Refer resources for detail understanding."
   ]
  },
  {
   "cell_type": "code",
   "execution_count": 33,
   "metadata": {},
   "outputs": [
    {
     "name": "stdout",
     "output_type": "stream",
     "text": [
      "He said, \"I'm Strong\"\n",
      "He said, \"I'm Smart\"\n",
      "He said, \"I'm Bright\"\n"
     ]
    }
   ],
   "source": [
    "# For Example\n",
    "\n",
    "# using triple quote\n",
    "print('''He said, \"I'm Strong\"''')\n",
    "\n",
    "# Escaping single quote\n",
    "print('He said, \"I\\'m Smart\"')\n",
    "\n",
    "# Escaping double quote\n",
    "print(\"He said, \\\"I'm Bright\\\"\")"
   ]
  },
  {
   "cell_type": "code",
   "execution_count": 34,
   "metadata": {},
   "outputs": [],
   "source": [
    "# How will you going to write your to get this output using Escape sequence.\n",
    "# OUTPUT:- 'C:\\Python\\Lib'\n",
    "\n"
   ]
  },
  {
   "cell_type": "markdown",
   "metadata": {},
   "source": [
    "### 6.2 Formatting of string\n",
    "\n",
    "Format strings contain curly braces {} as a placeholder or replacement field which gets replaced. It can hold arguments according to position or keyword to specify the order."
   ]
  },
  {
   "cell_type": "code",
   "execution_count": 35,
   "metadata": {},
   "outputs": [
    {
     "name": "stdout",
     "output_type": "stream",
     "text": [
      "\n",
      "--- Default Order ---\n",
      "John, Bill and Sean\n",
      "\n",
      "--- Positional Order ---\n",
      "Bill, John and Sean\n",
      "\n",
      "--- Keyword Order ---\n",
      "Sean, Bill and John\n"
     ]
    }
   ],
   "source": [
    "# Let's get better understanding by doing some examples\n",
    "\n",
    "# default format order\n",
    "default_order = \"{}, {} and {}\".format('John','Bill','Sean')\n",
    "print('\\n--- Default Order ---')\n",
    "print(default_order)\n",
    "\n",
    "# order using positional argument\n",
    "positional_order = \"{1}, {0} and {2}\".format('John','Bill','Sean')\n",
    "print('\\n--- Positional Order ---')\n",
    "print(positional_order)\n",
    "\n",
    "# order using keyword argument\n",
    "keyword_order = \"{s}, {b} and {j}\".format(j='John',b='Bill',s='Sean')\n",
    "print('\\n--- Keyword Order ---')\n",
    "print(keyword_order)"
   ]
  },
  {
   "cell_type": "code",
   "execution_count": 36,
   "metadata": {},
   "outputs": [
    {
     "name": "stdout",
     "output_type": "stream",
     "text": [
      "\n",
      "Binary representation of 5 is \n",
      "101\n",
      "\n",
      "Exponent representation of 3.14 is \n",
      "3.140000e+00\n",
      "\n",
      "one-fifth is : \n",
      "0.20\n"
     ]
    }
   ],
   "source": [
    "# Formatting of Integers \n",
    "Str = \"{0:b}\".format(5) \n",
    "print(\"\\nBinary representation of 5 is \") \n",
    "print(Str) \n",
    "  \n",
    "# Formatting of Floats \n",
    "Str = \"{0:e}\".format(3.14) \n",
    "print(\"\\nExponent representation of 3.14 is \") \n",
    "print(Str) \n",
    "  \n",
    "# Rounding off Integers \n",
    "Str = \"{0:.2f}\".format(1/5) \n",
    "print(\"\\none-fifth is : \") \n",
    "print(Str) "
   ]
  },
  {
   "cell_type": "code",
   "execution_count": 37,
   "metadata": {},
   "outputs": [],
   "source": [
    "# write any one example for betrer understanding."
   ]
  }
 ],
 "metadata": {
  "kernelspec": {
   "display_name": "Python 3",
   "language": "python",
   "name": "python3"
  },
  "language_info": {
   "codemirror_mode": {
    "name": "ipython",
    "version": 3
   },
   "file_extension": ".py",
   "mimetype": "text/x-python",
   "name": "python",
   "nbconvert_exporter": "python",
   "pygments_lexer": "ipython3",
   "version": "3.9.5"
  }
 },
 "nbformat": 4,
 "nbformat_minor": 2
}
