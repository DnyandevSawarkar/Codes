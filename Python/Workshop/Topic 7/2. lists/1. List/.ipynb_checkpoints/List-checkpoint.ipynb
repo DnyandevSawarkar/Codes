{
 "cells": [
  {
   "cell_type": "markdown",
   "metadata": {},
   "source": [
    "## <center>List </center>\n",
    "### <center>Author: e-Yantra Team </center>"
   ]
  },
  {
   "cell_type": "markdown",
   "metadata": {},
   "source": [
    "## Topics to cover\n",
    "\n",
    "1. Declaring List\n",
    "- Accessing elements of list\n",
    "- Updating list using index, append(), extend() and insert()\n",
    "- Check membership of an element\n",
    "- Some useful Methods for list\n",
    "    - len\n",
    "    - max\n",
    "    - min\n",
    "    - insert\n",
    "    - pop\n",
    "    - remove\n",
    "    - reverse\n",
    "    - sort (reverse=True)\n",
    "- Multi-dimension\n",
    "\n",
    "    \n",
    "# Tuples vs Lists \n",
    "    1. tuples are immutable i.e. cannot be changed unlike lists \n",
    "    2. tuples use parentheses, whereas lists use square brackets"
   ]
  },
  {
   "cell_type": "markdown",
   "metadata": {},
   "source": [
    "##  1. Declaring a List"
   ]
  },
  {
   "cell_type": "markdown",
   "metadata": {},
   "source": [
    "- As already discussed in the theory, the syntax to create list is very simple in python.\n",
    "- The Syntax is : list_name  = [ item1, item2, item3, 'item4' ]\n",
    "- list_name is the name you want to give to the list, then enter the elements in a square bracket separated by comma(,)"
   ]
  },
  {
   "cell_type": "markdown",
   "metadata": {},
   "source": [
    "#### Now lets create a list called even numbers and fill it with some even numbers\n"
   ]
  },
  {
   "cell_type": "code",
   "execution_count": 2,
   "metadata": {},
   "outputs": [
    {
     "name": "stdout",
     "output_type": "stream",
     "text": [
      "even_numbers : [2, 4, 6, 8, 10]\n"
     ]
    }
   ],
   "source": [
    "even_numbers = [2,4,6,8,10]\n",
    "print(\"even_numbers : \" + str(even_numbers))"
   ]
  },
  {
   "cell_type": "markdown",
   "metadata": {},
   "source": [
    "#### Lets create one more list, this time lets fill it with some mixed datatypes."
   ]
  },
  {
   "cell_type": "code",
   "execution_count": 2,
   "metadata": {},
   "outputs": [
    {
     "name": "stdout",
     "output_type": "stream",
     "text": [
      "mydata : ['sam', 20, 44.3, True]\n"
     ]
    }
   ],
   "source": [
    "mydata = ['sam', 20, 44.3, True ] \n",
    "# As you can see we have a string, a interger, a float and a boolean element in our list now.\n",
    "print(\"mydata : \" + str(mydata))"
   ]
  },
  {
   "cell_type": "markdown",
   "metadata": {},
   "source": [
    "#### Now lets create a more complex list, lets create some lists inside a list."
   ]
  },
  {
   "cell_type": "code",
   "execution_count": null,
   "metadata": {},
   "outputs": [],
   "source": [
    "data = [ [2,4,6,8], ['sam', 'julie', 'john'], [34.5, 33.5, 22.5] ]\n",
    "print(\"data : \" + str(data))"
   ]
  },
  {
   "cell_type": "markdown",
   "metadata": {},
   "source": [
    "### Exercise for Participant"
   ]
  },
  {
   "cell_type": "code",
   "execution_count": 5,
   "metadata": {},
   "outputs": [],
   "source": [
    "# Now its your turn, create a list and fill it with some values and then print it.\n",
    "# your code goes below this \n"
   ]
  },
  {
   "cell_type": "markdown",
   "metadata": {},
   "source": [
    "## 2. Accessing Elements of list\n",
    "\n",
    "- Using slicing and indexing - as we did in string manipulation\n",
    "\n",
    "### Indexing and Slicing of list\n",
    "- We can access the elements of a list in 2 ways either by using index or by using slicing."
   ]
  },
  {
   "cell_type": "markdown",
   "metadata": {},
   "source": [
    "### 2.1 Using index\n",
    "#### First lets try accessing elements using index.\n",
    "- Index in a python list starts from 0 upto length-1.\n",
    "- So if a list has length 10 (i.e. it contains 10 elements) the index will be 0,1,2,3,...,9.\n",
    "- So the first element is at 0th index, 2nd element is at 1st index and 10 element is at 9th index\n"
   ]
  },
  {
   "cell_type": "code",
   "execution_count": 6,
   "metadata": {},
   "outputs": [
    {
     "name": "stdout",
     "output_type": "stream",
     "text": [
      "1st element of even_numbers list is : 2\n",
      "2nd element of even_numbers list is : 4\n"
     ]
    }
   ],
   "source": [
    "# Lets access the elements of even_numbers list which we created in the previous topic\n",
    "\n",
    "first_element  = even_numbers[0]\n",
    "second_element = even_numbers[1]\n",
    "print(\"1st element of even_numbers list is : \" + str(first_element))\n",
    "print(\"2nd element of even_numbers list is : \" + str(second_element))"
   ]
  },
  {
   "cell_type": "markdown",
   "metadata": {},
   "source": [
    "### 2.2 Using Slicing \n",
    "#### But what if you want to access more than one element in the list ?\n",
    "- For this purpose we have slicing.\n",
    "- Slicing lets us access a sublist of the list.\n"
   ]
  },
  {
   "cell_type": "code",
   "execution_count": 7,
   "metadata": {},
   "outputs": [
    {
     "name": "stdout",
     "output_type": "stream",
     "text": [
      "First 3 elements of even_numbers list : [2, 4, 6]\n"
     ]
    }
   ],
   "source": [
    "# Lets access the first 3  elements of the even_numbers list\n",
    "a = even_numbers[0:3]\n",
    "print(\"First 3 elements of even_numbers list : \" + str(a))\n"
   ]
  },
  {
   "cell_type": "markdown",
   "metadata": {},
   "source": [
    "- In slicing the index is separated with a colon ':' , the number written before the colon is the starting index\n",
    "- the number written after the colon is the last index\n",
    "- important point to note here is that the indexes are consiered upto the last index excluding it.\n",
    "- Which means in the above example the indexes included were 0,1,2 for this we wrote 0:3 \n",
    "- note 3 is excluded in the indexes"
   ]
  },
  {
   "cell_type": "markdown",
   "metadata": {},
   "source": [
    "#### Now lets look at some interesting cases of slicing."
   ]
  },
  {
   "cell_type": "code",
   "execution_count": 4,
   "metadata": {},
   "outputs": [
    {
     "name": "stdout",
     "output_type": "stream",
     "text": [
      "Elements in b : [2, 4, 6, 8]\n"
     ]
    }
   ],
   "source": [
    "# What happens if we write something like this \n",
    "b = even_numbers[:4]\n",
    "print(\"Elements in b : \" + str(b))"
   ]
  },
  {
   "cell_type": "markdown",
   "metadata": {},
   "source": [
    "- As you can see we printed all the elements from beginning of the list till 4th element.\n",
    "- So in slicing [ : i ] means we want all the elements from start to the i-1 index(i.e. ith element)\n"
   ]
  },
  {
   "cell_type": "code",
   "execution_count": 5,
   "metadata": {},
   "outputs": [
    {
     "name": "stdout",
     "output_type": "stream",
     "text": [
      "Elements in c : [8, 10]\n"
     ]
    }
   ],
   "source": [
    "# What happens if we write something like this\n",
    "c = even_numbers[3:]\n",
    "print(\"Elements in c : \" + str(c))\n"
   ]
  },
  {
   "cell_type": "markdown",
   "metadata": {},
   "source": [
    "You guessed it right, it will take all the elements from index specified to the last element.\n"
   ]
  },
  {
   "cell_type": "code",
   "execution_count": 7,
   "metadata": {},
   "outputs": [],
   "source": [
    "# What happens if we write something like this\n",
    "d = even_numbers[:]\n",
    "# Well this is a homework for you...find it out"
   ]
  },
  {
   "cell_type": "markdown",
   "metadata": {},
   "source": [
    "## 3. Updating List \n",
    "\n",
    "### 3.1 Using index\n",
    "- You can replace old element with new\n",
    "- New element can not be added to list directly, for that you need append method\n",
    "- We can update any element of a list, because list is mutable\n",
    "- We can directly access the element we want to update and change it using assignment operator '='"
   ]
  },
  {
   "cell_type": "code",
   "execution_count": 9,
   "metadata": {},
   "outputs": [
    {
     "name": "stdout",
     "output_type": "stream",
     "text": [
      "Updated even_numbers list : [2, 4, 5, 8, 10]\n"
     ]
    }
   ],
   "source": [
    "# Example :\n",
    "even_numbers[2] = 5\n",
    "print(\"Updated even_numbers list : \" + str(even_numbers))\n",
    "# Notice we have changed the element at 2nd index from 6 to 5"
   ]
  },
  {
   "cell_type": "markdown",
   "metadata": {},
   "source": [
    "### 3.2 Updating List - using append() method\n",
    "- append method takes one input as parameter\n",
    "- add new element to the end of list\n",
    "- But append method has a limitation, it can add only one element at a time."
   ]
  },
  {
   "cell_type": "code",
   "execution_count": 10,
   "metadata": {},
   "outputs": [
    {
     "name": "stdout",
     "output_type": "stream",
     "text": [
      "12 added to the even_numbers list : [2, 4, 5, 8, 10, 12]\n"
     ]
    }
   ],
   "source": [
    "even_numbers.append(12)\n",
    "print(\"12 added to the even_numbers list : \" + str(even_numbers) )"
   ]
  },
  {
   "cell_type": "markdown",
   "metadata": {},
   "source": [
    "### 3.3 Extend list using extend() method\n",
    "- Adding multiple element to the end of list"
   ]
  },
  {
   "cell_type": "code",
   "execution_count": 32,
   "metadata": {},
   "outputs": [
    {
     "name": "stdout",
     "output_type": "stream",
     "text": [
      "Added a list of [14, 16, 18] to the end of the even_numbers list : [2, 4, 6, 8, 10, 14, 16, 18, 14, 16, 18]\n"
     ]
    }
   ],
   "source": [
    "# Example:\n",
    "list = [14,16,18]\n",
    "even_numbers.extend(list) \n",
    "print(\"Added a list of [14, 16, 18] to the end of the even_numbers list : \" + str(even_numbers))"
   ]
  },
  {
   "cell_type": "markdown",
   "metadata": {},
   "source": [
    "## Insertion of element\n",
    "- listname.insert(index,element)\n",
    "    - listname is name of list\n",
    "    - index is position where insertion needs to be done"
   ]
  },
  {
   "cell_type": "code",
   "execution_count": 12,
   "metadata": {},
   "outputs": [
    {
     "name": "stdout",
     "output_type": "stream",
     "text": [
      "Inserted a 6 at index 3 : [2, 4, 5, 8, 10, 12, 14, 16, 18]\n"
     ]
    }
   ],
   "source": [
    "# Example: \n",
    "even_numbers.insert(3,6)\n",
    "print(\"Inserted a 6 at index 3 : \" + str(even_numbers))"
   ]
  },
  {
   "cell_type": "markdown",
   "metadata": {},
   "source": [
    "## 4. Check membership of element \n",
    "- To check the if an element is present in list we can use 'in' operator\n"
   ]
  },
  {
   "cell_type": "code",
   "execution_count": 14,
   "metadata": {},
   "outputs": [
    {
     "name": "stdout",
     "output_type": "stream",
     "text": [
      "Is 2 present in the even_numbers list : True\n",
      "Is 3 present in the even_numbers list : False\n"
     ]
    }
   ],
   "source": [
    "element_present = 2 in even_numbers\n",
    "print(\"Is 2 present in the even_numbers list : \" + str(element_present))\n",
    "\n",
    "element_present = 3 in even_numbers\n",
    "print(\"Is 3 present in the even_numbers list : \" + str(element_present))"
   ]
  },
  {
   "cell_type": "markdown",
   "metadata": {},
   "source": [
    "## 5. Some useful Methods for list"
   ]
  },
  {
   "cell_type": "markdown",
   "metadata": {},
   "source": [
    "### 1. len()\n"
   ]
  },
  {
   "cell_type": "code",
   "execution_count": 9,
   "metadata": {},
   "outputs": [
    {
     "name": "stdout",
     "output_type": "stream",
     "text": [
      "Length of even_numbers list: 5\n"
     ]
    }
   ],
   "source": [
    "# Length method returns the length of the list \n",
    "length_of_list  = len(even_numbers)\n",
    "print(\"Length of even_numbers list: \" + str(length_of_list))"
   ]
  },
  {
   "cell_type": "markdown",
   "metadata": {},
   "source": [
    "### 2. max()"
   ]
  },
  {
   "cell_type": "code",
   "execution_count": 11,
   "metadata": {},
   "outputs": [
    {
     "name": "stdout",
     "output_type": "stream",
     "text": [
      "Largest number in even_numbers list is : 10\n"
     ]
    }
   ],
   "source": [
    "# max function return the largest element of a list\n",
    "print(\"Largest number in even_numbers list is : \" + str(max(even_numbers)))"
   ]
  },
  {
   "cell_type": "markdown",
   "metadata": {},
   "source": [
    "### 3. min()"
   ]
  },
  {
   "cell_type": "code",
   "execution_count": 10,
   "metadata": {},
   "outputs": [
    {
     "name": "stdout",
     "output_type": "stream",
     "text": [
      "Smallest number in even_numbers list is : 2\n"
     ]
    }
   ],
   "source": [
    "# min function returns the smallest element in a list\n",
    "print(\"Smallest number in even_numbers list is : \" + str(min(even_numbers)))"
   ]
  },
  {
   "cell_type": "markdown",
   "metadata": {},
   "source": [
    "\n",
    "### 4. index()\n",
    "- Used for finding index of element in list\n",
    "- listname.index(element)\n",
    "    - listname is name of list\n",
    "    - return index of first occurance of \"element\" in \"listname\"\n",
    "    - If element is not present in list, error is raised "
   ]
  },
  {
   "cell_type": "code",
   "execution_count": 4,
   "metadata": {},
   "outputs": [
    {
     "name": "stdout",
     "output_type": "stream",
     "text": [
      "1\n"
     ]
    }
   ],
   "source": [
    "#e.g.\n",
    "print(even_numbers.index(4)) #printing the index of elemement 4 in the even_numbers list"
   ]
  },
  {
   "cell_type": "markdown",
   "metadata": {},
   "source": [
    "### 5. pop()\n",
    "- pop (extract and remove element)\n",
    "- listname.pop(index)\n",
    "    - listname is name of list\n",
    "    - index is position of element which has to be removed. If it is not specified, last element is removed\n",
    "    - return element which is removed\n",
    "    - list is updated, with last element removed"
   ]
  },
  {
   "cell_type": "code",
   "execution_count": 6,
   "metadata": {},
   "outputs": [
    {
     "name": "stdout",
     "output_type": "stream",
     "text": [
      "bye\n",
      "['hello', 'howdy']\n"
     ]
    }
   ],
   "source": [
    "# Try poping \n",
    "temp = ['hello','howdy','bye']\n",
    "print(temp.pop()) #last element (i.e. bye) is poped.\n",
    "print(temp) # now the list does not contain the poped element."
   ]
  },
  {
   "cell_type": "markdown",
   "metadata": {},
   "source": [
    "### 6. remove()\n",
    "- remove removes an element\n",
    "- listname.remove(element)\n",
    "    - listname is name of list\n",
    "    - element is one which has to be removed. If element is not present in list, gives value error \n",
    "    - How remove is differenr from pop -  remove does not return anything"
   ]
  },
  {
   "cell_type": "code",
   "execution_count": 9,
   "metadata": {},
   "outputs": [
    {
     "name": "stdout",
     "output_type": "stream",
     "text": [
      "['maths', 'chemistry']\n"
     ]
    }
   ],
   "source": [
    "# Try removing\n",
    "temp = ['maths','physics','chemistry']\n",
    "temp.remove('physics') # removed physics from the list\n",
    "print(temp)"
   ]
  },
  {
   "cell_type": "markdown",
   "metadata": {},
   "source": [
    "### 7. reverse()\n",
    "- reverse ordering of list in place\n",
    "- return nothing\n",
    "- syntax : list.reverse()"
   ]
  },
  {
   "cell_type": "code",
   "execution_count": 12,
   "metadata": {},
   "outputs": [
    {
     "name": "stdout",
     "output_type": "stream",
     "text": [
      "Before reverse\n",
      "[34, 5, 2, 67, 23, 98]\n",
      "After reverse\n",
      "[98, 23, 67, 2, 5, 34]\n"
     ]
    }
   ],
   "source": [
    "# Try reversing a list\n",
    "temp = [34,5,2,67,23,98]\n",
    "print(\"Before reverse\")\n",
    "print(temp)\n",
    "temp.reverse()\n",
    "print(\"After reverse\")\n",
    "print(temp)"
   ]
  },
  {
   "cell_type": "markdown",
   "metadata": {},
   "source": [
    "### 8. Sort()\n",
    "- this function sorts the list in place\n",
    "- syntax : list.sort()\n",
    "- return nothing\n",
    "- sorting order can be reversed using reverse parameter by setting reverse=True"
   ]
  },
  {
   "cell_type": "code",
   "execution_count": 14,
   "metadata": {},
   "outputs": [
    {
     "name": "stdout",
     "output_type": "stream",
     "text": [
      "Before sorting\n",
      "[34, 5, 22, 6, 8, 99]\n",
      "After sorting\n",
      "[5, 6, 8, 22, 34, 99]\n"
     ]
    }
   ],
   "source": [
    "# Try sorting a list\n",
    "temp = [34,5,22,6,8,99]\n",
    "print(\"Before sorting\")\n",
    "print(temp)\n",
    "temp.sort()\n",
    "print(\"After sorting\")\n",
    "print(temp)"
   ]
  },
  {
   "cell_type": "markdown",
   "metadata": {},
   "source": [
    "## 6. Multi-dimension list\n",
    "- List of list\n"
   ]
  },
  {
   "cell_type": "markdown",
   "metadata": {},
   "source": [
    "#### Multi-dimension list means list containing more list or list like structure inside inself.\n",
    "- such type of list can be used to represent real life data, e.g. matrix\n",
    "- So to understand the concept of multi dimentional list we will try to create a matrix\n"
   ]
  },
  {
   "cell_type": "code",
   "execution_count": 16,
   "metadata": {},
   "outputs": [
    {
     "name": "stdout",
     "output_type": "stream",
     "text": [
      "[[1, 2, 3], [4, 5, 6], [7, 8, 9]]\n"
     ]
    }
   ],
   "source": [
    "A = [[1,2,3],\n",
    "     [4,5,6],\n",
    "     [7,8,9]]\n",
    "print(A)"
   ]
  },
  {
   "cell_type": "markdown",
   "metadata": {},
   "source": [
    "- as you can see each item of list A is a list in itself.\n",
    "- this a 2 dimentional list, as there is a list in each item."
   ]
  },
  {
   "cell_type": "markdown",
   "metadata": {},
   "source": [
    "## Using loops with list\n",
    "- Loops can be used to scan or iterate( which means to go through the list) through the list.\n",
    "- This can be done in 2 ways using index or without using index."
   ]
  },
  {
   "cell_type": "code",
   "execution_count": 17,
   "metadata": {},
   "outputs": [
    {
     "name": "stdout",
     "output_type": "stream",
     "text": [
      "Subject : physics\n",
      "Subject : chemistry\n",
      "Subject : maths\n"
     ]
    }
   ],
   "source": [
    "#### Lets try looping through the list without using index\n",
    "temp = ['physics', 'chemistry','maths']\n",
    "\n",
    "for i in temp:\n",
    "    print(\"Subject : \" + i)\n"
   ]
  },
  {
   "cell_type": "code",
   "execution_count": 19,
   "metadata": {},
   "outputs": [
    {
     "name": "stdout",
     "output_type": "stream",
     "text": [
      "Subject :physics\n",
      "Subject :chemistry\n",
      "Subject :maths\n"
     ]
    }
   ],
   "source": [
    "### Lets try looping using index\n",
    "for i in range(len(temp)):\n",
    "    print(\"Subject : \" + temp[i])"
   ]
  },
  {
   "cell_type": "markdown",
   "metadata": {},
   "source": [
    "- if you observe there is not much difference between them.\n",
    "- the only difference is that when we use index based looping, we are accessing eac item using its index\n",
    "- while in non-index based looping we are accessing the items directly, the extra work is done by python itself"
   ]
  }
 ],
 "metadata": {
  "kernelspec": {
   "display_name": "Python 3",
   "language": "python",
   "name": "python3"
  },
  "language_info": {
   "codemirror_mode": {
    "name": "ipython",
    "version": 3
   },
   "file_extension": ".py",
   "mimetype": "text/x-python",
   "name": "python",
   "nbconvert_exporter": "python",
   "pygments_lexer": "ipython3",
   "version": "3.9.5"
  }
 },
 "nbformat": 4,
 "nbformat_minor": 2
}
