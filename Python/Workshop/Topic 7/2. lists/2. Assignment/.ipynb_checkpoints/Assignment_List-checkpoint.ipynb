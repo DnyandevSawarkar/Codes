{
 "cells": [
  {
   "cell_type": "markdown",
   "metadata": {},
   "source": [
    "### Assignment 1 (3 MARKS)\n",
    "Write all the python codes given in the video\n"
   ]
  },
  {
   "cell_type": "code",
   "execution_count": null,
   "metadata": {},
   "outputs": [],
   "source": [
    "#Write your code here"
   ]
  },
  {
   "cell_type": "markdown",
   "metadata": {},
   "source": [
    "### Assignment 2 (5 MARKS)\n",
    "- Step 1 : Create two lists containing 5 integer values.(you can name the list anything)\n",
    "- Step 2 : Sort the lists in ascending order.\n",
    "- Step 3 : append the 2nd lists to the 1st list.\n",
    "- Step 4 : Print all the lists. (remember to use str() function while printing list)"
   ]
  },
  {
   "cell_type": "code",
   "execution_count": null,
   "metadata": {},
   "outputs": [],
   "source": [
    "#Write your code here"
   ]
  },
  {
   "cell_type": "markdown",
   "metadata": {},
   "source": [
    "### Assignment 3 (7 MARKS)\n",
    "- Step 1 : Fill in the blanks and show the output.\n",
    "- Step 2 : Also explain in your own language what is happening in the below code."
   ]
  },
  {
   "cell_type": "code",
   "execution_count": null,
   "metadata": {},
   "outputs": [],
   "source": [
    "\n",
    "myCats = ['blacky', 'sofie', 'fluffy', 'garfield']\n",
    "\n",
    "name = input(\"Enter a cats name : \")\n",
    "\n",
    "if ____ in ____:\n",
    "    print(name +  \" is my cat\")\n",
    "else : \n",
    "    print(____ + \" is not my cat\")"
   ]
  },
  {
   "cell_type": "code",
   "execution_count": null,
   "metadata": {},
   "outputs": [],
   "source": [
    "# Write your explanation for the above code here"
   ]
  }
 ],
 "metadata": {
  "kernelspec": {
   "display_name": "Python 3",
   "language": "python",
   "name": "python3"
  },
  "language_info": {
   "codemirror_mode": {
    "name": "ipython",
    "version": 3
   },
   "file_extension": ".py",
   "mimetype": "text/x-python",
   "name": "python",
   "nbconvert_exporter": "python",
   "pygments_lexer": "ipython3",
   "version": "3.9.5"
  }
 },
 "nbformat": 4,
 "nbformat_minor": 4
}
