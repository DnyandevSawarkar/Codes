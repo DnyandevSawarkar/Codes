{
 "cells": [
  {
   "cell_type": "markdown",
   "metadata": {},
   "source": [
    "### Assignment 1 (3 MARKS)\n",
    "Write all the python codes given in the video\n"
   ]
  },
  {
   "cell_type": "code",
   "execution_count": 1,
   "metadata": {},
   "outputs": [
    {
     "name": "stdout",
     "output_type": "stream",
     "text": [
      "[25, 12, 36, 95, 14]\n",
      "25\n",
      "14\n",
      "[36, 95, 14]\n",
      "14\n",
      "25\n",
      "['naveen', 'kiran', 'john']\n",
      "[9.5, 'naveen', 25]\n",
      "[[25, 12, 36, 95, 14], ['naveen', 'kiran', 'john']]\n",
      "[25, 12, 36, 95, 14, 45]\n",
      "[25, 12, 77, 36, 95, 14, 45]\n",
      "[25, 12, 77, 36, 95, 45]\n",
      "[25, 77, 36, 95, 45]\n",
      "[25, 77, 36, 95]\n",
      "[25, 77]\n",
      "[25, 77, 29, 12, 14, 36]\n",
      "[12, 14, 25, 29, 36, 77]\n"
     ]
    }
   ],
   "source": [
    "#code1\n",
    "nums = [25,12,36,95,14]            # Taking input list from user\n",
    "print(nums)                        # printing the list \n",
    "\n",
    "#code2\n",
    "print(nums[0])                     # fetching value from list\n",
    "print(nums[4])\n",
    "\n",
    "#code3\n",
    "print(nums[2:])       \n",
    "\n",
    "#code4\n",
    "print(nums[-1])                    # negative indexing\n",
    "print(nums[-5])\n",
    "\n",
    "#code5\n",
    "names = ['naveen','kiran','john']  # string in list \n",
    "print(names)\n",
    "\n",
    "\n",
    "#code6\n",
    "value =[9.5,'naveen',25]           # storing types of value in string\n",
    "print(value)\n",
    "\n",
    "\n",
    "#code7\n",
    "mil = [nums,names]                 # merging lists\n",
    "print(mil)\n",
    "\n",
    "#code8\n",
    "nums.append(45)                    # adding more values to list\n",
    "print(nums)\n",
    "\n",
    "#code9\n",
    "nums.insert(2,77)                  # insering vaues in list\n",
    "print(nums)\n",
    "\n",
    "#code10\n",
    "nums.remove(14)                    # removing element from list\n",
    "print(nums)\n",
    "\n",
    "#code11\n",
    "nums.pop(1)                        # accesing single elememt from list\n",
    "print(nums)\n",
    "\n",
    "#code12\n",
    "nums.pop()                                  \n",
    "print(nums)\n",
    "\n",
    "#code13\n",
    "del nums[2:]                       # deleting element from list\n",
    "print(nums)\n",
    "\n",
    "#code14\n",
    "nums.extend([29,12,14,36])         # adding multiple values to list\n",
    "print(nums)\n",
    "\n",
    "#code15\n",
    "min(nums)                          # min value of list\n",
    "\n",
    "#code16\n",
    "max(nums)                          # max value of list\n",
    "\n",
    "#code17\n",
    "sum(nums)                          # SUM OF ALL VALUES OF LIST\n",
    "\n",
    "#code18\n",
    "nums.sort()                        # sorting the list \n",
    "print(nums)"
   ]
  },
  {
   "cell_type": "markdown",
   "metadata": {},
   "source": [
    "### Assignment 2 (5 MARKS)\n",
    "- Step 1 : Create two lists containing 5 integer values.(you can name the list anything)\n",
    "- Step 2 : Sort the lists in ascending order.\n",
    "- Step 3 : append the 2nd lists to the 1st list.\n",
    "- Step 4 : Print all the lists. (remember to use str() function while printing list)"
   ]
  },
  {
   "cell_type": "code",
   "execution_count": 2,
   "metadata": {},
   "outputs": [
    {
     "name": "stdout",
     "output_type": "stream",
     "text": [
      "List 1:[1, 5, 4, 2, 3]\n",
      "List 2:[10, 6, 8, 7, 9]\n",
      "Ascending order of list 1 : [1, 2, 3, 4, 5] \n",
      "Ascending order of list 2 : [6, 7, 8, 9, 10]\n",
      "Append list : [6, 7, 8, 9, 10, 1, 2, 3, 4, 5]\n"
     ]
    }
   ],
   "source": [
    "# step 1\n",
    "list_1 = [1,5,4,2,3]   # creating list\n",
    "list_2 = [10,6,8,7,9]  # creating list\n",
    "\n",
    "# setp 4\n",
    "print('List 1:' + str(list_1) + '\\nList 2:' + str(list_2)) #output of list 1 and list 2\n",
    "\n",
    "# step 2\n",
    "list_1.sort()          # sort the list in ascending order\n",
    "list_2.sort()          # sort the list in ascending order\n",
    "print('Ascending order of list 1 :',list_1,'\\nAscending order of list 2 :',list_2) # output of sort list\n",
    "\n",
    "# step 3\n",
    "list_2.extend(list_1)  # append 2nd list to 1st list \n",
    "print('Append list :',list_2) #output of append list"
   ]
  },
  {
   "cell_type": "markdown",
   "metadata": {},
   "source": [
    "### Assignment 3 (7 MARKS)\n",
    "- Step 1 : Fill in the blanks and show the output.\n",
    "- Step 2 : Also explain in your own language what is happening in the below code."
   ]
  },
  {
   "cell_type": "code",
   "execution_count": 3,
   "metadata": {},
   "outputs": [
    {
     "name": "stdout",
     "output_type": "stream",
     "text": [
      "Enter a cats name : jojo\n",
      "jojo is not my cat\n"
     ]
    }
   ],
   "source": [
    "# 1\n",
    "myCats = ['blacky', 'sofie', 'fluffy', 'garfield']\n",
    "# 2\n",
    "name = input(\"Enter a cats name : \")\n",
    "# 3\n",
    "if name in myCats:                 # 4\n",
    "    print(name +  \" is my cat\")    # 5\n",
    "else :                             # 6\n",
    "    print(name + \" is not my cat\") # 7\n",
    "# 8"
   ]
  },
  {
   "cell_type": "markdown",
   "metadata": {},
   "source": [
    "### explanation for the above code \n",
    "- 1 - list myCats containg all the name of my cats\n",
    "- 2 - variable name is used to store input for cat name\n",
    "- 3 - starting of if loop\n",
    "- 4 - condition if input name is in list then it print 'name' is my cat (5)\n",
    "- 6 - if input name is not in list then it prints 'name' is not my cat (7)\n",
    "- 8 - loop end"
   ]
  }
 ],
 "metadata": {
  "kernelspec": {
   "display_name": "Python 3",
   "language": "python",
   "name": "python3"
  },
  "language_info": {
   "codemirror_mode": {
    "name": "ipython",
    "version": 3
   },
   "file_extension": ".py",
   "mimetype": "text/x-python",
   "name": "python",
   "nbconvert_exporter": "python",
   "pygments_lexer": "ipython3",
   "version": "3.9.5"
  }
 },
 "nbformat": 4,
 "nbformat_minor": 4
}
