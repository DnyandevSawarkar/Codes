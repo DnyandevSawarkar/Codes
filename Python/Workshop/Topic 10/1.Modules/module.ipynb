{
 "cells": [
  {
   "cell_type": "markdown",
   "metadata": {},
   "source": [
    "### <center>Modules in Python</center>\n",
    "### <center>Authour : R-LABS</center>"
   ]
  },
  {
   "cell_type": "markdown",
   "metadata": {},
   "source": [
    "### Modules "
   ]
  },
  {
   "cell_type": "markdown",
   "metadata": {},
   "source": [
    ">As your program gets longer, you may want to split it into several files for easier maintenance.<br>\n",
    "You may also want to use a self written function into several programs without copying its definition into each program.<br>\n",
    "To support this, Python has a way to put definitions in a file and use them in a script or in an interactive instance of the interpreter.<br>\n",
    "Such a file is called a <b>module</b> ; definitions from a module can be imported into other modules or into the main module.<br>\n",
    "In simple words a<b> module is a file containing python code.</b>\n"
   ]
  },
  {
   "cell_type": "markdown",
   "metadata": {},
   "source": [
    "### Why Modules are useful ?\n",
    "Using modules is useful because they provide us the following benefits"
   ]
  },
  {
   "cell_type": "markdown",
   "metadata": {},
   "source": [
    ">1. Breaking large programs into small portions to increase the maintainability, readability of the code and to make the program handy to make any changes in future or to correct the errors.<br>\n",
    "i.e. <b>Ease of Debugging and Modifying.</b>\n",
    "\n",
    ">2. Also the subprogram can be used multiple times.<br>\n",
    "i.e. <b>Reusability of Code.</b>"
   ]
  },
  {
   "cell_type": "markdown",
   "metadata": {},
   "source": [
    "### Learn by Doing\n",
    "Now let's start by making your first module \n"
   ]
  },
  {
   "cell_type": "code",
   "execution_count": 2,
   "metadata": {},
   "outputs": [
    {
     "name": "stdout",
     "output_type": "stream",
     "text": [
      "Hello, yaah\n"
     ]
    }
   ],
   "source": [
    "# module containing only one function\n",
    "def identity(x):\n",
    "    name = x\n",
    "    print(name)\n",
    "    return\n",
    "\n",
    "def address(y):\n",
    "    address = y\n",
    "    print(address)\n",
    "    return\n",
    "def greet(name):\n",
    "  print(\"Hello, \" + name )\n",
    "greet(\"yaah\")"
   ]
  },
  {
   "cell_type": "markdown",
   "metadata": {},
   "source": [
    "<b>Note :</b>\n",
    "We will import this module in other notebook\n",
    "\n",
    "Save this notebook and open a new notebook\n",
    "\n",
    "Once we create this module we can import this in multiple notebook\n",
    "\n",
    "The new notebook you will create should be in same directory ( folder) as this one"
   ]
  }
 ],
 "metadata": {
  "kernelspec": {
   "display_name": "Python 3",
   "language": "python",
   "name": "python3"
  },
  "language_info": {
   "codemirror_mode": {
    "name": "ipython",
    "version": 3
   },
   "file_extension": ".py",
   "mimetype": "text/x-python",
   "name": "python",
   "nbconvert_exporter": "python",
   "pygments_lexer": "ipython3",
   "version": "3.9.5"
  }
 },
 "nbformat": 4,
 "nbformat_minor": 2
}
