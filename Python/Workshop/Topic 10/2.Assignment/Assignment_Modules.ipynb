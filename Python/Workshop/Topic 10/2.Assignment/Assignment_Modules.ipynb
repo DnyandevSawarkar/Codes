{
 "cells": [
  {
   "cell_type": "markdown",
   "id": "c41ff95f",
   "metadata": {},
   "source": [
    "# Task 10"
   ]
  },
  {
   "cell_type": "markdown",
   "id": "c755a5da",
   "metadata": {},
   "source": [
    "## Assignment 1 (3 Marks)"
   ]
  },
  {
   "cell_type": "markdown",
   "id": "056785ef",
   "metadata": {},
   "source": [
    "1. Write all the codes given in the video"
   ]
  },
  {
   "cell_type": "code",
   "execution_count": null,
   "id": "6be278d5",
   "metadata": {},
   "outputs": [],
   "source": [
    "#TEAMNAME #TASKNUMBER #YOURNAME \n",
    "#WRITE YOUR CODE HERE\n",
    "import import_ipynb            # library use to import jupyter notebook file\n",
    "import task_10_qu_1            # importing task_10_qu_1 modules\n",
    "\n",
    "a=9                            # assinged value of a\n",
    "b=7                            # assinged value of b\n",
    "\n",
    "#method1\n",
    "c=task_10_qu_1.add(a,b)        #using add function from moudel task_10_qu_1\n",
    "print(c)\n",
    "\n",
    "#method2\n",
    "from task_10_qu_1 import add   # from task_10_qu_1 modules importing add function\n",
    "c=add(a,b)                     # assing c equal to add function value\n",
    "print(c)                       # output\n",
    "\n",
    "#method3\n",
    "from task_10_qu_1 import*      # from task_10_qu_1 modules importing all function\n",
    "c=add(a,b)                     # assing c equal to add function value              \n",
    "print(c)                       # output\n",
    "c=sub(a,b)                     # assing c equal to sub function value\n",
    "print(c)                       # output"
   ]
  },
  {
   "cell_type": "markdown",
   "id": "e88c2e3c",
   "metadata": {},
   "source": [
    "## Assignment 2 (5 Marks)"
   ]
  },
  {
   "cell_type": "markdown",
   "id": "1b79daab",
   "metadata": {},
   "source": [
    "2. Write a module for finding the average salary based on the age and gender\n",
    "\n",
    "#### Algorithm:\n",
    "- Make a module file in jupyter notebook with required/needed functions\n",
    "- The function must check the input values based on condtions mentioned below\n",
    "- In the main script you have to give the input from the **USER** and pass it to the function **defined in your module script**\n",
    "\n",
    "#### Input parameters:\n",
    "- Age\n",
    "- Gender\n",
    "\n",
    "#### Conditions to be checked:\n",
    "- If the age is between 20-50 and gender male then return **Average Salary for male is 50000**\n",
    "- If the age is between 20-50 and gender female then return **Average Salary for female is 55000**\n",
    "- If the age is between 50-60 and gender male then return **Average Salary for male is 30000**\n",
    "- If the age is between 50-60 and gender female then return **Average Salary for female is 25000**\n",
    "- If the age is 60+ and gender male/female then return **Retired**\n",
    "\n",
    "\n",
    "### Expected output\n",
    "```\n",
    "module.fun(32,male)\n",
    "Average Salary for male is 50000\n",
    "```"
   ]
  },
  {
   "cell_type": "code",
   "execution_count": null,
   "id": "e192ec17",
   "metadata": {},
   "outputs": [],
   "source": [
    "#TEAMNAME #TASKNUMBER #YOURNAME \n",
    "#WRITE YOUR CODE HERE\n",
    "import import_ipynb     # library use to import jupyter notebook file\n",
    "import task_10_qu_2     # importing task_10_qu_2 modules"
   ]
  },
  {
   "cell_type": "code",
   "execution_count": null,
   "id": "38b77948",
   "metadata": {},
   "outputs": [],
   "source": [
    "task_10_qu_2.code(\"male\",65)  "
   ]
  },
  {
   "cell_type": "markdown",
   "id": "ecce6b35",
   "metadata": {},
   "source": [
    "## Assignment 3 (7 Marks)"
   ]
  },
  {
   "cell_type": "markdown",
   "id": "1513ad42",
   "metadata": {},
   "source": [
    "3. Write a module showNumbers using **class concept** meaning the functions should be inside the class called module with two functions where the first function is used for increasing the value until limit value is reached and the second function checks whether it is even or odd. \n",
    "\n",
    "### Input Parameters\n",
    "- Limit **(To be taken as an input from the user)**\n",
    "\n",
    "### Output\n",
    "- It should print all the numbers between 0 and limit with a label to identify the even and odd numbers. \n",
    "\n",
    "```\n",
    "For example, if the limit is 3, it should print: \n",
    "\n",
    "0 : EVEN \n",
    "1 : ODD \n",
    "2 : EVEN \n",
    "3 : ODD\n",
    "```\n",
    "You have to do the processing of the limit inside the **module only**  "
   ]
  },
  {
   "cell_type": "code",
   "execution_count": 3,
   "id": "8abcb772",
   "metadata": {},
   "outputs": [],
   "source": [
    "#TEAMNAME #TASKNUMBER #YOURNAME \n",
    "#WRITE YOUR CODE HERE\n",
    "import import_ipynb            # library use to import jupyter notebook file\n",
    "from task_10_qu_3 import numm  # from task_10_qu_3 modules importing numm class"
   ]
  },
  {
   "cell_type": "code",
   "execution_count": 4,
   "id": "04f86e14",
   "metadata": {},
   "outputs": [],
   "source": [
    "obj = numm() #assining obj equal to num"
   ]
  },
  {
   "cell_type": "code",
   "execution_count": 5,
   "id": "1a6ecd68",
   "metadata": {},
   "outputs": [
    {
     "name": "stdout",
     "output_type": "stream",
     "text": [
      "limit :5\n"
     ]
    }
   ],
   "source": [
    "obj.limit()  #object to get limit input"
   ]
  },
  {
   "cell_type": "code",
   "execution_count": 6,
   "id": "f4ed9ba4",
   "metadata": {},
   "outputs": [
    {
     "name": "stdout",
     "output_type": "stream",
     "text": [
      "0\n",
      "1\n",
      "2\n",
      "3\n",
      "4\n"
     ]
    }
   ],
   "source": [
    "obj.increasing_value() #output of all the number in given range"
   ]
  },
  {
   "cell_type": "code",
   "execution_count": 7,
   "id": "d6229527",
   "metadata": {},
   "outputs": [
    {
     "name": "stdout",
     "output_type": "stream",
     "text": [
      "0 : even\n",
      "1 : odd\n",
      "2 : even\n",
      "3 : odd\n",
      "4 : even\n"
     ]
    }
   ],
   "source": [
    "obj.checking_value()  #output of all the number in given range which are even and which are odd"
   ]
  }
 ],
 "metadata": {
  "kernelspec": {
   "display_name": "Python 3",
   "language": "python",
   "name": "python3"
  },
  "language_info": {
   "codemirror_mode": {
    "name": "ipython",
    "version": 3
   },
   "file_extension": ".py",
   "mimetype": "text/x-python",
   "name": "python",
   "nbconvert_exporter": "python",
   "pygments_lexer": "ipython3",
   "version": "3.9.5"
  }
 },
 "nbformat": 4,
 "nbformat_minor": 5
}
