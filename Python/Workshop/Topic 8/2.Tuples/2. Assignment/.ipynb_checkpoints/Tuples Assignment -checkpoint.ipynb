{
 "cells": [
  {
   "cell_type": "markdown",
   "metadata": {},
   "source": [
    "## Assignment 1  ( 3 Marks )"
   ]
  },
  {
   "cell_type": "markdown",
   "metadata": {},
   "source": [
    "- Write a program that add string \"Welcome to Python Workshop\" to the front of all the elements of the tuple\n",
    "\n",
    "Expected output - ('welcome to python workshop', 'x' , 'y' , 'z')\n"
   ]
  },
  {
   "cell_type": "code",
   "execution_count": 67,
   "metadata": {},
   "outputs": [
    {
     "name": "stdout",
     "output_type": "stream",
     "text": [
      "('Welcome to Python Workshop', 'x', 'y', 'z')\n"
     ]
    }
   ],
   "source": [
    "a = ('x','y','z')                        # tuple a contain (x,y,z)\n",
    "a = (\"Welcome to Python Workshop\",) + a  # condition for getting our output\n",
    "print(a)"
   ]
  },
  {
   "cell_type": "markdown",
   "metadata": {},
   "source": [
    "## Assignment 2  ( 5 Marks )"
   ]
  },
  {
   "cell_type": "markdown",
   "metadata": {},
   "source": [
    "- Write a Python program to replace last value of tuples in a list. \n",
    "- Sample         : [(1,2,3), (4.1,5.1,6.1), (7,8,9)]\n",
    "- Expected Output: [(1,2,7), (4.1,5.1,7), (7,8,7)] "
   ]
  },
  {
   "cell_type": "code",
   "execution_count": 52,
   "metadata": {},
   "outputs": [
    {
     "name": "stdout",
     "output_type": "stream",
     "text": [
      "[(1, 2, 7), (4.1, 5.1, 7), (7, 8, 7)]\n"
     ]
    }
   ],
   "source": [
    "i = [(1,2,3),(4.1,5.1,6.1), (7,8,9)]          # assined tuple     \n",
    "print([j[:-1] + (7,) for j in i])             # conditon to replace last element of tuple with 7 and its output\n",
    "                                 "
   ]
  },
  {
   "cell_type": "markdown",
   "metadata": {},
   "source": [
    "\n",
    "\n",
    "\n",
    "\n",
    "\n",
    "\n",
    "\n",
    "\n",
    "\n",
    "\n",
    "\n",
    "\n",
    "\n",
    "\n",
    "\n",
    "\n",
    "\n",
    "\n",
    "\n",
    "\n",
    "\n",
    "\n",
    "\n",
    "\n",
    "\n",
    "\n",
    "\n",
    "\n",
    "\n",
    "## Assignment 3  ( 7 Marks )"
   ]
  },
  {
   "cell_type": "markdown",
   "metadata": {},
   "source": [
    "## [(1, 2,27), (4.1, 5.1, 226.98099999997), (7, 8, 729)]"
   ]
  },
  {
   "cell_type": "markdown",
   "metadata": {},
   "source": [
    "\n",
    "Write a program to print every 3rd element of a tuple T, raised to power 3."
   ]
  },
  {
   "cell_type": "code",
   "execution_count": 40,
   "metadata": {
    "scrolled": true
   },
   "outputs": [
    {
     "name": "stdout",
     "output_type": "stream",
     "text": [
      "1\n",
      "64\n",
      "343\n",
      "1000\n"
     ]
    }
   ],
   "source": []
  }
 ],
 "metadata": {
  "kernelspec": {
   "display_name": "Python 3",
   "language": "python",
   "name": "python3"
  },
  "language_info": {
   "codemirror_mode": {
    "name": "ipython",
    "version": 3
   },
   "file_extension": ".py",
   "mimetype": "text/x-python",
   "name": "python",
   "nbconvert_exporter": "python",
   "pygments_lexer": "ipython3",
   "version": "3.9.5"
  }
 },
 "nbformat": 4,
 "nbformat_minor": 2
}
