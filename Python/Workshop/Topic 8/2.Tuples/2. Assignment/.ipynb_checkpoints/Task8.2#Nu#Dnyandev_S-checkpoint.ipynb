{
 "cells": [
  {
   "cell_type": "markdown",
   "metadata": {},
   "source": [
    "## Assignment 1  ( 3 Marks )"
   ]
  },
  {
   "cell_type": "markdown",
   "metadata": {},
   "source": [
    "- Write a program that add string \"Welcome to Python Workshop\" to the front of all the elements of the tuple\n",
    "\n",
    "Expected output - ('welcome to python workshop', 'x' , 'y' , 'z')\n"
   ]
  },
  {
   "cell_type": "code",
   "execution_count": 1,
   "metadata": {},
   "outputs": [
    {
     "name": "stdout",
     "output_type": "stream",
     "text": [
      "('Welcome to Python Workshop', 'x', 'y', 'z')\n"
     ]
    }
   ],
   "source": [
    "a = ('x','y','z')                        # tuple a contain (x,y,z)\n",
    "\n",
    "a = (\"Welcome to Python Workshop\",) + a  # condition for getting our output\n",
    "\n",
    "print(a)                                 # final output"
   ]
  },
  {
   "cell_type": "markdown",
   "metadata": {},
   "source": [
    "## Assignment 2  ( 5 Marks )"
   ]
  },
  {
   "cell_type": "markdown",
   "metadata": {},
   "source": [
    "- Write a Python program to replace last value of tuples in a list. \n",
    "- Sample         : [(1,2,3), (4.1,5.1,6.1), (7,8,9)]\n",
    "- Expected Output: [(1,2,7), (4.1,5.1,7), (7,8,7)] "
   ]
  },
  {
   "cell_type": "code",
   "execution_count": 5,
   "metadata": {},
   "outputs": [
    {
     "name": "stdout",
     "output_type": "stream",
     "text": [
      "[(1, 2, 7), (4.1, 5.1, 7), (7, 8, 7)]\n"
     ]
    }
   ],
   "source": [
    "Tuple_1 = (1,2,3);Tuple_2 = (4.1,5.1,6.1);Tuple_3 = (7,8,9)             # assining tuple_1 and tuple2_ and tuple_3\n",
    "\n",
    "list1=list(Tuple_1);list2=list(Tuple_2);list3=list(Tuple_3)             # converting all the tuple to list\n",
    "\n",
    "list1[2] = 7;list2[2] = 7;list3[2] = 7                                  # replaceing 3rd index value with 7 of all list\n",
    "\n",
    "print([tuple(list1),tuple(list2),tuple(list3)])                         # converting list to tuple and printing them"
   ]
  },
  {
   "cell_type": "markdown",
   "metadata": {},
   "source": [
    "\n",
    "\n",
    "\n",
    "\n",
    "\n",
    "\n",
    "\n",
    "\n",
    "\n",
    "\n",
    "\n",
    "\n",
    "\n",
    "\n",
    "\n",
    "\n",
    "\n",
    "\n",
    "\n",
    "\n",
    "\n",
    "\n",
    "\n",
    "\n",
    "\n",
    "\n",
    "\n",
    "\n",
    "\n",
    "## Assignment 3  ( 7 Marks )"
   ]
  },
  {
   "cell_type": "markdown",
   "metadata": {},
   "source": [
    "\n",
    "Write a program to print every 3rd element of a tuple T, raised to power 3."
   ]
  },
  {
   "cell_type": "code",
   "execution_count": 4,
   "metadata": {
    "scrolled": false
   },
   "outputs": [
    {
     "name": "stdout",
     "output_type": "stream",
     "text": [
      "[(1, 2, 27), (4.1, 5.1, 226.98099999999997), (7, 8, 729)]\n"
     ]
    }
   ],
   "source": [
    "Tuple_1 = (1,2,3);Tuple_2 = (4.1,5.1,6.1);Tuple_3 = (7,8,9)             # assining tuple_1 and tuple2_ and tuple_3\n",
    "\n",
    "list1=list(Tuple_1);list2=list(Tuple_2);list3=list(Tuple_3)             # converting all the tuple to list\n",
    "\n",
    "list1[2] = list1[2]**3;list2[2] = list2[2]**3;list3[2] = list3[2]**3    # cubing 3rd index value of all list\n",
    "\n",
    "print([tuple(list1),tuple(list2),tuple(list3)])                         # converting list to tuple and printing them"
   ]
  }
 ],
 "metadata": {
  "kernelspec": {
   "display_name": "Python 3",
   "language": "python",
   "name": "python3"
  },
  "language_info": {
   "codemirror_mode": {
    "name": "ipython",
    "version": 3
   },
   "file_extension": ".py",
   "mimetype": "text/x-python",
   "name": "python",
   "nbconvert_exporter": "python",
   "pygments_lexer": "ipython3",
   "version": "3.9.5"
  }
 },
 "nbformat": 4,
 "nbformat_minor": 2
}
