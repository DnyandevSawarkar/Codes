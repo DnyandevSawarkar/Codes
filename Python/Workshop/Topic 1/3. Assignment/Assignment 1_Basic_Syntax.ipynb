{
 "cells": [
  {
   "cell_type": "markdown",
   "metadata": {},
   "source": [
    "## <H1> Task 1 - Basic Syntax\n"
   ]
  },
  {
   "cell_type": "markdown",
   "metadata": {},
   "source": [
    "### Assignment 1  ( 3 Marks )"
   ]
  },
  {
   "cell_type": "markdown",
   "metadata": {},
   "source": [
    "Write all the codes from the video provided in Resource file. "
   ]
  },
  {
   "cell_type": "code",
   "execution_count": 1,
   "metadata": {},
   "outputs": [
    {
     "name": "stdout",
     "output_type": "stream",
     "text": [
      "hello\n"
     ]
    }
   ],
   "source": [
    "#Answer to assignment 1\n",
    "#1\n",
    "print(\"hello\")"
   ]
  },
  {
   "cell_type": "code",
   "execution_count": 2,
   "metadata": {},
   "outputs": [
    {
     "name": "stdout",
     "output_type": "stream",
     "text": [
      "Enter Your Marks: 65\n",
      "congrats\n",
      "pass\n"
     ]
    }
   ],
   "source": [
    "#2\n",
    "marks=int(input(\"Enter Your Marks: \"))\n",
    "if marks>=50:\n",
    "    print(\"congrats\")                \n",
    "    print(\"pass\")                    "
   ]
  },
  {
   "cell_type": "code",
   "execution_count": 3,
   "metadata": {},
   "outputs": [
    {
     "name": "stdout",
     "output_type": "stream",
     "text": [
      "hello World\n",
      "Welcome to TutorialsPoint\n",
      "enter your name: Dnyandev\n",
      "Welcome Dnyandev\n"
     ]
    }
   ],
   "source": [
    "#3\n",
    "print(\"hello World\")                  \n",
    "print(\"Welcome to TutorialsPoint\")   \n",
    "name=input(\"enter your name: \")      \n",
    "print(\"Welcome\",name)"
   ]
  },
  {
   "cell_type": "markdown",
   "metadata": {},
   "source": [
    "### Assignment 2   ( 5 Marks )"
   ]
  },
  {
   "cell_type": "markdown",
   "metadata": {},
   "source": [
    "Write a code to input 2 numbers from user and perform addition, subtraction, mutiplication and division on it & print the output. "
   ]
  },
  {
   "cell_type": "code",
   "execution_count": 4,
   "metadata": {},
   "outputs": [
    {
     "name": "stdout",
     "output_type": "stream",
     "text": [
      "Enter value of a: 10\n",
      "Value of a is 10\n",
      "Enter value of b: 5\n",
      "Value of b is 5\n",
      "Addition of numbers is 15\n",
      "Subtraction of numbers is 5\n",
      "Multiplication of numbers is 50\n",
      "Division of numbers is 2.0\n"
     ]
    }
   ],
   "source": [
    "# Answer to asignment 2\n",
    "#Number 1\n",
    "a = int(input(\"Enter value of a: \"))\n",
    "print(\"Value of a is\",a)\n",
    "\n",
    "#Number 2\n",
    "b = int(input(\"Enter value of b: \"))\n",
    "print(\"Value of b is\",b)\n",
    "\n",
    "#addition\n",
    "addition = a+b\n",
    "print(\"Addition of numbers is\",addition)\n",
    "\n",
    "#substraction\n",
    "subtraction = a-b\n",
    "print(\"Subtraction of numbers is\",subtraction)\n",
    "\n",
    "#multiplication\n",
    "multiplication = a*b\n",
    "print(\"Multiplication of numbers is\",multiplication)\n",
    "\n",
    "#division\n",
    "division = a/b\n",
    "print(\"Division of numbers is\",division)"
   ]
  },
  {
   "cell_type": "markdown",
   "metadata": {},
   "source": [
    "### Assignment 3 ( 7 Marks )"
   ]
  },
  {
   "cell_type": "markdown",
   "metadata": {},
   "source": [
    "Write a code to input the name, roll number of a student. Also input marks obtained in Physics, chemistry and maths. Find the total marks.\n",
    "<br>Print the output as shown below</br>\n",
    "<br><b>OUTPUT :</b></br>\n",
    "<br>Name<b>:</b> &nbsp;name_of_student</br>\n",
    "<br>Roll No<b>.:</b> &nbsp;roll_no_of_student</br>\n",
    "<br>Total<b>:</b> &nbsp;total_marks</br>"
   ]
  },
  {
   "cell_type": "code",
   "execution_count": 5,
   "metadata": {},
   "outputs": [
    {
     "name": "stdout",
     "output_type": "stream",
     "text": [
      "Enter your Name: Dnyandev Sawarkar\n",
      "Name Of Student is Dnyandev Sawarkar\n",
      "Enter your roll no.: 33\n",
      "Roll Number is 33\n",
      "Marks obtained in Physics: 100\n",
      "Marks obtained in Chemistry: 100\n",
      "Marks obtained in Maths: 100\n",
      "Total Marks obtained is 300\n"
     ]
    }
   ],
   "source": [
    "# Answer to asignment 3\n",
    "#name\n",
    "name_of_student = input(\"Enter your Name: \")                        #input name\n",
    "print(\"Name Of Student is\",name_of_student)                         #output name\n",
    "\n",
    "#roll no\n",
    "roll_no_of_stdent = input(\"Enter your roll no.: \")                  #input roll no\n",
    "print(\"Roll Number is\",roll_no_of_stdent)                           #output roll no\n",
    "\n",
    "#input marks\n",
    "marks_in_physics = int(input(\"Marks obtained in Physics: \"))        #Input Physics Marks\n",
    "#print(\"marks obtained in Physics is\",marks_in_physics)             #output Physics Marks\n",
    "\n",
    "marks_in_chemistry = int(input(\"Marks obtained in Chemistry: \"))    #Input Physics Marks\n",
    "#print(\"marks obtained in Chemistry is\",marks_in_chemistry)         #output Physics Marks\n",
    "\n",
    "marks_in_maths = int(input(\"Marks obtained in Maths: \"))            #Input Physics Marks\n",
    "#print(\"marks obtained in Maths is\",marks_in_maths)                 #output Physics Marks\n",
    "\n",
    "#output total marks\n",
    "total_marks = marks_in_physics+marks_in_chemistry+marks_in_maths    #condition\n",
    "print(\"Total Marks obtained is\",total_marks)                        #output"
   ]
  }
 ],
 "metadata": {
  "kernelspec": {
   "display_name": "Python 3",
   "language": "python",
   "name": "python3"
  },
  "language_info": {
   "codemirror_mode": {
    "name": "ipython",
    "version": 3
   },
   "file_extension": ".py",
   "mimetype": "text/x-python",
   "name": "python",
   "nbconvert_exporter": "python",
   "pygments_lexer": "ipython3",
   "version": "3.9.5"
  }
 },
 "nbformat": 4,
 "nbformat_minor": 2
}
