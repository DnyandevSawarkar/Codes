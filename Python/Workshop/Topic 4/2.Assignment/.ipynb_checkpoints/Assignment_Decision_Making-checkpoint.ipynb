{
 "cells": [
  {
   "cell_type": "markdown",
   "metadata": {},
   "source": [
    "### Assignment 1  ( 3 Marks )\n",
    "Write a code to input a number from user and check whether it is odd or even number using <b>if...else</b> statement.\n",
    "\n",
    "<b>NOTE:</b>\n",
    "- The code should have comments.\n",
    "- Expected Output:![](1.png)"
   ]
  },
  {
   "cell_type": "code",
   "execution_count": null,
   "metadata": {},
   "outputs": [],
   "source": [
    "# Write your code here"
   ]
  },
  {
   "cell_type": "markdown",
   "metadata": {},
   "source": [
    "### Assignment 2   ( 5 Marks )\n",
    "Write a code to input a student name, marks in physics,marks in chemistry, marks in mathematics from user and find out percentage.\n",
    "\n",
    "Now using <b>if-elif ladder</b> statement, print the result as output in following manner:\n",
    "- If percentage is between 80 and 100, print 'Result: Outstanding'\n",
    "- If percentage is between 60 and 80, print 'Result: Average'\n",
    "- If percentage is between 40 and 60, print 'Result: Satisfactory'\n",
    "- If percentage is below 40, print 'Result: Fail'\n",
    "\n",
    "<b>NOTE:</b>\n",
    "- The code should have comments.\n",
    "- Expected Output:![](2.png)"
   ]
  },
  {
   "cell_type": "code",
   "execution_count": null,
   "metadata": {},
   "outputs": [],
   "source": [
    "# Write your code here"
   ]
  },
  {
   "cell_type": "markdown",
   "metadata": {},
   "source": [
    "### Assignment 3 ( 7 Marks )\n",
    "Write a code to input a number. This assignment is to be solved using <b>nested-if</b> statement.\n",
    "\n",
    "Conditions are as follows:\n",
    "- if number is greater than 1 and less than or equal to 10, print \"Condition is True\",\n",
    "- if no is greater than 10 and less than or equal to 50, print \"Condition is True\", \" Condition is  still True\"\n",
    "- if no is greater than 50 print \"Condition is True\", \" Condition is  still True\", \" Condition is  still going True\"\n",
    "- otherwise print \" Condition is  False\" \n",
    "- Whatever is input program, output must also print \"#Coding is life#\"\n",
    "\n",
    "Expected output are as follows:\n",
    "- if 1 < number < 10, print output like this![](3.png)\n",
    "- if 10 < number < 50, print output like this![](4.png)\n",
    "- if number > 50, print output like this![](5.png)\n",
    "- else, print output like this![](6.png)"
   ]
  },
  {
   "cell_type": "code",
   "execution_count": null,
   "metadata": {},
   "outputs": [],
   "source": [
    "# Write your code here"
   ]
  }
 ],
 "metadata": {
  "kernelspec": {
   "display_name": "Python 3",
   "language": "python",
   "name": "python3"
  },
  "language_info": {
   "codemirror_mode": {
    "name": "ipython",
    "version": 3
   },
   "file_extension": ".py",
   "mimetype": "text/x-python",
   "name": "python",
   "nbconvert_exporter": "python",
   "pygments_lexer": "ipython3",
   "version": "3.9.5"
  }
 },
 "nbformat": 4,
 "nbformat_minor": 4
}
