{
 "cells": [
  {
   "cell_type": "markdown",
   "metadata": {},
   "source": [
    "### Assignment 1  ( 3 Marks )\n",
    "Write a code to input a number from user and check whether it is odd or even number using <b>if...else</b> statement.\n",
    "\n",
    "<b>NOTE:</b>\n",
    "- The code should have comments.\n",
    "- Expected Output:![](1.png)"
   ]
  },
  {
   "cell_type": "code",
   "execution_count": null,
   "metadata": {},
   "outputs": [],
   "source": [
    "'''\n",
    "This code help us to identify by getting input from user and applying some condition\n",
    "'''"
   ]
  },
  {
   "cell_type": "code",
   "execution_count": 1,
   "metadata": {},
   "outputs": [
    {
     "name": "stdout",
     "output_type": "stream",
     "text": [
      "Enter a Number : 34\n",
      "Number is even\n"
     ]
    }
   ],
   "source": [
    "test_number = int(input(\"Enter a Number : \"))   # test_number is used to store input number\n",
    "\n",
    "if(test_number%2 != 0):                         # condition starting\n",
    "    print(\"Number is odd\")                      # prints output if condition is true\n",
    "    \n",
    "else:                                           # condution for false value\n",
    "    print(\"Number is even\")                     # prints output if condition is false"
   ]
  },
  {
   "cell_type": "markdown",
   "metadata": {},
   "source": [
    "### Assignment 2   ( 5 Marks )\n",
    "Write a code to input a student name, marks in physics,marks in chemistry, marks in mathematics from user and find out percentage.\n",
    "\n",
    "Now using <b>if-elif ladder</b> statement, print the result as output in following manner:\n",
    "- If percentage is between 80 and 100, print 'Result: Outstanding'\n",
    "- If percentage is between 60 and 80, print 'Result: Average'\n",
    "- If percentage is between 40 and 60, print 'Result: Satisfactory'\n",
    "- If percentage is below 40, print 'Result: Fail'\n",
    "\n",
    "<b>NOTE:</b>\n",
    "- The code should have comments.\n",
    "- Expected Output:![](2.png)"
   ]
  },
  {
   "cell_type": "code",
   "execution_count": null,
   "metadata": {},
   "outputs": [],
   "source": [
    "'''\n",
    "this code get input form user of name and marks \n",
    "then calculate its percentage\n",
    "and give remark/feedback depends on thier percentage\n",
    "'''"
   ]
  },
  {
   "cell_type": "code",
   "execution_count": 3,
   "metadata": {},
   "outputs": [
    {
     "name": "stdout",
     "output_type": "stream",
     "text": [
      "Enter Name of Student :hjkf\n",
      "enter marks obtain in Physics :55\n",
      "enter marks obtain in Chemistry :55\n",
      "enter marks obtain in Mathematics :55\n",
      "Marks in Physics : 55\n",
      "Marks in Chemistry : 55\n",
      "Marks in Mathematics : 55\n",
      "Percentage 55.0 % \n",
      "Result: Satisfactory\n"
     ]
    }
   ],
   "source": [
    "#student name\n",
    "name_of_student = input(\"Enter Name of Student :\")  # name_of_student is used to store the input of student name\n",
    "#print(name_of_student,end=\".\\n\")                    # output of name_of_student\n",
    "\n",
    "#marks input\n",
    "phy_marks = int(input(\"enter marks obtain in Physics :\"))       # phy_marks is used to store the input marks of physics\n",
    "chem_marks = int(input(\"enter marks obtain in Chemistry :\"))    # chem_marks is used to store the input marks of chemistry\n",
    "maths_marks = int(input(\"enter marks obtain in Mathematics :\")) # maths_marks is used to store the input marks of mathematics\n",
    "\n",
    "#marks output\n",
    "print(\"Marks in Physics :\",phy_marks)            # output of phy_marks\n",
    "print(\"Marks in Chemistry :\",chem_marks)         # output of chem_marks\n",
    "print(\"Marks in Mathematics :\",maths_marks)      # output of maths_marks\n",
    "\n",
    "#total_marks\n",
    "total_marks = (phy_marks+chem_marks+maths_marks) # sum of all input marks\n",
    "\n",
    "percent = float(total_marks/3)                   # conversion of total marks from int to float and dividing it by 3\n",
    "round_percent = round(percent,1)                 # rounding up the percent upto 2 decimal place\n",
    "print(\"Percentage\",round_percent,end=\" % \\n\")    # output of percent \n",
    "\n",
    "#remark/feedback\n",
    "result = percent                                 # assing percent to new variable result\n",
    "\n",
    "if(80 < result <= 100):                          # condition_1 for percent greather then 80 and less than equal to 100\n",
    "    print(\"Result: Outstanding\")                 # output of condition_1 (result / feedback)\n",
    "    \n",
    "elif(60 < result <= 80):                         # condition_2 for percent greather then 60 and less than equal to 80\n",
    "    print(\"Result: Average\")                     # output of condition_2 (result / feedback)\n",
    "\n",
    "elif(40 <= result <= 60):                        # condition_3 for percent greather then equal to 40 and less than equal to 60\n",
    "    print(\"Result: Satisfactory\")                # output of condition_3 (result / feedback)\n",
    "\n",
    "else:                                            # condition_4 for percent less than 40\n",
    "    print(\"Result: Fail\")                        # output of condition_4 (result / feedback)\n",
    "    print(\"Improve Yourself for good results\")   # feedback"
   ]
  },
  {
   "cell_type": "markdown",
   "metadata": {},
   "source": [
    "### Assignment 3 ( 7 Marks )\n",
    "Write a code to input a number. This assignment is to be solved using <b>nested-if</b> statement.\n",
    "\n",
    "Conditions are as follows:\n",
    "- if number is greater than 1 and less than or equal to 10, print \"Condition is True\",\n",
    "- if no is greater than 10 and less than or equal to 50, print \"Condition is True\", \" Condition is  still True\"\n",
    "- if no is greater than 50 print \"Condition is True\", \" Condition is  still True\", \" Condition is  still going True\"\n",
    "- otherwise print \" Condition is  False\" \n",
    "- Whatever is input program, output must also print \"#Coding is life#\"\n",
    "\n",
    "Expected output are as follows:\n",
    "- if 1 < number < 10, print output like this![](3.png)\n",
    "- if 10 < number < 50, print output like this![](4.png)\n",
    "- if number > 50, print output like this![](5.png)\n",
    "- else, print output like this![](6.png)"
   ]
  },
  {
   "cell_type": "code",
   "execution_count": null,
   "metadata": {},
   "outputs": [],
   "source": [
    "'''\n",
    "In this code we are going to test various condition\n",
    "after every faliur or succes some statements will be prints as output\n",
    "'''"
   ]
  },
  {
   "cell_type": "code",
   "execution_count": 4,
   "metadata": {},
   "outputs": [
    {
     "name": "stdout",
     "output_type": "stream",
     "text": [
      "Enter a number :2\n",
      "Condition is True\n",
      "#Coding is life#\n"
     ]
    }
   ],
   "source": [
    "# 1st Expected output\n",
    "\n",
    "# inout\n",
    "input_number = int(input(\"Enter a number :\"))              # input_number is used to store the value of number input by user\n",
    "\n",
    "# statements\n",
    "statement_1 = \"avg \"                          \n",
    "statement_2 = \"Condition is still True\"                    \n",
    "statement_3 = \"Condition is still going True\"              \n",
    "statement_4 = \"Condition is False\"                         \n",
    "\n",
    "# conditions\n",
    "if(input_number < 50 ):                                    # condition 1\n",
    "    \n",
    "    if(1 < input_number <=50):                             # logical condition (condition 2)\n",
    "        \n",
    "        if(10 < input_number <= 50):                       # condition 3\n",
    "            print(statement_1,statement_2,sep=\"\\n\")        # output of condition 3\n",
    "            \n",
    "        else:                                              # faliur of condition 3 (condition 4)\n",
    "            print(statement_1)                             # output of condition 4\n",
    "            \n",
    "    else:                                                  # faliur of condition 2 (condition 5)\n",
    "        print(statement_4)                                 # output of condition 5\n",
    "        print(\"Try next number\")                           # suggestion\n",
    "        \n",
    "else:                                                      # faliur of condition 1 (condition 6)\n",
    "    print(statement_1,statement_2,statement_3,sep=\"\\n\")    # output of condition 6\n",
    "    \n",
    "print(\"#Coding is life#\")                                  # output with all condition "
   ]
  },
  {
   "cell_type": "code",
   "execution_count": null,
   "metadata": {},
   "outputs": [],
   "source": [
    "'''\n",
    "All codes run in as so it will get get Expected output last 4 codes are same but for 4 differnt codition it runs in that maner\n",
    "to get differnt output\n",
    "'''"
   ]
  }
 ],
 "metadata": {
  "kernelspec": {
   "display_name": "Python 3",
   "language": "python",
   "name": "python3"
  },
  "language_info": {
   "codemirror_mode": {
    "name": "ipython",
    "version": 3
   },
   "file_extension": ".py",
   "mimetype": "text/x-python",
   "name": "python",
   "nbconvert_exporter": "python",
   "pygments_lexer": "ipython3",
   "version": "3.9.5"
  }
 },
 "nbformat": 4,
 "nbformat_minor": 4
}
