{
 "cells": [
  {
   "cell_type": "markdown",
   "metadata": {
    "id": "p7D9M5xJk52h"
   },
   "source": [
    "# R-LABS PYTHON WORKSHOP"
   ]
  },
  {
   "cell_type": "markdown",
   "metadata": {
    "id": "a8sQ8qVOgOMy"
   },
   "source": [
    "# Assignment\n"
   ]
  },
  {
   "cell_type": "markdown",
   "metadata": {
    "id": "i_U6BKcIgbH6"
   },
   "source": [
    "### Question 1 (3 MARKS)\n",
    "#### Write a python script to find the Euclidean distance in 2-D.\n",
    "\n",
    "\n",
    "##### Sample Input: x = 8 and y = 6\n",
    "Sample Output: The Euclidean distance comes out to be 10.0"
   ]
  },
  {
   "cell_type": "code",
   "execution_count": null,
   "metadata": {},
   "outputs": [],
   "source": [
    "#TeamName #TaskNumber #YourName"
   ]
  },
  {
   "cell_type": "markdown",
   "metadata": {
    "id": "1MjCguomgaBv"
   },
   "source": [
    "#### TeamName  : 6_NUMBERs\n",
    "#### TaskNumber : NU\n",
    "#### YourName : DNYANDEV SAWARKAR"
   ]
  },
  {
   "cell_type": "code",
   "execution_count": 1,
   "metadata": {},
   "outputs": [
    {
     "name": "stdout",
     "output_type": "stream",
     "text": [
      "Enter x1-coordiate: \n",
      "0\n",
      "Enter x2-coordiate: \n",
      "8\n",
      "x-coordinates are: \n",
      " [0, 8]\n",
      "Enter y1-coordiate: \n",
      "0\n",
      "Enter y2-coordiate: \n",
      "6\n",
      "y-coordinates are: \n",
      " [0, 6]\n",
      "Euclidean distance : 10.0\n"
     ]
    }
   ],
   "source": [
    "'''\n",
    "this code help us to find Euclidean distance by get input for x and y coordinate and \n",
    "imoprting math library \n",
    "'''\n",
    "#making list for x-coordinate\n",
    "listx = []                                   # macking list for x-coordinate\n",
    "for i in range(0,2):                         # for loop with range 0 to 2\n",
    "   print(\"Enter x{}-coordiate: \".format(i+1))\n",
    "   xcoordinate = int(input())                # input for x-coordinate\n",
    "   listx.append(xcoordinate)                 # adding the element\n",
    "print(\"x-coordinates are: \\n\",listx)         # output of complete list\n",
    "\n",
    "#making list for y-coordinate\n",
    "listy = []                                   # macking list for y-coordinate\n",
    "for u in range(0,2):                         # for loop with range 0 to 2\n",
    "   print(\"Enter y{}-coordiate: \".format(u+1))\n",
    "   ycoordinate = int(input())                # input for y-coordinate\n",
    "   listy.append(ycoordinate)                 # adding the element\n",
    "print(\"y-coordinates are: \\n\",listy)         # output of complete list\n",
    "\n",
    "'''\n",
    "inmpoting library and by using formula of Euclidean distance (d) = √[ (x2 – x1)2 + (y2 – y1)2]\n",
    "calulating final answer\n",
    "'''\n",
    "i = (listx[0]-listx[1])**2 + (listy[0]-listy[1])**2 \n",
    "# variable d is used to store the value of addition of suqare os substartion of coordinates\n",
    "\n",
    "import math               # this line is use to imoprt per insatalled math library for Arithmetic oppration\n",
    "d = math.sqrt(i)          # this function is used to find square root and variable i and it stored in variable d\n",
    "print('Euclidean distance :',d)              # output of Euclidean distance (d)"
   ]
  },
  {
   "cell_type": "markdown",
   "metadata": {
    "id": "bMcX7yXIhC8L"
   },
   "source": [
    "### Question 2 (5 MARKS)\n",
    "#### Write a code to obtain the hexadecimal string and octal string by giving input a variable of float data type.\n",
    "\n",
    "##### When taking predefined input:\n",
    "##### Sample Input: x = 34.4\n",
    "##### Sample Output:  Hexadecimal Value: 0x22  , Octal Value: 0o42\n"
   ]
  },
  {
   "cell_type": "code",
   "execution_count": null,
   "metadata": {
    "id": "2oCDkaTEg_XI"
   },
   "outputs": [],
   "source": [
    "# initialise the variable of float data type\n",
    "# convert float value that it can directly used for conversion to hexadecimal and octal strings"
   ]
  },
  {
   "cell_type": "code",
   "execution_count": 2,
   "metadata": {},
   "outputs": [
    {
     "name": "stdout",
     "output_type": "stream",
     "text": [
      "Entre Value :34.4\n",
      "Hexadecimal Value : 0x22\n",
      "Octal Value : 0o42\n"
     ]
    }
   ],
   "source": [
    "'''\n",
    "this code help us to find hexadecimal string and octal string by \n",
    "giving input of variable of float data type\n",
    "'''\n",
    "# input\n",
    "x = float(input(\"Entre Value :\")) # input functon for float data type and value stored in x\n",
    "\n",
    "#converting values\n",
    "x = int(x)                        # self assing value of x by converting it into integer data type\n",
    "\n",
    "#output\n",
    "print('Hexadecimal Value :',hex(x)) \n",
    "# converting value of x into hexadecimal string and printing it\n",
    "\n",
    "print('Octal Value :',oct(x))     # converting value of x into octal string and printing it"
   ]
  },
  {
   "cell_type": "markdown",
   "metadata": {
    "id": "8WGZlV0ihpZW"
   },
   "source": [
    "### Question 3  (7 MARKS)\n",
    "#### Find the real part and imaginary part of the complex number.\n",
    "\n",
    "###### Give complex number as input\n",
    "###### Sample Input: z = 3 + 3j\n",
    "###### Sample Output: \n",
    "###### the magnitude is:  4.242640687119285\n",
    "###### the phase is:  (1.5574077246549023+0j)"
   ]
  },
  {
   "cell_type": "code",
   "execution_count": 3,
   "metadata": {
    "id": "45rC_MuVhzfv"
   },
   "outputs": [
    {
     "name": "stdout",
     "output_type": "stream",
     "text": [
      "Enter complex number :3+3j\n",
      "Real part: 3.0\n",
      "Imaginary part: 3.0\n",
      "Magnitude: 4.242640687119285\n",
      "Phase: 1.5574077246549023\n"
     ]
    }
   ],
   "source": [
    "# input\n",
    "z = complex(input(\"Enter complex number :\"))  # function for getting a complex number as an input\n",
    "\n",
    "# importing the required libraries to get the output\n",
    "import math                                   # maths library\n",
    "import cmath                                  # complex number maths library\n",
    "\n",
    "#outputs\n",
    "\n",
    "'''\n",
    "function for separateing the real and imaginary parts of the complex number  and then printing  them out.\n",
    "'''\n",
    "print('Real part:',z.real)                    # output of real part .real is functon from c.math library to separate real part of C.number\n",
    "print('Imaginary part:',z.imag)               # output of imaginary part .imag is functon from c.math library to separate imaginary part of C.number\n",
    "\n",
    "'''\n",
    "function for finding magnitude and phase and then printing them out\n",
    "'''\n",
    "print('Magnitude:',abs(z))                    # abs is used to find magnitude\n",
    "\n",
    "'''\n",
    "#type 1 (note)\n",
    "print(cmath.phase(z))                         # cmath.phase is function from cmath library \n",
    "'''\n",
    "\n",
    "#type 2 \n",
    "x = z.real                                    # assing x equal to real part of complex number\n",
    "y = z.imag                                    # assing z equal to imaginary part of complex number\n",
    "\n",
    "#formula for phase = tan(imaginary part / real part )\n",
    "phase_z = math.tan(y/x)                       # using math.tan from math library\n",
    "\n",
    "print('Phase:',phase_z)                       # output of phase of complex number"
   ]
  },
  {
   "cell_type": "code",
   "execution_count": null,
   "metadata": {},
   "outputs": [],
   "source": []
  }
 ],
 "metadata": {
  "colab": {
   "collapsed_sections": [],
   "name": "Numbers_Assignment.ipynb",
   "provenance": []
  },
  "kernelspec": {
   "display_name": "Python 3",
   "language": "python",
   "name": "python3"
  },
  "language_info": {
   "codemirror_mode": {
    "name": "ipython",
    "version": 3
   },
   "file_extension": ".py",
   "mimetype": "text/x-python",
   "name": "python",
   "nbconvert_exporter": "python",
   "pygments_lexer": "ipython3",
   "version": "3.9.5"
  }
 },
 "nbformat": 4,
 "nbformat_minor": 1
}
