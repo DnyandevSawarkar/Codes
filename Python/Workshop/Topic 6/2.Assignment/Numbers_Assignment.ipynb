{
 "cells": [
  {
   "cell_type": "markdown",
   "metadata": {
    "id": "p7D9M5xJk52h"
   },
   "source": [
    "#R-LABS PYTHON WORKSHOP"
   ]
  },
  {
   "cell_type": "markdown",
   "metadata": {
    "id": "a8sQ8qVOgOMy"
   },
   "source": [
    "#Assignment\n"
   ]
  },
  {
   "cell_type": "markdown",
   "metadata": {
    "id": "i_U6BKcIgbH6"
   },
   "source": [
    "### Question 1 (3 MARKS)\n",
    "#### Write a python script to find the Euclidean distance in 2-D.\n",
    "\n",
    "\n",
    "#####Sample Input: x = 8 and y = 6\n",
    "Sample Output: \n",
    "The Euclidean distance comes out to be 10.0"
   ]
  },
  {
   "cell_type": "code",
   "execution_count": 8,
   "metadata": {},
   "outputs": [
    {
     "name": "stdout",
     "output_type": "stream",
     "text": [
      "Enter x1-coordinate :0\n",
      "Enter x2-coordinate :8\n",
      "Enter y1-coordinate :0\n",
      "Enter y2-coordinate :6\n"
     ]
    },
    {
     "data": {
      "text/plain": [
       "10.0"
      ]
     },
     "execution_count": 8,
     "metadata": {},
     "output_type": "execute_result"
    }
   ],
   "source": [
    "x1 = float(input('Enter x1-coordinate :'))  # input function for getting x1 - coordinate\n",
    "x2 = float(input('Enter x2-coordinate :'))  # input function for getting x2 - coordinate\n",
    "y1 = float(input('Enter y1-coordinate :'))  # input function for getting y1 - coordinate\n",
    "y2 = float(input('Enter y2-coordinate :'))  # input function for getting y2 - coordinate\n",
    "i = (x2-x1)**2 + (y2- y1)**2 \n",
    "# variable d is used to store the value of addition of suqare os substartion of coordinates\n",
    "import math  #this line is use to imoprt per insatalled math library for Arithmetic oppration\n",
    "d = math.sqrt(i) \n",
    "#this function is used to find square root and variable i and it stored in variable d\n",
    "d"
   ]
  },
  {
   "cell_type": "markdown",
   "metadata": {
    "id": "bMcX7yXIhC8L"
   },
   "source": [
    "### Question 2 (5 MARKS)\n",
    "#### Write a code to obtain the hexadecimal string and octal string by giving input a variable of float data type.\n",
    "\n",
    "#####When taking predefined input:\n",
    "#####Sample Input: x = 34.4\n",
    "#####Sample Output:  Hexadecimal Value: 0x22  , Octal Value: 0o42\n"
   ]
  },
  {
   "cell_type": "code",
   "execution_count": null,
   "metadata": {
    "id": "2oCDkaTEg_XI"
   },
   "outputs": [],
   "source": [
    "# initialise the variable of float data type\n",
    "# convert float value that it can directly used for conversion to hexadecimal and octal strings"
   ]
  },
  {
   "cell_type": "code",
   "execution_count": 9,
   "metadata": {},
   "outputs": [
    {
     "name": "stdout",
     "output_type": "stream",
     "text": [
      "Entre Value :34.4\n",
      "Hexadecimal : 0x22\n",
      "Octal : 0o42\n"
     ]
    }
   ],
   "source": [
    "# input\n",
    "x = float(input(\"Entre Value :\")) # input functon for float data type and value stored in x\n",
    "#output\n",
    "print('Hexadecimal :',hex(int(x))) \n",
    "# converting value of x into hexadecimal string and printing it\n",
    "print('Octal :',oct(int(x)))     # converting value of x into octal string and printing it"
   ]
  },
  {
   "cell_type": "markdown",
   "metadata": {
    "id": "8WGZlV0ihpZW"
   },
   "source": [
    "### Question 3  (7 MARKS)\n",
    "####Find the real part and imaginary part of the complex number.\n",
    "\n",
    "######Give complex number as input\n",
    "######Sample Input: z = 3 + 3j\n",
    "######Sample Output: \n",
    "######the magnitude is:  4.242640687119285\n",
    "######the phase is:  (1.5574077246549023+0j)"
   ]
  },
  {
   "cell_type": "code",
   "execution_count": 10,
   "metadata": {
    "id": "45rC_MuVhzfv",
    "scrolled": true
   },
   "outputs": [
    {
     "name": "stdout",
     "output_type": "stream",
     "text": [
      "Enter complex number :3+3j\n",
      "Real part: 3.0\n",
      "Imaginary part: 3.0\n",
      "Magnitude: 4.242640687119285\n",
      "Phase: 1.5574077246549023\n"
     ]
    }
   ],
   "source": [
    "# input\n",
    "z = complex(input(\"Enter complex number :\"))  # function for getting a complex number as an input\n",
    "# importing the required libraries to get the output\n",
    "import math                                   # maths library\n",
    "import cmath                                  # complex number maths library\n",
    "#outputs\n",
    "print('Real part:',z.real)                    # output of real part .real is functon from c.math library to separate real part of C.number\n",
    "print('Imaginary part:',z.imag)               # output of imaginary part .imag is functon from c.math library to separate imaginary part of C.number\n",
    "print('Magnitude:',abs(z))                    # abs is used to find magnitude\n",
    "x = z.real                                    # assing x equal to real part of complex numbery = z.imag                                    # assing z equal to imaginary part of complex number\n",
    "p_z = math.tan(y/x)                       # using math.tan from math library\n",
    "print('Phase:',p_z)                       # output of phase of complex number"
   ]
  }
 ],
 "metadata": {
  "colab": {
   "collapsed_sections": [],
   "name": "Numbers_Assignment.ipynb",
   "provenance": []
  },
  "kernelspec": {
   "display_name": "Python 3",
   "language": "python",
   "name": "python3"
  },
  "language_info": {
   "codemirror_mode": {
    "name": "ipython",
    "version": 3
   },
   "file_extension": ".py",
   "mimetype": "text/x-python",
   "name": "python",
   "nbconvert_exporter": "python",
   "pygments_lexer": "ipython3",
   "version": "3.9.5"
  }
 },
 "nbformat": 4,
 "nbformat_minor": 1
}
