{
 "cells": [
  {
   "cell_type": "markdown",
   "metadata": {
    "id": "i_roIlnQSuCe"
   },
   "source": [
    "# <center> TOPIC - NUMBERS\n",
    "## <center> AUTHOR : R-LABS"
   ]
  },
  {
   "cell_type": "markdown",
   "metadata": {
    "id": "dgJlTuKyQDI_"
   },
   "source": [
    "Numbers:\n",
    "1. Different types of numbers used in Python.\n",
    "2. Mathematical Operations \n",
    "3. Type Conversion from one data type to another.\n",
    "4. Mathematical Functions.\n",
    "5. Random Numbers.\n",
    "6. Trigonometric Functions.\n",
    "7. Angular Conversion.\n",
    "8. Mathematical Constants.\n"
   ]
  },
  {
   "cell_type": "markdown",
   "metadata": {
    "id": "elYGcFuATyFl"
   },
   "source": [
    "# Learn By Doing"
   ]
  },
  {
   "cell_type": "markdown",
   "metadata": {
    "id": "8Q6D-CC1aXFJ"
   },
   "source": [
    "1. Different types of numbers used in Python: There are different types of number in python such as integer, float, complex number."
   ]
  },
  {
   "cell_type": "code",
   "execution_count": null,
   "metadata": {
    "colab": {
     "base_uri": "https://localhost:8080/"
    },
    "id": "h_AX68NgOyHb",
    "outputId": "b7918c7a-6bb2-490d-895d-6a0d13aa1d9c"
   },
   "outputs": [
    {
     "name": "stdout",
     "output_type": "stream",
     "text": [
      "5.2\n"
     ]
    }
   ],
   "source": [
    "# Try using different types of numbers in Python\n",
    "# initialise variables assigning them values and print them just by writing their name\n",
    "float_var1 = 5.2\n",
    "print(float_var1)"
   ]
  },
  {
   "cell_type": "code",
   "execution_count": 3,
   "metadata": {
    "id": "njjpr3jrb5a9"
   },
   "outputs": [
    {
     "name": "stdout",
     "output_type": "stream",
     "text": [
      "2\n"
     ]
    },
    {
     "data": {
      "text/plain": [
       "int"
      ]
     },
     "execution_count": 3,
     "metadata": {},
     "output_type": "execute_result"
    }
   ],
   "source": [
    "# now try the same as shown above at your own for different types\n",
    "var = 2\n",
    "print(var)\n",
    "type(var)"
   ]
  },
  {
   "cell_type": "code",
   "execution_count": null,
   "metadata": {
    "colab": {
     "base_uri": "https://localhost:8080/",
     "height": 34
    },
    "id": "AOXIH7fMeM40",
    "outputId": "2fad009c-236e-4ae6-c0b8-dd12072c598b"
   },
   "outputs": [
    {
     "data": {
      "text/plain": [
       "float"
      ]
     },
     "execution_count": 20,
     "metadata": {
      "tags": []
     },
     "output_type": "execute_result"
    }
   ],
   "source": [
    "type(float_var1) # you can also check the type of the variable, that which type of number it is\n",
    "# try doing more examples by yourself"
   ]
  },
  {
   "cell_type": "code",
   "execution_count": 13,
   "metadata": {
    "colab": {
     "base_uri": "https://localhost:8080/"
    },
    "id": "ujyyZ4dKPi4C",
    "outputId": "9cf89f9f-1900-4db8-d359-11c40df4e990"
   },
   "outputs": [
    {
     "name": "stdout",
     "output_type": "stream",
     "text": [
      "45\n"
     ]
    }
   ],
   "source": [
    "#we have understood the initialisation of variables so, now let us understand the concept of \"deleting variables\"\n",
    "#this can be done by using the \"del\" keyword\n",
    "a = 45\n",
    "print(a)\n",
    "del a\n",
    "#print(a)"
   ]
  },
  {
   "cell_type": "code",
   "execution_count": 7,
   "metadata": {
    "id": "_Wojp5DbQpGM"
   },
   "outputs": [
    {
     "ename": "NameError",
     "evalue": "name 'a' is not defined",
     "output_type": "error",
     "traceback": [
      "\u001b[1;31m---------------------------------------------------------------------------\u001b[0m",
      "\u001b[1;31mNameError\u001b[0m                                 Traceback (most recent call last)",
      "\u001b[1;32m<ipython-input-7-0d994a00da87>\u001b[0m in \u001b[0;36m<module>\u001b[1;34m\u001b[0m\n\u001b[0;32m      1\u001b[0m \u001b[0ma\u001b[0m \u001b[1;33m=\u001b[0m \u001b[1;36m45\u001b[0m\u001b[1;33m\u001b[0m\u001b[1;33m\u001b[0m\u001b[0m\n\u001b[0;32m      2\u001b[0m \u001b[1;32mdel\u001b[0m \u001b[0ma\u001b[0m\u001b[1;33m\u001b[0m\u001b[1;33m\u001b[0m\u001b[0m\n\u001b[1;32m----> 3\u001b[1;33m \u001b[0mprint\u001b[0m\u001b[1;33m(\u001b[0m\u001b[0ma\u001b[0m\u001b[1;33m)\u001b[0m\u001b[1;33m\u001b[0m\u001b[1;33m\u001b[0m\u001b[0m\n\u001b[0m",
      "\u001b[1;31mNameError\u001b[0m: name 'a' is not defined"
     ]
    }
   ],
   "source": [
    "a = 45\n",
    "del a\n",
    "print(a)"
   ]
  },
  {
   "cell_type": "markdown",
   "metadata": {
    "id": "KCcYSANeT5A0"
   },
   "source": [
    "Mathematical Operations:\n",
    "\n",
    "\n",
    "*   try doing simple operations such as addition, subtraction, multiplication, division. \n",
    "*   Perform them on numbers of same data type and different as well.\n",
    "\n",
    "\n",
    "*   Note: Be careful while performing division.\n",
    "\n",
    "\n",
    "\n",
    "\n"
   ]
  },
  {
   "cell_type": "code",
   "execution_count": 8,
   "metadata": {
    "colab": {
     "base_uri": "https://localhost:8080/"
    },
    "id": "42OVSYwrP4HL",
    "outputId": "437455e2-0778-4873-8b1a-f06f1b0f252d"
   },
   "outputs": [
    {
     "name": "stdout",
     "output_type": "stream",
     "text": [
      "sum is:  15\n",
      "result of subtraction is: 3\n",
      "the result of multiplication is:  20\n",
      "the result of division gives:  5.0\n"
     ]
    }
   ],
   "source": [
    "# Basic mathematical operations\n",
    "\n",
    "a = 10\n",
    "b = 5\n",
    "sum = a+b\n",
    "c = 15\n",
    "d = 12\n",
    "sub = c-d\n",
    "e = 5\n",
    "f = 4\n",
    "mul = e*f\n",
    "g = 15\n",
    "h = 3\n",
    "div = g/h           #dividing two integers will always give a float value in as a result.\n",
    "print(\"sum is: \", sum)\n",
    "print(\"result of subtraction is:\", sub)\n",
    "print(\"the result of multiplication is: \",mul)\n",
    "print(\"the result of division gives: \",div)"
   ]
  },
  {
   "cell_type": "code",
   "execution_count": null,
   "metadata": {
    "colab": {
     "base_uri": "https://localhost:8080/"
    },
    "id": "7z-UueA6RImC",
    "outputId": "24cf2c36-a419-4f98-d567-0df52de04542"
   },
   "outputs": [
    {
     "name": "stdout",
     "output_type": "stream",
     "text": [
      "(4+7j)\n"
     ]
    }
   ],
   "source": [
    "#Addition of complex numbers\n",
    "\n",
    "# assign a complex number to a variable ‘E’\n",
    "E = ( 1 + 2j)\n",
    "# assign a complex number to a variable ‘F’\n",
    "F = ( 3 +5j)\n",
    "#print sum of the two complex numbers\n",
    "print( E + F)"
   ]
  },
  {
   "cell_type": "markdown",
   "metadata": {
    "id": "Bh6n-QaLU4Nv"
   },
   "source": [
    "Number Type Conversion:\n",
    "1. Use the built-in functions to convert them explicitly."
   ]
  },
  {
   "cell_type": "code",
   "execution_count": null,
   "metadata": {
    "colab": {
     "base_uri": "https://localhost:8080/"
    },
    "id": "0rqc4K1SP65G",
    "outputId": "2a621e75-3878-4f7f-e232-ed3c0816fc2f"
   },
   "outputs": [
    {
     "name": "stdout",
     "output_type": "stream",
     "text": [
      "data type of num_int is  <class 'int'>\n",
      "data type of num_flo is  <class 'float'>\n",
      "Value of num_new is  124.23\n",
      "data type of num_new is  <class 'float'>\n"
     ]
    }
   ],
   "source": [
    "# Convert the basic numeric types.\n",
    "num_int = 123\n",
    "num_flo = 1.23\n",
    "\n",
    "num_new = num_int + num_flo\n",
    "print(\"data type of num_int is \", type(num_int))\n",
    "print(\"data type of num_flo is \", type(num_flo))\n",
    "\n",
    "print(\"Value of num_new is \", num_new)\n",
    "print(\"data type of num_new is \", type(num_new))"
   ]
  },
  {
   "cell_type": "markdown",
   "metadata": {
    "id": "j-waddEpVqmJ"
   },
   "source": [
    "Mathematical Functions:\n",
    "1. abs( ): gives the absolute value of x\n",
    "2. exp( ): returns the exponential of x.\n",
    "3. log( ): returns the natural logarithm of x, for x>0.\n",
    "4. sqrt( ): returns the square root of   x, for x>0.\n",
    "\n",
    "\n",
    "\n"
   ]
  },
  {
   "cell_type": "code",
   "execution_count": null,
   "metadata": {
    "colab": {
     "base_uri": "https://localhost:8080/"
    },
    "id": "yMn1Y1kWP95X",
    "outputId": "64d7d0fa-5f12-4aea-c375-1a20da709355"
   },
   "outputs": [
    {
     "data": {
      "text/plain": [
       "45"
      ]
     },
     "execution_count": 21,
     "metadata": {
      "tags": []
     },
     "output_type": "execute_result"
    }
   ],
   "source": [
    "# perform those basic maths using Python easily that confuses you.\n",
    "abs(-45)"
   ]
  },
  {
   "cell_type": "code",
   "execution_count": null,
   "metadata": {
    "colab": {
     "base_uri": "https://localhost:8080/"
    },
    "id": "VjQayGnFV5AE",
    "outputId": "5beac889-48df-4332-b97d-bcb00ada2c38"
   },
   "outputs": [
    {
     "data": {
      "text/plain": [
       "3.0308436140742566e+43"
      ]
     },
     "execution_count": 22,
     "metadata": {
      "tags": []
     },
     "output_type": "execute_result"
    }
   ],
   "source": [
    "import math\n",
    "math.exp(100.12)"
   ]
  },
  {
   "cell_type": "code",
   "execution_count": null,
   "metadata": {
    "colab": {
     "base_uri": "https://localhost:8080/"
    },
    "id": "_RjPL31JWFPm",
    "outputId": "93f0562e-608b-457a-82f3-ada43a6fb382"
   },
   "outputs": [
    {
     "data": {
      "text/plain": [
       "4.6063694665635735"
      ]
     },
     "execution_count": 23,
     "metadata": {
      "tags": []
     },
     "output_type": "execute_result"
    }
   ],
   "source": [
    "import math\n",
    "math.log(100.12)"
   ]
  },
  {
   "cell_type": "code",
   "execution_count": null,
   "metadata": {
    "colab": {
     "base_uri": "https://localhost:8080/"
    },
    "id": "NOv551ZOWQVd",
    "outputId": "ec5bab18-79a8-4d65-ba6c-544bd9e5a896"
   },
   "outputs": [
    {
     "data": {
      "text/plain": [
       "8.0"
      ]
     },
     "execution_count": 24,
     "metadata": {
      "tags": []
     },
     "output_type": "execute_result"
    }
   ],
   "source": [
    "import math\n",
    "math.sqrt(64)"
   ]
  },
  {
   "cell_type": "markdown",
   "metadata": {
    "id": "oXLyxhPUXAry"
   },
   "source": [
    "Random Numbers:\n",
    "1. choice( ): returns random item from a list, tuple or string.\n",
    "2. randrange( ): returns a randomly selected element from range( start, stop, step).\n",
    "3. shuffle( ): It randomizes the items of a list in place."
   ]
  },
  {
   "cell_type": "code",
   "execution_count": null,
   "metadata": {
    "colab": {
     "base_uri": "https://localhost:8080/"
    },
    "id": "ZI8PC2oCW2c7",
    "outputId": "1b1aee8a-50a4-437c-ed5f-c2440e72bd3b"
   },
   "outputs": [
    {
     "data": {
      "text/plain": [
       "9"
      ]
     },
     "execution_count": 25,
     "metadata": {
      "tags": []
     },
     "output_type": "execute_result"
    }
   ],
   "source": [
    "# try out some functions using random numbers\n",
    "import random\n",
    "random.choice([1,2,3,5,9])"
   ]
  },
  {
   "cell_type": "code",
   "execution_count": 5,
   "metadata": {
    "colab": {
     "base_uri": "https://localhost:8080/"
    },
    "id": "S_rDeVKvWsRJ",
    "outputId": "50d9ebff-4e80-41d9-b640-c2e065745446"
   },
   "outputs": [
    {
     "name": "stdout",
     "output_type": "stream",
     "text": [
      "Random number from 0-100 is : 91\n",
      "Random number from 50-100 is : 94\n",
      "Random number from 50-100 skip 5 is : 70\n"
     ]
    }
   ],
   "source": [
    "# Python code to demonstrate the working of\n",
    "# randrange()\n",
    " \n",
    "import random\n",
    " \n",
    "# Using randrange() to generate numbers from 0-100\n",
    "print (\"Random number from 0-100 is : \",end=\"\")\n",
    "print (random.randrange(100))\n",
    " \n",
    "# Using randrange() to generate numbers from 50-100\n",
    "print (\"Random number from 50-100 is : \",end=\"\")\n",
    "print (random.randrange(50,100))\n",
    " \n",
    "# Using randrange() to generate numbers from 50-100\n",
    "# skipping 5\n",
    "print (\"Random number from 50-100 skip 5 is : \",end=\"\")\n",
    "print (random.randrange(50,100,5))"
   ]
  },
  {
   "cell_type": "code",
   "execution_count": null,
   "metadata": {
    "colab": {
     "base_uri": "https://localhost:8080/"
    },
    "id": "FJNTnTP1WyWv",
    "outputId": "3d49a161-8517-40e7-b540-26a82ab629f2"
   },
   "outputs": [
    {
     "name": "stdout",
     "output_type": "stream",
     "text": [
      "[20, 5, 10, 16]\n"
     ]
    }
   ],
   "source": [
    "import random\n",
    "list1 = [20, 16, 10, 5]\n",
    "random.shuffle(list1)\n",
    "print(list1)"
   ]
  },
  {
   "cell_type": "markdown",
   "metadata": {
    "id": "jjfpBN10o9Kq"
   },
   "source": [
    "Trigonometric Functions:\n",
    "1. sin(): return the sine of x radians.\n",
    "2. tan(): return the tangent of x radians.\n",
    "3.cos(): return the cosine of x radians."
   ]
  },
  {
   "cell_type": "code",
   "execution_count": null,
   "metadata": {
    "colab": {
     "base_uri": "https://localhost:8080/"
    },
    "id": "rz5ThkIWhU_W",
    "outputId": "14485efd-5d29-4ffe-bfdb-c1ff9093e817"
   },
   "outputs": [
    {
     "data": {
      "text/plain": [
       "0.1411200080598672"
      ]
     },
     "execution_count": 35,
     "metadata": {
      "tags": []
     },
     "output_type": "execute_result"
    }
   ],
   "source": [
    "# sin(), cos(), tan()\n",
    "import math \n",
    "math.sin(3)"
   ]
  },
  {
   "cell_type": "code",
   "execution_count": null,
   "metadata": {
    "colab": {
     "base_uri": "https://localhost:8080/"
    },
    "id": "hAwdV7XPXV-j",
    "outputId": "5aaffe3a-196f-479c-d5e2-8b5e5160fd33"
   },
   "outputs": [
    {
     "data": {
      "text/plain": [
       "-0.9899924966004454"
      ]
     },
     "execution_count": 36,
     "metadata": {
      "tags": []
     },
     "output_type": "execute_result"
    }
   ],
   "source": [
    "import math\n",
    "math.cos(3)"
   ]
  },
  {
   "cell_type": "code",
   "execution_count": null,
   "metadata": {
    "colab": {
     "base_uri": "https://localhost:8080/"
    },
    "id": "jYJy7EwJXck4",
    "outputId": "3c6c848f-1145-4f0d-e423-39e1dfc8d3a0"
   },
   "outputs": [
    {
     "data": {
      "text/plain": [
       "-0.1425465430742778"
      ]
     },
     "execution_count": 37,
     "metadata": {
      "tags": []
     },
     "output_type": "execute_result"
    }
   ],
   "source": [
    "import math \n",
    "math.tan(3)"
   ]
  },
  {
   "cell_type": "markdown",
   "metadata": {
    "id": "ogT0k2AOsxk8"
   },
   "source": [
    "Angular Conversion:\n"
   ]
  },
  {
   "cell_type": "code",
   "execution_count": null,
   "metadata": {
    "colab": {
     "base_uri": "https://localhost:8080/"
    },
    "id": "zMa60YyekOmQ",
    "outputId": "1a9ed1c8-baf3-4fd6-898c-caf86c6d41e6"
   },
   "outputs": [
    {
     "name": "stdout",
     "output_type": "stream",
     "text": [
      "x in radians 10.25\n",
      "x in degrees:  587.2817400090938\n",
      "x in radians:  10.25\n"
     ]
    }
   ],
   "source": [
    "# try converting degrees to radians and vice versa\n",
    "#importing math module\n",
    "import math\n",
    "# angle x in radians\n",
    "x = 10.25\n",
    "print(\"x in radians\",x)\n",
    "#converting to degrees\n",
    "x = math.degrees(x)\n",
    "print(\"x in degrees: \", x)\n",
    "#now again converting to radians\n",
    "x = math.radians(x)\n",
    "print(\"x in radians: \", x)"
   ]
  },
  {
   "cell_type": "markdown",
   "metadata": {
    "id": "ABC7hwzQs_wr"
   },
   "source": [
    "Mathematical Constant:"
   ]
  },
  {
   "cell_type": "code",
   "execution_count": null,
   "metadata": {
    "colab": {
     "base_uri": "https://localhost:8080/"
    },
    "id": "vaSeKEDas56R",
    "outputId": "60757803-f473-4a85-be6e-71d668e9d022"
   },
   "outputs": [
    {
     "name": "stdout",
     "output_type": "stream",
     "text": [
      "the value of constant pi is: 3.141592653589793\n",
      "the value of constant e is: 2.718281828459045\n"
     ]
    }
   ],
   "source": [
    "# pi and e\n",
    "# importing “math” for mathematical operation\n",
    "import math\n",
    "# returning the value of constant pi\n",
    "print(\"the value of constant pi is: \", end=\"\")\n",
    "print(math.pi)\n",
    "# returning the value of constant e\n",
    "print(\"the value of constant e is: \", end=\"\")\n",
    "print(math.e)\n"
   ]
  },
  {
   "cell_type": "markdown",
   "metadata": {
    "id": "B1A6kR6dM2bz"
   },
   "source": [
    "Codes:"
   ]
  },
  {
   "cell_type": "markdown",
   "metadata": {
    "id": "9KNazjGP74rE"
   },
   "source": [
    "EXAMPLE 01: Write a python script to perform operations such as addition, subtraction, multiplication and division using all the data types."
   ]
  },
  {
   "cell_type": "code",
   "execution_count": null,
   "metadata": {
    "id": "6OCKarmxtEtR"
   },
   "outputs": [],
   "source": [
    "# initialise variables on which operations are to be performed.\n",
    "# write a code to add, subtract etc using data types such as int, float."
   ]
  },
  {
   "cell_type": "markdown",
   "metadata": {
    "id": "uK6_GtnOAPry"
   },
   "source": [
    "EXAMPLE 02: Write a python script to find the largest number."
   ]
  },
  {
   "cell_type": "code",
   "execution_count": null,
   "metadata": {
    "id": "efDK-ABm_ifE"
   },
   "outputs": [],
   "source": [
    "# initialise a sequence having numbers at random\n",
    "\n",
    "#write a code to find the largest number using a simple function used in numbers"
   ]
  },
  {
   "cell_type": "markdown",
   "metadata": {
    "id": "MvKIAmjzBSLl"
   },
   "source": [
    "EXAMPLE 03: Write a python script to check the data type, to which class a variable belongs."
   ]
  },
  {
   "cell_type": "code",
   "execution_count": null,
   "metadata": {
    "id": "3W10LaMeAuqc"
   },
   "outputs": [],
   "source": [
    "# initialise variables belonging to class int, float\n",
    "\n",
    "# write a code to check which type of class they belong to"
   ]
  },
  {
   "cell_type": "markdown",
   "metadata": {
    "id": "9KQmiyHpEDhg"
   },
   "source": [
    "EXAMPLE 04: Write a python script to obtain a random number from a particular range."
   ]
  },
  {
   "cell_type": "code",
   "execution_count": null,
   "metadata": {
    "id": "Ytj17k93CjxV"
   },
   "outputs": [],
   "source": [
    "# generate a range\n",
    "\n",
    "# write a code to get any random number from the generated range"
   ]
  },
  {
   "cell_type": "markdown",
   "metadata": {
    "id": "BV8yKuoUGl7X"
   },
   "source": [
    "EXAMPLE 05: Write a python script to find the arctan2 between the positive x-axis and the rays to the point."
   ]
  },
  {
   "cell_type": "code",
   "execution_count": 5,
   "metadata": {
    "id": "-_ouqecTFRNb"
   },
   "outputs": [
    {
     "name": "stdout",
     "output_type": "stream",
     "text": [
      "Employee name is David of age 45 and salary is 5000.00\n"
     ]
    }
   ],
   "source": [
    "employee = {'name': 'David', 'age': '45', 'salary': '5000.00'}\n",
    "print(\"Employee name is \"+ employee['name'] + \" of age \"+ employee['age'] + \" and salary is \" + str(employee['salary']))"
   ]
  },
  {
   "cell_type": "code",
   "execution_count": 11,
   "metadata": {},
   "outputs": [
    {
     "name": "stdout",
     "output_type": "stream",
     "text": [
      "Enter x1-coordiate: \n",
      "0\n",
      "Enter x2-coordiate: \n",
      "8\n",
      "The entered list is: \n",
      " [0, 8]\n"
     ]
    }
   ],
   "source": [
    "listx = []\n",
    "for i in range(0,2):\n",
    "   print(\"Enter x{}-coordiate: \".format(i+1))\n",
    "   coordinate = int(input())\n",
    "   listx.append(coordinate) # adding the element\n",
    "print(\"The entered list is: \\n\",listx)"
   ]
  },
  {
   "cell_type": "code",
   "execution_count": 8,
   "metadata": {},
   "outputs": [
    {
     "name": "stdout",
     "output_type": "stream",
     "text": [
      "Enter number of elements in the list : 2\n",
      "Enter element No-1: \n",
      "0\n",
      "Enter element No-2: \n",
      "8\n",
      "The entered list is: \n",
      " [0, 8]\n"
     ]
    }
   ],
   "source": [
    "listA = []\n",
    "# Input number of elemetns\n",
    "n = int(input(\"Enter number of elements in the list : \"))\n",
    "# iterating till the range\n",
    "for i in range(0, n):\n",
    "   print(\"Enter element No-{}: \".format(i+1))\n",
    "   elm = int(input())\n",
    "   listA.append(elm) # adding the element\n",
    "print(\"The entered list is: \\n\",listA)"
   ]
  },
  {
   "cell_type": "code",
   "execution_count": null,
   "metadata": {},
   "outputs": [],
   "source": []
  }
 ],
 "metadata": {
  "colab": {
   "collapsed_sections": [],
   "name": "Numbers.ipynb",
   "provenance": []
  },
  "kernelspec": {
   "display_name": "Python 3",
   "language": "python",
   "name": "python3"
  },
  "language_info": {
   "codemirror_mode": {
    "name": "ipython",
    "version": 3
   },
   "file_extension": ".py",
   "mimetype": "text/x-python",
   "name": "python",
   "nbconvert_exporter": "python",
   "pygments_lexer": "ipython3",
   "version": "3.9.5"
  }
 },
 "nbformat": 4,
 "nbformat_minor": 1
}
