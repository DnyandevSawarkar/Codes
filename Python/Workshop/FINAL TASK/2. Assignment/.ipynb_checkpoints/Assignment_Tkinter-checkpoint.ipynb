{
 "cells": [
  {
   "cell_type": "markdown",
   "metadata": {},
   "source": [
    "# Task 13"
   ]
  },
  {
   "cell_type": "markdown",
   "metadata": {},
   "source": [
    "## Assignment"
   ]
  },
  {
   "cell_type": "markdown",
   "metadata": {},
   "source": [
    "Write a code for GUI application in Python using Tkinter library. The code should accept an input <b>Roll Number</b> and display the Roll no., Name, marks of Mathematics, Physics, and Chemistry with the average scored by the student from the .csv file provided to you."
   ]
  },
  {
   "cell_type": "markdown",
   "metadata": {},
   "source": [
    " Do refer the expected output given in <b>fig.1</b> of <b>Expected_Output.pdf</b> file in <b>Assignments folder</b>."
   ]
  },
  {
   "cell_type": "markdown",
   "metadata": {},
   "source": [
    "### Importing library and its packages"
   ]
  },
  {
   "cell_type": "code",
   "execution_count": 1,
   "metadata": {},
   "outputs": [],
   "source": [
    "import tkinter\n",
    "from numpy import *                      \n",
    "import pandas as pd\n",
    "from tkinter.font import BOLD "
   ]
  },
  {
   "cell_type": "markdown",
   "metadata": {},
   "source": [
    "# Reading given csv file and storing its value in data variable"
   ]
  },
  {
   "cell_type": "code",
   "execution_count": 2,
   "metadata": {},
   "outputs": [],
   "source": [
    "data = pd.read_csv(r\"E:\\Python\\FINAL TASK\\2. Assignment\\marksheet.csv\")     #relative path of csv file"
   ]
  },
  {
   "cell_type": "markdown",
   "metadata": {},
   "source": [
    "# Creating root variable for Tkinter Contanier"
   ]
  },
  {
   "cell_type": "code",
   "execution_count": 3,
   "metadata": {},
   "outputs": [],
   "source": [
    "root = tkinter.Tk()            #tkinter container\n",
    "root.title(\"MARKSHEET\")           #window title\n",
    "root.geometry(\"300x280\")          #window size\n",
    "root.configure(bg='lightblue')         #set window color"
   ]
  },
  {
   "cell_type": "markdown",
   "metadata": {},
   "source": [
    "# Fonts "
   ]
  },
  {
   "cell_type": "code",
   "execution_count": 4,
   "metadata": {},
   "outputs": [],
   "source": [
    "font = 'Helvetica', 12,BOLD\n",
    "font_2 = 'Helvetica', 12"
   ]
  },
  {
   "cell_type": "markdown",
   "metadata": {},
   "source": [
    "# Main lable And its position"
   ]
  },
  {
   "cell_type": "code",
   "execution_count": 5,
   "metadata": {},
   "outputs": [],
   "source": [
    "lable = tkinter.Label(root, text = \"Enter Roll Number: \",bg='lightblue',font = font) \n",
    "lable.place(x=10, y=5)"
   ]
  },
  {
   "cell_type": "markdown",
   "metadata": {},
   "source": [
    "# Dummy Lable variable"
   ]
  },
  {
   "cell_type": "code",
   "execution_count": 6,
   "metadata": {},
   "outputs": [],
   "source": [
    "lable_1   = tkinter.Label(root)\n",
    "lable_2   = tkinter.Label(root)\n",
    "lable_3   = tkinter.Label(root)\n",
    "lable_4   = tkinter.Label(root)\n",
    "lable_5   = tkinter.Label(root)\n",
    "lable_6   = tkinter.Label(root)\n",
    "lable_7   = tkinter.Label(root)\n",
    "lable_8   = tkinter.Label(root)\n",
    "lable_1_1 = tkinter.Label(root)\n",
    "lable_2_1 = tkinter.Label(root)\n",
    "lable_3_1 = tkinter.Label(root)\n",
    "lable_4_1 = tkinter.Label(root)\n",
    "lable_5_1 = tkinter.Label(root)\n",
    "lable_6_1 = tkinter.Label(root)\n",
    "lable_7_1 = tkinter.Label(root)\n",
    "lable_8_1 = tkinter.Label(root)"
   ]
  },
  {
   "cell_type": "markdown",
   "metadata": {},
   "source": [
    "# Creating key press function"
   ]
  },
  {
   "cell_type": "code",
   "execution_count": 7,
   "metadata": {},
   "outputs": [],
   "source": [
    "def key_press(event):\n",
    "    global box_string\n",
    "    box_string = int(box.get())"
   ]
  },
  {
   "cell_type": "markdown",
   "metadata": {},
   "source": [
    "# Creating result function"
   ]
  },
  {
   "cell_type": "code",
   "execution_count": 8,
   "metadata": {
    "scrolled": true
   },
   "outputs": [],
   "source": [
    "def result():\n",
    "    \n",
    "# deleting entered value after use\n",
    "    box.delete(0, tkinter.END)\n",
    "\n",
    "# calling dummy variable  \n",
    "    global box_string\n",
    "    global lable_1\n",
    "    global lable_2\n",
    "    global lable_3\n",
    "    global lable_4\n",
    "    global lable_5\n",
    "    global lable_6\n",
    "    global lable_7\n",
    "    global lable_8\n",
    "    global lable_1_1\n",
    "    global lable_2_1\n",
    "    global lable_3_1\n",
    "    global lable_4_1\n",
    "    global lable_5_1\n",
    "    global lable_6_1\n",
    "    global lable_7_1\n",
    "    global lable_8_1\n",
    "\n",
    "# reseting value of dummy variables\n",
    "    lable_1.destroy()\n",
    "    lable_2.destroy()\n",
    "    lable_3.destroy()\n",
    "    lable_4.destroy()\n",
    "    lable_5.destroy()\n",
    "    lable_6.destroy()\n",
    "    lable_7.destroy()\n",
    "    lable_8.destroy()\n",
    "    lable_1_1.destroy()\n",
    "    lable_2_1.destroy()\n",
    "    lable_3_1.destroy()\n",
    "    lable_4_1.destroy()\n",
    "    lable_5_1.destroy()\n",
    "    lable_6_1.destroy()\n",
    "    lable_7_1.destroy()\n",
    "    lable_8_1.destroy()\n",
    "    \n",
    "# assing x equal to all value of entered roll no. from csv\n",
    "    x = data[data['Roll No.'] == box_string]\n",
    "             \n",
    "# t used to store value of describe function of csv\n",
    "    t = data.describe()\n",
    "             \n",
    "# s use to store value of count of total roll no. entery\n",
    "    s = int((t['Roll No.']['count']))\n",
    "             \n",
    "# i use to store entered value in int form\n",
    "    i = int(box_string) \n",
    "             \n",
    "# if entered value (i) is less than or equal to count (s)             \n",
    "    if (i <= s):\n",
    "       roll_no = tkinter.Label(root, text = \"Roll Number: \",bg='lightblue',font = font)  \n",
    "       name = \"Name: \"\n",
    "       math = \"Mathematics: \"\n",
    "       phy = \"Physics: \"\n",
    "       chem = \"Chemistry: \"\n",
    "    else:\n",
    "       roll_no = tkinter.Label(root, text = \"Invalid Roll Number\",bg='Red',fg='Black',font = font)\n",
    "\n",
    "## assing new values to dummy variables\n",
    "# lable 1 for roll no.  \n",
    "    lable_1 = roll_no\n",
    "    lable_1.place(x=10, y=60)                                                         # lable allignment\n",
    "    \n",
    "    # output value form csv\n",
    "    lable_1_1 = tkinter.Label(root, text = x['Roll No.'][box_string - 1],bg='lightblue',font = font_2) \n",
    "    lable_1_1.place(x=180, y=60)                                                      # lable allignment\n",
    "\n",
    "# lable 2 for name   \n",
    "    lable_2 = tkinter.Label(root, text = name,bg='lightblue',font = font) \n",
    "    lable_2.place(x=10, y=80)                                                         # lable allignment\n",
    "    \n",
    "    # output value form csv\n",
    "    lable_2_1 = tkinter.Label(root, text = x['Name'][box_string - 1],bg='lightblue',font = font_2) \n",
    "    lable_2_1.place(x=180, y=80)                                                      # lable allignment\n",
    "\n",
    "# lable 3 for maths markes\n",
    "    lable_3 = tkinter.Label(root, text = math,bg='lightblue',font = font) \n",
    "    lable_3.place(x=10, y=110)                                                        # lable allignment\n",
    "     \n",
    "    # output value form csv\n",
    "    lable_3_1 = tkinter.Label(root, text = x['Maths'][box_string - 1],bg='lightblue',font = font_2) \n",
    "    lable_3_1.place(x=180, y=110)                                                     # lable allignment\n",
    "\n",
    "# labke 4 for phy marks\n",
    "    lable_4 = tkinter.Label(root, text = phy,bg='lightblue',font = font) \n",
    "    lable_4.place(x=10, y=130)                                                        # lable allignment\n",
    "     \n",
    "    # output value form csv  \n",
    "    lable_4_1 = tkinter.Label(root, text = x['Physics'][box_string - 1],bg='lightblue',font = font_2) \n",
    "    lable_4_1.place(x=180, y=130)                                                     # lable allignment\n",
    "\n",
    "# labke 5 for chem marks\n",
    "    lable_5 = tkinter.Label(root, text = chem,bg='lightblue',font = font) \n",
    "    lable_5.place(x=10, y=150)                                                        # lable allignment\n",
    "    \n",
    "    # output value form csv\n",
    "    lable_5_1 = tkinter.Label(root, text = x['Chemistry'][box_string - 1],bg='lightblue',font = font_2) \n",
    "    lable_5_1.place(x=180, y=150)                                                      # lable allignment\n",
    "\n",
    "# labke 6 for average of all marks\n",
    "    avg = int((int(x['Maths'][box_string - 1])+int(x['Physics'][box_string - 1])+int(x['Chemistry'][box_string - 1]))/3)\n",
    "    \n",
    "    lable_6 = tkinter.Label(root, text = \"Average: \",bg='lightblue',font = font) \n",
    "    lable_6.place(x=10, y=190)                                                        # lable allignment\n",
    "    \n",
    "    # output value form csv\n",
    "    lable_6_1 = tkinter.Label(root, text = avg,bg='lightblue',font = font_2) \n",
    "    lable_6_1.place(x=180, y=190)                                                     # lable allignment\n",
    "    \n",
    "# lable 7 for grade\n",
    "    if 71 < avg:\n",
    "       grade = 'A+'\n",
    "       remark = \"Excellent\"\n",
    "    elif 69 < avg:\n",
    "       grade = 'B+'\n",
    "       remark = \"Average\"\n",
    "    elif 67 < avg:\n",
    "       grade = 'C+'\n",
    "       remark = \"Good\"\n",
    "    elif 65 < avg:\n",
    "       grade = 'D+'\n",
    "       remark = \"Keep Trying\"\n",
    "    else:\n",
    "       grade = 'Fail'\n",
    "       remark = \"Work Hard\"\n",
    "    \n",
    "    lable_7 = tkinter.Label(root, text = \"Grade: \",bg='lightblue',font = font) \n",
    "    lable_7.place(x=10, y=210)                                                         # lable allignment\n",
    "    \n",
    "    lable_7_1 = tkinter.Label(root, text = grade ,bg='lightblue',font = font)                         \n",
    "    lable_7_1.place(x=180, y=210)                                                      # lable allignment\n",
    "    \n",
    "    lable_8 = tkinter.Label(root, text = \"Remark: \",bg='lightblue',font = font) \n",
    "    lable_8.place(x=10, y=230)                                                         # lable allignment\n",
    "    \n",
    "    lable_8_1 = tkinter.Label(root, text = remark ,bg='lightblue',font = font) \n",
    "    lable_8_1.place(x=180, y=230)                                                      # lable allignment\n",
    "    \n",
    "# reruening all the values\n",
    "    return"
   ]
  },
  {
   "cell_type": "markdown",
   "metadata": {},
   "source": [
    "###  Entry Box"
   ]
  },
  {
   "cell_type": "code",
   "execution_count": 9,
   "metadata": {},
   "outputs": [],
   "source": [
    "box = tkinter.Entry(root)         #entry widget\n",
    "root.bind('<Key>', key_press)     #binding key press to key_press function\n",
    "box.place(x=165, y=5)             #box allignment\n",
    "box.focus_set()                   #making the box cursor active"
   ]
  },
  {
   "cell_type": "markdown",
   "metadata": {},
   "source": [
    "# Creating Button"
   ]
  },
  {
   "cell_type": "code",
   "execution_count": 10,
   "metadata": {},
   "outputs": [],
   "source": [
    "button = tkinter.Button(root, text = \"Submit\",bg= 'Green',fg= 'White',command = result)     #button widget\n",
    "button.place(x=195, y=35)         #allignment of button widget"
   ]
  },
  {
   "cell_type": "markdown",
   "metadata": {},
   "source": [
    "# Calling Mainloop function"
   ]
  },
  {
   "cell_type": "code",
   "execution_count": 11,
   "metadata": {},
   "outputs": [],
   "source": [
    "root.mainloop()                #mainloop function for tkinter container"
   ]
  }
 ],
 "metadata": {
  "kernelspec": {
   "display_name": "Python 3",
   "language": "python",
   "name": "python3"
  },
  "language_info": {
   "codemirror_mode": {
    "name": "ipython",
    "version": 3
   },
   "file_extension": ".py",
   "mimetype": "text/x-python",
   "name": "python",
   "nbconvert_exporter": "python",
   "pygments_lexer": "ipython3",
   "version": "3.9.5"
  }
 },
 "nbformat": 4,
 "nbformat_minor": 2
}
