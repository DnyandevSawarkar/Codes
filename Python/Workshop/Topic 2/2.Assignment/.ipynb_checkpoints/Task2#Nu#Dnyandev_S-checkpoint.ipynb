{
 "cells": [
  {
   "cell_type": "markdown",
   "metadata": {},
   "source": [
    "## TASK 2 Variables in Python"
   ]
  },
  {
   "cell_type": "markdown",
   "metadata": {},
   "source": [
    "### Assignment 1  ( 3 Marks )\n",
    "Write all the codes from the video provided in Resource file. "
   ]
  },
  {
   "cell_type": "code",
   "execution_count": null,
   "metadata": {},
   "outputs": [],
   "source": [
    "'''The Complete (Last) Code Which Is Shows In Video Provided In Resource File'''"
   ]
  },
  {
   "cell_type": "code",
   "execution_count": 1,
   "metadata": {},
   "outputs": [
    {
     "name": "stdout",
     "output_type": "stream",
     "text": [
      "BMW 10\n",
      "BMW 10\n"
     ]
    }
   ],
   "source": [
    "#1\n",
    "class Car:                       #Class Car\n",
    "  \n",
    "    def __init__(self):\n",
    "        self.mil = 10            #Mileage Default\n",
    "        \n",
    "        self.com = \"BMW\"         #Brand Name\n",
    "\n",
    "c1 = Car()                       #Variable c1\n",
    "c2 = Car()                       #Variable c2\n",
    "\n",
    "print(c1.com, c1.mil) #Output of variable c1\n",
    "\n",
    "print(c2.com, c2.mil) #Output of variable c2"
   ]
  },
  {
   "cell_type": "code",
   "execution_count": 2,
   "metadata": {},
   "outputs": [
    {
     "name": "stdout",
     "output_type": "stream",
     "text": [
      "BMW 8\n",
      "BMW 10\n"
     ]
    }
   ],
   "source": [
    "#2\n",
    "class Car:                       #Class Car\n",
    "   \n",
    "    def __init__(self):\n",
    "        self.mil = 10            #Mileage Default\n",
    "        self.com = \"BMW\"         #Brand Name\n",
    "\n",
    "c1 = Car()                       #Variable c1\n",
    "c2 = Car()                       #Variable c2\n",
    "\n",
    "c1.mil = 8                       #Mileage Value For c1 Only\n",
    "\n",
    "\n",
    "print(c1.com, c1.mil) #Output of variable c1\n",
    "\n",
    "print(c2.com, c2.mil) #Output of variable c2"
   ]
  },
  {
   "cell_type": "code",
   "execution_count": 3,
   "metadata": {},
   "outputs": [
    {
     "name": "stdout",
     "output_type": "stream",
     "text": [
      "BMW 8 4\n",
      "BMW 10 4\n"
     ]
    }
   ],
   "source": [
    "#3\n",
    "class Car:                       #Class Car\n",
    "    wheels = 4\n",
    "    def __init__(self):\n",
    "        self.mil = 10            #Mileage Default\n",
    "        self.com = \"BMW\"         #Brand Name\n",
    "\n",
    "c1 = Car()                       #Variable c1\n",
    "c2 = Car()                       #Variable c2\n",
    "\n",
    "c1.mil = 8                       #Mileage Value For c1 Only\n",
    "\n",
    "print(c1.com, c1.mil, c1.wheels) #Output of variable c1\n",
    "\n",
    "print(c2.com, c2.mil, c2.wheels) #Output of variable c2"
   ]
  },
  {
   "cell_type": "code",
   "execution_count": 4,
   "metadata": {},
   "outputs": [
    {
     "name": "stdout",
     "output_type": "stream",
     "text": [
      "BMW 8 5\n",
      "BMW 10 5\n"
     ]
    }
   ],
   "source": [
    "#4\n",
    "class Car:                       #Class Car\n",
    "    wheels = 4\n",
    "    def __init__(self):\n",
    "        self.mil = 10            #Mileage Default\n",
    "        self.com = \"BMW\"         #Brand Name\n",
    "\n",
    "c1 = Car()                       #Variable c1\n",
    "c2 = Car()                       #Variable c2\n",
    "\n",
    "c1.mil = 8                       #Mileage Value For c1 Only\n",
    "\n",
    "Car.wheels = 5                   #Value Of Wheels\n",
    "\n",
    "print(c1.com, c1.mil, c1.wheels) #Output of variable c1\n",
    "\n",
    "print(c2.com, c2.mil, c2.wheels) #Output of variable c2"
   ]
  },
  {
   "cell_type": "markdown",
   "metadata": {},
   "source": [
    "### Assignment 2  ( 5 Marks )\n",
    "List 5 legal variable names and 3 illegal variable names of different types."
   ]
  },
  {
   "cell_type": "code",
   "execution_count": 5,
   "metadata": {},
   "outputs": [
    {
     "name": "stdout",
     "output_type": "stream",
     "text": [
      "1\n",
      "a\n",
      "Nagpur Mahal\n",
      "20.36\n",
      "20\n"
     ]
    }
   ],
   "source": [
    "'''5 Legal variable names and Their Outputs'''\n",
    "#1\n",
    "number = 1              #int type Legal Variable\n",
    "print (number)          #Output of number (Legal Variable)\n",
    "\n",
    "#2\n",
    "word = \"a\"              #string type Legal Variable\n",
    "print (word)            #Output of word (Legal Variable)\n",
    "\n",
    "#3\n",
    "Place = \"Nagpur Mahal\"  #string type Legal Variable\n",
    "print (Place)           #Output of place (Legal Variable)\n",
    "\n",
    "#4\n",
    "floot = 20.36           #float typr Legal Variable\n",
    "print (floot)           #Output of float (Legal Variable)\n",
    "\n",
    "#5\n",
    "integer = 20            #int type Legal Variable\n",
    "print (integer)         #Output of integer (Legal Variable)"
   ]
  },
  {
   "cell_type": "code",
   "execution_count": null,
   "metadata": {
    "scrolled": true
   },
   "outputs": [],
   "source": [
    "'''3 Illegal variable names and Their Output'''"
   ]
  },
  {
   "cell_type": "code",
   "execution_count": 6,
   "metadata": {},
   "outputs": [
    {
     "ename": "SyntaxError",
     "evalue": "invalid syntax (<ipython-input-6-d4f2225773e4>, line 2)",
     "output_type": "error",
     "traceback": [
      "\u001b[1;36m  File \u001b[1;32m\"<ipython-input-6-d4f2225773e4>\"\u001b[1;36m, line \u001b[1;32m2\u001b[0m\n\u001b[1;33m    @num = 2                    #int type Illegal Variable\u001b[0m\n\u001b[1;37m         ^\u001b[0m\n\u001b[1;31mSyntaxError\u001b[0m\u001b[1;31m:\u001b[0m invalid syntax\n"
     ]
    }
   ],
   "source": [
    "#1\n",
    "@num = 2                    #int type Illegal Variable\n",
    "print (num)                 #output of num (Illegal Variable)"
   ]
  },
  {
   "cell_type": "code",
   "execution_count": 7,
   "metadata": {},
   "outputs": [
    {
     "ename": "SyntaxError",
     "evalue": "invalid syntax (<ipython-input-7-ede1f090cd0f>, line 2)",
     "output_type": "error",
     "traceback": [
      "\u001b[1;36m  File \u001b[1;32m\"<ipython-input-7-ede1f090cd0f>\"\u001b[1;36m, line \u001b[1;32m2\u001b[0m\n\u001b[1;33m    $alphabte = \"abc\"           #string type Illegal Variable\u001b[0m\n\u001b[1;37m    ^\u001b[0m\n\u001b[1;31mSyntaxError\u001b[0m\u001b[1;31m:\u001b[0m invalid syntax\n"
     ]
    }
   ],
   "source": [
    "#2\n",
    "$alphabte = \"abc\"           #string type Illegal Variable\n",
    "print (alphabte)            #output of alphabte (Illegal Variable)"
   ]
  },
  {
   "cell_type": "code",
   "execution_count": 8,
   "metadata": {},
   "outputs": [
    {
     "ename": "SyntaxError",
     "evalue": "invalid syntax (<ipython-input-8-6268d4145121>, line 2)",
     "output_type": "error",
     "traceback": [
      "\u001b[1;36m  File \u001b[1;32m\"<ipython-input-8-6268d4145121>\"\u001b[1;36m, line \u001b[1;32m2\u001b[0m\n\u001b[1;33m    &location = \"india\"         #string type Illegal Variable\u001b[0m\n\u001b[1;37m    ^\u001b[0m\n\u001b[1;31mSyntaxError\u001b[0m\u001b[1;31m:\u001b[0m invalid syntax\n"
     ]
    }
   ],
   "source": [
    "#3\n",
    "&location = \"india\"         #string type Illegal Variable\n",
    "print (location)            #output of location (Illegal Variable)"
   ]
  },
  {
   "cell_type": "markdown",
   "metadata": {},
   "source": [
    "### Assignment 3  ( 7 Marks )\n",
    "Write a program to print your Name, age, percentage of 1st semester and postal address in different lines"
   ]
  },
  {
   "cell_type": "code",
   "execution_count": 9,
   "metadata": {},
   "outputs": [
    {
     "name": "stdout",
     "output_type": "stream",
     "text": [
      "Entre name : Dnyandev Sawarkar\n",
      "Name :  Dnyandev Sawarkar\n",
      "Entre age : 18\n",
      "Age :  18\n",
      "Entre percentage : 99.99\n",
      "Percentage :  99.99\n",
      "Entre address : New Shurwari,Mahal Road,Nagpur\n",
      "Address :  New Shurwari,Mahal Road,Nagpur\n"
     ]
    }
   ],
   "source": [
    "'''This Code Takes Input Form the User,\n",
    "Then Store It In Variable,\n",
    "Then Print It.'''\n",
    "\n",
    "\n",
    "#Name \n",
    "name = input(\"Entre name : \")                        #name (variable) Is used To store Value Of Input For Name \n",
    "\n",
    "print(\"Name : \",name)                                #Output of name      \n",
    "\n",
    "#age\n",
    "age = int(input(\"Entre age : \"))                     #age (variable) Is used to store Value Of Input For Age\n",
    "\n",
    "print(\"Age : \",age)                                  #Output of age\n",
    "\n",
    "\n",
    "#percentage of 1st semester\n",
    "percentage_of_1st_semester = float(input(\"Entre percentage : \")) \n",
    "#percentage_of_1st_semester (variable) Is used to store Ialue For input of Percentage\n",
    "\n",
    "print(\"Percentage : \",percentage_of_1st_semester)    #Output of percentage_of_1st_semester\n",
    "\n",
    "#postal address\n",
    "postal_address = input(\"Entre address : \")           #postal_address Is Ued To store Value Of Input For addr\n",
    "print(\"Address : \",postal_address)                   #Output of postel_Address"
   ]
  }
 ],
 "metadata": {
  "kernelspec": {
   "display_name": "Python 3",
   "language": "python",
   "name": "python3"
  },
  "language_info": {
   "codemirror_mode": {
    "name": "ipython",
    "version": 3
   },
   "file_extension": ".py",
   "mimetype": "text/x-python",
   "name": "python",
   "nbconvert_exporter": "python",
   "pygments_lexer": "ipython3",
   "version": "3.9.5"
  }
 },
 "nbformat": 4,
 "nbformat_minor": 2
}
