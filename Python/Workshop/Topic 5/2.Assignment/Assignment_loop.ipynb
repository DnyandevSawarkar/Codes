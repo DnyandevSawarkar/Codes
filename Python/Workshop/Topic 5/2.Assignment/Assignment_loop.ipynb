{
 "cells": [
  {
   "cell_type": "markdown",
   "metadata": {
    "id": "WM3NQm5zxdmp"
   },
   "source": [
    "# **R Labs**\n",
    "\n"
   ]
  },
  {
   "cell_type": "markdown",
   "metadata": {
    "id": "MbB74N_RxXZ_"
   },
   "source": [
    "## Assignment\n",
    "\n",
    "Question 1 ( 3 Marks )\n",
    "\n",
    "Write a program to print the sum of squares of numbers from 1 to 5 using For Loop.\n",
    "\n",
    "Print only the end output.\n",
    "\n",
    "<b>( (1^2) + (2^2) + (3^2) + (4^2) + (5^2) )</b>"
   ]
  },
  {
   "cell_type": "code",
   "execution_count": 1,
   "metadata": {
    "id": "okPz43IxOq8Y"
   },
   "outputs": [],
   "source": [
    "#question 1\n",
    "#Answer here\n"
   ]
  },
  {
   "cell_type": "markdown",
   "metadata": {
    "id": "ILv3tyjpvv6l"
   },
   "source": [
    "Question 2 ( 5 Marks )\n",
    "\n",
    "Write a program to print the coordinates of a 5*5 matrix using nested loop.\n",
    "###### Expected Output:-\n",
    "###### 1 1\n",
    "###### 1 2\n",
    "###### 1 3\n",
    "###### and so on till\n",
    "###### 5 5"
   ]
  },
  {
   "cell_type": "code",
   "execution_count": 2,
   "metadata": {
    "id": "QKHUJ6f1wHnb"
   },
   "outputs": [],
   "source": [
    "#question 2\n",
    "#Answer here"
   ]
  },
  {
   "cell_type": "markdown",
   "metadata": {},
   "source": [
    "Question 3 ( 7 Marks )\n",
    "\n",
    "Write a program to print table of a number taken from the user as input using \"While Loop\".\n",
    "#### Expected Output:-\n",
    "\n",
    "###### 9\n",
    "\n",
    "###### 18\n",
    "\n",
    "###### ...\n",
    "\n",
    "###### 90"
   ]
  },
  {
   "cell_type": "code",
   "execution_count": null,
   "metadata": {},
   "outputs": [],
   "source": [
    "#question 3\n",
    "#Answer here"
   ]
  }
 ],
 "metadata": {
  "colab": {
   "collapsed_sections": [],
   "name": "Loops_Assignment.ipynb",
   "provenance": []
  },
  "kernelspec": {
   "display_name": "Python 3",
   "language": "python",
   "name": "python3"
  },
  "language_info": {
   "codemirror_mode": {
    "name": "ipython",
    "version": 3
   },
   "file_extension": ".py",
   "mimetype": "text/x-python",
   "name": "python",
   "nbconvert_exporter": "python",
   "pygments_lexer": "ipython3",
   "version": "3.7.6"
  }
 },
 "nbformat": 4,
 "nbformat_minor": 1
}
