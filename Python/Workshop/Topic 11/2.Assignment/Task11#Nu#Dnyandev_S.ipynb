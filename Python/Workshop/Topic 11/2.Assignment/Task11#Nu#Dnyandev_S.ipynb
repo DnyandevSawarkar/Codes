{
 "cells": [
  {
   "cell_type": "markdown",
   "metadata": {
    "id": "NdcXoCUYCYl2"
   },
   "source": [
    "# NumPy Assignment "
   ]
  },
  {
   "cell_type": "markdown",
   "metadata": {
    "id": "qFVZHqUjCew6"
   },
   "source": [
    "#### **Question** 1: [3 MARKS]\n",
    "\n",
    "#### Write a Python script to change the data type of the elements present in the array from integer to complex. "
   ]
  },
  {
   "cell_type": "code",
   "execution_count": 1,
   "metadata": {},
   "outputs": [
    {
     "name": "stdout",
     "output_type": "stream",
     "text": [
      "Complex: [1.+0.j 2.+0.j 3.+0.j 4.+0.j]\n"
     ]
    }
   ],
   "source": [
    "import numpy as np                  # import numpy as np library\n",
    "athu = np.array([1,2,3,4])             # creating athu as numpy array of int type data type\n",
    "print('Complex:',athu.astype(complex)) # printing athu by changing its data typr to complex"
   ]
  },
  {
   "cell_type": "markdown",
   "metadata": {
    "id": "fWQntVKIEGE4"
   },
   "source": [
    "#### Question2: [5 MARKS]\n",
    "\n",
    "#### Write a Python script to check the dimension of array given below:\n",
    "[[[[(1.2),(4.5,6.2,2.3),(2.4,8.7)]]]]\n",
    "\n"
   ]
  },
  {
   "cell_type": "code",
   "execution_count": 3,
   "metadata": {},
   "outputs": [
    {
     "name": "stdout",
     "output_type": "stream",
     "text": [
      "4\n"
     ]
    },
    {
     "name": "stderr",
     "output_type": "stream",
     "text": [
      "<ipython-input-3-1009162fa695>:2: VisibleDeprecationWarning: Creating an ndarray from ragged nested sequences (which is a list-or-tuple of lists-or-tuples-or ndarrays with different lengths or shapes) is deprecated. If you meant to do this, you must specify 'dtype=object' when creating the ndarray.\n",
      "  a = np.array([[[[(1.2),(4.5,6.2,2.3),(2.4,8.7)]]]])          # assing a equal to given array value\n"
     ]
    }
   ],
   "source": [
    "import numpy as np                                           # importing numpy as np library\n",
    "a = np.array([[[[(1.2),(4.5,6.2,2.3),(2.4,8.7)]]]])          # assing a equal to given array value\n",
    "print(a.ndim)                                                # output of dimension of a"
   ]
  },
  {
   "cell_type": "markdown",
   "metadata": {
    "id": "M7KPZLPLDaHx"
   },
   "source": [
    "#### **Question** 3: [7 MARKS]\n",
    "\n",
    "#### Write a python script to find the logarithmic value of array."
   ]
  },
  {
   "cell_type": "code",
   "execution_count": 2,
   "metadata": {},
   "outputs": [
    {
     "name": "stdout",
     "output_type": "stream",
     "text": [
      "Logarithmic value array athu is :  [0.         0.30103    0.47712125 0.60205999]\n"
     ]
    }
   ],
   "source": [
    "import numpy as np                                                 # importing numpy as np library   \n",
    "athu = np.array([1,2,3,4])                                         # creating athu as numpy array \n",
    "print('Logarithmic value array athu is : ', np.log10(athu))         # output of logarithmic value of arrya athu "
   ]
  }
 ],
 "metadata": {
  "colab": {
   "name": "NumPy_Assignment.ipynb",
   "provenance": []
  },
  "kernelspec": {
   "display_name": "Python 3",
   "language": "python",
   "name": "python3"
  },
  "language_info": {
   "codemirror_mode": {
    "name": "ipython",
    "version": 3
   },
   "file_extension": ".py",
   "mimetype": "text/x-python",
   "name": "python",
   "nbconvert_exporter": "python",
   "pygments_lexer": "ipython3",
   "version": "3.9.5"
  }
 },
 "nbformat": 4,
 "nbformat_minor": 1
}
