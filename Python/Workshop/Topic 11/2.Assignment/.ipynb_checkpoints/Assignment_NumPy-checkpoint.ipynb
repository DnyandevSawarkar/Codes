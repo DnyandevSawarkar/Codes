{
 "cells": [
  {
   "cell_type": "markdown",
   "metadata": {
    "id": "NdcXoCUYCYl2"
   },
   "source": [
    "# NumPy Assignment "
   ]
  },
  {
   "cell_type": "markdown",
   "metadata": {
    "id": "qFVZHqUjCew6"
   },
   "source": [
    "#### **Question** 1: [3 MARKS]\n",
    "\n",
    "#### Write a Python script to change the data type of the elements present in the array from integer to complex. "
   ]
  },
  {
   "cell_type": "code",
   "execution_count": 1,
   "metadata": {
    "id": "H_CGGEQdCXtV"
   },
   "outputs": [],
   "source": [
    "#import required packages\n",
    "#initialise an array and pass the data type parameter along with it\n",
    "#print the output"
   ]
  },
  {
   "cell_type": "code",
   "execution_count": 2,
   "metadata": {},
   "outputs": [
    {
     "name": "stdout",
     "output_type": "stream",
     "text": [
      "Integer: [1 2 3 4]\n",
      "Complex: [1.+0.j 2.+0.j 3.+0.j 4.+0.j]\n"
     ]
    }
   ],
   "source": [
    "import numpy as np                  # import numpy as np library\n",
    "a = np.array([1,2,3,4])             # creating a as numpy array of int type data type\n",
    "print('Integer:',a)                 # printing a \n",
    "print('Complex:',a.astype(complex)) # printing a by changing its data typr to complex"
   ]
  },
  {
   "cell_type": "markdown",
   "metadata": {
    "id": "fWQntVKIEGE4"
   },
   "source": [
    "#### Question2: [5 MARKS]\n",
    "\n",
    "#### Write a Python script to check the dimension of array given below:\n",
    "[[[[(1.2),(4.5,6.2,2.3),(2.4,8.7)]]]]\n",
    "\n"
   ]
  },
  {
   "cell_type": "code",
   "execution_count": 3,
   "metadata": {
    "id": "DOOST0N6EpQE"
   },
   "outputs": [],
   "source": [
    "#import numpy package\n",
    "#initialise the given array\n",
    "#print the output"
   ]
  },
  {
   "cell_type": "code",
   "execution_count": 4,
   "metadata": {},
   "outputs": [
    {
     "name": "stdout",
     "output_type": "stream",
     "text": [
      "4\n"
     ]
    },
    {
     "name": "stderr",
     "output_type": "stream",
     "text": [
      "<ipython-input-4-086a81445f8c>:2: VisibleDeprecationWarning: Creating an ndarray from ragged nested sequences (which is a list-or-tuple of lists-or-tuples-or ndarrays with different lengths or shapes) is deprecated. If you meant to do this, you must specify 'dtype=object' when creating the ndarray.\n",
      "  a = np.array([[[[(1.2),(4.5,6.2,2.3),(2.4,8.7)]]]])  # assing a equal to given array value\n"
     ]
    }
   ],
   "source": [
    "import numpy as np                                           # importing numpy as np library\n",
    "a = np.array([[[[(1.2),(4.5,6.2,2.3),(2.4,8.7)]]]])          # assing a equal to given array value\n",
    "print(a.ndim)                                                # output of dimension of a"
   ]
  },
  {
   "cell_type": "markdown",
   "metadata": {
    "id": "M7KPZLPLDaHx"
   },
   "source": [
    "#### **Question** 3: [7 MARKS]\n",
    "\n",
    "#### Write a python script to find the logarithmic value of array."
   ]
  },
  {
   "cell_type": "code",
   "execution_count": 5,
   "metadata": {
    "id": "B-3nmohbD-cC"
   },
   "outputs": [],
   "source": [
    "#import required packages\n",
    "#initialise array\n",
    "#print the output"
   ]
  },
  {
   "cell_type": "code",
   "execution_count": 6,
   "metadata": {},
   "outputs": [
    {
     "name": "stdout",
     "output_type": "stream",
     "text": [
      "Logarithmic value our array is :  [0.90308999 0.77815125 0.84509804 0.95424251]\n"
     ]
    }
   ],
   "source": [
    "import numpy as np                                              # importing numpy as np library   \n",
    "a = np.array([8,6,7,9])                                         # creating a as numpy array \n",
    "print('Logarithmic value our array is : ', np.log10(a))         # output of logarithmic value of arrya a "
   ]
  }
 ],
 "metadata": {
  "colab": {
   "name": "NumPy_Assignment.ipynb",
   "provenance": []
  },
  "kernelspec": {
   "display_name": "Python 3",
   "language": "python",
   "name": "python3"
  },
  "language_info": {
   "codemirror_mode": {
    "name": "ipython",
    "version": 3
   },
   "file_extension": ".py",
   "mimetype": "text/x-python",
   "name": "python",
   "nbconvert_exporter": "python",
   "pygments_lexer": "ipython3",
   "version": "3.9.5"
  }
 },
 "nbformat": 4,
 "nbformat_minor": 1
}
