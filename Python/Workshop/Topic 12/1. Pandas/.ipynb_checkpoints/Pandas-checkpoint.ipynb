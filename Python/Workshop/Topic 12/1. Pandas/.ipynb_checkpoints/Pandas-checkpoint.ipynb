{
 "cells": [
  {
   "cell_type": "markdown",
   "id": "10fcee9b",
   "metadata": {},
   "source": [
    "## What is Pandas?"
   ]
  },
  {
   "cell_type": "markdown",
   "id": "4f9acba0",
   "metadata": {},
   "source": [
    "- It allows for fast analysis and data cleaning and preparation\n",
    "- Built-in visulization features\n",
    "- Work with data from wide variety of sources"
   ]
  },
  {
   "cell_type": "markdown",
   "id": "969f1467",
   "metadata": {},
   "source": [
    "## How to install pandas?"
   ]
  },
  {
   "cell_type": "markdown",
   "id": "94a75883",
   "metadata": {},
   "source": [
    "#### pip install pandas"
   ]
  },
  {
   "cell_type": "markdown",
   "id": "d85e259d",
   "metadata": {},
   "source": [
    "Run the above command in the command prompt"
   ]
  },
  {
   "cell_type": "code",
   "execution_count": null,
   "id": "5bca010e",
   "metadata": {},
   "outputs": [],
   "source": [
    "#How to import pandas library\n",
    "import pandas as pd"
   ]
  },
  {
   "cell_type": "code",
   "execution_count": null,
   "id": "7abc46a7",
   "metadata": {},
   "outputs": [],
   "source": [
    "#How to import csv file using pandas\n",
    "data = pd.read_csv(\"iris.csv\")"
   ]
  },
  {
   "cell_type": "markdown",
   "id": "3093491b",
   "metadata": {},
   "source": [
    "By doing the above step you have successfully imported the csv file in the variable **data** you now use the variable to access the data in the csv file"
   ]
  },
  {
   "cell_type": "code",
   "execution_count": null,
   "id": "c7492e8c",
   "metadata": {},
   "outputs": [],
   "source": [
    "#This is how you check the type of data for a variable\n",
    "type(data)"
   ]
  },
  {
   "cell_type": "code",
   "execution_count": null,
   "id": "5a08b8d3",
   "metadata": {},
   "outputs": [],
   "source": [
    "#This how you get statistical data \n",
    "data.describe()"
   ]
  },
  {
   "cell_type": "code",
   "execution_count": null,
   "id": "ec272cc1",
   "metadata": {},
   "outputs": [],
   "source": [
    "#This how to get and store the data of a particular field\n",
    "x = data[\"species\"]\n",
    "x"
   ]
  },
  {
   "cell_type": "code",
   "execution_count": null,
   "id": "d2d8953f",
   "metadata": {},
   "outputs": [],
   "source": [
    "#This how to get and store multiple data from csv\n",
    "x = data[[\"sepal_length\", \"sepal_width\",\"petal_length\",\"petal_width\"]]\n",
    "x"
   ]
  },
  {
   "cell_type": "code",
   "execution_count": null,
   "id": "3e5f1d0c",
   "metadata": {},
   "outputs": [],
   "source": [
    "#This how you can select range of rows or column from the csv file\n",
    "x = data.iloc[:,0:4] #(range of rows, range of columns)\n",
    "x"
   ]
  },
  {
   "cell_type": "code",
   "execution_count": null,
   "id": "49f61802",
   "metadata": {},
   "outputs": [],
   "source": [
    "#This is another way of geting the above result\n",
    "x = data.iloc[:,4]  \n",
    "x"
   ]
  },
  {
   "cell_type": "code",
   "execution_count": null,
   "id": "3e705f10",
   "metadata": {},
   "outputs": [],
   "source": [
    "#This is how to select data based on some condition\n",
    "x = data[data['species'] == 'setosa']\n",
    "x"
   ]
  },
  {
   "cell_type": "code",
   "execution_count": null,
   "id": "8569cedd",
   "metadata": {},
   "outputs": [],
   "source": [
    "#How to check if the data is present or not\n",
    "x = data[data['species'] == 'pandas']\n",
    "if len(x) == 0:\n",
    "    print(\"Data not present\")\n",
    "else:\n",
    "    print(x)"
   ]
  },
  {
   "cell_type": "markdown",
   "id": "72b4d993",
   "metadata": {},
   "source": [
    "### Dataframes"
   ]
  },
  {
   "cell_type": "markdown",
   "id": "662b3119",
   "metadata": {},
   "source": [
    "- Two-dimensional, size-mutable, potentially heterogeneous tabular data.\n",
    "\n",
    "- Data structure also contains labeled axes (rows and columns). Arithmetic operations align on both row and column labels. Can   be thought of as a dict-like container for Series objects. The primary pandas data structure."
   ]
  },
  {
   "cell_type": "code",
   "execution_count": null,
   "id": "12c3b601",
   "metadata": {},
   "outputs": [],
   "source": [
    "#How to create dataframes\n",
    "df = pd.DataFrame(data)"
   ]
  },
  {
   "cell_type": "code",
   "execution_count": null,
   "id": "ce1dceff",
   "metadata": {},
   "outputs": [],
   "source": [
    "#How to create dataframes with selected rows\n",
    "df = pd.DataFrame(data,[0, 1, 2])"
   ]
  },
  {
   "cell_type": "code",
   "execution_count": null,
   "id": "48be2a8e",
   "metadata": {},
   "outputs": [],
   "source": [
    "#How to store data from dataframe to csv\n",
    "df.to_csv('test.csv')"
   ]
  },
  {
   "cell_type": "markdown",
   "id": "e61cb16e",
   "metadata": {},
   "source": [
    "### Using function to perform some task"
   ]
  },
  {
   "cell_type": "code",
   "execution_count": null,
   "id": "c2fc74b4",
   "metadata": {},
   "outputs": [],
   "source": []
  },
  {
   "cell_type": "code",
   "execution_count": null,
   "id": "43902eb7",
   "metadata": {},
   "outputs": [],
   "source": [
    "inp = float(input(\"Enter the sepal length\"))\n",
    "y = seperate(inp)\n",
    "y"
   ]
  }
 ],
 "metadata": {
  "kernelspec": {
   "display_name": "Python 3",
   "language": "python",
   "name": "python3"
  },
  "language_info": {
   "codemirror_mode": {
    "name": "ipython",
    "version": 3
   },
   "file_extension": ".py",
   "mimetype": "text/x-python",
   "name": "python",
   "nbconvert_exporter": "python",
   "pygments_lexer": "ipython3",
   "version": "3.9.5"
  }
 },
 "nbformat": 4,
 "nbformat_minor": 5
}
