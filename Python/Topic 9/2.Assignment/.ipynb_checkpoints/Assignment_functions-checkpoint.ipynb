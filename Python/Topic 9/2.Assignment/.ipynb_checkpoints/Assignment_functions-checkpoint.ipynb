{
 "cells": [
  {
   "cell_type": "markdown",
   "metadata": {
    "id": "6ORABy9dCOiR"
   },
   "source": [
    "# 1.  *Just play with function (3 Marks)*\n",
    "\n",
    "Question:\n",
    "- Call a function of any name.\n",
    "- The function should do the following:\n",
    "   - print the text 'R-Labs count:' 10 times on new line every time using for loop.\n",
    "   - Every time it prints, the text should add the index of the for loop with the text.\n",
    "- **For any confusion refer to the expected output**   \n",
    "\n",
    "\n",
    "Expected Output: (should be printed as output using only **function and for loop**).\n",
    "```\n",
    "R-Labs count: 0\n",
    "R-Labs count: 1\n",
    "R-Labs count: 2\n",
    "R-Labs count: 3\n",
    "R-Labs count: 4\n",
    "R-Labs count: 5\n",
    "R-Labs count: 6\n",
    "R-Labs count: 7\n",
    "R-Labs count: 8\n",
    "R-Labs count: 9\n",
    "```"
   ]
  },
  {
   "cell_type": "code",
   "execution_count": 12,
   "metadata": {
    "id": "2ZOVmNWTEYZe"
   },
   "outputs": [
    {
     "name": "stdout",
     "output_type": "stream",
     "text": [
      "R-Labs count: 0\n",
      "R-Labs count: 1\n",
      "R-Labs count: 2\n",
      "R-Labs count: 3\n",
      "R-Labs count: 4\n",
      "R-Labs count: 5\n",
      "R-Labs count: 6\n",
      "R-Labs count: 7\n",
      "R-Labs count: 8\n",
      "R-Labs count: 9\n"
     ]
    }
   ],
   "source": [
    "# Code for Q1\n",
    "\n",
    "\n",
    "\n",
    "def athu_1():                      # creating function of name athu_1\n",
    "    \n",
    "  for val in range(0,10):          # for loop with range 0 to 10\n",
    "      print(\"R-Labs count:\", val)  # output R-Labs count:(loop index) prints till for lopp condition get false\n",
    "        \n",
    "athu_1                             # calling the funtion athu_1 to print it's output"
   ]
  },
  {
   "cell_type": "markdown",
   "metadata": {
    "id": "loyitGheEe0d"
   },
   "source": [
    "# *2. Get the number of alphabets (5 Marks)*\n",
    "\n",
    "Question:\n",
    "- Call a function by sending name in string format as **argument** to the function.\n",
    "- The function should do the following:\n",
    "  - Calculate the length of the string.\n",
    "  - Send the length of string in **return**.\n",
    "- At last **after** returning, the code should display  *the name with length of string*.\n",
    "---\n",
    "\n",
    "Example:\n",
    " - Input \n",
    " ```\n",
    " Enter your name: Jatin\n",
    " ```\n",
    " - Expected Output: **(to be done by calling function only)**\n",
    " ```\n",
    " Jatin has 5 alphabets in his name.\n",
    " ```"
   ]
  },
  {
   "cell_type": "code",
   "execution_count": 64,
   "metadata": {},
   "outputs": [
    {
     "name": "stdout",
     "output_type": "stream",
     "text": [
      "Enter your Name:athu\n",
      "athu has 4 alphabets in his name.\n"
     ]
    }
   ],
   "source": [
    "# Code for Q2\n",
    "\n",
    "name = input('Enter your Name:')                  # name is used to store input value\n",
    "\n",
    "def q():                                        # creating function of name q\n",
    "    length = len(name)                                 # assing  length of name string\n",
    "    return length                                      # returning length\n",
    "\n",
    "print(name,'has',q(),'alphabets in his name.')  # output of length of name by calling function"
   ]
  },
  {
   "cell_type": "markdown",
   "metadata": {
    "id": "KGS51KhcGPBU"
   },
   "source": [
    "# *3. The blast ;) (7 Marks)* (Refer *args topic)\n",
    "\n",
    "Question\n",
    "- Take name and age as **input**.\n",
    "- Make only **1** function.\n",
    "- call the function two times in which:\n",
    "  - At first call, send only the name of student. eg: fun(name) [its just example you can alter names as you wish]\n",
    "  - At second call, send the name and age to the **same** function. eg: fun(name, age)\n",
    "\n",
    "- What should the function do:\n",
    "  - If only one argument print: '**argument** welcome to R-Labs.' [where argument is what you give.]\n",
    "  - If two arguments print: '**arg1** is **arg2** years old.' [where arg1 and arg2 is what you give.]\n",
    "\n",
    "---\n",
    "\n",
    "- Input:\n",
    "```\n",
    "Enter Your Name: Jatin \n",
    "Enter Your Age: 10\n",
    "```\n",
    "- *Inside code* (a hint and must): **USE THE SAME FUNCTION** [but name can differ] \n",
    "```\n",
    "fun(name)\n",
    "fun(name, age)\n",
    "```\n",
    "- Expected Output:\n",
    "```\n",
    "Jatin Welcome to R-Labs.\n",
    "Jatin is 10 years old.\n",
    "```"
   ]
  },
  {
   "cell_type": "code",
   "execution_count": 65,
   "metadata": {
    "id": "YJG3s8UhG7GX",
    "scrolled": true
   },
   "outputs": [
    {
     "name": "stdout",
     "output_type": "stream",
     "text": [
      "Enter your Name:athu\n",
      "Enter your Age:18\n",
      "athu Welcome to R-Labs.\n",
      "athu is 18 years old.\n"
     ]
    }
   ],
   "source": [
    "Name = input('Enter your Name:')\n",
    "Age = int(input('Enter your Age:')) \n",
    "def fun(Name,age = \"\"):\n",
    "    o = print(Name,'Welcome to R-Labs.')\n",
    "    y = print(Name,'is',age,'years old.')\n",
    "    return o,y\n",
    "if ():\n",
    "    fun(Name,age = \"\")\n",
    "else:\n",
    "    fun(Name,age = Age)"
   ]
  }
 ],
 "metadata": {
  "colab": {
   "collapsed_sections": [],
   "name": "Assignment_functions.ipynb",
   "provenance": []
  },
  "kernelspec": {
   "display_name": "Python 3",
   "language": "python",
   "name": "python3"
  },
  "language_info": {
   "codemirror_mode": {
    "name": "ipython",
    "version": 3
   },
   "file_extension": ".py",
   "mimetype": "text/x-python",
   "name": "python",
   "nbconvert_exporter": "python",
   "pygments_lexer": "ipython3",
   "version": "3.9.5"
  }
 },
 "nbformat": 4,
 "nbformat_minor": 1
}
