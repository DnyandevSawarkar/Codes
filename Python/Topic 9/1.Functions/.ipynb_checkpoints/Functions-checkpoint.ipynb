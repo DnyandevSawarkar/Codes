{
 "cells": [
  {
   "cell_type": "markdown",
   "metadata": {
    "id": "sy_VUH0xU6lV"
   },
   "source": [
    "# <center> FUNCTIONS\n",
    "## <center> AUTHOR: R-LABS"
   ]
  },
  {
   "cell_type": "markdown",
   "metadata": {
    "id": "vVCMvL-MVAdQ"
   },
   "source": [
    "**TOPICS COVERED:**\n",
    "1. What is a Funtion?\n",
    "2. Why Function?\n",
    "3. How Functions work in Python?\n",
    "4. Function Calling.\n",
    "5. Difference between parameters and arguments.\n",
    "6. Types of Functions.\n",
    "7. Arguments and their types.\n",
    "8. Scope and Lifetime of Variables.\n"
   ]
  },
  {
   "cell_type": "markdown",
   "metadata": {
    "id": "8VMfX71gkvKM"
   },
   "source": [
    "# Learn By Doing"
   ]
  },
  {
   "cell_type": "markdown",
   "metadata": {
    "id": "Vw-lOm1kVjVB"
   },
   "source": [
    " **Function:**\n",
    "  A group statements that perform a specific task."
   ]
  },
  {
   "cell_type": "code",
   "execution_count": 6,
   "metadata": {
    "id": "ti-fcV6oUwkX"
   },
   "outputs": [],
   "source": [
    "#Syntax:\n",
    "def function_name():\n",
    "  \"\"\"\n",
    "  docstring or multiple line comments\n",
    "  \"\"\"\n",
    "  Statement(s)\n",
    "  return[expression]"
   ]
  },
  {
   "cell_type": "code",
   "execution_count": 5,
   "metadata": {},
   "outputs": [
    {
     "ename": "TypeError",
     "evalue": "'int' object is not callable",
     "output_type": "error",
     "traceback": [
      "\u001b[1;31m---------------------------------------------------------------------------\u001b[0m",
      "\u001b[1;31mTypeError\u001b[0m                                 Traceback (most recent call last)",
      "\u001b[1;32m<ipython-input-5-ad707f8a0ab8>\u001b[0m in \u001b[0;36m<module>\u001b[1;34m\u001b[0m\n\u001b[0;32m      2\u001b[0m     \u001b[1;32mreturn\u001b[0m \u001b[0mlen\u001b[0m\u001b[1;33m(\u001b[0m\u001b[0mcode\u001b[0m\u001b[1;33m)\u001b[0m\u001b[1;33m\u001b[0m\u001b[1;33m\u001b[0m\u001b[0m\n\u001b[0;32m      3\u001b[0m \u001b[1;33m\u001b[0m\u001b[0m\n\u001b[1;32m----> 4\u001b[1;33m \u001b[0mwill_re_len\u001b[0m\u001b[1;33m(\u001b[0m\u001b[1;34m'hello'\u001b[0m\u001b[1;33m)\u001b[0m\u001b[1;33m\u001b[0m\u001b[1;33m\u001b[0m\u001b[0m\n\u001b[0m\u001b[0;32m      5\u001b[0m \u001b[0mprint\u001b[0m\u001b[1;33m(\u001b[0m\u001b[1;34m'hi'\u001b[0m\u001b[1;33m)\u001b[0m\u001b[1;33m\u001b[0m\u001b[1;33m\u001b[0m\u001b[0m\n",
      "\u001b[1;32m<ipython-input-5-ad707f8a0ab8>\u001b[0m in \u001b[0;36mwill_re_len\u001b[1;34m(code)\u001b[0m\n\u001b[0;32m      1\u001b[0m \u001b[1;32mdef\u001b[0m \u001b[0mwill_re_len\u001b[0m\u001b[1;33m(\u001b[0m\u001b[0mcode\u001b[0m\u001b[1;33m)\u001b[0m\u001b[1;33m:\u001b[0m\u001b[1;33m\u001b[0m\u001b[1;33m\u001b[0m\u001b[0m\n\u001b[1;32m----> 2\u001b[1;33m     \u001b[1;32mreturn\u001b[0m \u001b[0mlen\u001b[0m\u001b[1;33m(\u001b[0m\u001b[0mcode\u001b[0m\u001b[1;33m)\u001b[0m\u001b[1;33m\u001b[0m\u001b[1;33m\u001b[0m\u001b[0m\n\u001b[0m\u001b[0;32m      3\u001b[0m \u001b[1;33m\u001b[0m\u001b[0m\n\u001b[0;32m      4\u001b[0m \u001b[0mwill_re_len\u001b[0m\u001b[1;33m(\u001b[0m\u001b[1;34m'hello'\u001b[0m\u001b[1;33m)\u001b[0m\u001b[1;33m\u001b[0m\u001b[1;33m\u001b[0m\u001b[0m\n\u001b[0;32m      5\u001b[0m \u001b[0mprint\u001b[0m\u001b[1;33m(\u001b[0m\u001b[1;34m'hi'\u001b[0m\u001b[1;33m)\u001b[0m\u001b[1;33m\u001b[0m\u001b[1;33m\u001b[0m\u001b[0m\n",
      "\u001b[1;31mTypeError\u001b[0m: 'int' object is not callable"
     ]
    }
   ],
   "source": []
  },
  {
   "cell_type": "markdown",
   "metadata": {
    "id": "8pD2zMKikvKO"
   },
   "source": [
    "<Statement(s)>, is called the body of the function. \n",
    "\n",
    "The body is a block of statements that will be executed when the function is called. "
   ]
  },
  {
   "cell_type": "markdown",
   "metadata": {
    "id": "lBdbobcKZqh5"
   },
   "source": [
    "## Function without arguments:"
   ]
  },
  {
   "cell_type": "markdown",
   "metadata": {
    "id": "8Fv_1exOCEfe"
   },
   "source": [
    "Lets check the 1st program using functions \n",
    "1. Creating a Function\n",
    "\n",
    "    In Python a function is defined using the def keyword followed with the function's name:"
   ]
  },
  {
   "cell_type": "code",
   "execution_count": 7,
   "metadata": {
    "id": "efkxIFuekvKQ"
   },
   "outputs": [],
   "source": [
    "# Create function\n",
    "\n",
    "# function defination\n",
    "def hello():                               # hello is name of function\n",
    "  print(\"hello world...!\")                 # this statement prints \"hello world!\""
   ]
  },
  {
   "cell_type": "markdown",
   "metadata": {
    "id": "hWxX3btwkvKR"
   },
   "source": [
    "If you have executed above function, you would not have got any Output.                                                                         \n",
    "Reason is very obvious that function is not called."
   ]
  },
  {
   "cell_type": "markdown",
   "metadata": {
    "id": "NeQ0X8FTkvKS"
   },
   "source": [
    "#### How do you call functions in Python?"
   ]
  },
  {
   "cell_type": "markdown",
   "metadata": {
    "id": "NgZ2n1JTkvKS"
   },
   "source": [
    "Simply write the function's name followed by ()                                                    \n",
    "For example, lets call the functions written above (in above create function code):"
   ]
  },
  {
   "cell_type": "code",
   "execution_count": 8,
   "metadata": {
    "id": "on_mTu5wkvKT",
    "outputId": "576864f1-3471-4b19-930e-f55a49a39fce"
   },
   "outputs": [
    {
     "name": "stdout",
     "output_type": "stream",
     "text": [
      "hello world...!\n"
     ]
    }
   ],
   "source": [
    "# Run create function code before this cell\n",
    "hello()"
   ]
  },
  {
   "cell_type": "markdown",
   "metadata": {
    "id": "bddFdi86kvKV"
   },
   "source": [
    "-So every functions has two part                                                                      \n",
    "i.  Function definition                                                                               \n",
    "ii. Function call                                                                                     \n",
    "\n",
    "Till now we have learn these two parts in two different cell.                                         \n",
    "Now lets see the combine program"
   ]
  },
  {
   "cell_type": "code",
   "execution_count": null,
   "metadata": {
    "colab": {
     "base_uri": "https://localhost:8080/",
     "height": 34
    },
    "id": "1n2-SUdUWmtK",
    "outputId": "c6aaa5eb-430c-489d-bd48-59646ec711d6"
   },
   "outputs": [
    {
     "name": "stdout",
     "output_type": "stream",
     "text": [
      "hello world...!\n"
     ]
    }
   ],
   "source": [
    "# function without arguments\n",
    "# function definition\n",
    "def hello():                               # hello function is made                                \n",
    "  print(\"hello world...!\")                 # this statement prints \"hello world!\"\n",
    "\n",
    "# function  Call\n",
    "hello()                                    # function is called so that we can see the output"
   ]
  },
  {
   "cell_type": "markdown",
   "metadata": {
    "id": "IR8MmGPikvKX"
   },
   "source": [
    "In the above program, first function hello( ) is defines which includes only one statement to print \n",
    "hello world...! \n",
    "\n",
    "Function is define using proper syntax and rules for defining function.\n",
    "\n",
    "Once function is defined it is called by just writing a statement which includes function name.\n",
    "So here, hello() is used  to call define function"
   ]
  },
  {
   "cell_type": "markdown",
   "metadata": {
    "id": "uKe4OkHCkvKX"
   },
   "source": [
    "### How To Add Docstrings To A Python Function\n",
    "Docstrings describe what your function does, such as the computations it performs or its return values.                                                                                               \n",
    "Function docstrings are placed in the immediate line after the function header and are placed in between triple quotation marks."
   ]
  },
  {
   "cell_type": "code",
   "execution_count": null,
   "metadata": {
    "id": "cPHEpI-UkvKY",
    "outputId": "38245d00-3a90-46b4-efa2-2f7d52236fca"
   },
   "outputs": [
    {
     "name": "stdout",
     "output_type": "stream",
     "text": [
      "hello world...!\n"
     ]
    }
   ],
   "source": [
    "# function without arguments\n",
    "# function defination includes docdtring\n",
    "def hello():                               # hello function is made \n",
    "    \"\"\"Prints \"Hello World\".\n",
    "        This is Docstring                  # Docstrings describe what your function does\n",
    "    \"\"\"\n",
    "    print(\"hello world...!\")                 # this statement prints \"hello world!\"\n",
    "\n",
    "# function  Call\n",
    "hello()                                    # function is called so that we can see the output"
   ]
  },
  {
   "cell_type": "markdown",
   "metadata": {
    "id": "8jxthWYXZEtf"
   },
   "source": [
    "Example 1: Write a python code to make a function \"greet\" that prints the message \"good morning\"."
   ]
  },
  {
   "cell_type": "code",
   "execution_count": null,
   "metadata": {
    "id": "uIrHOB3-YFuV"
   },
   "outputs": [],
   "source": [
    "#create a function greet\n",
    "#print the message\n",
    "#call the function"
   ]
  },
  {
   "cell_type": "markdown",
   "metadata": {
    "id": "HtAw_DTmoiih"
   },
   "source": [
    "2. Code for adding two numbers:"
   ]
  },
  {
   "cell_type": "code",
   "execution_count": null,
   "metadata": {
    "colab": {
     "base_uri": "https://localhost:8080/",
     "height": 34
    },
    "id": "cPCwoeXEZk1I",
    "outputId": "963adeaa-8ffe-4b7d-e53e-777836577eae"
   },
   "outputs": [
    {
     "name": "stdout",
     "output_type": "stream",
     "text": [
      "the addition comes out to be:  11\n"
     ]
    }
   ],
   "source": [
    "# function definition\n",
    "def add():                                       #add function is created to perform addition of two numbers\n",
    "  \"\"\"\n",
    "  this function gives sum of two numbers\n",
    "  \"\"\"\n",
    "  x = 5\n",
    "  y = 6                                          #variables are declared and their respective value is assigned to them\n",
    "  sum = x+y\n",
    "  print(\"the addition comes out to be: \",sum)      #result is printed\n",
    "\n",
    "# function call\n",
    "add()                                              #add function is called to see the output"
   ]
  },
  {
   "cell_type": "markdown",
   "metadata": {
    "id": "6-79Ljvpo22w"
   },
   "source": [
    "Example 2: Write a Python script to do subtraction of two numbers."
   ]
  },
  {
   "cell_type": "code",
   "execution_count": null,
   "metadata": {
    "id": "s_YCbOsTo3WP"
   },
   "outputs": [],
   "source": [
    "#create a function for subtraction\n",
    "#declare the variables\n",
    "#print the result\n",
    "#call the function"
   ]
  },
  {
   "cell_type": "markdown",
   "metadata": {
    "id": "3aO6PTJ1OlUo"
   },
   "source": [
    "3. Code to find the area of square:\n",
    "\n",
    "This program includes a function area( );\n",
    "\n",
    "Body of the function area( ) consists of statements to calculate area of square and print it.\n",
    "\n",
    "When function is called you will gwt output as area of square."
   ]
  },
  {
   "cell_type": "code",
   "execution_count": null,
   "metadata": {
    "colab": {
     "base_uri": "https://localhost:8080/",
     "height": 34
    },
    "id": "dqfZQp_xpXtL",
    "outputId": "014ae1b3-05a5-4c50-fcdf-1ac1b55997d5"
   },
   "outputs": [
    {
     "name": "stdout",
     "output_type": "stream",
     "text": [
      "the area of square =  16\n"
     ]
    }
   ],
   "source": [
    "# function definition\n",
    "def area():                                               #area function is created\n",
    "  side = 4                                               #variable side is declared assigning it a value\n",
    "  area_of_square = side*side\n",
    "  print(\"the area of square = \", area_of_square)         #this statement prints the area calculated\n",
    "\n",
    "# function call\n",
    "area()                                                   #function is called to get the output"
   ]
  },
  {
   "cell_type": "markdown",
   "metadata": {
    "id": "_vFtFQcwkvKc"
   },
   "source": [
    "In the above program we made a function without arguments i.e. \"area\", to calculate the area of square. \n",
    "\n",
    "Here we have to give the input, hence \"side = 4\" is given input to the function as the length of the side is required to calculate the area of the square. \n",
    "\n",
    "Then, the last second line is written to print the calculated area and at last the function is called so that we can get the output(since without calling the function we won't get any output of the program)."
   ]
  },
  {
   "cell_type": "markdown",
   "metadata": {
    "id": "bocgk7AwpWzB"
   },
   "source": [
    "Example 3: Write a Python script to find the area of circle."
   ]
  },
  {
   "cell_type": "code",
   "execution_count": null,
   "metadata": {
    "id": "HTP_EJkmqscB"
   },
   "outputs": [],
   "source": [
    "#create a function to find the area of circle\n",
    "#call the function"
   ]
  },
  {
   "cell_type": "markdown",
   "metadata": {
    "id": "TbFfq7ykZ9IE"
   },
   "source": [
    "## Function With Arguments:\n",
    "\n",
    "Functions may also receive arguments (variables passed from the caller to the function)."
   ]
  },
  {
   "cell_type": "markdown",
   "metadata": {
    "id": "nyAe9pd8kvKe"
   },
   "source": [
    "In the program, we have made a function greet( ) with argument i.e. \"name\" is passed as the parameter, so when the message will be printed then it will also print the name of the person. \n",
    "\n",
    "The last second line prints the message hello and the name of the person which user can give as argument while calling the function."
   ]
  },
  {
   "cell_type": "markdown",
   "metadata": {
    "id": "A4Aq11pAOtD-"
   },
   "source": [
    "4. Code to greet a person:"
   ]
  },
  {
   "cell_type": "code",
   "execution_count": null,
   "metadata": {
    "colab": {
     "base_uri": "https://localhost:8080/",
     "height": 34
    },
    "id": "Jxk8fVTYsOSe",
    "outputId": "ebcd4d78-bb66-47b4-c14a-a43799b6d4fe"
   },
   "outputs": [
    {
     "name": "stdout",
     "output_type": "stream",
     "text": [
      "Hello, Stephen\n"
     ]
    }
   ],
   "source": [
    "# function definition\n",
    "def greet(name):                                         #greet function is created and a parameter 'name' is passed\n",
    "  \"\"\"\n",
    "  this function greets to the person whose name is passed as a parameter\n",
    "  \"\"\"\n",
    "  print(\"Hello, \"+name)                                  #it prints the message 'hello' and name of the person will also be printed\n",
    "\n",
    "# function call\n",
    "greet(\"Stephen\")                                         #function called and argument is passed "
   ]
  },
  {
   "cell_type": "markdown",
   "metadata": {
    "id": "FHpCVO_zsrJy"
   },
   "source": [
    "Example 4: Write a Python script to greet a person.\n"
   ]
  },
  {
   "cell_type": "code",
   "execution_count": null,
   "metadata": {
    "id": "WaiYNuSpsrhm"
   },
   "outputs": [],
   "source": [
    "#create a function passing parameter name of the person to be greeted\n",
    "#along with name, message should be printed like good morning, name\n",
    "#call function"
   ]
  },
  {
   "cell_type": "markdown",
   "metadata": {
    "id": "G5d54HrEO3TE"
   },
   "source": [
    "5. Code to find the product of two numbers:"
   ]
  },
  {
   "cell_type": "code",
   "execution_count": null,
   "metadata": {
    "colab": {
     "base_uri": "https://localhost:8080/",
     "height": 34
    },
    "id": "WVJqFTKmuMDe",
    "outputId": "34a6a84e-c61c-4fbc-ec80-629f5e59136f"
   },
   "outputs": [
    {
     "name": "stdout",
     "output_type": "stream",
     "text": [
      "the multiplication comes out as:  15\n"
     ]
    }
   ],
   "source": [
    "# function definition\n",
    "def mul(x,y):                                              #mul function is created and 'x & y' parameters are passed\n",
    "  product = x*y\n",
    "  print(\"the multiplication comes out as: \", product)      #prints the result of multiplication\n",
    "\n",
    "# function call\n",
    "mul(3,5)                                                   #function is called and '3 & 5' are the arguments"
   ]
  },
  {
   "cell_type": "markdown",
   "metadata": {
    "id": "DUJtE7lSkvKi"
   },
   "source": [
    "Here, we have created a function mul( para1, para2 ) with parameters- x & y  to get the product of two numbers.     \n",
    "Hence two variables are passed as parameters while declaring the function in the first line.          \n",
    "Second line shows simple product of two numbers and then the third line is used to print the product.   \n",
    "In the last line the function above defined function is called along with 2 arguments i.e. mul(3,5)."
   ]
  },
  {
   "cell_type": "markdown",
   "metadata": {
    "id": "ky8G3qmWkvKi"
   },
   "source": [
    "**Difference between arguments and parameters:**"
   ]
  },
  {
   "cell_type": "code",
   "execution_count": null,
   "metadata": {
    "id": "4r0og7g0kvKi",
    "outputId": "1a5e7601-c246-45e8-cc2e-add287f79bed"
   },
   "outputs": [
    {
     "data": {
      "text/plain": [
       "5"
      ]
     },
     "execution_count": 7,
     "metadata": {
      "tags": []
     },
     "output_type": "execute_result"
    }
   ],
   "source": [
    "# function definition\n",
    "def add(x, y):        # x & y are parameters \n",
    "   sum = x + y\n",
    "   return sum\n",
    "\n",
    "# function call\n",
    "add(2,3)              # on calling the function 2 & 3 are given as arguments"
   ]
  },
  {
   "cell_type": "markdown",
   "metadata": {
    "id": "ECi99O02kvKj"
   },
   "source": [
    "Here, from the above code we can understand the difference between parameters and arguments.          \n",
    "A function with arguments i.e. add() is created and 'x & y' are passed as parameters then return statement returns the value of sum.                                                                       \n",
    "Function is called at the last to see the output and along with this the arguments are given i.e. \"2,3\". Therefore, we obtain the sum as 5."
   ]
  },
  {
   "cell_type": "markdown",
   "metadata": {
    "id": "Hr7Chfh2uzB3"
   },
   "source": [
    "Example 5: Write a Python script to find the result of division of two numbers."
   ]
  },
  {
   "cell_type": "code",
   "execution_count": null,
   "metadata": {
    "id": "2HClbE1GvGJZ"
   },
   "outputs": [],
   "source": [
    "#create a function for division\n",
    "#pass the variables which are to be divided as parameters\n",
    "#print the result\n",
    "#call the function "
   ]
  },
  {
   "cell_type": "markdown",
   "metadata": {
    "id": "AIsyxhb2O-WP"
   },
   "source": [
    "6. Code to find the area of a triangle:"
   ]
  },
  {
   "cell_type": "code",
   "execution_count": null,
   "metadata": {
    "colab": {
     "base_uri": "https://localhost:8080/",
     "height": 34
    },
    "id": "muBDnZ3B7NCW",
    "outputId": "ec801e38-e43b-4d49-cc8b-eaf90cb7f11b"
   },
   "outputs": [
    {
     "name": "stdout",
     "output_type": "stream",
     "text": [
      "The area of traingle =  75.0\n"
     ]
    }
   ],
   "source": [
    "# function definition\n",
    "def triangle(b,h):                                 #triangle function is created and 'base & height i.e. b & h' parameters are passed\n",
    "  area = 0.5*b*h\n",
    "  print(\"The area of traingle = \", area)           #prints the result\n",
    "\n",
    "    \n",
    "# function call\n",
    "triangle(10,15)                                    #function is called "
   ]
  },
  {
   "cell_type": "markdown",
   "metadata": {
    "id": "pLpg2dAf7tWH"
   },
   "source": [
    "### If else in Function\n",
    "Example 6: Write a Python script to find the area of a rectangle."
   ]
  },
  {
   "cell_type": "code",
   "execution_count": null,
   "metadata": {
    "id": "81Stlk_47trO"
   },
   "outputs": [],
   "source": [
    "#create a function to find the area of rectangle\n",
    "#pass the variables required to find the area as parameters\n",
    "#print the result\n",
    "#call the function and pass the arguments along with it"
   ]
  },
  {
   "cell_type": "markdown",
   "metadata": {
    "id": "-e1cgOYsPEvm"
   },
   "source": [
    "7. Code to check whether the number is positive or negative:"
   ]
  },
  {
   "cell_type": "code",
   "execution_count": null,
   "metadata": {
    "colab": {
     "base_uri": "https://localhost:8080/",
     "height": 34
    },
    "id": "WNCJYEEk8ckn",
    "outputId": "60f8c3e4-8946-4d88-809c-de30c9c557c2"
   },
   "outputs": [
    {
     "name": "stdout",
     "output_type": "stream",
     "text": [
      "the number is negative\n"
     ]
    }
   ],
   "source": [
    "# function definition\n",
    "def check(n):                                #check function is created and 'n' is passed as parameter\n",
    "  if n>=0:                                   #condition to check if the number is positive\n",
    "    print(\"the number is positive\")          #this statement prints that the number is positive\n",
    "  else:                                      #if the numnber doesn't fulfill the above condition then the number is considered as negative\n",
    "    print(\"the number is negative\")\n",
    "\n",
    "# function call\n",
    "check(-10)                                   #function is called and the number is passed as argument"
   ]
  },
  {
   "cell_type": "markdown",
   "metadata": {
    "id": "CYgXaCQ8kvKn"
   },
   "source": [
    "The above program is written to determine whether the number is positive or negative.       \n",
    "Therefore, we have made function with argument \"check\" and here 'n' is passed as parameter.        \n",
    "Then we use if....else statement to check whether the input satisfies the condition or not.         \n",
    "So, if the number entered as an argument when the function is called(last line) is greater than or equal to zero then it will print the message as shown in the line below the if statement or it will print the message present below else."
   ]
  },
  {
   "cell_type": "markdown",
   "metadata": {
    "id": "5gBGoobHP5E-"
   },
   "source": [
    "Example 7: Write a Python script to check whether the number is even or odd."
   ]
  },
  {
   "cell_type": "code",
   "execution_count": null,
   "metadata": {
    "id": "MO_86uDjQP_K"
   },
   "outputs": [],
   "source": [
    "#create a function to check whether the number is even or odd\n",
    "#set the required conditions\n",
    "#print the result\n",
    "#call the function"
   ]
  },
  {
   "cell_type": "markdown",
   "metadata": {
    "id": "8iKhOF1sQ4uV"
   },
   "source": [
    "List and Functions\n",
    "8. Code to find the sum of numbers present in a list:\n"
   ]
  },
  {
   "cell_type": "code",
   "execution_count": null,
   "metadata": {
    "colab": {
     "base_uri": "https://localhost:8080/",
     "height": 34
    },
    "id": "mUY0njlgQ5FB",
    "outputId": "62bfb542-b40c-425c-c468-15976d33126a"
   },
   "outputs": [
    {
     "name": "stdout",
     "output_type": "stream",
     "text": [
      "the sum is:  15\n"
     ]
    }
   ],
   "source": [
    "# function definition\n",
    "def add():\n",
    "  numbers = [ 1,2,3,4,5 ]                     #list of numbers\n",
    "  sum = 0                                      # variable to store the sum\n",
    "  #iterate over the list\n",
    "  for val in numbers:\n",
    "    sum = sum+val\n",
    "  print(\"the sum is: \", sum)\n",
    "\n",
    "# function call\n",
    "add()"
   ]
  },
  {
   "cell_type": "markdown",
   "metadata": {
    "id": "7A6th88IkvKp"
   },
   "source": [
    "In the above code we have created function without argument i.e. \"add\".                               \n",
    "After docstring we have created a list containg different numbers.                                \n",
    "Then, in the next line we initialised a variable \"sum = 0\".                                       \n",
    "for loop is used to traverse through the list and then we have to print the result and call the function."
   ]
  },
  {
   "cell_type": "markdown",
   "metadata": {
    "id": "FcwMHnRQh51P"
   },
   "source": [
    "Example 8: Write a Python script to find the product of all the numbers present in the list."
   ]
  },
  {
   "cell_type": "code",
   "execution_count": null,
   "metadata": {
    "id": "Xom3zapNiFyk"
   },
   "outputs": [],
   "source": [
    "#create a function to find the product\n",
    "#make a list\n",
    "#use required loop and determine the product\n",
    "#print the result\n",
    "#call the function"
   ]
  },
  {
   "cell_type": "markdown",
   "metadata": {
    "id": "cxSX3NKvi5UX"
   },
   "source": [
    "9. Code to display students marks from record:"
   ]
  },
  {
   "cell_type": "code",
   "execution_count": null,
   "metadata": {
    "colab": {
     "base_uri": "https://localhost:8080/",
     "height": 34
    },
    "id": "4LIJLtcUi5-2",
    "outputId": "090e7b8a-2513-4fc8-d4d3-cc438a1382d8"
   },
   "outputs": [
    {
     "name": "stdout",
     "output_type": "stream",
     "text": [
      "90\n"
     ]
    }
   ],
   "source": [
    "# program to display student's marks from record\n",
    "# function definition\n",
    "def marks():\n",
    "  student_name = 'James'\n",
    "\n",
    "  marks = {'James': 90, 'Jules': 55, 'Arthur': 77}\n",
    "\n",
    "  for student in marks:\n",
    "      if student == student_name:\n",
    "          print(marks[student])\n",
    "          break\n",
    "  else:\n",
    "      print('No entry with that name found.')\n",
    "        \n",
    "# function call\n",
    "marks()"
   ]
  },
  {
   "cell_type": "markdown",
   "metadata": {
    "id": "CSk8bGa3kvKr"
   },
   "source": [
    "The above code is written to display student's marks.                                               \n",
    "So we made a function \"marks\" and initialised a variable \"student_name\" to store the name of student whose marks is to be displayed.                                                                   \n",
    "Then a dictionary is created to keep the record of students and their respective marks.            \n",
    "for loop is used to check the student and their marks.                                              \n",
    "If the name of the student matches with the name stored in the variable\"student_name\" then his/her marks will be displayed, otherwise the name doesn't match then it will print a message \"no entry with that name\""
   ]
  },
  {
   "cell_type": "markdown",
   "metadata": {
    "id": "MuqlkE1pjJ9c"
   },
   "source": [
    "Example 9: Write a Python script to display the attendance of students"
   ]
  },
  {
   "cell_type": "code",
   "execution_count": null,
   "metadata": {
    "id": "jXbgTpbujKdu"
   },
   "outputs": [],
   "source": [
    "#create a function to display the attendance of students\n",
    "#create a dictionary of students and their respective attendance\n",
    "#print the result\n",
    "#call the function"
   ]
  },
  {
   "cell_type": "markdown",
   "metadata": {
    "id": "66X-WC8UkiP8"
   },
   "source": [
    "10. Code to double the input value using \"Lambda Function\":"
   ]
  },
  {
   "cell_type": "code",
   "execution_count": null,
   "metadata": {
    "colab": {
     "base_uri": "https://localhost:8080/",
     "height": 34
    },
    "id": "CpqSh1PMksKw",
    "outputId": "a830c3af-32ec-4639-9fcf-df84bf1c3c28"
   },
   "outputs": [
    {
     "name": "stdout",
     "output_type": "stream",
     "text": [
      "4\n"
     ]
    }
   ],
   "source": [
    "double = lambda x: x*2\n",
    "print(double(2))"
   ]
  },
  {
   "cell_type": "markdown",
   "metadata": {
    "id": "8LZZpjWCkvKs"
   },
   "source": [
    "In the above example, \"lambda x: x2\" is the lambda fuction.                                      \n",
    "Here, x is the argumentand x2 is the expression that gets evaluated and returned"
   ]
  },
  {
   "cell_type": "markdown",
   "metadata": {
    "id": "d6JFJE29k3dK"
   },
   "source": [
    "Example 10: Write a code to find the cube of a number."
   ]
  },
  {
   "cell_type": "code",
   "execution_count": null,
   "metadata": {
    "id": "-ARZ4-5pk4Gl"
   },
   "outputs": [],
   "source": [
    "#think about the logic to find the cube of a number and apply it using lambda function\n",
    "#print the result by passing argument"
   ]
  },
  {
   "cell_type": "markdown",
   "metadata": {
    "id": "ZoaDldT-lWsu"
   },
   "source": [
    "**Difference between arguments and parameters:**"
   ]
  },
  {
   "cell_type": "code",
   "execution_count": null,
   "metadata": {
    "colab": {
     "base_uri": "https://localhost:8080/",
     "height": 34
    },
    "id": "5xIlUSwRmdAv",
    "outputId": "ee5628bb-4f11-496b-f22e-cb9b9107e435"
   },
   "outputs": [
    {
     "data": {
      "text/plain": [
       "5"
      ]
     },
     "execution_count": 77,
     "metadata": {
      "tags": []
     },
     "output_type": "execute_result"
    }
   ],
   "source": [
    "# function definition\n",
    "def add(x, y): \n",
    "  \"\"\"\n",
    "  this function gives us the sum of two numbers \n",
    "  \"\"\"                                   #for the function add there are two parameters x and y \n",
    "  sum = x + y\n",
    "  return sum\n",
    "\n",
    "# function call\n",
    "add(2,3)                                          # on calling the function 2 & 3 are given as arguments"
   ]
  },
  {
   "cell_type": "code",
   "execution_count": null,
   "metadata": {
    "colab": {
     "base_uri": "https://localhost:8080/",
     "height": 34
    },
    "id": "wZK52LdYlQ6_",
    "outputId": "0ffeca04-d5cc-4294-f490-96a000aedc5f"
   },
   "outputs": [
    {
     "name": "stdout",
     "output_type": "stream",
     "text": [
      "64\n"
     ]
    }
   ],
   "source": [
    "# function definition\n",
    "def f(x):\n",
    "     if x < 0:\n",
    "         return\n",
    "     if x > 100:\n",
    "         return\n",
    "     print(x)\n",
    "\n",
    "# function call\n",
    "f(64)\n"
   ]
  },
  {
   "cell_type": "markdown",
   "metadata": {
    "id": "o9vtbnBC9ixp"
   },
   "source": [
    "**Argument and their Types:**\n",
    "1. Default Arguments.\n",
    "2. Keyword Arguments.\n",
    "3. Arbitrary Arguments."
   ]
  },
  {
   "cell_type": "markdown",
   "metadata": {
    "id": "KtKHVcgo9nud"
   },
   "source": [
    "1. **Default Arguments:** You can provide a default value to an argument by using the assignment operator(=).\n",
    "Example :\n"
   ]
  },
  {
   "cell_type": "code",
   "execution_count": null,
   "metadata": {
    "colab": {
     "base_uri": "https://localhost:8080/",
     "height": 34
    },
    "id": "2jefQ7ry9lrA",
    "outputId": "8dd0823b-9efc-4b2d-e87f-733d212ee2ce"
   },
   "outputs": [
    {
     "name": "stdout",
     "output_type": "stream",
     "text": [
      "Student's name is: Ram studying at SVPCET\n"
     ]
    }
   ],
   "source": [
    "# function definition\n",
    "def record(name, clg_name = \"SVPCET\"):\n",
    "  \"\"\"\n",
    "  this function keeps the record of the name of the student studying in a SVPCET college\n",
    "  \"\"\"\n",
    "  print(\"Student's name is: \" +name+ \" studying at \" +clg_name)\n",
    "\n",
    "# function call\n",
    "record(\"Ram\")"
   ]
  },
  {
   "cell_type": "markdown",
   "metadata": {
    "id": "uA7JgA8H91AM"
   },
   "source": [
    "2. **Keyword Arguments:** When we call a function with some values, these values get assigned to the arguments according to their position.\n",
    "Example:\n"
   ]
  },
  {
   "cell_type": "code",
   "execution_count": null,
   "metadata": {
    "colab": {
     "base_uri": "https://localhost:8080/",
     "height": 50
    },
    "id": "vgM56bIH9wwn",
    "outputId": "69970058-3f07-41d7-93de-50b97f394a2c"
   },
   "outputs": [
    {
     "name": "stdout",
     "output_type": "stream",
     "text": [
      "name :  xyz\n",
      "age :  45\n"
     ]
    }
   ],
   "source": [
    "# function definition\n",
    "def bio( name, age):\n",
    "  \"\"\"\n",
    "  this function tells us about the name and the age of the person\n",
    "  \"\"\"\n",
    "  print(\"name : \", name)\n",
    "  print(\"age : \", age)\n",
    "\n",
    "# function call\n",
    "bio(age = 45, name = \"xyz\")"
   ]
  },
  {
   "cell_type": "markdown",
   "metadata": {
    "id": "57vWls4g-ti-"
   },
   "source": [
    "3. **Arbitrary Arguments**: when the number of arguments that will be passed into a function are unknown then it is known as arbitrary arguments.\n",
    "Example:\n",
    "\n",
    "\n"
   ]
  },
  {
   "cell_type": "code",
   "execution_count": null,
   "metadata": {
    "colab": {
     "base_uri": "https://localhost:8080/",
     "height": 84
    },
    "id": "35kaLaDy-rDd",
    "outputId": "d61c0708-8488-450c-ad91-440a80b272c2"
   },
   "outputs": [
    {
     "name": "stdout",
     "output_type": "stream",
     "text": [
      "Hello Stephen\n",
      "Hello Rose\n",
      "Hello Damon\n",
      "Hello Johnny\n"
     ]
    }
   ],
   "source": [
    "# function definition\n",
    "def greet(*names):\n",
    "    \"\"\"This function greets all\n",
    "    the person in the names tuple.\"\"\"\n",
    "\n",
    "    # names is a tuple with arguments\n",
    "    for name in names:\n",
    "        print(\"Hello\", name)\n",
    "\n",
    "# function call\n",
    "greet(\"Stephen\", \"Rose\", \"Damon\", \"Johnny\")"
   ]
  },
  {
   "cell_type": "markdown",
   "metadata": {
    "id": "wUht2UxS-2-e"
   },
   "source": [
    "**Scope and Lifetime of Variable:** You might have read this topic through the resources so let us now understand it through an example."
   ]
  },
  {
   "cell_type": "code",
   "execution_count": null,
   "metadata": {
    "colab": {
     "base_uri": "https://localhost:8080/",
     "height": 50
    },
    "id": "ze9T7TO3-yRk",
    "outputId": "2f43eb31-cdfc-49be-8a30-003ac792f6bc"
   },
   "outputs": [
    {
     "name": "stdout",
     "output_type": "stream",
     "text": [
      "the value of 'a' inside the function is:  4\n",
      "the value of 'a' outside the function is:  15\n"
     ]
    }
   ],
   "source": [
    "# function definition\n",
    "def func():\n",
    "  a = 4\n",
    "  print(\"the value of 'a' inside the function is: \", a)\n",
    "a = 15\n",
    "\n",
    "# function call\n",
    "func()\n",
    "print(\"the value of 'a' outside the function is: \", a)"
   ]
  },
  {
   "cell_type": "markdown",
   "metadata": {
    "id": "KjX3y_BI-8ud"
   },
   "source": [
    "**Global Variables:** A variable declared outside the function or in global spcae is known as global variable."
   ]
  },
  {
   "cell_type": "code",
   "execution_count": null,
   "metadata": {
    "colab": {
     "base_uri": "https://localhost:8080/",
     "height": 50
    },
    "id": "Nzt9by8C-6RN",
    "outputId": "9dd3b535-da60-4bd6-9932-8e29db0d2a82"
   },
   "outputs": [
    {
     "name": "stdout",
     "output_type": "stream",
     "text": [
      "x inside:  global\n",
      "x outside:  global\n"
     ]
    }
   ],
   "source": [
    "# creating a global variable\n",
    "x = \"global\"\n",
    "\n",
    "# function definition\n",
    "def func():\n",
    "  print(\"x inside: \",x)\n",
    "\n",
    "# function call\n",
    "func()\n",
    "print(\"x outside: \",x)"
   ]
  },
  {
   "cell_type": "markdown",
   "metadata": {
    "id": "7cTSVoxL_B_L"
   },
   "source": [
    "**Local Variable:** A variable declared inside the function's body or in the local scope is known as local variable."
   ]
  },
  {
   "cell_type": "code",
   "execution_count": null,
   "metadata": {
    "colab": {
     "base_uri": "https://localhost:8080/",
     "height": 197
    },
    "id": "Qt30TzLW-_Vt",
    "outputId": "cfa773ca-ec07-40a1-aa9e-b0173a412383"
   },
   "outputs": [
    {
     "ename": "NameError",
     "evalue": "ignored",
     "output_type": "error",
     "traceback": [
      "\u001b[0;31m---------------------------------------------------------------------------\u001b[0m",
      "\u001b[0;31mNameError\u001b[0m                                 Traceback (most recent call last)",
      "\u001b[0;32m<ipython-input-84-93e04a4dfc1e>\u001b[0m in \u001b[0;36m<module>\u001b[0;34m()\u001b[0m\n\u001b[1;32m      2\u001b[0m   \u001b[0my\u001b[0m \u001b[0;34m=\u001b[0m \u001b[0;34m\"local\"\u001b[0m              \u001b[0;31m# declaring variable 'y'\u001b[0m\u001b[0;34m\u001b[0m\u001b[0;34m\u001b[0m\u001b[0m\n\u001b[1;32m      3\u001b[0m \u001b[0mfunctn\u001b[0m\u001b[0;34m(\u001b[0m\u001b[0;34m)\u001b[0m                   \u001b[0;31m# calling function\u001b[0m\u001b[0;34m\u001b[0m\u001b[0;34m\u001b[0m\u001b[0m\n\u001b[0;32m----> 4\u001b[0;31m \u001b[0mprint\u001b[0m\u001b[0;34m(\u001b[0m\u001b[0my\u001b[0m\u001b[0;34m)\u001b[0m                   \u001b[0;31m# printing the variable 'y'\u001b[0m\u001b[0;34m\u001b[0m\u001b[0;34m\u001b[0m\u001b[0m\n\u001b[0m",
      "\u001b[0;31mNameError\u001b[0m: name 'y' is not defined"
     ]
    }
   ],
   "source": [
    "# function definition\n",
    "def functn():              # defining a function \n",
    "  y = \"local\"              # declaring variable 'y'\n",
    "\n",
    "# function call\n",
    "functn()                   # calling function\n",
    "print(y)                   # printing the variable 'y'"
   ]
  },
  {
   "cell_type": "markdown",
   "metadata": {
    "id": "3WbnAeO8_JGN"
   },
   "source": [
    "The above code gives **error** in the output because we are trying to access a local variable 'y' in a global scope whereas the local variable only works inside functn() or local scope."
   ]
  },
  {
   "cell_type": "code",
   "execution_count": null,
   "metadata": {
    "id": "pe1UoMeO_w1Q"
   },
   "outputs": [],
   "source": []
  }
 ],
 "metadata": {
  "colab": {
   "collapsed_sections": [],
   "name": "Functions.ipynb",
   "provenance": []
  },
  "kernelspec": {
   "display_name": "Python 3",
   "language": "python",
   "name": "python3"
  },
  "language_info": {
   "codemirror_mode": {
    "name": "ipython",
    "version": 3
   },
   "file_extension": ".py",
   "mimetype": "text/x-python",
   "name": "python",
   "nbconvert_exporter": "python",
   "pygments_lexer": "ipython3",
   "version": "3.9.5"
  }
 },
 "nbformat": 4,
 "nbformat_minor": 1
}
