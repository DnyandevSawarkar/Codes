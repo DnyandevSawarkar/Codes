{
 "cells": [
  {
   "cell_type": "markdown",
   "id": "dfed893e",
   "metadata": {},
   "source": [
    "#  Question 1 :\n",
    "\n",
    "Write a Python script to check the dimension of array given below:\n",
    "[[[[(1.2),(4.5,6.2,2.3),(2.4,8.7)]]]]\n",
    " "
   ]
  },
  {
   "cell_type": "code",
   "execution_count": 1,
   "id": "3075ba05",
   "metadata": {},
   "outputs": [],
   "source": [
    "import numpy as np"
   ]
  },
  {
   "cell_type": "code",
   "execution_count": 2,
   "id": "42ef71dc",
   "metadata": {},
   "outputs": [
    {
     "name": "stdout",
     "output_type": "stream",
     "text": [
      "4\n"
     ]
    }
   ],
   "source": [
    "q1 = np.array([[[[(1.2),(4.5,6.2,2.3),(2.4,8.7)]]]],dtype=object)\n",
    "print(q1.ndim)"
   ]
  },
  {
   "cell_type": "markdown",
   "id": "8a7a49ef",
   "metadata": {},
   "source": [
    "# Question 2 :\n",
    "\n",
    "Write a python script to find the logarithmic value of array given below: [1,3,6,2**4]\n"
   ]
  },
  {
   "cell_type": "code",
   "execution_count": 3,
   "id": "57d5a136",
   "metadata": {},
   "outputs": [
    {
     "name": "stdout",
     "output_type": "stream",
     "text": [
      "[0.         1.09861229 1.79175947 2.77258872]\n"
     ]
    }
   ],
   "source": [
    "q2 = np.array([1,3,6,2**4])\n",
    "print(np.log(q2))"
   ]
  },
  {
   "cell_type": "markdown",
   "id": "f28e85f5",
   "metadata": {},
   "source": [
    "# Question 3\n",
    "\n",
    "Write a python script to print 2.4 and 5.23 using slicing method in the given array: ([(1,2.4,7),(4,5.23,6.0),(17,23,9)]) \n"
   ]
  },
  {
   "cell_type": "code",
   "execution_count": 4,
   "id": "d65cb40f",
   "metadata": {},
   "outputs": [
    {
     "name": "stdout",
     "output_type": "stream",
     "text": [
      "[2.4]\n"
     ]
    }
   ],
   "source": [
    "q3 = np.array ([(1,2.4,7),(4,5.23,6.0),(17,23,9)])\n",
    "print(q3[0:1,1])"
   ]
  },
  {
   "cell_type": "markdown",
   "id": "083b703d",
   "metadata": {},
   "source": [
    "# Question 4\n",
    "The outermost dimension will have 2 arrays that contains 3 arrays, each with 2 elements:([1, 2, 3, 4, 5, 6, 7, 8, 9, 10, 11, 12])"
   ]
  },
  {
   "cell_type": "code",
   "execution_count": 5,
   "id": "006574f4",
   "metadata": {},
   "outputs": [
    {
     "name": "stdout",
     "output_type": "stream",
     "text": [
      "[[[ 1  2]\n",
      "  [ 3  4]\n",
      "  [ 5  6]]\n",
      "\n",
      " [[ 7  8]\n",
      "  [ 9 10]\n",
      "  [11 12]]]\n"
     ]
    }
   ],
   "source": [
    "q4 = np.array([1, 2, 3, 4, 5, 6, 7, 8, 9, 10, 11, 12])\n",
    "\n",
    "q4_1 = q4.reshape(2, 3, 2)\n",
    "\n",
    "print(q4_1)"
   ]
  },
  {
   "cell_type": "markdown",
   "id": "69452591",
   "metadata": {},
   "source": [
    "# Question 5\n",
    "Print the scalar values of given array: ([[[1, 2, 3], [4, 5, 6]], [[7, 8, 9], [10, 11, 12]]])"
   ]
  },
  {
   "cell_type": "code",
   "execution_count": 6,
   "id": "b1761aa8",
   "metadata": {},
   "outputs": [
    {
     "name": "stdout",
     "output_type": "stream",
     "text": [
      "1\n",
      "2\n",
      "3\n",
      "4\n",
      "5\n",
      "6\n",
      "7\n",
      "8\n",
      "9\n",
      "10\n",
      "11\n",
      "12\n"
     ]
    }
   ],
   "source": [
    "q5 = np.array([[[1, 2, 3], [4, 5, 6]], [[7, 8, 9], [10, 11, 12]]])\n",
    "q5_1 = q5.reshape(-1)\n",
    "for i in range(len(q5_1)):\n",
    "    print(q5_1[i])"
   ]
  },
  {
   "cell_type": "code",
   "execution_count": null,
   "id": "f9fdd596",
   "metadata": {},
   "outputs": [],
   "source": []
  }
 ],
 "metadata": {
  "kernelspec": {
   "display_name": "Python 3 (ipykernel)",
   "language": "python",
   "name": "python3"
  },
  "language_info": {
   "codemirror_mode": {
    "name": "ipython",
    "version": 3
   },
   "file_extension": ".py",
   "mimetype": "text/x-python",
   "name": "python",
   "nbconvert_exporter": "python",
   "pygments_lexer": "ipython3",
   "version": "3.9.13"
  }
 },
 "nbformat": 4,
 "nbformat_minor": 5
}
