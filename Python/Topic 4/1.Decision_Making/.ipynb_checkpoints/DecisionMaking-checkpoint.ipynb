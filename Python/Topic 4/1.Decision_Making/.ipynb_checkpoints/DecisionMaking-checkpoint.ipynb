{
 "cells": [
  {
   "cell_type": "markdown",
   "metadata": {},
   "source": [
    "#  <center>Task 2.2 Decision Making </center>\n",
    "###  <center>Author: R-LABS Team </center> "
   ]
  },
  {
   "cell_type": "markdown",
   "metadata": {},
   "source": [
    "<b>Decisions</b> in a program are used when the program has conditional choices to execute a code block. Let us take an example of traffic lights, where different colors of lights lit up in different situations based on the conditions of the road or any specific rule.\n",
    "\n",
    "It is the prediction of conditions that occur while executing a program to specify actions. Multiple expressions get evaluated with an outcome of either TRUE or FALSE. These are logical decisions, and Python also provides decision-making statements that to make decisions within a program for an application based on the user requirement."
   ]
  },
  {
   "cell_type": "markdown",
   "metadata": {},
   "source": [
    "### Topics to be covered\n",
    "1. if statement\n",
    "2. if...else statement\n",
    "3. nested if statement\n",
    "4. if-elif ladder\n",
    "5. Assignments"
   ]
  },
  {
   "cell_type": "markdown",
   "metadata": {},
   "source": [
    "# Learn By Doing"
   ]
  },
  {
   "cell_type": "markdown",
   "metadata": {},
   "source": [
    " # <center> if Statement</center>"
   ]
  },
  {
   "cell_type": "markdown",
   "metadata": {},
   "source": [
    "<b>Syntax</b>"
   ]
  },
  {
   "cell_type": "raw",
   "metadata": {},
   "source": [
    "if expression:\n",
    "   #execute your code"
   ]
  },
  {
   "cell_type": "code",
   "execution_count": null,
   "metadata": {},
   "outputs": [],
   "source": [
    "# Example"
   ]
  },
  {
   "cell_type": "code",
   "execution_count": null,
   "metadata": {},
   "outputs": [],
   "source": [
    "a = 15                              #initialise a=15\n",
    "\n",
    "if a > 10:                          #provide condition\n",
    "   print(\"a is greater\")            #if condition is true print output, else print nothing"
   ]
  },
  {
   "cell_type": "code",
   "execution_count": null,
   "metadata": {},
   "outputs": [],
   "source": [
    "# Try an example from the resource file provided"
   ]
  },
  {
   "cell_type": "code",
   "execution_count": null,
   "metadata": {},
   "outputs": [],
   "source": []
  },
  {
   "cell_type": "markdown",
   "metadata": {},
   "source": [
    "# <center> if...else Statement</center>"
   ]
  },
  {
   "cell_type": "markdown",
   "metadata": {},
   "source": [
    "<b>Syntax</b>"
   ]
  },
  {
   "cell_type": "raw",
   "metadata": {},
   "source": [
    "if expression:\n",
    "   #execute your code\n",
    "else:\n",
    "   #execute your code"
   ]
  },
  {
   "cell_type": "code",
   "execution_count": null,
   "metadata": {},
   "outputs": [],
   "source": [
    "# Example"
   ]
  },
  {
   "cell_type": "code",
   "execution_count": null,
   "metadata": {},
   "outputs": [],
   "source": [
    "a = 15                            #initialise a=15\n",
    "b = 20                            #initialise b=20\n",
    "\n",
    "if a > b:                         #when this condition is true, print respective output\n",
    "   print(\"a is greater\")\n",
    "else:                             #else print other output\n",
    "   print(\"b is greater\")"
   ]
  },
  {
   "cell_type": "code",
   "execution_count": null,
   "metadata": {},
   "outputs": [],
   "source": [
    "# Try an example from the resource file provided"
   ]
  },
  {
   "cell_type": "code",
   "execution_count": null,
   "metadata": {},
   "outputs": [],
   "source": []
  },
  {
   "cell_type": "markdown",
   "metadata": {},
   "source": [
    "#  <center> nested if Statement</center>"
   ]
  },
  {
   "cell_type": "markdown",
   "metadata": {},
   "source": [
    "<b>Syntax</b>"
   ]
  },
  {
   "cell_type": "raw",
   "metadata": {},
   "source": [
    "if (condition1):\n",
    "   # Executes when condition1 is true\n",
    "   if (condition2): \n",
    "      # Executes when condition2 is true\n",
    "   # if Block is end here\n",
    "# if Block is end here"
   ]
  },
  {
   "cell_type": "code",
   "execution_count": null,
   "metadata": {},
   "outputs": [],
   "source": [
    "# Example"
   ]
  },
  {
   "cell_type": "code",
   "execution_count": null,
   "metadata": {},
   "outputs": [],
   "source": [
    "num1 = int( input(\"enter a number:\"))                #take integer input in num1\n",
    "num2 = int( input(\"enter another number:\"))          #take integer input in num2\n",
    "if( num1>= num2):                                  #if condition1 is true, go next if statement\n",
    "    if(num1 == num2):                              #if condition2 is true, print respective output                \n",
    "        print(f'{num1} and {num2} are equal')      \n",
    "    else:                                          #else print output, when condition2 is false\n",
    "        print(f'{num1} is greater than {num2}')\n",
    "else:                                              #else print output, when condition1 is false\n",
    "    print(f'{num1} is smaller than {num2}')"
   ]
  },
  {
   "cell_type": "code",
   "execution_count": null,
   "metadata": {},
   "outputs": [],
   "source": [
    "# Try an example from the resource file provided"
   ]
  },
  {
   "cell_type": "code",
   "execution_count": null,
   "metadata": {},
   "outputs": [],
   "source": []
  },
  {
   "cell_type": "markdown",
   "metadata": {},
   "source": [
    " # <center>if-elif ladder Statement</center>"
   ]
  },
  {
   "cell_type": "markdown",
   "metadata": {},
   "source": [
    "<b>Syntax</b>"
   ]
  },
  {
   "cell_type": "raw",
   "metadata": {},
   "source": [
    "if expression:\n",
    "   #execute your code\n",
    "elif expression:\n",
    "   #execute your code\n",
    "else:\n",
    "   #execute your code"
   ]
  },
  {
   "cell_type": "code",
   "execution_count": null,
   "metadata": {},
   "outputs": [],
   "source": [
    "# Example"
   ]
  },
  {
   "cell_type": "code",
   "execution_count": null,
   "metadata": {},
   "outputs": [],
   "source": [
    "a = 15                            #initialise a=15\n",
    "b = 15                            #initialise b=15\n",
    "\n",
    "if a > b:                         #if condition1 is true, print output\n",
    "   print(\"a is greater\")\n",
    "elif a == b:                      #else if condition2 is true, print output\n",
    "   print(\"both are equal\")\n",
    "else:                             #else if both the conditions are false, print output\n",
    "   print(\"b is greater\")"
   ]
  },
  {
   "cell_type": "code",
   "execution_count": null,
   "metadata": {},
   "outputs": [],
   "source": [
    "# Try an example from the resource pdf provided"
   ]
  },
  {
   "cell_type": "code",
   "execution_count": null,
   "metadata": {},
   "outputs": [],
   "source": []
  },
  {
   "cell_type": "markdown",
   "metadata": {},
   "source": [
    "# <center>Task2.2</center>"
   ]
  },
  {
   "cell_type": "markdown",
   "metadata": {},
   "source": [
    "Before jumping to assignment questions, kindly go through the concept of INDENTATION provided in the link below. This will help in solving the assignments.\n",
    "\n",
    "<a>Video Link for Indentation=\"https://www.youtube.com/watch?v=ZI3O5Kia7H0\" </a>"
   ]
  },
  {
   "cell_type": "markdown",
   "metadata": {},
   "source": [
    "### Assignment 1  ( 3 Marks )\n",
    "Write a code to input a number from user and check whether it is odd or even number using <b>if...else</b> statement.\n",
    "\n",
    "<b>NOTE:</b>\n",
    "- The code should have comments.\n",
    "- Expected Output:![](1.png)\n"
   ]
  },
  {
   "cell_type": "code",
   "execution_count": null,
   "metadata": {},
   "outputs": [],
   "source": [
    "# Write your code here"
   ]
  },
  {
   "cell_type": "code",
   "execution_count": null,
   "metadata": {},
   "outputs": [],
   "source": []
  },
  {
   "cell_type": "markdown",
   "metadata": {},
   "source": [
    "### Assignment 2   ( 5 Marks )\n",
    "Write a code to input a student name, marks in physics,marks in chemistry, marks in mathematics from user and find out percentage.\n",
    "\n",
    "Now using <b>if-elif ladder</b> statement, print the result as output in following manner:\n",
    "- If percentage is between 80 and 100, print 'Result: Outstanding'\n",
    "- If percentage is between 60 and 80, print 'Result: Average'\n",
    "- If percentage is between 40 and 60, print 'Result: Satisfactory'\n",
    "- If percentage is below 40, print 'Result: Fail'\n",
    "\n",
    "<b>NOTE:</b>\n",
    "- The code should have comments.\n",
    "- Expected Output:![](2.png)"
   ]
  },
  {
   "cell_type": "code",
   "execution_count": null,
   "metadata": {},
   "outputs": [],
   "source": [
    "# Write your code here"
   ]
  },
  {
   "cell_type": "code",
   "execution_count": null,
   "metadata": {},
   "outputs": [],
   "source": []
  },
  {
   "cell_type": "markdown",
   "metadata": {},
   "source": [
    "### Assignment 3 ( 7 Marks )\n",
    "Write a code to input a number. This assignment is to be solved using <b>nested-if</b> statement.\n",
    "\n",
    "Conditions are as follows:\n",
    "- if number is greater than 1 and less than or equal to 10, print \"Condition is True\",\n",
    "- if no is greater than 10 and less than or equal to 50, print \"Condition is True\", \" Condition is  still True\"\n",
    "- if no is greater than 50 print \"Condition is True\", \" Condition is  still True\", \" Condition is  still going True\"\n",
    "- otherwise print \" Condition is  False\" \n",
    "- Whatever is input program, output must also print \"#Coding is life#\"\n",
    "\n",
    "Expected output are as follows:\n",
    "- if 1 < number < 10, print output like this![](3.png)\n",
    "- if 10 < number < 50, print output like this![](4.png)\n",
    "- if number > 50, print output like this![](5.png)\n",
    "- else, print output like this![](6.png)\n",
    "\n"
   ]
  },
  {
   "cell_type": "code",
   "execution_count": null,
   "metadata": {},
   "outputs": [],
   "source": [
    "# Write your code here"
   ]
  },
  {
   "cell_type": "code",
   "execution_count": null,
   "metadata": {},
   "outputs": [],
   "source": []
  }
 ],
 "metadata": {
  "kernelspec": {
   "display_name": "Python 3",
   "language": "python",
   "name": "python3"
  },
  "language_info": {
   "codemirror_mode": {
    "name": "ipython",
    "version": 3
   },
   "file_extension": ".py",
   "mimetype": "text/x-python",
   "name": "python",
   "nbconvert_exporter": "python",
   "pygments_lexer": "ipython3",
   "version": "3.9.5"
  }
 },
 "nbformat": 4,
 "nbformat_minor": 2
}
