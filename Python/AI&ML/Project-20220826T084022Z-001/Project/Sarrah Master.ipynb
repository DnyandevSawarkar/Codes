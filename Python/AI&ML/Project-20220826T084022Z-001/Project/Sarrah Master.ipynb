{
 "cells": [
  {
   "cell_type": "markdown",
   "metadata": {},
   "source": [
    "#### Importing Pandas package from python site packages"
   ]
  },
  {
   "cell_type": "code",
   "execution_count": 350,
   "metadata": {},
   "outputs": [],
   "source": [
    "##Import pandas package##\n",
    "import pandas as pd"
   ]
  },
  {
   "cell_type": "markdown",
   "metadata": {},
   "source": [
    "## Step 1: Data Collection from flat file using Pandas read_csv command"
   ]
  },
  {
   "cell_type": "code",
   "execution_count": 351,
   "metadata": {},
   "outputs": [],
   "source": [
    "mydata=pd.read_csv(r'train.csv')"
   ]
  },
  {
   "cell_type": "markdown",
   "metadata": {},
   "source": [
    "mydata is now a **DataFrame: Two-dimensional, size-mutable, potentially heterogeneous tabular data.**\n",
    "\n",
    "Data structure also contains labeled axes (rows and columns). Arithmetic operations align on both row and column labels. Can be thought of as a dict-like container for Series objects. The primary pandas data structure.\n",
    "\n",
    "You can also read excel file, json, text file & many more format in pandas just check out the documentation \n",
    "**Explore the data with head command, head give your 5 rows of the dataset**"
   ]
  },
  {
   "cell_type": "code",
   "execution_count": 352,
   "metadata": {},
   "outputs": [
    {
     "name": "stdout",
     "output_type": "stream",
     "text": [
      "<class 'pandas.core.frame.DataFrame'>\n",
      "RangeIndex: 233154 entries, 0 to 233153\n",
      "Data columns (total 41 columns):\n",
      " #   Column                               Non-Null Count   Dtype  \n",
      "---  ------                               --------------   -----  \n",
      " 0   UniqueID                             233154 non-null  int64  \n",
      " 1   disbursed_amount                     233154 non-null  int64  \n",
      " 2   asset_cost                           233154 non-null  int64  \n",
      " 3   ltv                                  233154 non-null  float64\n",
      " 4   branch_id                            233154 non-null  int64  \n",
      " 5   supplier_id                          233154 non-null  int64  \n",
      " 6   manufacturer_id                      233154 non-null  int64  \n",
      " 7   Current_pincode_ID                   233154 non-null  int64  \n",
      " 8   Date.of.Birth                        233154 non-null  object \n",
      " 9   Employment.Type                      225493 non-null  object \n",
      " 10  DisbursalDate                        233154 non-null  object \n",
      " 11  State_ID                             233154 non-null  int64  \n",
      " 12  Employee_code_ID                     233154 non-null  int64  \n",
      " 13  MobileNo_Avl_Flag                    233154 non-null  int64  \n",
      " 14  Aadhar_flag                          233154 non-null  int64  \n",
      " 15  PAN_flag                             233154 non-null  int64  \n",
      " 16  VoterID_flag                         233154 non-null  int64  \n",
      " 17  Driving_flag                         233154 non-null  int64  \n",
      " 18  Passport_flag                        233154 non-null  int64  \n",
      " 19  PERFORM_CNS.SCORE                    233154 non-null  int64  \n",
      " 20  PERFORM_CNS.SCORE.DESCRIPTION        233154 non-null  object \n",
      " 21  PRI.NO.OF.ACCTS                      233154 non-null  int64  \n",
      " 22  PRI.ACTIVE.ACCTS                     233154 non-null  int64  \n",
      " 23  PRI.OVERDUE.ACCTS                    233154 non-null  int64  \n",
      " 24  PRI.CURRENT.BALANCE                  233154 non-null  int64  \n",
      " 25  PRI.SANCTIONED.AMOUNT                233154 non-null  int64  \n",
      " 26  PRI.DISBURSED.AMOUNT                 233154 non-null  int64  \n",
      " 27  SEC.NO.OF.ACCTS                      233154 non-null  int64  \n",
      " 28  SEC.ACTIVE.ACCTS                     233154 non-null  int64  \n",
      " 29  SEC.OVERDUE.ACCTS                    233154 non-null  int64  \n",
      " 30  SEC.CURRENT.BALANCE                  233154 non-null  int64  \n",
      " 31  SEC.SANCTIONED.AMOUNT                233154 non-null  int64  \n",
      " 32  SEC.DISBURSED.AMOUNT                 233154 non-null  int64  \n",
      " 33  PRIMARY.INSTAL.AMT                   233154 non-null  int64  \n",
      " 34  SEC.INSTAL.AMT                       233154 non-null  int64  \n",
      " 35  NEW.ACCTS.IN.LAST.SIX.MONTHS         233154 non-null  int64  \n",
      " 36  DELINQUENT.ACCTS.IN.LAST.SIX.MONTHS  233154 non-null  int64  \n",
      " 37  AVERAGE.ACCT.AGE                     233154 non-null  object \n",
      " 38  CREDIT.HISTORY.LENGTH                233154 non-null  object \n",
      " 39  NO.OF_INQUIRIES                      233154 non-null  int64  \n",
      " 40  loan_default                         233154 non-null  int64  \n",
      "dtypes: float64(1), int64(34), object(6)\n",
      "memory usage: 72.9+ MB\n"
     ]
    }
   ],
   "source": [
    "mydata.info()"
   ]
  },
  {
   "cell_type": "markdown",
   "metadata": {},
   "source": [
    "**info()** function Print a concise summary of a DataFrame.\n",
    "\n",
    "This method/function prints information about a DataFrame including the index dtype and column dtypes, non-null values and memory usage."
   ]
  },
  {
   "cell_type": "markdown",
   "metadata": {},
   "source": [
    "## Step 2: Data Transformation"
   ]
  },
  {
   "cell_type": "markdown",
   "metadata": {},
   "source": [
    "if you look at your **Date.of.Birth** its a string, lets change it datetime format\n",
    "mydata['Date.of.Birth'] \n",
    "\n",
    "**type()** function in python lets you know the metadata or attribute information of the variable"
   ]
  },
  {
   "cell_type": "code",
   "execution_count": 353,
   "metadata": {},
   "outputs": [
    {
     "data": {
      "text/plain": [
       "str"
      ]
     },
     "execution_count": 353,
     "metadata": {},
     "output_type": "execute_result"
    }
   ],
   "source": [
    "type(mydata['Date.of.Birth'][0])"
   ]
  },
  {
   "cell_type": "markdown",
   "metadata": {},
   "source": [
    "**pd.to_datetime()** help you in assembling a datetime from multiple columns of a DataFrame. The keys can be common abbreviations like [‘year’, ‘month’, ‘day’, ‘minute’, ‘second’, ‘ms’, ‘us’, ‘ns’]) or plurals of the same"
   ]
  },
  {
   "cell_type": "code",
   "execution_count": 354,
   "metadata": {},
   "outputs": [],
   "source": [
    "mydata['Date.of.Birth']=pd.to_datetime(mydata['Date.of.Birth'])"
   ]
  },
  {
   "cell_type": "code",
   "execution_count": 355,
   "metadata": {},
   "outputs": [
    {
     "data": {
      "text/plain": [
       "pandas._libs.tslibs.timestamps.Timestamp"
      ]
     },
     "execution_count": 355,
     "metadata": {},
     "output_type": "execute_result"
    }
   ],
   "source": [
    "type(mydata['Date.of.Birth'][0])"
   ]
  },
  {
   "cell_type": "markdown",
   "metadata": {},
   "source": [
    "you can extract the **day**, **month**, **year** by passing the key words in the  mydata['Date.of.Birth'].dt. function"
   ]
  },
  {
   "cell_type": "code",
   "execution_count": 356,
   "metadata": {},
   "outputs": [
    {
     "data": {
      "text/plain": [
       "0          1\n",
       "1          7\n",
       "2          8\n",
       "3         12\n",
       "4          9\n",
       "          ..\n",
       "233149     1\n",
       "233150     5\n",
       "233151     1\n",
       "233152     3\n",
       "233153     2\n",
       "Name: Date.of.Birth, Length: 233154, dtype: int64"
      ]
     },
     "execution_count": 356,
     "metadata": {},
     "output_type": "execute_result"
    }
   ],
   "source": [
    "mydata['Date.of.Birth'].dt.month"
   ]
  },
  {
   "cell_type": "code",
   "execution_count": 357,
   "metadata": {},
   "outputs": [],
   "source": [
    "mydata['Date.of.Birth']=pd.to_datetime(mydata['DisbursalDate'])"
   ]
  },
  {
   "cell_type": "markdown",
   "metadata": {},
   "source": [
    "The feature **CREDIT.HISTORY.LENGTH** columns has numerical and string values attached together computer cannot understand this data lets convert it reable format"
   ]
  },
  {
   "cell_type": "code",
   "execution_count": 358,
   "metadata": {},
   "outputs": [
    {
     "data": {
      "text/plain": [
       "0     0yrs 0mon\n",
       "1    1yrs 11mon\n",
       "2     0yrs 0mon\n",
       "3     1yrs 3mon\n",
       "4     0yrs 0mon\n",
       "Name: CREDIT.HISTORY.LENGTH, dtype: object"
      ]
     },
     "execution_count": 358,
     "metadata": {},
     "output_type": "execute_result"
    }
   ],
   "source": [
    "mydata['CREDIT.HISTORY.LENGTH'].head()"
   ]
  },
  {
   "cell_type": "markdown",
   "metadata": {},
   "source": [
    "Lets build an userdefined function to extract values of years & Months and convert into uniform measurement(Months)\n",
    "Ex: \"1yrs 11mon\" has to transformed 12+11=33 months "
   ]
  },
  {
   "cell_type": "code",
   "execution_count": 359,
   "metadata": {},
   "outputs": [],
   "source": [
    "def String_to_months(date):\n",
    "    list_yrs_mon=date.split()\n",
    "    year,month=list_yrs_mon[0][:-3],list_yrs_mon[1][:-3]\n",
    "    c_months=int(year)*12+int(month)\n",
    "    return c_months"
   ]
  },
  {
   "attachments": {
    "ezgif.com-gif-maker.gif": {
     "image/gif": "[encoded data removed]"
    }
   },
   "cell_type": "markdown",
   "metadata": {},
   "source": [
    "How this function works??? see this ![ezgif.com-gif-maker.gif](attachment:ezgif.com-gif-maker.gif)"
   ]
  },
  {
   "cell_type": "code",
   "execution_count": 360,
   "metadata": {},
   "outputs": [],
   "source": [
    "mydata['CREDIT.HISTORY.LENGTH.MONTHS']=mydata['CREDIT.HISTORY.LENGTH'].apply(String_to_months)"
   ]
  },
  {
   "cell_type": "markdown",
   "metadata": {},
   "source": [
    "# Task -1\n",
    "Transform the column \"AVERAGE.ACCT.AGE\" simialr to CREDIT.HISTORY.LENGTH.MONTHS"
   ]
  },
  {
   "cell_type": "code",
   "execution_count": 361,
   "metadata": {},
   "outputs": [],
   "source": [
    "mydata['AVERAGE.ACCT.AGE']=mydata['AVERAGE.ACCT.AGE'].apply(String_to_months)"
   ]
  },
  {
   "cell_type": "markdown",
   "metadata": {},
   "source": [
    "## Step:3 Check for Missing Values & Subsetting the Data"
   ]
  },
  {
   "cell_type": "markdown",
   "metadata": {},
   "source": [
    "#### As you can see their is a lot of columns & rows in the dataset, let's start by subsetting the dataset \n",
    "##### Subset Variables (Columns)\n",
    "define a list of columns of which are interest for our Customer analysis task \n",
    "\n",
    "*Note: your free to add more columns*"
   ]
  },
  {
   "cell_type": "code",
   "execution_count": 362,
   "metadata": {},
   "outputs": [],
   "source": [
    "list_columns=['disbursed_amount','asset_cost','Employment.Type','MobileNo_Avl_Flag', 'Aadhar_flag', 'PAN_flag', 'VoterID_flag',\n",
    "       'Driving_flag', 'Passport_flag']"
   ]
  },
  {
   "cell_type": "markdown",
   "metadata": {},
   "source": [
    "now let's subset operation"
   ]
  },
  {
   "cell_type": "code",
   "execution_count": 363,
   "metadata": {},
   "outputs": [],
   "source": [
    "customer_info=mydata[list_columns]"
   ]
  },
  {
   "cell_type": "markdown",
   "metadata": {},
   "source": [
    "### check for missing value\n",
    "**isnull** or **isna** are functions available. \n",
    "read more on documentation to know the difference "
   ]
  },
  {
   "cell_type": "code",
   "execution_count": 364,
   "metadata": {},
   "outputs": [
    {
     "data": {
      "text/html": [
       "<div>\n",
       "<style scoped>\n",
       "    .dataframe tbody tr th:only-of-type {\n",
       "        vertical-align: middle;\n",
       "    }\n",
       "\n",
       "    .dataframe tbody tr th {\n",
       "        vertical-align: top;\n",
       "    }\n",
       "\n",
       "    .dataframe thead th {\n",
       "        text-align: right;\n",
       "    }\n",
       "</style>\n",
       "<table border=\"1\" class=\"dataframe\">\n",
       "  <thead>\n",
       "    <tr style=\"text-align: right;\">\n",
       "      <th></th>\n",
       "      <th>disbursed_amount</th>\n",
       "      <th>asset_cost</th>\n",
       "      <th>Employment.Type</th>\n",
       "      <th>MobileNo_Avl_Flag</th>\n",
       "      <th>Aadhar_flag</th>\n",
       "      <th>PAN_flag</th>\n",
       "      <th>VoterID_flag</th>\n",
       "      <th>Driving_flag</th>\n",
       "      <th>Passport_flag</th>\n",
       "    </tr>\n",
       "  </thead>\n",
       "  <tbody>\n",
       "    <tr>\n",
       "      <th>0</th>\n",
       "      <td>False</td>\n",
       "      <td>False</td>\n",
       "      <td>False</td>\n",
       "      <td>False</td>\n",
       "      <td>False</td>\n",
       "      <td>False</td>\n",
       "      <td>False</td>\n",
       "      <td>False</td>\n",
       "      <td>False</td>\n",
       "    </tr>\n",
       "    <tr>\n",
       "      <th>1</th>\n",
       "      <td>False</td>\n",
       "      <td>False</td>\n",
       "      <td>False</td>\n",
       "      <td>False</td>\n",
       "      <td>False</td>\n",
       "      <td>False</td>\n",
       "      <td>False</td>\n",
       "      <td>False</td>\n",
       "      <td>False</td>\n",
       "    </tr>\n",
       "    <tr>\n",
       "      <th>2</th>\n",
       "      <td>False</td>\n",
       "      <td>False</td>\n",
       "      <td>False</td>\n",
       "      <td>False</td>\n",
       "      <td>False</td>\n",
       "      <td>False</td>\n",
       "      <td>False</td>\n",
       "      <td>False</td>\n",
       "      <td>False</td>\n",
       "    </tr>\n",
       "    <tr>\n",
       "      <th>3</th>\n",
       "      <td>False</td>\n",
       "      <td>False</td>\n",
       "      <td>False</td>\n",
       "      <td>False</td>\n",
       "      <td>False</td>\n",
       "      <td>False</td>\n",
       "      <td>False</td>\n",
       "      <td>False</td>\n",
       "      <td>False</td>\n",
       "    </tr>\n",
       "    <tr>\n",
       "      <th>4</th>\n",
       "      <td>False</td>\n",
       "      <td>False</td>\n",
       "      <td>False</td>\n",
       "      <td>False</td>\n",
       "      <td>False</td>\n",
       "      <td>False</td>\n",
       "      <td>False</td>\n",
       "      <td>False</td>\n",
       "      <td>False</td>\n",
       "    </tr>\n",
       "    <tr>\n",
       "      <th>...</th>\n",
       "      <td>...</td>\n",
       "      <td>...</td>\n",
       "      <td>...</td>\n",
       "      <td>...</td>\n",
       "      <td>...</td>\n",
       "      <td>...</td>\n",
       "      <td>...</td>\n",
       "      <td>...</td>\n",
       "      <td>...</td>\n",
       "    </tr>\n",
       "    <tr>\n",
       "      <th>233149</th>\n",
       "      <td>False</td>\n",
       "      <td>False</td>\n",
       "      <td>False</td>\n",
       "      <td>False</td>\n",
       "      <td>False</td>\n",
       "      <td>False</td>\n",
       "      <td>False</td>\n",
       "      <td>False</td>\n",
       "      <td>False</td>\n",
       "    </tr>\n",
       "    <tr>\n",
       "      <th>233150</th>\n",
       "      <td>False</td>\n",
       "      <td>False</td>\n",
       "      <td>False</td>\n",
       "      <td>False</td>\n",
       "      <td>False</td>\n",
       "      <td>False</td>\n",
       "      <td>False</td>\n",
       "      <td>False</td>\n",
       "      <td>False</td>\n",
       "    </tr>\n",
       "    <tr>\n",
       "      <th>233151</th>\n",
       "      <td>False</td>\n",
       "      <td>False</td>\n",
       "      <td>False</td>\n",
       "      <td>False</td>\n",
       "      <td>False</td>\n",
       "      <td>False</td>\n",
       "      <td>False</td>\n",
       "      <td>False</td>\n",
       "      <td>False</td>\n",
       "    </tr>\n",
       "    <tr>\n",
       "      <th>233152</th>\n",
       "      <td>False</td>\n",
       "      <td>False</td>\n",
       "      <td>False</td>\n",
       "      <td>False</td>\n",
       "      <td>False</td>\n",
       "      <td>False</td>\n",
       "      <td>False</td>\n",
       "      <td>False</td>\n",
       "      <td>False</td>\n",
       "    </tr>\n",
       "    <tr>\n",
       "      <th>233153</th>\n",
       "      <td>False</td>\n",
       "      <td>False</td>\n",
       "      <td>False</td>\n",
       "      <td>False</td>\n",
       "      <td>False</td>\n",
       "      <td>False</td>\n",
       "      <td>False</td>\n",
       "      <td>False</td>\n",
       "      <td>False</td>\n",
       "    </tr>\n",
       "  </tbody>\n",
       "</table>\n",
       "<p>233154 rows × 9 columns</p>\n",
       "</div>"
      ],
      "text/plain": [
       "        disbursed_amount  asset_cost  Employment.Type  MobileNo_Avl_Flag  \\\n",
       "0                  False       False            False              False   \n",
       "1                  False       False            False              False   \n",
       "2                  False       False            False              False   \n",
       "3                  False       False            False              False   \n",
       "4                  False       False            False              False   \n",
       "...                  ...         ...              ...                ...   \n",
       "233149             False       False            False              False   \n",
       "233150             False       False            False              False   \n",
       "233151             False       False            False              False   \n",
       "233152             False       False            False              False   \n",
       "233153             False       False            False              False   \n",
       "\n",
       "        Aadhar_flag  PAN_flag  VoterID_flag  Driving_flag  Passport_flag  \n",
       "0             False     False         False         False          False  \n",
       "1             False     False         False         False          False  \n",
       "2             False     False         False         False          False  \n",
       "3             False     False         False         False          False  \n",
       "4             False     False         False         False          False  \n",
       "...             ...       ...           ...           ...            ...  \n",
       "233149        False     False         False         False          False  \n",
       "233150        False     False         False         False          False  \n",
       "233151        False     False         False         False          False  \n",
       "233152        False     False         False         False          False  \n",
       "233153        False     False         False         False          False  \n",
       "\n",
       "[233154 rows x 9 columns]"
      ]
     },
     "execution_count": 364,
     "metadata": {},
     "output_type": "execute_result"
    }
   ],
   "source": [
    "customer_info.isnull()"
   ]
  },
  {
   "cell_type": "markdown",
   "metadata": {},
   "source": [
    "the isnull or isna returns boolen result to count we will pass sum method "
   ]
  },
  {
   "cell_type": "code",
   "execution_count": 365,
   "metadata": {},
   "outputs": [
    {
     "data": {
      "text/plain": [
       "disbursed_amount        0\n",
       "asset_cost              0\n",
       "Employment.Type      7661\n",
       "MobileNo_Avl_Flag       0\n",
       "Aadhar_flag             0\n",
       "PAN_flag                0\n",
       "VoterID_flag            0\n",
       "Driving_flag            0\n",
       "Passport_flag           0\n",
       "dtype: int64"
      ]
     },
     "execution_count": 365,
     "metadata": {},
     "output_type": "execute_result"
    }
   ],
   "source": [
    "customer_info.isnull().sum()"
   ]
  },
  {
   "cell_type": "markdown",
   "metadata": {},
   "source": [
    "you can see the function **isnull().sum()** is shows a result of columns & count of missing values.\n",
    "\n",
    "**Employment.Type has 7661 missing values** lets now fill them with **fillna** method in python\n"
   ]
  },
  {
   "cell_type": "markdown",
   "metadata": {},
   "source": [
    "## strategy for missing values\n",
    "- Imputation Method 1:Replace NA with a scalar value\n",
    "- Imputation Method 2:Mean\n",
    "- Imputation Method 3:Median\n",
    "- Imputation Method 4:Mode"
   ]
  },
  {
   "cell_type": "markdown",
   "metadata": {},
   "source": [
    "**Imputation Method 1:** we will impute with a value: of ***Salaried***"
   ]
  },
  {
   "cell_type": "code",
   "execution_count": 366,
   "metadata": {},
   "outputs": [
    {
     "name": "stderr",
     "output_type": "stream",
     "text": [
      "/tmp/ipykernel_2511359/2829450466.py:1: SettingWithCopyWarning: \n",
      "A value is trying to be set on a copy of a slice from a DataFrame.\n",
      "Try using .loc[row_indexer,col_indexer] = value instead\n",
      "\n",
      "See the caveats in the documentation: https://pandas.pydata.org/pandas-docs/stable/user_guide/indexing.html#returning-a-view-versus-a-copy\n",
      "  customer_info['Employment.Type']=customer_info['Employment.Type'].fillna('Salaried')\n"
     ]
    }
   ],
   "source": [
    "customer_info['Employment.Type']=customer_info['Employment.Type'].fillna('Salaried')"
   ]
  },
  {
   "cell_type": "code",
   "execution_count": 367,
   "metadata": {},
   "outputs": [
    {
     "data": {
      "text/plain": [
       "0              Salaried\n",
       "1         Self employed\n",
       "2         Self employed\n",
       "3         Self employed\n",
       "4         Self employed\n",
       "              ...      \n",
       "233149         Salaried\n",
       "233150    Self employed\n",
       "233151         Salaried\n",
       "233152         Salaried\n",
       "233153         Salaried\n",
       "Name: Employment.Type, Length: 233154, dtype: object"
      ]
     },
     "execution_count": 367,
     "metadata": {},
     "output_type": "execute_result"
    }
   ],
   "source": [
    "customer_info['Employment.Type']"
   ]
  },
  {
   "cell_type": "code",
   "execution_count": 368,
   "metadata": {},
   "outputs": [
    {
     "data": {
      "text/plain": [
       "disbursed_amount     0\n",
       "asset_cost           0\n",
       "Employment.Type      0\n",
       "MobileNo_Avl_Flag    0\n",
       "Aadhar_flag          0\n",
       "PAN_flag             0\n",
       "VoterID_flag         0\n",
       "Driving_flag         0\n",
       "Passport_flag        0\n",
       "dtype: int64"
      ]
     },
     "execution_count": 368,
     "metadata": {},
     "output_type": "execute_result"
    }
   ],
   "source": [
    "customer_info.isnull().sum()"
   ]
  },
  {
   "cell_type": "code",
   "execution_count": 369,
   "metadata": {},
   "outputs": [],
   "source": [
    "customer_info=mydata[list_columns]"
   ]
  },
  {
   "cell_type": "markdown",
   "metadata": {},
   "source": [
    "Imputation Method 4 Impute with modal value of the categorical values in the place of ##Fix ME##"
   ]
  },
  {
   "cell_type": "code",
   "execution_count": 370,
   "metadata": {},
   "outputs": [
    {
     "data": {
      "text/plain": [
       "0              Salaried\n",
       "1         Self employed\n",
       "2         Self employed\n",
       "3         Self employed\n",
       "4         Self employed\n",
       "              ...      \n",
       "233149         Salaried\n",
       "233150    Self employed\n",
       "233151         Salaried\n",
       "233152         Salaried\n",
       "233153         Salaried\n",
       "Name: Employment.Type, Length: 233154, dtype: object"
      ]
     },
     "execution_count": 370,
     "metadata": {},
     "output_type": "execute_result"
    }
   ],
   "source": [
    "customer_info['Employment.Type'].fillna(mydata['Employment.Type'].mode())"
   ]
  },
  {
   "cell_type": "markdown",
   "metadata": {},
   "source": [
    "## Subsetting the Data with condition "
   ]
  },
  {
   "cell_type": "markdown",
   "metadata": {},
   "source": [
    "we can subset the data with a condition, now lets see how many customer are having a loan amount disbursed more than 30000"
   ]
  },
  {
   "cell_type": "code",
   "execution_count": 371,
   "metadata": {},
   "outputs": [
    {
     "data": {
      "text/plain": [
       "0         True\n",
       "1         True\n",
       "2         True\n",
       "3         True\n",
       "4         True\n",
       "          ... \n",
       "233149    True\n",
       "233150    True\n",
       "233151    True\n",
       "233152    True\n",
       "233153    True\n",
       "Name: disbursed_amount, Length: 233154, dtype: bool"
      ]
     },
     "execution_count": 371,
     "metadata": {},
     "output_type": "execute_result"
    }
   ],
   "source": [
    "mydata['disbursed_amount']>30000"
   ]
  },
  {
   "cell_type": "markdown",
   "metadata": {},
   "source": [
    "The above line returns a boolen result now lets pass this boolen result onto a DataFrame to get our data. "
   ]
  },
  {
   "cell_type": "code",
   "execution_count": 372,
   "metadata": {},
   "outputs": [
    {
     "data": {
      "text/html": [
       "<div>\n",
       "<style scoped>\n",
       "    .dataframe tbody tr th:only-of-type {\n",
       "        vertical-align: middle;\n",
       "    }\n",
       "\n",
       "    .dataframe tbody tr th {\n",
       "        vertical-align: top;\n",
       "    }\n",
       "\n",
       "    .dataframe thead th {\n",
       "        text-align: right;\n",
       "    }\n",
       "</style>\n",
       "<table border=\"1\" class=\"dataframe\">\n",
       "  <thead>\n",
       "    <tr style=\"text-align: right;\">\n",
       "      <th></th>\n",
       "      <th>UniqueID</th>\n",
       "      <th>disbursed_amount</th>\n",
       "      <th>asset_cost</th>\n",
       "      <th>ltv</th>\n",
       "      <th>branch_id</th>\n",
       "      <th>supplier_id</th>\n",
       "      <th>manufacturer_id</th>\n",
       "      <th>Current_pincode_ID</th>\n",
       "      <th>Date.of.Birth</th>\n",
       "      <th>Employment.Type</th>\n",
       "      <th>...</th>\n",
       "      <th>SEC.DISBURSED.AMOUNT</th>\n",
       "      <th>PRIMARY.INSTAL.AMT</th>\n",
       "      <th>SEC.INSTAL.AMT</th>\n",
       "      <th>NEW.ACCTS.IN.LAST.SIX.MONTHS</th>\n",
       "      <th>DELINQUENT.ACCTS.IN.LAST.SIX.MONTHS</th>\n",
       "      <th>AVERAGE.ACCT.AGE</th>\n",
       "      <th>CREDIT.HISTORY.LENGTH</th>\n",
       "      <th>NO.OF_INQUIRIES</th>\n",
       "      <th>loan_default</th>\n",
       "      <th>CREDIT.HISTORY.LENGTH.MONTHS</th>\n",
       "    </tr>\n",
       "  </thead>\n",
       "  <tbody>\n",
       "    <tr>\n",
       "      <th>0</th>\n",
       "      <td>420825</td>\n",
       "      <td>50578</td>\n",
       "      <td>58400</td>\n",
       "      <td>89.55</td>\n",
       "      <td>67</td>\n",
       "      <td>22807</td>\n",
       "      <td>45</td>\n",
       "      <td>1441</td>\n",
       "      <td>2018-03-08</td>\n",
       "      <td>Salaried</td>\n",
       "      <td>...</td>\n",
       "      <td>0</td>\n",
       "      <td>0</td>\n",
       "      <td>0</td>\n",
       "      <td>0</td>\n",
       "      <td>0</td>\n",
       "      <td>0</td>\n",
       "      <td>0yrs 0mon</td>\n",
       "      <td>0</td>\n",
       "      <td>0</td>\n",
       "      <td>0</td>\n",
       "    </tr>\n",
       "    <tr>\n",
       "      <th>1</th>\n",
       "      <td>537409</td>\n",
       "      <td>47145</td>\n",
       "      <td>65550</td>\n",
       "      <td>73.23</td>\n",
       "      <td>67</td>\n",
       "      <td>22807</td>\n",
       "      <td>45</td>\n",
       "      <td>1502</td>\n",
       "      <td>2018-09-26</td>\n",
       "      <td>Self employed</td>\n",
       "      <td>...</td>\n",
       "      <td>0</td>\n",
       "      <td>1991</td>\n",
       "      <td>0</td>\n",
       "      <td>0</td>\n",
       "      <td>1</td>\n",
       "      <td>23</td>\n",
       "      <td>1yrs 11mon</td>\n",
       "      <td>0</td>\n",
       "      <td>1</td>\n",
       "      <td>23</td>\n",
       "    </tr>\n",
       "    <tr>\n",
       "      <th>2</th>\n",
       "      <td>417566</td>\n",
       "      <td>53278</td>\n",
       "      <td>61360</td>\n",
       "      <td>89.63</td>\n",
       "      <td>67</td>\n",
       "      <td>22807</td>\n",
       "      <td>45</td>\n",
       "      <td>1497</td>\n",
       "      <td>2018-01-08</td>\n",
       "      <td>Self employed</td>\n",
       "      <td>...</td>\n",
       "      <td>0</td>\n",
       "      <td>0</td>\n",
       "      <td>0</td>\n",
       "      <td>0</td>\n",
       "      <td>0</td>\n",
       "      <td>0</td>\n",
       "      <td>0yrs 0mon</td>\n",
       "      <td>0</td>\n",
       "      <td>0</td>\n",
       "      <td>0</td>\n",
       "    </tr>\n",
       "    <tr>\n",
       "      <th>3</th>\n",
       "      <td>624493</td>\n",
       "      <td>57513</td>\n",
       "      <td>66113</td>\n",
       "      <td>88.48</td>\n",
       "      <td>67</td>\n",
       "      <td>22807</td>\n",
       "      <td>45</td>\n",
       "      <td>1501</td>\n",
       "      <td>2018-10-26</td>\n",
       "      <td>Self employed</td>\n",
       "      <td>...</td>\n",
       "      <td>0</td>\n",
       "      <td>31</td>\n",
       "      <td>0</td>\n",
       "      <td>0</td>\n",
       "      <td>0</td>\n",
       "      <td>8</td>\n",
       "      <td>1yrs 3mon</td>\n",
       "      <td>1</td>\n",
       "      <td>1</td>\n",
       "      <td>15</td>\n",
       "    </tr>\n",
       "    <tr>\n",
       "      <th>4</th>\n",
       "      <td>539055</td>\n",
       "      <td>52378</td>\n",
       "      <td>60300</td>\n",
       "      <td>88.39</td>\n",
       "      <td>67</td>\n",
       "      <td>22807</td>\n",
       "      <td>45</td>\n",
       "      <td>1495</td>\n",
       "      <td>2018-09-26</td>\n",
       "      <td>Self employed</td>\n",
       "      <td>...</td>\n",
       "      <td>0</td>\n",
       "      <td>0</td>\n",
       "      <td>0</td>\n",
       "      <td>0</td>\n",
       "      <td>0</td>\n",
       "      <td>0</td>\n",
       "      <td>0yrs 0mon</td>\n",
       "      <td>1</td>\n",
       "      <td>1</td>\n",
       "      <td>0</td>\n",
       "    </tr>\n",
       "    <tr>\n",
       "      <th>...</th>\n",
       "      <td>...</td>\n",
       "      <td>...</td>\n",
       "      <td>...</td>\n",
       "      <td>...</td>\n",
       "      <td>...</td>\n",
       "      <td>...</td>\n",
       "      <td>...</td>\n",
       "      <td>...</td>\n",
       "      <td>...</td>\n",
       "      <td>...</td>\n",
       "      <td>...</td>\n",
       "      <td>...</td>\n",
       "      <td>...</td>\n",
       "      <td>...</td>\n",
       "      <td>...</td>\n",
       "      <td>...</td>\n",
       "      <td>...</td>\n",
       "      <td>...</td>\n",
       "      <td>...</td>\n",
       "      <td>...</td>\n",
       "      <td>...</td>\n",
       "    </tr>\n",
       "    <tr>\n",
       "      <th>233149</th>\n",
       "      <td>626432</td>\n",
       "      <td>63213</td>\n",
       "      <td>105405</td>\n",
       "      <td>60.72</td>\n",
       "      <td>34</td>\n",
       "      <td>20700</td>\n",
       "      <td>48</td>\n",
       "      <td>1050</td>\n",
       "      <td>2018-10-26</td>\n",
       "      <td>Salaried</td>\n",
       "      <td>...</td>\n",
       "      <td>0</td>\n",
       "      <td>4084</td>\n",
       "      <td>0</td>\n",
       "      <td>0</td>\n",
       "      <td>0</td>\n",
       "      <td>21</td>\n",
       "      <td>3yrs 3mon</td>\n",
       "      <td>0</td>\n",
       "      <td>0</td>\n",
       "      <td>39</td>\n",
       "    </tr>\n",
       "    <tr>\n",
       "      <th>233150</th>\n",
       "      <td>606141</td>\n",
       "      <td>73651</td>\n",
       "      <td>100600</td>\n",
       "      <td>74.95</td>\n",
       "      <td>34</td>\n",
       "      <td>23775</td>\n",
       "      <td>51</td>\n",
       "      <td>990</td>\n",
       "      <td>2018-10-23</td>\n",
       "      <td>Self employed</td>\n",
       "      <td>...</td>\n",
       "      <td>0</td>\n",
       "      <td>1565</td>\n",
       "      <td>0</td>\n",
       "      <td>0</td>\n",
       "      <td>0</td>\n",
       "      <td>6</td>\n",
       "      <td>0yrs 6mon</td>\n",
       "      <td>0</td>\n",
       "      <td>0</td>\n",
       "      <td>6</td>\n",
       "    </tr>\n",
       "    <tr>\n",
       "      <th>233151</th>\n",
       "      <td>613658</td>\n",
       "      <td>33484</td>\n",
       "      <td>71212</td>\n",
       "      <td>48.45</td>\n",
       "      <td>77</td>\n",
       "      <td>22186</td>\n",
       "      <td>86</td>\n",
       "      <td>2299</td>\n",
       "      <td>2018-10-24</td>\n",
       "      <td>Salaried</td>\n",
       "      <td>...</td>\n",
       "      <td>0</td>\n",
       "      <td>0</td>\n",
       "      <td>0</td>\n",
       "      <td>0</td>\n",
       "      <td>0</td>\n",
       "      <td>0</td>\n",
       "      <td>0yrs 0mon</td>\n",
       "      <td>0</td>\n",
       "      <td>0</td>\n",
       "      <td>0</td>\n",
       "    </tr>\n",
       "    <tr>\n",
       "      <th>233152</th>\n",
       "      <td>548084</td>\n",
       "      <td>34259</td>\n",
       "      <td>73286</td>\n",
       "      <td>49.10</td>\n",
       "      <td>77</td>\n",
       "      <td>22186</td>\n",
       "      <td>86</td>\n",
       "      <td>2299</td>\n",
       "      <td>2018-09-29</td>\n",
       "      <td>Salaried</td>\n",
       "      <td>...</td>\n",
       "      <td>0</td>\n",
       "      <td>0</td>\n",
       "      <td>0</td>\n",
       "      <td>0</td>\n",
       "      <td>0</td>\n",
       "      <td>0</td>\n",
       "      <td>0yrs 0mon</td>\n",
       "      <td>0</td>\n",
       "      <td>0</td>\n",
       "      <td>0</td>\n",
       "    </tr>\n",
       "    <tr>\n",
       "      <th>233153</th>\n",
       "      <td>630213</td>\n",
       "      <td>75751</td>\n",
       "      <td>116009</td>\n",
       "      <td>66.81</td>\n",
       "      <td>77</td>\n",
       "      <td>22186</td>\n",
       "      <td>86</td>\n",
       "      <td>2299</td>\n",
       "      <td>2018-10-27</td>\n",
       "      <td>Salaried</td>\n",
       "      <td>...</td>\n",
       "      <td>0</td>\n",
       "      <td>0</td>\n",
       "      <td>0</td>\n",
       "      <td>0</td>\n",
       "      <td>0</td>\n",
       "      <td>0</td>\n",
       "      <td>0yrs 0mon</td>\n",
       "      <td>0</td>\n",
       "      <td>0</td>\n",
       "      <td>0</td>\n",
       "    </tr>\n",
       "  </tbody>\n",
       "</table>\n",
       "<p>228289 rows × 42 columns</p>\n",
       "</div>"
      ],
      "text/plain": [
       "        UniqueID  disbursed_amount  asset_cost    ltv  branch_id  supplier_id  \\\n",
       "0         420825             50578       58400  89.55         67        22807   \n",
       "1         537409             47145       65550  73.23         67        22807   \n",
       "2         417566             53278       61360  89.63         67        22807   \n",
       "3         624493             57513       66113  88.48         67        22807   \n",
       "4         539055             52378       60300  88.39         67        22807   \n",
       "...          ...               ...         ...    ...        ...          ...   \n",
       "233149    626432             63213      105405  60.72         34        20700   \n",
       "233150    606141             73651      100600  74.95         34        23775   \n",
       "233151    613658             33484       71212  48.45         77        22186   \n",
       "233152    548084             34259       73286  49.10         77        22186   \n",
       "233153    630213             75751      116009  66.81         77        22186   \n",
       "\n",
       "        manufacturer_id  Current_pincode_ID Date.of.Birth Employment.Type  \\\n",
       "0                    45                1441    2018-03-08        Salaried   \n",
       "1                    45                1502    2018-09-26   Self employed   \n",
       "2                    45                1497    2018-01-08   Self employed   \n",
       "3                    45                1501    2018-10-26   Self employed   \n",
       "4                    45                1495    2018-09-26   Self employed   \n",
       "...                 ...                 ...           ...             ...   \n",
       "233149               48                1050    2018-10-26        Salaried   \n",
       "233150               51                 990    2018-10-23   Self employed   \n",
       "233151               86                2299    2018-10-24        Salaried   \n",
       "233152               86                2299    2018-09-29        Salaried   \n",
       "233153               86                2299    2018-10-27        Salaried   \n",
       "\n",
       "        ... SEC.DISBURSED.AMOUNT  PRIMARY.INSTAL.AMT  SEC.INSTAL.AMT  \\\n",
       "0       ...                    0                   0               0   \n",
       "1       ...                    0                1991               0   \n",
       "2       ...                    0                   0               0   \n",
       "3       ...                    0                  31               0   \n",
       "4       ...                    0                   0               0   \n",
       "...     ...                  ...                 ...             ...   \n",
       "233149  ...                    0                4084               0   \n",
       "233150  ...                    0                1565               0   \n",
       "233151  ...                    0                   0               0   \n",
       "233152  ...                    0                   0               0   \n",
       "233153  ...                    0                   0               0   \n",
       "\n",
       "        NEW.ACCTS.IN.LAST.SIX.MONTHS  DELINQUENT.ACCTS.IN.LAST.SIX.MONTHS  \\\n",
       "0                                  0                                    0   \n",
       "1                                  0                                    1   \n",
       "2                                  0                                    0   \n",
       "3                                  0                                    0   \n",
       "4                                  0                                    0   \n",
       "...                              ...                                  ...   \n",
       "233149                             0                                    0   \n",
       "233150                             0                                    0   \n",
       "233151                             0                                    0   \n",
       "233152                             0                                    0   \n",
       "233153                             0                                    0   \n",
       "\n",
       "        AVERAGE.ACCT.AGE  CREDIT.HISTORY.LENGTH  NO.OF_INQUIRIES  \\\n",
       "0                      0              0yrs 0mon                0   \n",
       "1                     23             1yrs 11mon                0   \n",
       "2                      0              0yrs 0mon                0   \n",
       "3                      8              1yrs 3mon                1   \n",
       "4                      0              0yrs 0mon                1   \n",
       "...                  ...                    ...              ...   \n",
       "233149                21              3yrs 3mon                0   \n",
       "233150                 6              0yrs 6mon                0   \n",
       "233151                 0              0yrs 0mon                0   \n",
       "233152                 0              0yrs 0mon                0   \n",
       "233153                 0              0yrs 0mon                0   \n",
       "\n",
       "        loan_default  CREDIT.HISTORY.LENGTH.MONTHS  \n",
       "0                  0                             0  \n",
       "1                  1                            23  \n",
       "2                  0                             0  \n",
       "3                  1                            15  \n",
       "4                  1                             0  \n",
       "...              ...                           ...  \n",
       "233149             0                            39  \n",
       "233150             0                             6  \n",
       "233151             0                             0  \n",
       "233152             0                             0  \n",
       "233153             0                             0  \n",
       "\n",
       "[228289 rows x 42 columns]"
      ]
     },
     "execution_count": 372,
     "metadata": {},
     "output_type": "execute_result"
    }
   ],
   "source": [
    "mydata[mydata['disbursed_amount']>30000]"
   ]
  },
  {
   "cell_type": "markdown",
   "metadata": {},
   "source": [
    "we can apply multiple conditions to subset our data, to do this we can use by applying AND, OR conditions an example is show below where we trying to subset the data with respect to the amount disbured & Employment Type"
   ]
  },
  {
   "cell_type": "code",
   "execution_count": 373,
   "metadata": {},
   "outputs": [
    {
     "data": {
      "text/html": [
       "<div>\n",
       "<style scoped>\n",
       "    .dataframe tbody tr th:only-of-type {\n",
       "        vertical-align: middle;\n",
       "    }\n",
       "\n",
       "    .dataframe tbody tr th {\n",
       "        vertical-align: top;\n",
       "    }\n",
       "\n",
       "    .dataframe thead th {\n",
       "        text-align: right;\n",
       "    }\n",
       "</style>\n",
       "<table border=\"1\" class=\"dataframe\">\n",
       "  <thead>\n",
       "    <tr style=\"text-align: right;\">\n",
       "      <th></th>\n",
       "      <th>UniqueID</th>\n",
       "      <th>disbursed_amount</th>\n",
       "      <th>asset_cost</th>\n",
       "      <th>ltv</th>\n",
       "      <th>branch_id</th>\n",
       "      <th>supplier_id</th>\n",
       "      <th>manufacturer_id</th>\n",
       "      <th>Current_pincode_ID</th>\n",
       "      <th>Date.of.Birth</th>\n",
       "      <th>Employment.Type</th>\n",
       "      <th>...</th>\n",
       "      <th>SEC.DISBURSED.AMOUNT</th>\n",
       "      <th>PRIMARY.INSTAL.AMT</th>\n",
       "      <th>SEC.INSTAL.AMT</th>\n",
       "      <th>NEW.ACCTS.IN.LAST.SIX.MONTHS</th>\n",
       "      <th>DELINQUENT.ACCTS.IN.LAST.SIX.MONTHS</th>\n",
       "      <th>AVERAGE.ACCT.AGE</th>\n",
       "      <th>CREDIT.HISTORY.LENGTH</th>\n",
       "      <th>NO.OF_INQUIRIES</th>\n",
       "      <th>loan_default</th>\n",
       "      <th>CREDIT.HISTORY.LENGTH.MONTHS</th>\n",
       "    </tr>\n",
       "  </thead>\n",
       "  <tbody>\n",
       "    <tr>\n",
       "      <th>0</th>\n",
       "      <td>420825</td>\n",
       "      <td>50578</td>\n",
       "      <td>58400</td>\n",
       "      <td>89.55</td>\n",
       "      <td>67</td>\n",
       "      <td>22807</td>\n",
       "      <td>45</td>\n",
       "      <td>1441</td>\n",
       "      <td>2018-03-08</td>\n",
       "      <td>Salaried</td>\n",
       "      <td>...</td>\n",
       "      <td>0</td>\n",
       "      <td>0</td>\n",
       "      <td>0</td>\n",
       "      <td>0</td>\n",
       "      <td>0</td>\n",
       "      <td>0</td>\n",
       "      <td>0yrs 0mon</td>\n",
       "      <td>0</td>\n",
       "      <td>0</td>\n",
       "      <td>0</td>\n",
       "    </tr>\n",
       "    <tr>\n",
       "      <th>1</th>\n",
       "      <td>537409</td>\n",
       "      <td>47145</td>\n",
       "      <td>65550</td>\n",
       "      <td>73.23</td>\n",
       "      <td>67</td>\n",
       "      <td>22807</td>\n",
       "      <td>45</td>\n",
       "      <td>1502</td>\n",
       "      <td>2018-09-26</td>\n",
       "      <td>Self employed</td>\n",
       "      <td>...</td>\n",
       "      <td>0</td>\n",
       "      <td>1991</td>\n",
       "      <td>0</td>\n",
       "      <td>0</td>\n",
       "      <td>1</td>\n",
       "      <td>23</td>\n",
       "      <td>1yrs 11mon</td>\n",
       "      <td>0</td>\n",
       "      <td>1</td>\n",
       "      <td>23</td>\n",
       "    </tr>\n",
       "    <tr>\n",
       "      <th>2</th>\n",
       "      <td>417566</td>\n",
       "      <td>53278</td>\n",
       "      <td>61360</td>\n",
       "      <td>89.63</td>\n",
       "      <td>67</td>\n",
       "      <td>22807</td>\n",
       "      <td>45</td>\n",
       "      <td>1497</td>\n",
       "      <td>2018-01-08</td>\n",
       "      <td>Self employed</td>\n",
       "      <td>...</td>\n",
       "      <td>0</td>\n",
       "      <td>0</td>\n",
       "      <td>0</td>\n",
       "      <td>0</td>\n",
       "      <td>0</td>\n",
       "      <td>0</td>\n",
       "      <td>0yrs 0mon</td>\n",
       "      <td>0</td>\n",
       "      <td>0</td>\n",
       "      <td>0</td>\n",
       "    </tr>\n",
       "    <tr>\n",
       "      <th>3</th>\n",
       "      <td>624493</td>\n",
       "      <td>57513</td>\n",
       "      <td>66113</td>\n",
       "      <td>88.48</td>\n",
       "      <td>67</td>\n",
       "      <td>22807</td>\n",
       "      <td>45</td>\n",
       "      <td>1501</td>\n",
       "      <td>2018-10-26</td>\n",
       "      <td>Self employed</td>\n",
       "      <td>...</td>\n",
       "      <td>0</td>\n",
       "      <td>31</td>\n",
       "      <td>0</td>\n",
       "      <td>0</td>\n",
       "      <td>0</td>\n",
       "      <td>8</td>\n",
       "      <td>1yrs 3mon</td>\n",
       "      <td>1</td>\n",
       "      <td>1</td>\n",
       "      <td>15</td>\n",
       "    </tr>\n",
       "    <tr>\n",
       "      <th>4</th>\n",
       "      <td>539055</td>\n",
       "      <td>52378</td>\n",
       "      <td>60300</td>\n",
       "      <td>88.39</td>\n",
       "      <td>67</td>\n",
       "      <td>22807</td>\n",
       "      <td>45</td>\n",
       "      <td>1495</td>\n",
       "      <td>2018-09-26</td>\n",
       "      <td>Self employed</td>\n",
       "      <td>...</td>\n",
       "      <td>0</td>\n",
       "      <td>0</td>\n",
       "      <td>0</td>\n",
       "      <td>0</td>\n",
       "      <td>0</td>\n",
       "      <td>0</td>\n",
       "      <td>0yrs 0mon</td>\n",
       "      <td>1</td>\n",
       "      <td>1</td>\n",
       "      <td>0</td>\n",
       "    </tr>\n",
       "    <tr>\n",
       "      <th>...</th>\n",
       "      <td>...</td>\n",
       "      <td>...</td>\n",
       "      <td>...</td>\n",
       "      <td>...</td>\n",
       "      <td>...</td>\n",
       "      <td>...</td>\n",
       "      <td>...</td>\n",
       "      <td>...</td>\n",
       "      <td>...</td>\n",
       "      <td>...</td>\n",
       "      <td>...</td>\n",
       "      <td>...</td>\n",
       "      <td>...</td>\n",
       "      <td>...</td>\n",
       "      <td>...</td>\n",
       "      <td>...</td>\n",
       "      <td>...</td>\n",
       "      <td>...</td>\n",
       "      <td>...</td>\n",
       "      <td>...</td>\n",
       "      <td>...</td>\n",
       "    </tr>\n",
       "    <tr>\n",
       "      <th>233149</th>\n",
       "      <td>626432</td>\n",
       "      <td>63213</td>\n",
       "      <td>105405</td>\n",
       "      <td>60.72</td>\n",
       "      <td>34</td>\n",
       "      <td>20700</td>\n",
       "      <td>48</td>\n",
       "      <td>1050</td>\n",
       "      <td>2018-10-26</td>\n",
       "      <td>Salaried</td>\n",
       "      <td>...</td>\n",
       "      <td>0</td>\n",
       "      <td>4084</td>\n",
       "      <td>0</td>\n",
       "      <td>0</td>\n",
       "      <td>0</td>\n",
       "      <td>21</td>\n",
       "      <td>3yrs 3mon</td>\n",
       "      <td>0</td>\n",
       "      <td>0</td>\n",
       "      <td>39</td>\n",
       "    </tr>\n",
       "    <tr>\n",
       "      <th>233150</th>\n",
       "      <td>606141</td>\n",
       "      <td>73651</td>\n",
       "      <td>100600</td>\n",
       "      <td>74.95</td>\n",
       "      <td>34</td>\n",
       "      <td>23775</td>\n",
       "      <td>51</td>\n",
       "      <td>990</td>\n",
       "      <td>2018-10-23</td>\n",
       "      <td>Self employed</td>\n",
       "      <td>...</td>\n",
       "      <td>0</td>\n",
       "      <td>1565</td>\n",
       "      <td>0</td>\n",
       "      <td>0</td>\n",
       "      <td>0</td>\n",
       "      <td>6</td>\n",
       "      <td>0yrs 6mon</td>\n",
       "      <td>0</td>\n",
       "      <td>0</td>\n",
       "      <td>6</td>\n",
       "    </tr>\n",
       "    <tr>\n",
       "      <th>233151</th>\n",
       "      <td>613658</td>\n",
       "      <td>33484</td>\n",
       "      <td>71212</td>\n",
       "      <td>48.45</td>\n",
       "      <td>77</td>\n",
       "      <td>22186</td>\n",
       "      <td>86</td>\n",
       "      <td>2299</td>\n",
       "      <td>2018-10-24</td>\n",
       "      <td>Salaried</td>\n",
       "      <td>...</td>\n",
       "      <td>0</td>\n",
       "      <td>0</td>\n",
       "      <td>0</td>\n",
       "      <td>0</td>\n",
       "      <td>0</td>\n",
       "      <td>0</td>\n",
       "      <td>0yrs 0mon</td>\n",
       "      <td>0</td>\n",
       "      <td>0</td>\n",
       "      <td>0</td>\n",
       "    </tr>\n",
       "    <tr>\n",
       "      <th>233152</th>\n",
       "      <td>548084</td>\n",
       "      <td>34259</td>\n",
       "      <td>73286</td>\n",
       "      <td>49.10</td>\n",
       "      <td>77</td>\n",
       "      <td>22186</td>\n",
       "      <td>86</td>\n",
       "      <td>2299</td>\n",
       "      <td>2018-09-29</td>\n",
       "      <td>Salaried</td>\n",
       "      <td>...</td>\n",
       "      <td>0</td>\n",
       "      <td>0</td>\n",
       "      <td>0</td>\n",
       "      <td>0</td>\n",
       "      <td>0</td>\n",
       "      <td>0</td>\n",
       "      <td>0yrs 0mon</td>\n",
       "      <td>0</td>\n",
       "      <td>0</td>\n",
       "      <td>0</td>\n",
       "    </tr>\n",
       "    <tr>\n",
       "      <th>233153</th>\n",
       "      <td>630213</td>\n",
       "      <td>75751</td>\n",
       "      <td>116009</td>\n",
       "      <td>66.81</td>\n",
       "      <td>77</td>\n",
       "      <td>22186</td>\n",
       "      <td>86</td>\n",
       "      <td>2299</td>\n",
       "      <td>2018-10-27</td>\n",
       "      <td>Salaried</td>\n",
       "      <td>...</td>\n",
       "      <td>0</td>\n",
       "      <td>0</td>\n",
       "      <td>0</td>\n",
       "      <td>0</td>\n",
       "      <td>0</td>\n",
       "      <td>0</td>\n",
       "      <td>0yrs 0mon</td>\n",
       "      <td>0</td>\n",
       "      <td>0</td>\n",
       "      <td>0</td>\n",
       "    </tr>\n",
       "  </tbody>\n",
       "</table>\n",
       "<p>228289 rows × 42 columns</p>\n",
       "</div>"
      ],
      "text/plain": [
       "        UniqueID  disbursed_amount  asset_cost    ltv  branch_id  supplier_id  \\\n",
       "0         420825             50578       58400  89.55         67        22807   \n",
       "1         537409             47145       65550  73.23         67        22807   \n",
       "2         417566             53278       61360  89.63         67        22807   \n",
       "3         624493             57513       66113  88.48         67        22807   \n",
       "4         539055             52378       60300  88.39         67        22807   \n",
       "...          ...               ...         ...    ...        ...          ...   \n",
       "233149    626432             63213      105405  60.72         34        20700   \n",
       "233150    606141             73651      100600  74.95         34        23775   \n",
       "233151    613658             33484       71212  48.45         77        22186   \n",
       "233152    548084             34259       73286  49.10         77        22186   \n",
       "233153    630213             75751      116009  66.81         77        22186   \n",
       "\n",
       "        manufacturer_id  Current_pincode_ID Date.of.Birth Employment.Type  \\\n",
       "0                    45                1441    2018-03-08        Salaried   \n",
       "1                    45                1502    2018-09-26   Self employed   \n",
       "2                    45                1497    2018-01-08   Self employed   \n",
       "3                    45                1501    2018-10-26   Self employed   \n",
       "4                    45                1495    2018-09-26   Self employed   \n",
       "...                 ...                 ...           ...             ...   \n",
       "233149               48                1050    2018-10-26        Salaried   \n",
       "233150               51                 990    2018-10-23   Self employed   \n",
       "233151               86                2299    2018-10-24        Salaried   \n",
       "233152               86                2299    2018-09-29        Salaried   \n",
       "233153               86                2299    2018-10-27        Salaried   \n",
       "\n",
       "        ... SEC.DISBURSED.AMOUNT  PRIMARY.INSTAL.AMT  SEC.INSTAL.AMT  \\\n",
       "0       ...                    0                   0               0   \n",
       "1       ...                    0                1991               0   \n",
       "2       ...                    0                   0               0   \n",
       "3       ...                    0                  31               0   \n",
       "4       ...                    0                   0               0   \n",
       "...     ...                  ...                 ...             ...   \n",
       "233149  ...                    0                4084               0   \n",
       "233150  ...                    0                1565               0   \n",
       "233151  ...                    0                   0               0   \n",
       "233152  ...                    0                   0               0   \n",
       "233153  ...                    0                   0               0   \n",
       "\n",
       "        NEW.ACCTS.IN.LAST.SIX.MONTHS  DELINQUENT.ACCTS.IN.LAST.SIX.MONTHS  \\\n",
       "0                                  0                                    0   \n",
       "1                                  0                                    1   \n",
       "2                                  0                                    0   \n",
       "3                                  0                                    0   \n",
       "4                                  0                                    0   \n",
       "...                              ...                                  ...   \n",
       "233149                             0                                    0   \n",
       "233150                             0                                    0   \n",
       "233151                             0                                    0   \n",
       "233152                             0                                    0   \n",
       "233153                             0                                    0   \n",
       "\n",
       "        AVERAGE.ACCT.AGE  CREDIT.HISTORY.LENGTH  NO.OF_INQUIRIES  \\\n",
       "0                      0              0yrs 0mon                0   \n",
       "1                     23             1yrs 11mon                0   \n",
       "2                      0              0yrs 0mon                0   \n",
       "3                      8              1yrs 3mon                1   \n",
       "4                      0              0yrs 0mon                1   \n",
       "...                  ...                    ...              ...   \n",
       "233149                21              3yrs 3mon                0   \n",
       "233150                 6              0yrs 6mon                0   \n",
       "233151                 0              0yrs 0mon                0   \n",
       "233152                 0              0yrs 0mon                0   \n",
       "233153                 0              0yrs 0mon                0   \n",
       "\n",
       "        loan_default  CREDIT.HISTORY.LENGTH.MONTHS  \n",
       "0                  0                             0  \n",
       "1                  1                            23  \n",
       "2                  0                             0  \n",
       "3                  1                            15  \n",
       "4                  1                             0  \n",
       "...              ...                           ...  \n",
       "233149             0                            39  \n",
       "233150             0                             6  \n",
       "233151             0                             0  \n",
       "233152             0                             0  \n",
       "233153             0                             0  \n",
       "\n",
       "[228289 rows x 42 columns]"
      ]
     },
     "execution_count": 373,
     "metadata": {},
     "output_type": "execute_result"
    }
   ],
   "source": [
    "mydata[mydata['disbursed_amount']>30000]"
   ]
  },
  {
   "cell_type": "code",
   "execution_count": 374,
   "metadata": {},
   "outputs": [
    {
     "data": {
      "text/html": [
       "<div>\n",
       "<style scoped>\n",
       "    .dataframe tbody tr th:only-of-type {\n",
       "        vertical-align: middle;\n",
       "    }\n",
       "\n",
       "    .dataframe tbody tr th {\n",
       "        vertical-align: top;\n",
       "    }\n",
       "\n",
       "    .dataframe thead th {\n",
       "        text-align: right;\n",
       "    }\n",
       "</style>\n",
       "<table border=\"1\" class=\"dataframe\">\n",
       "  <thead>\n",
       "    <tr style=\"text-align: right;\">\n",
       "      <th></th>\n",
       "      <th>UniqueID</th>\n",
       "      <th>disbursed_amount</th>\n",
       "      <th>asset_cost</th>\n",
       "      <th>ltv</th>\n",
       "      <th>branch_id</th>\n",
       "      <th>supplier_id</th>\n",
       "      <th>manufacturer_id</th>\n",
       "      <th>Current_pincode_ID</th>\n",
       "      <th>Date.of.Birth</th>\n",
       "      <th>Employment.Type</th>\n",
       "      <th>...</th>\n",
       "      <th>SEC.DISBURSED.AMOUNT</th>\n",
       "      <th>PRIMARY.INSTAL.AMT</th>\n",
       "      <th>SEC.INSTAL.AMT</th>\n",
       "      <th>NEW.ACCTS.IN.LAST.SIX.MONTHS</th>\n",
       "      <th>DELINQUENT.ACCTS.IN.LAST.SIX.MONTHS</th>\n",
       "      <th>AVERAGE.ACCT.AGE</th>\n",
       "      <th>CREDIT.HISTORY.LENGTH</th>\n",
       "      <th>NO.OF_INQUIRIES</th>\n",
       "      <th>loan_default</th>\n",
       "      <th>CREDIT.HISTORY.LENGTH.MONTHS</th>\n",
       "    </tr>\n",
       "  </thead>\n",
       "  <tbody>\n",
       "    <tr>\n",
       "      <th>0</th>\n",
       "      <td>420825</td>\n",
       "      <td>50578</td>\n",
       "      <td>58400</td>\n",
       "      <td>89.55</td>\n",
       "      <td>67</td>\n",
       "      <td>22807</td>\n",
       "      <td>45</td>\n",
       "      <td>1441</td>\n",
       "      <td>2018-03-08</td>\n",
       "      <td>Salaried</td>\n",
       "      <td>...</td>\n",
       "      <td>0</td>\n",
       "      <td>0</td>\n",
       "      <td>0</td>\n",
       "      <td>0</td>\n",
       "      <td>0</td>\n",
       "      <td>0</td>\n",
       "      <td>0yrs 0mon</td>\n",
       "      <td>0</td>\n",
       "      <td>0</td>\n",
       "      <td>0</td>\n",
       "    </tr>\n",
       "    <tr>\n",
       "      <th>6</th>\n",
       "      <td>529269</td>\n",
       "      <td>46349</td>\n",
       "      <td>61500</td>\n",
       "      <td>76.42</td>\n",
       "      <td>67</td>\n",
       "      <td>22807</td>\n",
       "      <td>45</td>\n",
       "      <td>1502</td>\n",
       "      <td>2018-09-23</td>\n",
       "      <td>Salaried</td>\n",
       "      <td>...</td>\n",
       "      <td>0</td>\n",
       "      <td>0</td>\n",
       "      <td>0</td>\n",
       "      <td>0</td>\n",
       "      <td>0</td>\n",
       "      <td>0</td>\n",
       "      <td>0yrs 0mon</td>\n",
       "      <td>0</td>\n",
       "      <td>0</td>\n",
       "      <td>0</td>\n",
       "    </tr>\n",
       "    <tr>\n",
       "      <th>7</th>\n",
       "      <td>510278</td>\n",
       "      <td>43894</td>\n",
       "      <td>61900</td>\n",
       "      <td>71.89</td>\n",
       "      <td>67</td>\n",
       "      <td>22807</td>\n",
       "      <td>45</td>\n",
       "      <td>1501</td>\n",
       "      <td>2018-09-16</td>\n",
       "      <td>Salaried</td>\n",
       "      <td>...</td>\n",
       "      <td>0</td>\n",
       "      <td>0</td>\n",
       "      <td>0</td>\n",
       "      <td>0</td>\n",
       "      <td>0</td>\n",
       "      <td>2</td>\n",
       "      <td>0yrs 2mon</td>\n",
       "      <td>0</td>\n",
       "      <td>0</td>\n",
       "      <td>2</td>\n",
       "    </tr>\n",
       "    <tr>\n",
       "      <th>9</th>\n",
       "      <td>510980</td>\n",
       "      <td>52603</td>\n",
       "      <td>61300</td>\n",
       "      <td>86.95</td>\n",
       "      <td>67</td>\n",
       "      <td>22807</td>\n",
       "      <td>45</td>\n",
       "      <td>1492</td>\n",
       "      <td>2018-09-16</td>\n",
       "      <td>Salaried</td>\n",
       "      <td>...</td>\n",
       "      <td>0</td>\n",
       "      <td>2608</td>\n",
       "      <td>0</td>\n",
       "      <td>0</td>\n",
       "      <td>0</td>\n",
       "      <td>19</td>\n",
       "      <td>1yrs 7mon</td>\n",
       "      <td>0</td>\n",
       "      <td>0</td>\n",
       "      <td>19</td>\n",
       "    </tr>\n",
       "    <tr>\n",
       "      <th>11</th>\n",
       "      <td>486821</td>\n",
       "      <td>64769</td>\n",
       "      <td>74190</td>\n",
       "      <td>89.23</td>\n",
       "      <td>67</td>\n",
       "      <td>22807</td>\n",
       "      <td>45</td>\n",
       "      <td>1446</td>\n",
       "      <td>2018-03-09</td>\n",
       "      <td>Salaried</td>\n",
       "      <td>...</td>\n",
       "      <td>0</td>\n",
       "      <td>0</td>\n",
       "      <td>0</td>\n",
       "      <td>0</td>\n",
       "      <td>0</td>\n",
       "      <td>25</td>\n",
       "      <td>2yrs 3mon</td>\n",
       "      <td>1</td>\n",
       "      <td>0</td>\n",
       "      <td>27</td>\n",
       "    </tr>\n",
       "    <tr>\n",
       "      <th>...</th>\n",
       "      <td>...</td>\n",
       "      <td>...</td>\n",
       "      <td>...</td>\n",
       "      <td>...</td>\n",
       "      <td>...</td>\n",
       "      <td>...</td>\n",
       "      <td>...</td>\n",
       "      <td>...</td>\n",
       "      <td>...</td>\n",
       "      <td>...</td>\n",
       "      <td>...</td>\n",
       "      <td>...</td>\n",
       "      <td>...</td>\n",
       "      <td>...</td>\n",
       "      <td>...</td>\n",
       "      <td>...</td>\n",
       "      <td>...</td>\n",
       "      <td>...</td>\n",
       "      <td>...</td>\n",
       "      <td>...</td>\n",
       "      <td>...</td>\n",
       "    </tr>\n",
       "    <tr>\n",
       "      <th>233148</th>\n",
       "      <td>613494</td>\n",
       "      <td>42894</td>\n",
       "      <td>60334</td>\n",
       "      <td>72.93</td>\n",
       "      <td>34</td>\n",
       "      <td>20700</td>\n",
       "      <td>48</td>\n",
       "      <td>1051</td>\n",
       "      <td>2018-10-24</td>\n",
       "      <td>Salaried</td>\n",
       "      <td>...</td>\n",
       "      <td>0</td>\n",
       "      <td>0</td>\n",
       "      <td>0</td>\n",
       "      <td>0</td>\n",
       "      <td>0</td>\n",
       "      <td>0</td>\n",
       "      <td>0yrs 0mon</td>\n",
       "      <td>0</td>\n",
       "      <td>0</td>\n",
       "      <td>0</td>\n",
       "    </tr>\n",
       "    <tr>\n",
       "      <th>233149</th>\n",
       "      <td>626432</td>\n",
       "      <td>63213</td>\n",
       "      <td>105405</td>\n",
       "      <td>60.72</td>\n",
       "      <td>34</td>\n",
       "      <td>20700</td>\n",
       "      <td>48</td>\n",
       "      <td>1050</td>\n",
       "      <td>2018-10-26</td>\n",
       "      <td>Salaried</td>\n",
       "      <td>...</td>\n",
       "      <td>0</td>\n",
       "      <td>4084</td>\n",
       "      <td>0</td>\n",
       "      <td>0</td>\n",
       "      <td>0</td>\n",
       "      <td>21</td>\n",
       "      <td>3yrs 3mon</td>\n",
       "      <td>0</td>\n",
       "      <td>0</td>\n",
       "      <td>39</td>\n",
       "    </tr>\n",
       "    <tr>\n",
       "      <th>233151</th>\n",
       "      <td>613658</td>\n",
       "      <td>33484</td>\n",
       "      <td>71212</td>\n",
       "      <td>48.45</td>\n",
       "      <td>77</td>\n",
       "      <td>22186</td>\n",
       "      <td>86</td>\n",
       "      <td>2299</td>\n",
       "      <td>2018-10-24</td>\n",
       "      <td>Salaried</td>\n",
       "      <td>...</td>\n",
       "      <td>0</td>\n",
       "      <td>0</td>\n",
       "      <td>0</td>\n",
       "      <td>0</td>\n",
       "      <td>0</td>\n",
       "      <td>0</td>\n",
       "      <td>0yrs 0mon</td>\n",
       "      <td>0</td>\n",
       "      <td>0</td>\n",
       "      <td>0</td>\n",
       "    </tr>\n",
       "    <tr>\n",
       "      <th>233152</th>\n",
       "      <td>548084</td>\n",
       "      <td>34259</td>\n",
       "      <td>73286</td>\n",
       "      <td>49.10</td>\n",
       "      <td>77</td>\n",
       "      <td>22186</td>\n",
       "      <td>86</td>\n",
       "      <td>2299</td>\n",
       "      <td>2018-09-29</td>\n",
       "      <td>Salaried</td>\n",
       "      <td>...</td>\n",
       "      <td>0</td>\n",
       "      <td>0</td>\n",
       "      <td>0</td>\n",
       "      <td>0</td>\n",
       "      <td>0</td>\n",
       "      <td>0</td>\n",
       "      <td>0yrs 0mon</td>\n",
       "      <td>0</td>\n",
       "      <td>0</td>\n",
       "      <td>0</td>\n",
       "    </tr>\n",
       "    <tr>\n",
       "      <th>233153</th>\n",
       "      <td>630213</td>\n",
       "      <td>75751</td>\n",
       "      <td>116009</td>\n",
       "      <td>66.81</td>\n",
       "      <td>77</td>\n",
       "      <td>22186</td>\n",
       "      <td>86</td>\n",
       "      <td>2299</td>\n",
       "      <td>2018-10-27</td>\n",
       "      <td>Salaried</td>\n",
       "      <td>...</td>\n",
       "      <td>0</td>\n",
       "      <td>0</td>\n",
       "      <td>0</td>\n",
       "      <td>0</td>\n",
       "      <td>0</td>\n",
       "      <td>0</td>\n",
       "      <td>0yrs 0mon</td>\n",
       "      <td>0</td>\n",
       "      <td>0</td>\n",
       "      <td>0</td>\n",
       "    </tr>\n",
       "  </tbody>\n",
       "</table>\n",
       "<p>96107 rows × 42 columns</p>\n",
       "</div>"
      ],
      "text/plain": [
       "        UniqueID  disbursed_amount  asset_cost    ltv  branch_id  supplier_id  \\\n",
       "0         420825             50578       58400  89.55         67        22807   \n",
       "6         529269             46349       61500  76.42         67        22807   \n",
       "7         510278             43894       61900  71.89         67        22807   \n",
       "9         510980             52603       61300  86.95         67        22807   \n",
       "11        486821             64769       74190  89.23         67        22807   \n",
       "...          ...               ...         ...    ...        ...          ...   \n",
       "233148    613494             42894       60334  72.93         34        20700   \n",
       "233149    626432             63213      105405  60.72         34        20700   \n",
       "233151    613658             33484       71212  48.45         77        22186   \n",
       "233152    548084             34259       73286  49.10         77        22186   \n",
       "233153    630213             75751      116009  66.81         77        22186   \n",
       "\n",
       "        manufacturer_id  Current_pincode_ID Date.of.Birth Employment.Type  \\\n",
       "0                    45                1441    2018-03-08        Salaried   \n",
       "6                    45                1502    2018-09-23        Salaried   \n",
       "7                    45                1501    2018-09-16        Salaried   \n",
       "9                    45                1492    2018-09-16        Salaried   \n",
       "11                   45                1446    2018-03-09        Salaried   \n",
       "...                 ...                 ...           ...             ...   \n",
       "233148               48                1051    2018-10-24        Salaried   \n",
       "233149               48                1050    2018-10-26        Salaried   \n",
       "233151               86                2299    2018-10-24        Salaried   \n",
       "233152               86                2299    2018-09-29        Salaried   \n",
       "233153               86                2299    2018-10-27        Salaried   \n",
       "\n",
       "        ... SEC.DISBURSED.AMOUNT  PRIMARY.INSTAL.AMT  SEC.INSTAL.AMT  \\\n",
       "0       ...                    0                   0               0   \n",
       "6       ...                    0                   0               0   \n",
       "7       ...                    0                   0               0   \n",
       "9       ...                    0                2608               0   \n",
       "11      ...                    0                   0               0   \n",
       "...     ...                  ...                 ...             ...   \n",
       "233148  ...                    0                   0               0   \n",
       "233149  ...                    0                4084               0   \n",
       "233151  ...                    0                   0               0   \n",
       "233152  ...                    0                   0               0   \n",
       "233153  ...                    0                   0               0   \n",
       "\n",
       "        NEW.ACCTS.IN.LAST.SIX.MONTHS  DELINQUENT.ACCTS.IN.LAST.SIX.MONTHS  \\\n",
       "0                                  0                                    0   \n",
       "6                                  0                                    0   \n",
       "7                                  0                                    0   \n",
       "9                                  0                                    0   \n",
       "11                                 0                                    0   \n",
       "...                              ...                                  ...   \n",
       "233148                             0                                    0   \n",
       "233149                             0                                    0   \n",
       "233151                             0                                    0   \n",
       "233152                             0                                    0   \n",
       "233153                             0                                    0   \n",
       "\n",
       "        AVERAGE.ACCT.AGE  CREDIT.HISTORY.LENGTH  NO.OF_INQUIRIES  \\\n",
       "0                      0              0yrs 0mon                0   \n",
       "6                      0              0yrs 0mon                0   \n",
       "7                      2              0yrs 2mon                0   \n",
       "9                     19              1yrs 7mon                0   \n",
       "11                    25              2yrs 3mon                1   \n",
       "...                  ...                    ...              ...   \n",
       "233148                 0              0yrs 0mon                0   \n",
       "233149                21              3yrs 3mon                0   \n",
       "233151                 0              0yrs 0mon                0   \n",
       "233152                 0              0yrs 0mon                0   \n",
       "233153                 0              0yrs 0mon                0   \n",
       "\n",
       "        loan_default  CREDIT.HISTORY.LENGTH.MONTHS  \n",
       "0                  0                             0  \n",
       "6                  0                             0  \n",
       "7                  0                             2  \n",
       "9                  0                            19  \n",
       "11                 0                            27  \n",
       "...              ...                           ...  \n",
       "233148             0                             0  \n",
       "233149             0                            39  \n",
       "233151             0                             0  \n",
       "233152             0                             0  \n",
       "233153             0                             0  \n",
       "\n",
       "[96107 rows x 42 columns]"
      ]
     },
     "execution_count": 374,
     "metadata": {},
     "output_type": "execute_result"
    }
   ],
   "source": [
    "mydata[(mydata['disbursed_amount']>30000) & (mydata['Employment.Type']=='Salaried')]"
   ]
  },
  {
   "cell_type": "markdown",
   "metadata": {},
   "source": [
    "## Subsetting the Data according to Data types\n",
    "Lets pull categorical features into a separate dataframe"
   ]
  },
  {
   "cell_type": "code",
   "execution_count": 375,
   "metadata": {},
   "outputs": [
    {
     "data": {
      "text/html": [
       "<div>\n",
       "<style scoped>\n",
       "    .dataframe tbody tr th:only-of-type {\n",
       "        vertical-align: middle;\n",
       "    }\n",
       "\n",
       "    .dataframe tbody tr th {\n",
       "        vertical-align: top;\n",
       "    }\n",
       "\n",
       "    .dataframe thead th {\n",
       "        text-align: right;\n",
       "    }\n",
       "</style>\n",
       "<table border=\"1\" class=\"dataframe\">\n",
       "  <thead>\n",
       "    <tr style=\"text-align: right;\">\n",
       "      <th></th>\n",
       "      <th>Employment.Type</th>\n",
       "      <th>DisbursalDate</th>\n",
       "      <th>PERFORM_CNS.SCORE.DESCRIPTION</th>\n",
       "      <th>CREDIT.HISTORY.LENGTH</th>\n",
       "    </tr>\n",
       "  </thead>\n",
       "  <tbody>\n",
       "    <tr>\n",
       "      <th>0</th>\n",
       "      <td>Salaried</td>\n",
       "      <td>03-08-18</td>\n",
       "      <td>No Bureau History Available</td>\n",
       "      <td>0yrs 0mon</td>\n",
       "    </tr>\n",
       "    <tr>\n",
       "      <th>1</th>\n",
       "      <td>Self employed</td>\n",
       "      <td>26-09-18</td>\n",
       "      <td>I-Medium Risk</td>\n",
       "      <td>1yrs 11mon</td>\n",
       "    </tr>\n",
       "    <tr>\n",
       "      <th>2</th>\n",
       "      <td>Self employed</td>\n",
       "      <td>01-08-18</td>\n",
       "      <td>No Bureau History Available</td>\n",
       "      <td>0yrs 0mon</td>\n",
       "    </tr>\n",
       "    <tr>\n",
       "      <th>3</th>\n",
       "      <td>Self employed</td>\n",
       "      <td>26-10-18</td>\n",
       "      <td>L-Very High Risk</td>\n",
       "      <td>1yrs 3mon</td>\n",
       "    </tr>\n",
       "    <tr>\n",
       "      <th>4</th>\n",
       "      <td>Self employed</td>\n",
       "      <td>26-09-18</td>\n",
       "      <td>No Bureau History Available</td>\n",
       "      <td>0yrs 0mon</td>\n",
       "    </tr>\n",
       "  </tbody>\n",
       "</table>\n",
       "</div>"
      ],
      "text/plain": [
       "  Employment.Type DisbursalDate PERFORM_CNS.SCORE.DESCRIPTION  \\\n",
       "0        Salaried      03-08-18   No Bureau History Available   \n",
       "1   Self employed      26-09-18                 I-Medium Risk   \n",
       "2   Self employed      01-08-18   No Bureau History Available   \n",
       "3   Self employed      26-10-18              L-Very High Risk   \n",
       "4   Self employed      26-09-18   No Bureau History Available   \n",
       "\n",
       "  CREDIT.HISTORY.LENGTH  \n",
       "0             0yrs 0mon  \n",
       "1            1yrs 11mon  \n",
       "2             0yrs 0mon  \n",
       "3             1yrs 3mon  \n",
       "4             0yrs 0mon  "
      ]
     },
     "execution_count": 375,
     "metadata": {},
     "output_type": "execute_result"
    }
   ],
   "source": [
    "cat_mydata=mydata.select_dtypes(include='object')\n",
    "cat_mydata.head()"
   ]
  },
  {
   "cell_type": "markdown",
   "metadata": {},
   "source": [
    "Lets drop the columns **AVERAGE.ACCT.AGE**\t**CREDIT.HISTORY.LENGTH** from the cat_mydata as we have already transformed it in step 2"
   ]
  },
  {
   "cell_type": "code",
   "execution_count": 376,
   "metadata": {},
   "outputs": [],
   "source": [
    "cat_mydata=cat_mydata.drop(columns='CREDIT.HISTORY.LENGTH',axis=1)"
   ]
  },
  {
   "cell_type": "markdown",
   "metadata": {},
   "source": [
    "## Step 4: Descriptive statistics\n",
    "Lets us start a our data analysis journey with finding out **Mean, Median, Mode, Max, Min, Standard Deviation and quartile values**\n",
    "- The \"mean\" is the \"average\" you're used to, where you add up all the numbers and then divide by the number of numbers. \n",
    "- The \"median\" is the \"middle\" value in the list of numbers. To find the median, your numbers have to be listed in numerical order from smallest to largest, so you may have to rewrite your list before you can find the median. \n",
    "- The \"mode\" is the value that occurs most often. If no number in the list is repeated, then there is no mode for the list.\n",
    "- Quartiles in statistics are values that divide your data into quarters. However, quartiles aren’t shaped like pizza slices; Instead they divide your data into four segments according to where the numbers fall on the number line. \n",
    "    -The four quarters that divide a data set into quartiles are:\n",
    "\n",
    "    - The lowest 25% of numbers.\n",
    "    - The next lowest 25% of numbers (up to the median).\n",
    "    - The second highest 25% of numbers (above the median).\n",
    "    - The highest 25% of numbers."
   ]
  },
  {
   "cell_type": "code",
   "execution_count": 377,
   "metadata": {},
   "outputs": [
    {
     "data": {
      "text/html": [
       "<div>\n",
       "<style scoped>\n",
       "    .dataframe tbody tr th:only-of-type {\n",
       "        vertical-align: middle;\n",
       "    }\n",
       "\n",
       "    .dataframe tbody tr th {\n",
       "        vertical-align: top;\n",
       "    }\n",
       "\n",
       "    .dataframe thead th {\n",
       "        text-align: right;\n",
       "    }\n",
       "</style>\n",
       "<table border=\"1\" class=\"dataframe\">\n",
       "  <thead>\n",
       "    <tr style=\"text-align: right;\">\n",
       "      <th></th>\n",
       "      <th>UniqueID</th>\n",
       "      <th>disbursed_amount</th>\n",
       "      <th>asset_cost</th>\n",
       "      <th>ltv</th>\n",
       "      <th>branch_id</th>\n",
       "      <th>supplier_id</th>\n",
       "      <th>manufacturer_id</th>\n",
       "      <th>Current_pincode_ID</th>\n",
       "      <th>State_ID</th>\n",
       "      <th>Employee_code_ID</th>\n",
       "      <th>...</th>\n",
       "      <th>SEC.SANCTIONED.AMOUNT</th>\n",
       "      <th>SEC.DISBURSED.AMOUNT</th>\n",
       "      <th>PRIMARY.INSTAL.AMT</th>\n",
       "      <th>SEC.INSTAL.AMT</th>\n",
       "      <th>NEW.ACCTS.IN.LAST.SIX.MONTHS</th>\n",
       "      <th>DELINQUENT.ACCTS.IN.LAST.SIX.MONTHS</th>\n",
       "      <th>AVERAGE.ACCT.AGE</th>\n",
       "      <th>NO.OF_INQUIRIES</th>\n",
       "      <th>loan_default</th>\n",
       "      <th>CREDIT.HISTORY.LENGTH.MONTHS</th>\n",
       "    </tr>\n",
       "  </thead>\n",
       "  <tbody>\n",
       "    <tr>\n",
       "      <th>count</th>\n",
       "      <td>233154.000000</td>\n",
       "      <td>233154.000000</td>\n",
       "      <td>2.331540e+05</td>\n",
       "      <td>233154.000000</td>\n",
       "      <td>233154.000000</td>\n",
       "      <td>233154.000000</td>\n",
       "      <td>233154.000000</td>\n",
       "      <td>233154.000000</td>\n",
       "      <td>233154.000000</td>\n",
       "      <td>233154.000000</td>\n",
       "      <td>...</td>\n",
       "      <td>2.331540e+05</td>\n",
       "      <td>2.331540e+05</td>\n",
       "      <td>2.331540e+05</td>\n",
       "      <td>2.331540e+05</td>\n",
       "      <td>233154.000000</td>\n",
       "      <td>233154.000000</td>\n",
       "      <td>233154.000000</td>\n",
       "      <td>233154.000000</td>\n",
       "      <td>233154.000000</td>\n",
       "      <td>233154.000000</td>\n",
       "    </tr>\n",
       "    <tr>\n",
       "      <th>mean</th>\n",
       "      <td>535917.573376</td>\n",
       "      <td>54356.993528</td>\n",
       "      <td>7.586507e+04</td>\n",
       "      <td>74.746530</td>\n",
       "      <td>72.936094</td>\n",
       "      <td>19638.635035</td>\n",
       "      <td>69.028054</td>\n",
       "      <td>3396.880247</td>\n",
       "      <td>7.262243</td>\n",
       "      <td>1549.477148</td>\n",
       "      <td>...</td>\n",
       "      <td>7.295923e+03</td>\n",
       "      <td>7.179998e+03</td>\n",
       "      <td>1.310548e+04</td>\n",
       "      <td>3.232684e+02</td>\n",
       "      <td>0.381833</td>\n",
       "      <td>0.097481</td>\n",
       "      <td>8.915764</td>\n",
       "      <td>0.206615</td>\n",
       "      <td>0.217071</td>\n",
       "      <td>16.252404</td>\n",
       "    </tr>\n",
       "    <tr>\n",
       "      <th>std</th>\n",
       "      <td>68315.693711</td>\n",
       "      <td>12971.314171</td>\n",
       "      <td>1.894478e+04</td>\n",
       "      <td>11.456636</td>\n",
       "      <td>69.834995</td>\n",
       "      <td>3491.949566</td>\n",
       "      <td>22.141304</td>\n",
       "      <td>2238.147502</td>\n",
       "      <td>4.482230</td>\n",
       "      <td>975.261278</td>\n",
       "      <td>...</td>\n",
       "      <td>1.831560e+05</td>\n",
       "      <td>1.825925e+05</td>\n",
       "      <td>1.513679e+05</td>\n",
       "      <td>1.555369e+04</td>\n",
       "      <td>0.955107</td>\n",
       "      <td>0.384439</td>\n",
       "      <td>15.106416</td>\n",
       "      <td>0.706498</td>\n",
       "      <td>0.412252</td>\n",
       "      <td>28.581255</td>\n",
       "    </tr>\n",
       "    <tr>\n",
       "      <th>min</th>\n",
       "      <td>417428.000000</td>\n",
       "      <td>13320.000000</td>\n",
       "      <td>3.700000e+04</td>\n",
       "      <td>10.030000</td>\n",
       "      <td>1.000000</td>\n",
       "      <td>10524.000000</td>\n",
       "      <td>45.000000</td>\n",
       "      <td>1.000000</td>\n",
       "      <td>1.000000</td>\n",
       "      <td>1.000000</td>\n",
       "      <td>...</td>\n",
       "      <td>0.000000e+00</td>\n",
       "      <td>0.000000e+00</td>\n",
       "      <td>0.000000e+00</td>\n",
       "      <td>0.000000e+00</td>\n",
       "      <td>0.000000</td>\n",
       "      <td>0.000000</td>\n",
       "      <td>0.000000</td>\n",
       "      <td>0.000000</td>\n",
       "      <td>0.000000</td>\n",
       "      <td>0.000000</td>\n",
       "    </tr>\n",
       "    <tr>\n",
       "      <th>25%</th>\n",
       "      <td>476786.250000</td>\n",
       "      <td>47145.000000</td>\n",
       "      <td>6.571700e+04</td>\n",
       "      <td>68.880000</td>\n",
       "      <td>14.000000</td>\n",
       "      <td>16535.000000</td>\n",
       "      <td>48.000000</td>\n",
       "      <td>1511.000000</td>\n",
       "      <td>4.000000</td>\n",
       "      <td>713.000000</td>\n",
       "      <td>...</td>\n",
       "      <td>0.000000e+00</td>\n",
       "      <td>0.000000e+00</td>\n",
       "      <td>0.000000e+00</td>\n",
       "      <td>0.000000e+00</td>\n",
       "      <td>0.000000</td>\n",
       "      <td>0.000000</td>\n",
       "      <td>0.000000</td>\n",
       "      <td>0.000000</td>\n",
       "      <td>0.000000</td>\n",
       "      <td>0.000000</td>\n",
       "    </tr>\n",
       "    <tr>\n",
       "      <th>50%</th>\n",
       "      <td>535978.500000</td>\n",
       "      <td>53803.000000</td>\n",
       "      <td>7.094600e+04</td>\n",
       "      <td>76.800000</td>\n",
       "      <td>61.000000</td>\n",
       "      <td>20333.000000</td>\n",
       "      <td>86.000000</td>\n",
       "      <td>2970.000000</td>\n",
       "      <td>6.000000</td>\n",
       "      <td>1451.000000</td>\n",
       "      <td>...</td>\n",
       "      <td>0.000000e+00</td>\n",
       "      <td>0.000000e+00</td>\n",
       "      <td>0.000000e+00</td>\n",
       "      <td>0.000000e+00</td>\n",
       "      <td>0.000000</td>\n",
       "      <td>0.000000</td>\n",
       "      <td>0.000000</td>\n",
       "      <td>0.000000</td>\n",
       "      <td>0.000000</td>\n",
       "      <td>0.000000</td>\n",
       "    </tr>\n",
       "    <tr>\n",
       "      <th>75%</th>\n",
       "      <td>595039.750000</td>\n",
       "      <td>60413.000000</td>\n",
       "      <td>7.920175e+04</td>\n",
       "      <td>83.670000</td>\n",
       "      <td>130.000000</td>\n",
       "      <td>23000.000000</td>\n",
       "      <td>86.000000</td>\n",
       "      <td>5677.000000</td>\n",
       "      <td>10.000000</td>\n",
       "      <td>2362.000000</td>\n",
       "      <td>...</td>\n",
       "      <td>0.000000e+00</td>\n",
       "      <td>0.000000e+00</td>\n",
       "      <td>1.999000e+03</td>\n",
       "      <td>0.000000e+00</td>\n",
       "      <td>0.000000</td>\n",
       "      <td>0.000000</td>\n",
       "      <td>13.000000</td>\n",
       "      <td>0.000000</td>\n",
       "      <td>0.000000</td>\n",
       "      <td>24.000000</td>\n",
       "    </tr>\n",
       "    <tr>\n",
       "      <th>max</th>\n",
       "      <td>671084.000000</td>\n",
       "      <td>990572.000000</td>\n",
       "      <td>1.628992e+06</td>\n",
       "      <td>95.000000</td>\n",
       "      <td>261.000000</td>\n",
       "      <td>24803.000000</td>\n",
       "      <td>156.000000</td>\n",
       "      <td>7345.000000</td>\n",
       "      <td>22.000000</td>\n",
       "      <td>3795.000000</td>\n",
       "      <td>...</td>\n",
       "      <td>3.000000e+07</td>\n",
       "      <td>3.000000e+07</td>\n",
       "      <td>2.564281e+07</td>\n",
       "      <td>4.170901e+06</td>\n",
       "      <td>35.000000</td>\n",
       "      <td>20.000000</td>\n",
       "      <td>369.000000</td>\n",
       "      <td>36.000000</td>\n",
       "      <td>1.000000</td>\n",
       "      <td>468.000000</td>\n",
       "    </tr>\n",
       "  </tbody>\n",
       "</table>\n",
       "<p>8 rows × 37 columns</p>\n",
       "</div>"
      ],
      "text/plain": [
       "            UniqueID  disbursed_amount    asset_cost            ltv  \\\n",
       "count  233154.000000     233154.000000  2.331540e+05  233154.000000   \n",
       "mean   535917.573376      54356.993528  7.586507e+04      74.746530   \n",
       "std     68315.693711      12971.314171  1.894478e+04      11.456636   \n",
       "min    417428.000000      13320.000000  3.700000e+04      10.030000   \n",
       "25%    476786.250000      47145.000000  6.571700e+04      68.880000   \n",
       "50%    535978.500000      53803.000000  7.094600e+04      76.800000   \n",
       "75%    595039.750000      60413.000000  7.920175e+04      83.670000   \n",
       "max    671084.000000     990572.000000  1.628992e+06      95.000000   \n",
       "\n",
       "           branch_id    supplier_id  manufacturer_id  Current_pincode_ID  \\\n",
       "count  233154.000000  233154.000000    233154.000000       233154.000000   \n",
       "mean       72.936094   19638.635035        69.028054         3396.880247   \n",
       "std        69.834995    3491.949566        22.141304         2238.147502   \n",
       "min         1.000000   10524.000000        45.000000            1.000000   \n",
       "25%        14.000000   16535.000000        48.000000         1511.000000   \n",
       "50%        61.000000   20333.000000        86.000000         2970.000000   \n",
       "75%       130.000000   23000.000000        86.000000         5677.000000   \n",
       "max       261.000000   24803.000000       156.000000         7345.000000   \n",
       "\n",
       "            State_ID  Employee_code_ID  ...  SEC.SANCTIONED.AMOUNT  \\\n",
       "count  233154.000000     233154.000000  ...           2.331540e+05   \n",
       "mean        7.262243       1549.477148  ...           7.295923e+03   \n",
       "std         4.482230        975.261278  ...           1.831560e+05   \n",
       "min         1.000000          1.000000  ...           0.000000e+00   \n",
       "25%         4.000000        713.000000  ...           0.000000e+00   \n",
       "50%         6.000000       1451.000000  ...           0.000000e+00   \n",
       "75%        10.000000       2362.000000  ...           0.000000e+00   \n",
       "max        22.000000       3795.000000  ...           3.000000e+07   \n",
       "\n",
       "       SEC.DISBURSED.AMOUNT  PRIMARY.INSTAL.AMT  SEC.INSTAL.AMT  \\\n",
       "count          2.331540e+05        2.331540e+05    2.331540e+05   \n",
       "mean           7.179998e+03        1.310548e+04    3.232684e+02   \n",
       "std            1.825925e+05        1.513679e+05    1.555369e+04   \n",
       "min            0.000000e+00        0.000000e+00    0.000000e+00   \n",
       "25%            0.000000e+00        0.000000e+00    0.000000e+00   \n",
       "50%            0.000000e+00        0.000000e+00    0.000000e+00   \n",
       "75%            0.000000e+00        1.999000e+03    0.000000e+00   \n",
       "max            3.000000e+07        2.564281e+07    4.170901e+06   \n",
       "\n",
       "       NEW.ACCTS.IN.LAST.SIX.MONTHS  DELINQUENT.ACCTS.IN.LAST.SIX.MONTHS  \\\n",
       "count                 233154.000000                        233154.000000   \n",
       "mean                       0.381833                             0.097481   \n",
       "std                        0.955107                             0.384439   \n",
       "min                        0.000000                             0.000000   \n",
       "25%                        0.000000                             0.000000   \n",
       "50%                        0.000000                             0.000000   \n",
       "75%                        0.000000                             0.000000   \n",
       "max                       35.000000                            20.000000   \n",
       "\n",
       "       AVERAGE.ACCT.AGE  NO.OF_INQUIRIES   loan_default  \\\n",
       "count     233154.000000    233154.000000  233154.000000   \n",
       "mean           8.915764         0.206615       0.217071   \n",
       "std           15.106416         0.706498       0.412252   \n",
       "min            0.000000         0.000000       0.000000   \n",
       "25%            0.000000         0.000000       0.000000   \n",
       "50%            0.000000         0.000000       0.000000   \n",
       "75%           13.000000         0.000000       0.000000   \n",
       "max          369.000000        36.000000       1.000000   \n",
       "\n",
       "       CREDIT.HISTORY.LENGTH.MONTHS  \n",
       "count                 233154.000000  \n",
       "mean                      16.252404  \n",
       "std                       28.581255  \n",
       "min                        0.000000  \n",
       "25%                        0.000000  \n",
       "50%                        0.000000  \n",
       "75%                       24.000000  \n",
       "max                      468.000000  \n",
       "\n",
       "[8 rows x 37 columns]"
      ]
     },
     "execution_count": 377,
     "metadata": {},
     "output_type": "execute_result"
    }
   ],
   "source": [
    "mydata.describe()"
   ]
  },
  {
   "cell_type": "markdown",
   "metadata": {},
   "source": [
    "Categorical variables are excluded in this data summary so we need use value_counts method"
   ]
  },
  {
   "cell_type": "code",
   "execution_count": 378,
   "metadata": {},
   "outputs": [
    {
     "data": {
      "text/plain": [
       "No Bureau History Available                                116950\n",
       "C-Very Low Risk                                             16045\n",
       "A-Very Low Risk                                             14124\n",
       "D-Very Low Risk                                             11358\n",
       "B-Very Low Risk                                              9201\n",
       "M-Very High Risk                                             8776\n",
       "F-Low Risk                                                   8485\n",
       "K-High Risk                                                  8277\n",
       "H-Medium Risk                                                6855\n",
       "E-Low Risk                                                   5821\n",
       "I-Medium Risk                                                5557\n",
       "G-Low Risk                                                   3988\n",
       "Not Scored: Sufficient History Not Available                 3765\n",
       "J-High Risk                                                  3748\n",
       "Not Scored: Not Enough Info available on the customer        3672\n",
       "Not Scored: No Activity seen on the customer (Inactive)      2885\n",
       "Not Scored: No Updates available in last 36 months           1534\n",
       "L-Very High Risk                                             1134\n",
       "Not Scored: Only a Guarantor                                  976\n",
       "Not Scored: More than 50 active Accounts found                  3\n",
       "Name: PERFORM_CNS.SCORE.DESCRIPTION, dtype: int64"
      ]
     },
     "execution_count": 378,
     "metadata": {},
     "output_type": "execute_result"
    }
   ],
   "source": [
    "cat_mydata['PERFORM_CNS.SCORE.DESCRIPTION'].value_counts()"
   ]
  },
  {
   "cell_type": "code",
   "execution_count": 379,
   "metadata": {},
   "outputs": [],
   "source": [
    "#cat_mydata['Employment.Type'].value_counts()"
   ]
  },
  {
   "cell_type": "markdown",
   "metadata": {},
   "source": [
    "#### The dataset has Date.of.Birth column from which Age of the customer can be derived w.r.t the current date.\n",
    "This is known as Derived columns"
   ]
  },
  {
   "cell_type": "code",
   "execution_count": 380,
   "metadata": {},
   "outputs": [
    {
     "data": {
      "text/plain": [
       "Timestamp('2022-08-26 19:06:23.760452')"
      ]
     },
     "execution_count": 380,
     "metadata": {},
     "output_type": "execute_result"
    }
   ],
   "source": [
    "pd.to_datetime('now')"
   ]
  },
  {
   "cell_type": "code",
   "execution_count": 381,
   "metadata": {},
   "outputs": [
    {
     "data": {
      "text/plain": [
       "0         4.0\n",
       "1         3.0\n",
       "2         4.0\n",
       "3         3.0\n",
       "4         3.0\n",
       "         ... \n",
       "233149    3.0\n",
       "233150    3.0\n",
       "233151    3.0\n",
       "233152    3.0\n",
       "233153    3.0\n",
       "Name: Date.of.Birth, Length: 233154, dtype: float64"
      ]
     },
     "execution_count": 381,
     "metadata": {},
     "output_type": "execute_result"
    }
   ],
   "source": [
    "(pd.to_datetime('now')-mydata['Date.of.Birth']).astype('<m8[Y]')"
   ]
  },
  {
   "cell_type": "code",
   "execution_count": 382,
   "metadata": {},
   "outputs": [],
   "source": [
    "mydata['Age']=(pd.to_datetime('now')-mydata['Date.of.Birth']).astype('<m8[Y]')"
   ]
  },
  {
   "cell_type": "markdown",
   "metadata": {},
   "source": [
    "When we see the summary of the age column we can clear see that thae range of the age columns is from 19 to 70 years"
   ]
  },
  {
   "cell_type": "code",
   "execution_count": 383,
   "metadata": {},
   "outputs": [
    {
     "data": {
      "text/plain": [
       "3.0    172118\n",
       "4.0     61036\n",
       "Name: Age, dtype: int64"
      ]
     },
     "execution_count": 383,
     "metadata": {},
     "output_type": "execute_result"
    }
   ],
   "source": [
    "mydata['Age'].value_counts()"
   ]
  },
  {
   "cell_type": "markdown",
   "metadata": {},
   "source": [
    "## Customer Profiling \n",
    "### Analysis-I"
   ]
  },
  {
   "cell_type": "markdown",
   "metadata": {},
   "source": [
    "**Age** is a continuous variable we need convert into categorical so that it will easy for us to build the customer profile"
   ]
  },
  {
   "cell_type": "markdown",
   "metadata": {},
   "source": [
    "pandas.cut(x, bins, right: bool = True, labels=None, retbins: bool = False, precision: int = 3, include_lowest: bool = False, duplicates: str = 'raise')\n",
    "Bin values into discrete intervals.\n",
    "\n",
    "we use cut when need to segment and sort data values into bins. This function is also useful for going from a continuous variable to a categorical variable. For example, cut could convert ages to groups of age ranges."
   ]
  },
  {
   "cell_type": "code",
   "execution_count": 384,
   "metadata": {},
   "outputs": [
    {
     "data": {
      "text/plain": [
       "0      (3.75, 4.0]\n",
       "1    (2.999, 3.25]\n",
       "2      (3.75, 4.0]\n",
       "3    (2.999, 3.25]\n",
       "4    (2.999, 3.25]\n",
       "Name: Age, dtype: category\n",
       "Categories (4, interval[float64]): [(2.999, 3.25] < (3.25, 3.5] < (3.5, 3.75] < (3.75, 4.0]]"
      ]
     },
     "execution_count": 384,
     "metadata": {},
     "output_type": "execute_result"
    }
   ],
   "source": [
    "pd.cut(mydata['Age'],4).head()"
   ]
  },
  {
   "cell_type": "code",
   "execution_count": 385,
   "metadata": {},
   "outputs": [
    {
     "data": {
      "text/plain": [
       "0         oldage\n",
       "1          Youth\n",
       "2         oldage\n",
       "3          Youth\n",
       "4          Youth\n",
       "           ...  \n",
       "233149     Youth\n",
       "233150     Youth\n",
       "233151     Youth\n",
       "233152     Youth\n",
       "233153     Youth\n",
       "Name: Age, Length: 233154, dtype: category\n",
       "Categories (4, object): ['Youth' < 'Youngster' < 'Middleage' < 'oldage']"
      ]
     },
     "execution_count": 385,
     "metadata": {},
     "output_type": "execute_result"
    }
   ],
   "source": [
    "pd.cut(mydata['Age'],4,labels=['Youth','Youngster','Middleage','oldage'])"
   ]
  },
  {
   "cell_type": "code",
   "execution_count": 386,
   "metadata": {},
   "outputs": [],
   "source": [
    "mydata['Age_cat']=pd.cut(mydata['Age'],4,labels=['Youth','Youngster','Middleage','oldage'])"
   ]
  },
  {
   "cell_type": "code",
   "execution_count": 387,
   "metadata": {},
   "outputs": [
    {
     "data": {
      "text/plain": [
       "count     233154\n",
       "unique         2\n",
       "top        Youth\n",
       "freq      172118\n",
       "Name: Age_cat, dtype: object"
      ]
     },
     "execution_count": 387,
     "metadata": {},
     "output_type": "execute_result"
    }
   ],
   "source": [
    "mydata['Age_cat'].describe()"
   ]
  },
  {
   "cell_type": "code",
   "execution_count": 388,
   "metadata": {},
   "outputs": [
    {
     "data": {
      "text/plain": [
       "Youth        0.738216\n",
       "oldage       0.261784\n",
       "Middleage    0.000000\n",
       "Youngster    0.000000\n",
       "Name: Age_cat, dtype: float64"
      ]
     },
     "execution_count": 388,
     "metadata": {},
     "output_type": "execute_result"
    }
   ],
   "source": [
    "mydata['Age_cat'].value_counts(normalize=True)"
   ]
  },
  {
   "cell_type": "markdown",
   "metadata": {},
   "source": [
    "### Which segment of the age group is having higher loan defaults???"
   ]
  },
  {
   "cell_type": "markdown",
   "metadata": {},
   "source": [
    "To answer this question lets build a povit table "
   ]
  },
  {
   "cell_type": "markdown",
   "metadata": {},
   "source": [
    "mydata.pivot_table(values=None,index=None,columns=None,aggfunc='mean',fill_value=None,margins=False,dropna=True,margins_name='All',observed=False)\n",
    "\n",
    "Create a spreadsheet-style pivot table as a DataFrame. The levels in\n",
    "the pivot table will be stored in MultiIndex objects (hierarchical\n",
    "indexes) on the index and columns of the result DataFrame."
   ]
  },
  {
   "cell_type": "code",
   "execution_count": 389,
   "metadata": {},
   "outputs": [
    {
     "data": {
      "text/html": [
       "<div>\n",
       "<style scoped>\n",
       "    .dataframe tbody tr th:only-of-type {\n",
       "        vertical-align: middle;\n",
       "    }\n",
       "\n",
       "    .dataframe tbody tr th {\n",
       "        vertical-align: top;\n",
       "    }\n",
       "\n",
       "    .dataframe thead th {\n",
       "        text-align: right;\n",
       "    }\n",
       "</style>\n",
       "<table border=\"1\" class=\"dataframe\">\n",
       "  <thead>\n",
       "    <tr style=\"text-align: right;\">\n",
       "      <th>loan_default</th>\n",
       "      <th>0</th>\n",
       "      <th>1</th>\n",
       "    </tr>\n",
       "    <tr>\n",
       "      <th>Age_cat</th>\n",
       "      <th></th>\n",
       "      <th></th>\n",
       "    </tr>\n",
       "  </thead>\n",
       "  <tbody>\n",
       "    <tr>\n",
       "      <th>Youth</th>\n",
       "      <td>134355</td>\n",
       "      <td>37763</td>\n",
       "    </tr>\n",
       "    <tr>\n",
       "      <th>oldage</th>\n",
       "      <td>48188</td>\n",
       "      <td>12848</td>\n",
       "    </tr>\n",
       "  </tbody>\n",
       "</table>\n",
       "</div>"
      ],
      "text/plain": [
       "loan_default       0      1\n",
       "Age_cat                    \n",
       "Youth         134355  37763\n",
       "oldage         48188  12848"
      ]
     },
     "execution_count": 389,
     "metadata": {},
     "output_type": "execute_result"
    }
   ],
   "source": [
    "mydata.pivot_table(values='UniqueID',index='Age_cat',columns='loan_default',aggfunc='count')"
   ]
  },
  {
   "cell_type": "markdown",
   "metadata": {},
   "source": [
    "lets need find the percentage w.r.t their loan_defaults "
   ]
  },
  {
   "cell_type": "code",
   "execution_count": 390,
   "metadata": {},
   "outputs": [
    {
     "data": {
      "text/html": [
       "<div>\n",
       "<style scoped>\n",
       "    .dataframe tbody tr th:only-of-type {\n",
       "        vertical-align: middle;\n",
       "    }\n",
       "\n",
       "    .dataframe tbody tr th {\n",
       "        vertical-align: top;\n",
       "    }\n",
       "\n",
       "    .dataframe thead th {\n",
       "        text-align: right;\n",
       "    }\n",
       "</style>\n",
       "<table border=\"1\" class=\"dataframe\">\n",
       "  <thead>\n",
       "    <tr style=\"text-align: right;\">\n",
       "      <th>Age_cat</th>\n",
       "      <th>Youth</th>\n",
       "      <th>oldage</th>\n",
       "    </tr>\n",
       "    <tr>\n",
       "      <th>loan_default</th>\n",
       "      <th></th>\n",
       "      <th></th>\n",
       "    </tr>\n",
       "  </thead>\n",
       "  <tbody>\n",
       "    <tr>\n",
       "      <th>0</th>\n",
       "      <td>134355</td>\n",
       "      <td>48188</td>\n",
       "    </tr>\n",
       "    <tr>\n",
       "      <th>1</th>\n",
       "      <td>37763</td>\n",
       "      <td>12848</td>\n",
       "    </tr>\n",
       "  </tbody>\n",
       "</table>\n",
       "</div>"
      ],
      "text/plain": [
       "Age_cat        Youth  oldage\n",
       "loan_default                \n",
       "0             134355   48188\n",
       "1              37763   12848"
      ]
     },
     "execution_count": 390,
     "metadata": {},
     "output_type": "execute_result"
    }
   ],
   "source": [
    "default_age_cat=mydata.pivot_table(values='UniqueID',columns='Age_cat',index='loan_default',aggfunc='count')\n",
    "default_age_cat"
   ]
  },
  {
   "cell_type": "markdown",
   "metadata": {},
   "source": [
    "### pandas.DataFrame.iloc\n",
    "**property** \n",
    "Purely integer-location based indexing for selection by position.\n",
    "\n",
    ".iloc[] is primarily integer position based (from 0 to length-1 of the axis), but may also be used with a boolean array.\n",
    "\n",
    "Allowed inputs are:\n",
    "- An integer, e.g. 5.\n",
    "- A list or array of integers, e.g. [4, 3, 0].\n",
    "- A slice object with ints, e.g. 1:7.\n",
    "- A boolean array.\n",
    "\n",
    "A callable function with one argument (the calling Series or DataFrame) and that returns valid output for indexing (one of the above). This is useful in method chains, when you don’t have a reference to the calling object, but would like to base your selection on some value.\n",
    "\n",
    ".iloc will raise IndexError if a requested indexer is out-of-bounds, except slice indexers which allow out-of-bounds indexing (this conforms with python/numpy slice semantics)."
   ]
  },
  {
   "cell_type": "code",
   "execution_count": 391,
   "metadata": {},
   "outputs": [
    {
     "data": {
      "text/plain": [
       "Age_cat\n",
       "Youth     134355\n",
       "oldage     48188\n",
       "Name: 0, dtype: int64"
      ]
     },
     "execution_count": 391,
     "metadata": {},
     "output_type": "execute_result"
    }
   ],
   "source": [
    "default_age_cat.iloc[0]"
   ]
  },
  {
   "cell_type": "code",
   "execution_count": 392,
   "metadata": {},
   "outputs": [
    {
     "data": {
      "text/plain": [
       "0    182543\n",
       "1     50611\n",
       "Name: loan_default, dtype: int64"
      ]
     },
     "execution_count": 392,
     "metadata": {},
     "output_type": "execute_result"
    }
   ],
   "source": [
    "mydata['loan_default'].value_counts()"
   ]
  },
  {
   "cell_type": "markdown",
   "metadata": {},
   "source": [
    "Now we can divide the default_age_cat with counts of loan default for 0 & 1"
   ]
  },
  {
   "cell_type": "code",
   "execution_count": 393,
   "metadata": {},
   "outputs": [
    {
     "data": {
      "text/plain": [
       "Age_cat\n",
       "Youth     0.736018\n",
       "oldage    0.263982\n",
       "Name: 0, dtype: float64"
      ]
     },
     "execution_count": 393,
     "metadata": {},
     "output_type": "execute_result"
    }
   ],
   "source": [
    "default_age_cat.iloc[0]/mydata['loan_default'].value_counts()[0]"
   ]
  },
  {
   "cell_type": "code",
   "execution_count": 394,
   "metadata": {},
   "outputs": [
    {
     "data": {
      "text/plain": [
       "Age_cat\n",
       "Youth     0.746142\n",
       "oldage    0.253858\n",
       "Name: 1, dtype: float64"
      ]
     },
     "execution_count": 394,
     "metadata": {},
     "output_type": "execute_result"
    }
   ],
   "source": [
    "default_age_cat.iloc[1]/mydata['loan_default'].value_counts()[1]"
   ]
  },
  {
   "cell_type": "markdown",
   "metadata": {},
   "source": [
    "### Inference \n",
    "\n",
    "***The analysis indicates that Youth & Youngster who are having age range from 18 to 45 are the major contributors for loan default*** "
   ]
  },
  {
   "cell_type": "markdown",
   "metadata": {},
   "source": [
    "## Customer Profiling \n",
    "### Analysis-II"
   ]
  },
  {
   "cell_type": "markdown",
   "metadata": {},
   "source": [
    "### Which segment of the Employment type is having higher loan defaults???"
   ]
  },
  {
   "cell_type": "code",
   "execution_count": 395,
   "metadata": {},
   "outputs": [],
   "source": [
    "Emp_Analysis=mydata.pivot_table(values='UniqueID',index=['Employment.Type'],columns='loan_default',aggfunc='count')"
   ]
  },
  {
   "cell_type": "code",
   "execution_count": 396,
   "metadata": {},
   "outputs": [
    {
     "data": {
      "text/plain": [
       "Employment.Type\n",
       "Salaried         19910\n",
       "Self employed    29057\n",
       "Name: 1, dtype: int64"
      ]
     },
     "execution_count": 396,
     "metadata": {},
     "output_type": "execute_result"
    }
   ],
   "source": [
    "Emp_Analysis[1]"
   ]
  },
  {
   "cell_type": "code",
   "execution_count": 397,
   "metadata": {},
   "outputs": [
    {
     "data": {
      "text/plain": [
       "Employment.Type\n",
       "Salaried         0.393393\n",
       "Self employed    0.574124\n",
       "Name: 1, dtype: float64"
      ]
     },
     "execution_count": 397,
     "metadata": {},
     "output_type": "execute_result"
    }
   ],
   "source": [
    "Emp_Analysis[1]/mydata['loan_default'].value_counts()[1]"
   ]
  },
  {
   "cell_type": "markdown",
   "metadata": {},
   "source": [
    "### Inference \n",
    "\n",
    "***The analysis indicates that Self employed are major contributors for loan default with almost 60% out of 50000 defaulters.*** "
   ]
  },
  {
   "cell_type": "markdown",
   "metadata": {},
   "source": [
    "### Which segment of the age group & Employment type is having higher loan defaults???"
   ]
  },
  {
   "cell_type": "code",
   "execution_count": 398,
   "metadata": {},
   "outputs": [],
   "source": [
    "Emp_age_Analysis=mydata.pivot_table(values='UniqueID',index=['Age_cat','Employment.Type'],columns='loan_default',aggfunc='count')"
   ]
  },
  {
   "cell_type": "code",
   "execution_count": 399,
   "metadata": {},
   "outputs": [
    {
     "data": {
      "text/html": [
       "<div>\n",
       "<style scoped>\n",
       "    .dataframe tbody tr th:only-of-type {\n",
       "        vertical-align: middle;\n",
       "    }\n",
       "\n",
       "    .dataframe tbody tr th {\n",
       "        vertical-align: top;\n",
       "    }\n",
       "\n",
       "    .dataframe thead th {\n",
       "        text-align: right;\n",
       "    }\n",
       "</style>\n",
       "<table border=\"1\" class=\"dataframe\">\n",
       "  <thead>\n",
       "    <tr style=\"text-align: right;\">\n",
       "      <th></th>\n",
       "      <th>loan_default</th>\n",
       "      <th>0</th>\n",
       "      <th>1</th>\n",
       "    </tr>\n",
       "    <tr>\n",
       "      <th>Age_cat</th>\n",
       "      <th>Employment.Type</th>\n",
       "      <th></th>\n",
       "      <th></th>\n",
       "    </tr>\n",
       "  </thead>\n",
       "  <tbody>\n",
       "    <tr>\n",
       "      <th rowspan=\"2\" valign=\"top\">Youth</th>\n",
       "      <th>Salaried</th>\n",
       "      <td>56637</td>\n",
       "      <td>14566</td>\n",
       "    </tr>\n",
       "    <tr>\n",
       "      <th>Self employed</th>\n",
       "      <td>73132</td>\n",
       "      <td>21911</td>\n",
       "    </tr>\n",
       "    <tr>\n",
       "      <th rowspan=\"2\" valign=\"top\">oldage</th>\n",
       "      <th>Salaried</th>\n",
       "      <td>21311</td>\n",
       "      <td>5344</td>\n",
       "    </tr>\n",
       "    <tr>\n",
       "      <th>Self employed</th>\n",
       "      <td>25446</td>\n",
       "      <td>7146</td>\n",
       "    </tr>\n",
       "  </tbody>\n",
       "</table>\n",
       "</div>"
      ],
      "text/plain": [
       "loan_default                 0      1\n",
       "Age_cat Employment.Type              \n",
       "Youth   Salaried         56637  14566\n",
       "        Self employed    73132  21911\n",
       "oldage  Salaried         21311   5344\n",
       "        Self employed    25446   7146"
      ]
     },
     "execution_count": 399,
     "metadata": {},
     "output_type": "execute_result"
    }
   ],
   "source": [
    "Emp_age_Analysis"
   ]
  },
  {
   "cell_type": "markdown",
   "metadata": {},
   "source": [
    "## Task-3  Assignment Analysis\n",
    "\n",
    "Find out the percentage of loan_defaulter in the povit table Emp_age_Analysis table & write your inference. "
   ]
  },
  {
   "cell_type": "code",
   "execution_count": 400,
   "metadata": {},
   "outputs": [
    {
     "ename": "SyntaxError",
     "evalue": "invalid syntax (1502424821.py, line 1)",
     "output_type": "error",
     "traceback": [
      "\u001b[0;36m  Input \u001b[0;32mIn [400]\u001b[0;36m\u001b[0m\n\u001b[0;31m    def age()\u001b[0m\n\u001b[0m             ^\u001b[0m\n\u001b[0;31mSyntaxError\u001b[0m\u001b[0;31m:\u001b[0m invalid syntax\n"
     ]
    }
   ],
   "source": [
    "def age()"
   ]
  },
  {
   "cell_type": "markdown",
   "metadata": {},
   "source": [
    "### Inference\n",
    "Write Your Inference??"
   ]
  },
  {
   "cell_type": "code",
   "execution_count": null,
   "metadata": {},
   "outputs": [],
   "source": []
  },
  {
   "cell_type": "markdown",
   "metadata": {},
   "source": [
    "## Customer Profiling \n",
    "### Analysis-III"
   ]
  },
  {
   "cell_type": "markdown",
   "metadata": {},
   "source": [
    "### Which customer segment has received average amount of disbursed? "
   ]
  },
  {
   "cell_type": "code",
   "execution_count": null,
   "metadata": {},
   "outputs": [],
   "source": [
    "dist_age_Analysis=mydata.pivot_table(values='disbursed_amount',index='Age_cat',aggfunc=\"mean\")"
   ]
  },
  {
   "cell_type": "code",
   "execution_count": null,
   "metadata": {},
   "outputs": [],
   "source": [
    "dist_age_Analysis"
   ]
  },
  {
   "cell_type": "markdown",
   "metadata": {},
   "source": [
    "### Inference\n",
    "Write Your Inference??"
   ]
  },
  {
   "cell_type": "code",
   "execution_count": null,
   "metadata": {},
   "outputs": [],
   "source": [
    "#This table tells us about the disbursed amount according to the age category in Youth and Old age."
   ]
  },
  {
   "cell_type": "markdown",
   "metadata": {},
   "source": [
    "## Customer Profiling \n",
    "### Analysis-IV\n",
    "### What is the maximum amount of disbursed based on employment type & Age group? "
   ]
  },
  {
   "cell_type": "code",
   "execution_count": null,
   "metadata": {},
   "outputs": [],
   "source": [
    "max_dist_emp_Analysis=mydata.pivot_table(values='disbursed_amount',index='Employment.Type',columns='Age_cat',aggfunc=\"max\")"
   ]
  },
  {
   "cell_type": "code",
   "execution_count": null,
   "metadata": {},
   "outputs": [],
   "source": [
    "max_dist_emp_Analysis"
   ]
  },
  {
   "cell_type": "markdown",
   "metadata": {},
   "source": [
    "### Inference\n",
    "Write Your Inference??\n",
    "#This table tells us about the maximum disbursed amount according to the Employment type for Salaried and Selfemployed in Youth and oldage."
   ]
  },
  {
   "cell_type": "markdown",
   "metadata": {},
   "source": [
    "# Build an Logistic Regression"
   ]
  },
  {
   "cell_type": "code",
   "execution_count": 413,
   "metadata": {},
   "outputs": [],
   "source": [
    "list_columns=['disbursed_amount','asset_cost','MobileNo_Avl_Flag', 'Aadhar_flag', 'PAN_flag', 'VoterID_flag',\n",
    "       'Driving_flag', 'Passport_flag']"
   ]
  },
  {
   "cell_type": "markdown",
   "metadata": {},
   "source": [
    "## Task 4: Build and ML Model\n",
    "\n",
    "1) Check for mssing values    \n",
    "2) if any object datatype are present in the dataset then do onehot encoding      \n",
    "3) Build an Logistic regerssion model     "
   ]
  },
  {
   "cell_type": "code",
   "execution_count": 414,
   "metadata": {},
   "outputs": [],
   "source": [
    "from sklearn.preprocessing import OneHotEncoder\n",
    "X_data=mydata[list_columns]\n",
    "Y_data=mydata['loan_default']"
   ]
  },
  {
   "cell_type": "code",
   "execution_count": 415,
   "metadata": {},
   "outputs": [],
   "source": [
    "from sklearn.model_selection  import train_test_split\n",
    "X_train, X_test, y_train, y_test = train_test_split(X_data, Y_data, test_size=0.3, random_state=42)"
   ]
  },
  {
   "cell_type": "code",
   "execution_count": 416,
   "metadata": {},
   "outputs": [],
   "source": [
    "from sklearn.linear_model import LogisticRegression\n",
    "\n",
    "# Standard logistic regression)\n",
    "lr = LogisticRegression(max_iter=10000).fit(X_train, y_train)"
   ]
  },
  {
   "cell_type": "code",
   "execution_count": 417,
   "metadata": {},
   "outputs": [
    {
     "name": "stdout",
     "output_type": "stream",
     "text": [
      "Accuray 0.7828212789683617\n"
     ]
    }
   ],
   "source": [
    "from sklearn.metrics import accuracy_score\n",
    "X_predict=lr.predict(X_test)\n",
    "test_acc=accuracy_score(X_predict, y_test)\n",
    "print('Accuray',test_acc)"
   ]
  },
  {
   "cell_type": "code",
   "execution_count": null,
   "metadata": {},
   "outputs": [],
   "source": []
  }
 ],
 "metadata": {
  "kernelspec": {
   "display_name": "Python 3 (ipykernel)",
   "language": "python",
   "name": "python3"
  },
  "language_info": {
   "codemirror_mode": {
    "name": "ipython",
    "version": 3
   },
   "file_extension": ".py",
   "mimetype": "text/x-python",
   "name": "python",
   "nbconvert_exporter": "python",
   "pygments_lexer": "ipython3",
   "version": "3.9.10"
  }
 },
 "nbformat": 4,
 "nbformat_minor": 2
}
