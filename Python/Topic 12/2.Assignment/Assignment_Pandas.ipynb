{
 "cells": [
  {
   "cell_type": "markdown",
   "id": "aa5bc7b4",
   "metadata": {
    "id": "aa5bc7b4"
   },
   "source": [
    "# Task 12"
   ]
  },
  {
   "cell_type": "code",
   "execution_count": 1,
   "id": "7c7f6ce4",
   "metadata": {},
   "outputs": [
    {
     "data": {
      "text/html": [
       "<div>\n",
       "<style scoped>\n",
       "    .dataframe tbody tr th:only-of-type {\n",
       "        vertical-align: middle;\n",
       "    }\n",
       "\n",
       "    .dataframe tbody tr th {\n",
       "        vertical-align: top;\n",
       "    }\n",
       "\n",
       "    .dataframe thead th {\n",
       "        text-align: right;\n",
       "    }\n",
       "</style>\n",
       "<table border=\"1\" class=\"dataframe\">\n",
       "  <thead>\n",
       "    <tr style=\"text-align: right;\">\n",
       "      <th></th>\n",
       "      <th>day</th>\n",
       "      <th>temperature</th>\n",
       "      <th>windspeed</th>\n",
       "      <th>event</th>\n",
       "    </tr>\n",
       "  </thead>\n",
       "  <tbody>\n",
       "    <tr>\n",
       "      <th>0</th>\n",
       "      <td>01-01-2017</td>\n",
       "      <td>32.0</td>\n",
       "      <td>6.0</td>\n",
       "      <td>Rain</td>\n",
       "    </tr>\n",
       "    <tr>\n",
       "      <th>1</th>\n",
       "      <td>01-04-2017</td>\n",
       "      <td>NaN</td>\n",
       "      <td>9.0</td>\n",
       "      <td>Sunny</td>\n",
       "    </tr>\n",
       "    <tr>\n",
       "      <th>2</th>\n",
       "      <td>01-05-2017</td>\n",
       "      <td>28.0</td>\n",
       "      <td>NaN</td>\n",
       "      <td>Snow</td>\n",
       "    </tr>\n",
       "    <tr>\n",
       "      <th>3</th>\n",
       "      <td>01-06-2017</td>\n",
       "      <td>NaN</td>\n",
       "      <td>7.0</td>\n",
       "      <td>NaN</td>\n",
       "    </tr>\n",
       "    <tr>\n",
       "      <th>4</th>\n",
       "      <td>01-07-2017</td>\n",
       "      <td>32.0</td>\n",
       "      <td>NaN</td>\n",
       "      <td>Rain</td>\n",
       "    </tr>\n",
       "    <tr>\n",
       "      <th>5</th>\n",
       "      <td>01-08-2017</td>\n",
       "      <td>NaN</td>\n",
       "      <td>NaN</td>\n",
       "      <td>Sunny</td>\n",
       "    </tr>\n",
       "    <tr>\n",
       "      <th>6</th>\n",
       "      <td>01-09-2017</td>\n",
       "      <td>NaN</td>\n",
       "      <td>NaN</td>\n",
       "      <td>NaN</td>\n",
       "    </tr>\n",
       "    <tr>\n",
       "      <th>7</th>\n",
       "      <td>01-10-2017</td>\n",
       "      <td>34.0</td>\n",
       "      <td>8.0</td>\n",
       "      <td>Cloudy</td>\n",
       "    </tr>\n",
       "    <tr>\n",
       "      <th>8</th>\n",
       "      <td>01-11-2017</td>\n",
       "      <td>40.0</td>\n",
       "      <td>12.0</td>\n",
       "      <td>Sunny</td>\n",
       "    </tr>\n",
       "  </tbody>\n",
       "</table>\n",
       "</div>"
      ],
      "text/plain": [
       "          day  temperature  windspeed   event\n",
       "0  01-01-2017         32.0        6.0    Rain\n",
       "1  01-04-2017          NaN        9.0   Sunny\n",
       "2  01-05-2017         28.0        NaN    Snow\n",
       "3  01-06-2017          NaN        7.0     NaN\n",
       "4  01-07-2017         32.0        NaN    Rain\n",
       "5  01-08-2017          NaN        NaN   Sunny\n",
       "6  01-09-2017          NaN        NaN     NaN\n",
       "7  01-10-2017         34.0        8.0  Cloudy\n",
       "8  01-11-2017         40.0       12.0   Sunny"
      ]
     },
     "execution_count": 1,
     "metadata": {},
     "output_type": "execute_result"
    }
   ],
   "source": [
    "import pandas as pd                  # imoprting pandas library as pd\n",
    "a = pd.read_csv('weather_data.csv')  # assing a as given value of csv file\n",
    "a                                    # output of data of csv file"
   ]
  },
  {
   "cell_type": "markdown",
   "id": "0048cf42",
   "metadata": {
    "id": "0048cf42"
   },
   "source": [
    "## Assignment 1 (3 Marks)"
   ]
  },
  {
   "cell_type": "markdown",
   "id": "df391cec",
   "metadata": {
    "id": "df391cec"
   },
   "source": [
    "1. Write a code to **get the dates** when the **event was sunny** from the provided csv file\n",
    "\n",
    "#### Output \n",
    "\n",
    "- Table consisiting of dates as well as event\n",
    "\n",
    "```\n",
    "           day  event\n",
    "1  01/04/2017  Sunny\n",
    "5  01/08/2017  Sunny\n",
    "8  01/11/2017  Sunny\n",
    "```"
   ]
  },
  {
   "cell_type": "code",
   "execution_count": null,
   "id": "df9bcfa6",
   "metadata": {
    "id": "df9bcfa6"
   },
   "outputs": [],
   "source": [
    "#WRITE YOUR CODE HERE\n",
    "b = a[a['event'] == 'Sunny']   # assing b with all the value of event sunny\n",
    "b[['day','event']]             # output of b only with day and event "
   ]
  },
  {
   "cell_type": "markdown",
   "id": "3f44dc91",
   "metadata": {
    "id": "3f44dc91"
   },
   "source": [
    "## Assignment 2 (5 Marks)"
   ]
  },
  {
   "cell_type": "markdown",
   "id": "a2f8edf2",
   "metadata": {
    "id": "a2f8edf2"
   },
   "source": [
    "2. Write a code to get make a dataframe from the given csv file consisting of the below given parameters and print **Data doesn't exist** if data not found and if data found then find the average temprature from the obtained data dataframe\n",
    "\n",
    "#### Parameters\n",
    "- Day\n",
    "- Event\n",
    "- Temperature\n",
    "\n",
    "Selection of data should be done on the basis of temprature **higher than or equal to 32**\n",
    "\n",
    "#### Output\n",
    "1. If data not found for above given condition then **Data not found** should be shown\n",
    "2. If data found then calculate the average temprature from the obtained temprature and print average temprature as well as the dataframe\n",
    "\n",
    "#### Expected Output\n",
    "```\n",
    "          day  temperature   event\n",
    "0  01/01/2017         32.0    Rain\n",
    "4  01/07/2017         32.0    Rain\n",
    "7  01/10/2017         34.0  Cloudy\n",
    "8  01/11/2017         40.0   Sunny\n",
    "\n",
    "Average temprature:  34.5\n",
    "```"
   ]
  },
  {
   "cell_type": "code",
   "execution_count": 2,
   "id": "01e4dbaa",
   "metadata": {
    "id": "01e4dbaa"
   },
   "outputs": [
    {
     "name": "stdout",
     "output_type": "stream",
     "text": [
      "          day  temperature   event\n",
      "0  01-01-2017         32.0    Rain\n",
      "4  01-07-2017         32.0    Rain\n",
      "7  01-10-2017         34.0  Cloudy\n",
      "8  01-11-2017         40.0   Sunny \n",
      "Average temprature:  34.5\n"
     ]
    }
   ],
   "source": [
    "#WRITE YOUR CODE HERE\n",
    "c = pd.DataFrame(a[a['temperature'] >= 32])    # c equal to datafrmae of value of a only with temp grether than or equal to 32\n",
    "if(len(c)>0):                                  # if len of c is grether than 0 then it is ture and it prints output 1\n",
    "    print(c[['day','temperature','event']],'\\nAverage temprature: ',(c['temperature'].sum(axis=0))/len(c)) #output 1 (**c['temperature'].sum(axis=0))** is equal to sum of all the temp which are grether than or equal to 32 of axis 0 )\n",
    "else:\n",
    "    print('Data not found ')                   # output if condition is false"
   ]
  },
  {
   "cell_type": "markdown",
   "id": "9da0d5aa",
   "metadata": {
    "id": "9da0d5aa"
   },
   "source": [
    "## Assignment 3 (7 Marks)"
   ]
  },
  {
   "cell_type": "markdown",
   "id": "c5fce34c",
   "metadata": {
    "id": "c5fce34c"
   },
   "source": [
    "3. Write a code using functions where the first function will get the mean value of temperature using **describe()** function and send the data to the second function which selects all the dates with temperature not defined, windspeed greater than the mean windspeed and event as Sunny\n",
    "\n",
    "#### Parameters\n",
    "\n",
    "- Day\n",
    "- Windspeed\n",
    "- Temperature\n",
    "\n",
    "### Output\n",
    "1. If data not found for above given condition then **Data not found** should be shown\n",
    "2. If data found then select all the data which have **Windspeed greater than the mean windspeed, temperature as NaN and event as Sunny** and print it\n",
    "\n",
    "#### Expected Output\n",
    "```\n",
    "          day  temperature  windspeed  event\n",
    "1  01/04/2017          NaN        9.0  Sunny\n",
    "```"
   ]
  },
  {
   "cell_type": "code",
   "execution_count": 42,
   "id": "f47b226c",
   "metadata": {},
   "outputs": [
    {
     "data": {
      "text/plain": [
       "8.4"
      ]
     },
     "execution_count": 42,
     "metadata": {},
     "output_type": "execute_result"
    }
   ],
   "source": [
    "def describe():               # creating function describe \n",
    "    x = pd.DataFrame(a)       # assing x equal to data frame of a\n",
    "    y=x['windspeed'].mean()   # y equal to mean value of windspeed of dataframe x\n",
    "    return y                  # return the value of y\n",
    "describe()                    # calling the function describe"
   ]
  },
  {
   "cell_type": "code",
   "execution_count": 69,
   "id": "7fdf9d18",
   "metadata": {
    "id": "7fdf9d18"
   },
   "outputs": [
    {
     "data": {
      "text/html": [
       "<div>\n",
       "<style scoped>\n",
       "    .dataframe tbody tr th:only-of-type {\n",
       "        vertical-align: middle;\n",
       "    }\n",
       "\n",
       "    .dataframe tbody tr th {\n",
       "        vertical-align: top;\n",
       "    }\n",
       "\n",
       "    .dataframe thead th {\n",
       "        text-align: right;\n",
       "    }\n",
       "</style>\n",
       "<table border=\"1\" class=\"dataframe\">\n",
       "  <thead>\n",
       "    <tr style=\"text-align: right;\">\n",
       "      <th></th>\n",
       "      <th>day</th>\n",
       "      <th>temperature</th>\n",
       "      <th>windspeed</th>\n",
       "      <th>event</th>\n",
       "    </tr>\n",
       "  </thead>\n",
       "  <tbody>\n",
       "  </tbody>\n",
       "</table>\n",
       "</div>"
      ],
      "text/plain": [
       "Empty DataFrame\n",
       "Columns: [day, temperature, windspeed, event]\n",
       "Index: []"
      ]
     },
     "execution_count": 69,
     "metadata": {},
     "output_type": "execute_result"
    }
   ],
   "source": [
    "#WRITE YOUR CODE HERE\n",
    "def xyz():                                            # creating function describe \n",
    "    x= (a[a['windspeed'] >= describe()])              # x used to store all the value which are greter than equal describe function\n",
    "    j= (x[x['temperature'] == None ])                    # j use to store \n",
    "    k= (j[j['event'] == 'Sunny'])                     # k use to store all the value in which event is sunny \n",
    "    z= k[['day','temperature','windspeed','event']]   # output of z with all the parameters \n",
    "    return z                                          # return thr value of z\n",
    "xyz()                                                 # calling the functuion xyz"
   ]
  },
  {
   "cell_type": "code",
   "execution_count": 63,
   "id": "54acedac",
   "metadata": {},
   "outputs": [
    {
     "name": "stdout",
     "output_type": "stream",
     "text": [
      "          day  temperature  windspeed  event\n",
      "1  01-04-2017          NaN        9.0  Sunny\n"
     ]
    }
   ],
   "source": [
    "fun=xyz()                     # assing fun equal to value of function xyz\n",
    "if len(fun) != 0:             # if len of fun is not equal to 0 it is true\n",
    "    print(fun)                # output if it is true\n",
    "else:\n",
    "    print(\"Data not present\") # output if it is false       "
   ]
  },
  {
   "cell_type": "code",
   "execution_count": null,
   "id": "d8f079b0",
   "metadata": {},
   "outputs": [],
   "source": [
    "describe function\n",
    "# k use to store all the value in which event is sunny "
   ]
  }
 ],
 "metadata": {
  "colab": {
   "collapsed_sections": [],
   "name": "Assignment_Task 16_Pandas.ipynb",
   "provenance": []
  },
  "kernelspec": {
   "display_name": "Python 3 (ipykernel)",
   "language": "python",
   "name": "python3"
  },
  "language_info": {
   "codemirror_mode": {
    "name": "ipython",
    "version": 3
   },
   "file_extension": ".py",
   "mimetype": "text/x-python",
   "name": "python",
   "nbconvert_exporter": "python",
   "pygments_lexer": "ipython3",
   "version": "3.9.13"
  }
 },
 "nbformat": 4,
 "nbformat_minor": 5
}
