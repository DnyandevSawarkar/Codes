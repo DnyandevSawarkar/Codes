{
 "cells": [
  {
   "cell_type": "markdown",
   "id": "917c46b4",
   "metadata": {
    "id": "0048cf42"
   },
   "source": [
    "## Question 1"
   ]
  },
  {
   "cell_type": "markdown",
   "id": "df391cec",
   "metadata": {
    "id": "df391cec"
   },
   "source": [
    "1. Write a code to **get the dates** when the **event was sunny** from the provided csv file\n",
    "\n",
    "#### Output \n",
    "\n",
    "- Table consisiting of dates as well as event\n",
    "\n",
    "```\n",
    "           day  event\n",
    "1  01/04/2017  Sunny\n",
    "5  01/08/2017  Sunny\n",
    "8  01/11/2017  Sunny\n",
    "```"
   ]
  },
  {
   "cell_type": "code",
   "execution_count": null,
   "id": "df9bcfa6",
   "metadata": {
    "id": "df9bcfa6"
   },
   "outputs": [],
   "source": [
    "#write your code here here"
   ]
  },
  {
   "cell_type": "markdown",
   "id": "f69ec584",
   "metadata": {
    "id": "3f44dc91"
   },
   "source": [
    "## Question 2 "
   ]
  },
  {
   "cell_type": "markdown",
   "id": "a2f8edf2",
   "metadata": {
    "id": "a2f8edf2"
   },
   "source": [
    "2. Write a code to get a dataframe from the given csv file consisting of the below given parameters and print the average temprature from the obtained data dataframe\n",
    "\n",
    "#### Parameters\n",
    "- Day\n",
    "- Event\n",
    "- Temperature\n",
    "\n",
    "Selection of data should be done on the basis of temprature **higher than or equal to 32**\n",
    "\n",
    "#### Output\n",
    "1. If data found then calculate the average temprature from the obtained temprature and print average temprature as well as the dataframe\n",
    "\n",
    "#### Expected Output\n",
    "```\n",
    "          day  temperature   event\n",
    "0  01/01/2017         32.0    Rain\n",
    "4  01/07/2017         32.0    Rain\n",
    "7  01/10/2017         34.0  Cloudy\n",
    "8  01/11/2017         40.0   Sunny\n",
    "\n",
    "Average temprature:  34.5\n",
    "```"
   ]
  },
  {
   "cell_type": "code",
   "execution_count": null,
   "id": "01e4dbaa",
   "metadata": {
    "id": "01e4dbaa"
   },
   "outputs": [],
   "source": [
    "#write your code here here"
   ]
  },
  {
   "cell_type": "markdown",
   "id": "618724b8",
   "metadata": {
    "id": "9da0d5aa"
   },
   "source": [
    "## Question 3 "
   ]
  },
  {
   "cell_type": "markdown",
   "id": "c5fce34c",
   "metadata": {
    "id": "c5fce34c"
   },
   "source": [
    "3. Write a code using functions where the first function will get the mean value of temperature using **describe()** function and send the data to the second function which selects all the dates with temperature not defined, windspeed greater than the mean windspeed and event as Sunny\n",
    "\n",
    "#### Parameters\n",
    "\n",
    "- Day\n",
    "- Windspeed\n",
    "- Temperature\n",
    "\n",
    "### Output\n",
    "1. If data not found for above given condition then **Data not found** should be shown\n",
    "2. If data found then select all the data which have **Windspeed greater than the mean windspeed, temperature as NaN and event as Sunny** and print it\n",
    "\n",
    "#### Expected Output\n",
    "```\n",
    "          day  temperature  windspeed  event\n",
    "1  01/04/2017          NaN        9.0  Sunny\n",
    "```"
   ]
  },
  {
   "cell_type": "code",
   "execution_count": null,
   "id": "7fdf9d18",
   "metadata": {
    "id": "7fdf9d18"
   },
   "outputs": [],
   "source": [
    "#write your code here here"
   ]
  },
  {
   "cell_type": "markdown",
   "id": "7c18c188",
   "metadata": {},
   "source": [
    "## Question 4"
   ]
  },
  {
   "cell_type": "markdown",
   "id": "72115fc6",
   "metadata": {},
   "source": [
    "4. Write a code forming a dataframe and find correlations between coloumns and write your conclusions. "
   ]
  },
  {
   "cell_type": "code",
   "execution_count": null,
   "id": "96afa72d",
   "metadata": {},
   "outputs": [],
   "source": [
    "#write your code here here"
   ]
  }
 ],
 "metadata": {
  "colab": {
   "collapsed_sections": [],
   "name": "Assignment_Task 16_Pandas.ipynb",
   "provenance": []
  },
  "kernelspec": {
   "display_name": "Python 3 (ipykernel)",
   "language": "python",
   "name": "python3"
  },
  "language_info": {
   "codemirror_mode": {
    "name": "ipython",
    "version": 3
   },
   "file_extension": ".py",
   "mimetype": "text/x-python",
   "name": "python",
   "nbconvert_exporter": "python",
   "pygments_lexer": "ipython3",
   "version": "3.9.1"
  },
  "varInspector": {
   "cols": {
    "lenName": 16,
    "lenType": 16,
    "lenVar": 40
   },
   "kernels_config": {
    "python": {
     "delete_cmd_postfix": "",
     "delete_cmd_prefix": "del ",
     "library": "var_list.py",
     "varRefreshCmd": "print(var_dic_list())"
    },
    "r": {
     "delete_cmd_postfix": ") ",
     "delete_cmd_prefix": "rm(",
     "library": "var_list.r",
     "varRefreshCmd": "cat(var_dic_list()) "
    }
   },
   "types_to_exclude": [
    "module",
    "function",
    "builtin_function_or_method",
    "instance",
    "_Feature"
   ],
   "window_display": false
  }
 },
 "nbformat": 4,
 "nbformat_minor": 5
}
