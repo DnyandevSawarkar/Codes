{
 "cells": [
  {
   "cell_type": "markdown",
   "id": "5df424e8",
   "metadata": {},
   "source": [
    "# Problem Statement :\n",
    "**Perform the following functions on the image provided\n",
    "\n",
    "1.Find the shape and change the size of the image to height: 1250 and width: 1000.\n",
    "2.Rotate the image to 90 degrees anticlockwise.\n",
    "3.Flip the image around both the axis."
   ]
  },
  {
   "cell_type": "code",
   "execution_count": null,
   "id": "5e1ba8e1",
   "metadata": {},
   "outputs": [],
   "source": [
    "#W"
   ]
  }
 ],
 "metadata": {
  "kernelspec": {
   "display_name": "Python 3 (ipykernel)",
   "language": "python",
   "name": "python3"
  },
  "language_info": {
   "codemirror_mode": {
    "name": "ipython",
    "version": 3
   },
   "file_extension": ".py",
   "mimetype": "text/x-python",
   "name": "python",
   "nbconvert_exporter": "python",
   "pygments_lexer": "ipython3",
   "version": "3.9.13"
  }
 },
 "nbformat": 4,
 "nbformat_minor": 5
}
