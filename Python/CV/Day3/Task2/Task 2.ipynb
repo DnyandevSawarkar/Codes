{
 "cells": [
  {
   "cell_type": "markdown",
   "id": "5df424e8",
   "metadata": {},
   "source": [
    "# Problem Statement :\n",
    "**Perform the following functions on the image provided\n",
    "\n",
    "1.Find the shape and change the size of the image to height: 1250 and width: 1000.\n",
    "2.Rotate the image to 90 degrees anticlockwise.\n",
    "3.Flip the image around both the axis."
   ]
  },
  {
   "cell_type": "code",
   "execution_count": 1,
   "id": "5e1ba8e1",
   "metadata": {},
   "outputs": [],
   "source": [
    "import cv2"
   ]
  },
  {
   "cell_type": "code",
   "execution_count": 2,
   "id": "0033bbe0",
   "metadata": {},
   "outputs": [],
   "source": [
    "img = cv2.imread(\"Rubiks_cube.jpeg\")"
   ]
  },
  {
   "cell_type": "code",
   "execution_count": 4,
   "id": "8dd1e1af",
   "metadata": {},
   "outputs": [
    {
     "name": "stdout",
     "output_type": "stream",
     "text": [
      "1280 1228\n"
     ]
    }
   ],
   "source": [
    "(height, width) = img.shape[:2]\n",
    "print(height,width)"
   ]
  },
  {
   "cell_type": "code",
   "execution_count": 9,
   "id": "708c9877",
   "metadata": {},
   "outputs": [
    {
     "name": "stdout",
     "output_type": "stream",
     "text": [
      "1250 1000\n"
     ]
    }
   ],
   "source": [
    "img2= cv2.resize(img,(1000,1250))\n",
    "(height1,width1) = img2.shape[:2]\n",
    "print(height1,width1)"
   ]
  },
  {
   "cell_type": "code",
   "execution_count": 10,
   "id": "5801c770",
   "metadata": {},
   "outputs": [
    {
     "name": "stdout",
     "output_type": "stream",
     "text": [
      "1228 1280\n"
     ]
    }
   ],
   "source": [
    "img3 = cv2.rotate(img,cv2.ROTATE_90_COUNTERCLOCKWISE)\n",
    "(height2,width2) = img3.shape[:2]\n",
    "print(height2,width2)"
   ]
  },
  {
   "cell_type": "code",
   "execution_count": 11,
   "id": "df6b7e32",
   "metadata": {},
   "outputs": [],
   "source": [
    "img4 = cv2.flip(img,-1)"
   ]
  },
  {
   "cell_type": "code",
   "execution_count": null,
   "id": "8819d76e",
   "metadata": {},
   "outputs": [],
   "source": []
  }
 ],
 "metadata": {
  "kernelspec": {
   "display_name": "Python 3",
   "language": "python",
   "name": "python3"
  },
  "language_info": {
   "codemirror_mode": {
    "name": "ipython",
    "version": 3
   },
   "file_extension": ".py",
   "mimetype": "text/x-python",
   "name": "python",
   "nbconvert_exporter": "python",
   "pygments_lexer": "ipython3",
   "version": "3.10.9"
  },
  "vscode": {
   "interpreter": {
    "hash": "7f7fa3a7b83285860227dfdbaa3aa1063944d2a94f7b5ee2ef5361c20cc79950"
   }
  }
 },
 "nbformat": 4,
 "nbformat_minor": 5
}
