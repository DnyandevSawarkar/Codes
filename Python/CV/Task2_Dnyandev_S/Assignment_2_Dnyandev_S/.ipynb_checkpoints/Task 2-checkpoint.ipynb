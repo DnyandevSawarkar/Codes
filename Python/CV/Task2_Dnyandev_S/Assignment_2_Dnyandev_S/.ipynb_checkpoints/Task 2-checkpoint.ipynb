{
 "cells": [
  {
   "cell_type": "markdown",
   "id": "5df424e8",
   "metadata": {},
   "source": [
    "# Problem Statement :\n",
    "**Perform the following functions on the image provided**\n",
    "\n",
    "1.Find the shape and change the size of the image to height: 1250 and width: 1000.\n",
    "\n",
    "2.Rotate the image to 90 degrees anticlockwise.\n",
    "\n",
    "3.Flip the image around both the axis."
   ]
  },
  {
   "cell_type": "code",
   "execution_count": 1,
   "id": "d156302a",
   "metadata": {},
   "outputs": [],
   "source": [
    "import cv2,os,numpy as np, matplotlib.pyplot as plt #importing Lib"
   ]
  },
  {
   "cell_type": "code",
   "execution_count": 2,
   "id": "3b86fad3",
   "metadata": {},
   "outputs": [],
   "source": [
    "image_1 = cv2.imread(r\"D:\\cv\\Day3\\Day3\\Task2\\Rubiks_cube.jpeg\") #importing Image"
   ]
  },
  {
   "cell_type": "code",
   "execution_count": 3,
   "id": "5e1ba8e1",
   "metadata": {},
   "outputs": [
    {
     "name": "stdout",
     "output_type": "stream",
     "text": [
      "Height : 1280 \n",
      "Width : 1228 \n",
      "Channels : 1228\n",
      "\n",
      "\n",
      "Height : 1250 \n",
      "Width : 1000 \n",
      "Channels : 1000\n"
     ]
    },
    {
     "data": {
      "text/plain": [
       "True"
      ]
     },
     "execution_count": 3,
     "metadata": {},
     "output_type": "execute_result"
    }
   ],
   "source": [
    "#1\n",
    "h = image_1.shape[0] #Height of given image\n",
    "w = image_1.shape[1] #Width of given image\n",
    "c = image_1.shape[2] #Channels of given image\n",
    "\n",
    "print(\"Height :\",h,\"\\nWidth :\",w,\"\\nChannels :\",w)\n",
    "\n",
    "#cv2.imshow('Rubiks_cube',image_1)\n",
    "#cv2.waitKey(0)\n",
    "\n",
    "print('\\n')\n",
    "image_2 = cv2.resize(image_1, (1000,1250)) #Resizing Given image\n",
    "\n",
    "h2 = image_2.shape[0] # Modified Height\n",
    "w2 = image_2.shape[1] # Modified Width\n",
    "c2 = image_2.shape[2] # Modified Channels\n",
    "\n",
    "print(\"Height :\",h2,\"\\nWidth :\",w2,\"\\nChannels :\",w2)\n",
    "cv2.imwrite(\"Resized_Image.jpeg\",image_2) # exporting modifed image\n",
    "\n",
    "#cv2.imshow('Resized_Image',image_2)\n",
    "#cv2.waitKey(0)\n"
   ]
  },
  {
   "cell_type": "code",
   "execution_count": 4,
   "id": "03be3d8f",
   "metadata": {},
   "outputs": [
    {
     "data": {
      "text/plain": [
       "True"
      ]
     },
     "execution_count": 4,
     "metadata": {},
     "output_type": "execute_result"
    }
   ],
   "source": [
    "#2\n",
    "image_3 = cv2.rotate(image_1,cv2.ROTATE_90_COUNTERCLOCKWISE) # rotating image in anticlockwise direction\n",
    "\n",
    "cv2.imwrite(\"Rotated_Image.jpeg\",image_3)  # exporting rotated image\n",
    "\n",
    "#cv2.imshow('Rotated_cube',image_3)\n",
    "#cv2.waitKey(0)"
   ]
  },
  {
   "cell_type": "code",
   "execution_count": 5,
   "id": "f0d4a1c4",
   "metadata": {},
   "outputs": [
    {
     "data": {
      "text/plain": [
       "True"
      ]
     },
     "execution_count": 5,
     "metadata": {},
     "output_type": "execute_result"
    }
   ],
   "source": [
    "#3\n",
    "image_4 =  cv2.flip(image_1, -1) # fliping about both axis\n",
    "image_5 =  cv2.flip(image_1, 0) # fliping about x-axis\n",
    "image_6 =  cv2.flip(image_1, 1) # fliping about y-axis\n",
    "\n",
    "# exporting fliped images\n",
    "cv2.imwrite(\"Fliped_Image_Both.jpeg\",image_4) \n",
    "cv2.imwrite(\"Fliped_Image_X.jpeg\",image_5)\n",
    "cv2.imwrite(\"Fliped_Image_Y.jpeg\",image_6)\n",
    "\n",
    "#cv2.imshow('Fliped_cube',image_3)\n",
    "#cv2.waitKey(0)"
   ]
  },
  {
   "cell_type": "code",
   "execution_count": null,
   "id": "f85a46cb",
   "metadata": {},
   "outputs": [],
   "source": []
  }
 ],
 "metadata": {
  "kernelspec": {
   "display_name": "Python 3 (ipykernel)",
   "language": "python",
   "name": "python3"
  },
  "language_info": {
   "codemirror_mode": {
    "name": "ipython",
    "version": 3
   },
   "file_extension": ".py",
   "mimetype": "text/x-python",
   "name": "python",
   "nbconvert_exporter": "python",
   "pygments_lexer": "ipython3",
   "version": "3.10.6"
  }
 },
 "nbformat": 4,
 "nbformat_minor": 5
}
