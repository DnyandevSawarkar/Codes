{
 "cells": [
  {
   "cell_type": "markdown",
   "id": "dfed893e",
   "metadata": {},
   "source": [
    "#  Question 1 :\n",
    "\n",
    "Write a Python script to check the dimension of array given below:\n",
    "[[[[(1.2),(4.5,6.2,2.3),(2.4,8.7)]]]]\n",
    " "
   ]
  },
  {
   "cell_type": "code",
   "execution_count": null,
   "id": "3075ba05",
   "metadata": {},
   "outputs": [],
   "source": [
    "#Write your code here"
   ]
  },
  {
   "cell_type": "markdown",
   "id": "8a7a49ef",
   "metadata": {},
   "source": [
    "# Question 2 :\n",
    "\n",
    "Write a python script to find the logarithmic value of array given below: [1,3,6,2**4]\n"
   ]
  },
  {
   "cell_type": "code",
   "execution_count": null,
   "id": "57d5a136",
   "metadata": {},
   "outputs": [],
   "source": [
    "#Write your code here"
   ]
  },
  {
   "cell_type": "markdown",
   "id": "f28e85f5",
   "metadata": {},
   "source": [
    "# Question 3\n",
    "\n",
    "Write a python script to print 2.4 and 5.23 using slicing method in the given array: ([(1,2.4,7),(4,5.23,6.0),(17,23,9)]) \n"
   ]
  },
  {
   "cell_type": "code",
   "execution_count": null,
   "id": "d65cb40f",
   "metadata": {},
   "outputs": [],
   "source": [
    "#Write your code here"
   ]
  }
 ],
 "metadata": {
  "kernelspec": {
   "display_name": "Python 3 (ipykernel)",
   "language": "python",
   "name": "python3"
  },
  "language_info": {
   "codemirror_mode": {
    "name": "ipython",
    "version": 3
   },
   "file_extension": ".py",
   "mimetype": "text/x-python",
   "name": "python",
   "nbconvert_exporter": "python",
   "pygments_lexer": "ipython3",
   "version": "3.9.13"
  }
 },
 "nbformat": 4,
 "nbformat_minor": 5
}
