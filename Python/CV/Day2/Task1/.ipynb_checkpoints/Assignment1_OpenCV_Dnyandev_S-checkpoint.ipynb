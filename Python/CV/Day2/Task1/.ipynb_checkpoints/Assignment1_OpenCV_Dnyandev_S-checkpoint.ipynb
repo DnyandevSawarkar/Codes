{
 "cells": [
  {
   "cell_type": "markdown",
   "id": "7bddb5c1",
   "metadata": {},
   "source": [
    "# Problem Statement :\n",
    "**Perform the following functions on the image provided\n",
    "1. Read and display an image in Grayscale \n",
    "2. Find the shape(height, width, channel) of the RGB image\n",
    "3. Crop the text \"e-Yantra\"from the given image\n"
   ]
  },
  {
   "cell_type": "code",
   "execution_count": 1,
   "id": "204529d9",
   "metadata": {},
   "outputs": [],
   "source": [
    "import cv2,os,numpy as np"
   ]
  },
  {
   "cell_type": "code",
   "execution_count": 6,
   "id": "f343dc11",
   "metadata": {},
   "outputs": [
    {
     "data": {
      "text/plain": [
       "True"
      ]
     },
     "execution_count": 6,
     "metadata": {},
     "output_type": "execute_result"
    }
   ],
   "source": [
    "image_1 = cv2.imread(r\"G:\\Codes\")\n",
    "cv2.imshow('e-yantra',image_1)\n",
    "cv2.waitKey(0)\n",
    "\n",
    "grey = cv2.cvtColor(image_1,cv2.COLOR_BGR2GRAY)\n",
    "cv2.imshow('e-yantra1',grey)\n",
    "cv2.waitKey(0)\n",
    "cv2.imwrite(\"grey.jpg\",grey)"
   ]
  },
  {
   "cell_type": "code",
   "execution_count": 9,
   "id": "aeb81013",
   "metadata": {},
   "outputs": [
    {
     "name": "stdout",
     "output_type": "stream",
     "text": [
      "Height : 384 \n",
      "Width : 768 \n",
      "Channels : 768\n"
     ]
    }
   ],
   "source": [
    "image_2 = cv2.imread(r\"C:\\Users\\prajw\\Downloads\\openCV\\Day2\\Day2\\Task1\\e-yantra.jpg\")\n",
    "\n",
    "h = image_2.shape[0]\n",
    "w = image_2.shape[1]\n",
    "c = image_2.shape[2]\n",
    "print(\"Height :\",h,\"\\nWidth :\",w,\"\\nChannels :\",w)"
   ]
  },
  {
   "cell_type": "code",
   "execution_count": null,
   "id": "706f9efc",
   "metadata": {},
   "outputs": [],
   "source": [
    "crop = image_2[10:155,10:740]\n",
    "cv2.imshow('e-yantra crop',crop)\n",
    "cv2.waitKey(0)\n",
    "cv2.imwrite(\"Croped_Image.jpg\",crop)"
   ]
  },
  {
   "cell_type": "code",
   "execution_count": null,
   "id": "edf59fc9",
   "metadata": {},
   "outputs": [],
   "source": []
  }
 ],
 "metadata": {
  "kernelspec": {
   "display_name": "Python 3 (ipykernel)",
   "language": "python",
   "name": "python3"
  },
  "language_info": {
   "codemirror_mode": {
    "name": "ipython",
    "version": 3
   },
   "file_extension": ".py",
   "mimetype": "text/x-python",
   "name": "python",
   "nbconvert_exporter": "python",
   "pygments_lexer": "ipython3",
   "version": "3.10.9"
  }
 },
 "nbformat": 4,
 "nbformat_minor": 5
}
