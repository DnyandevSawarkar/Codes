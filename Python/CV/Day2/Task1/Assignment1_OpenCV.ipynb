{
 "cells": [
  {
   "cell_type": "markdown",
   "id": "7bddb5c1",
   "metadata": {},
   "source": [
    "# Problem Statement :\n",
    "**Perform the following functions on the image provided\n",
    "1. Read and display an image in Grayscale \n",
    "2. Find the shape(height, width, channel) of the RGB image\n",
    "3. Crop the text \"e-Yantra\"from the given image\n"
   ]
  },
  {
   "cell_type": "code",
   "execution_count": 1,
   "id": "690a27d2",
   "metadata": {},
   "outputs": [],
   "source": [
    "import cv2\n"
   ]
  },
  {
   "cell_type": "code",
   "execution_count": 7,
   "id": "3afa610c",
   "metadata": {},
   "outputs": [],
   "source": [
    "img = cv2.imread(r\"G:\\Codes\\Python\\CV\\Day2\\Task1\\e-yantra.jpg\",cv2.IMREAD_GRAYSCALE)"
   ]
  },
  {
   "cell_type": "code",
   "execution_count": 8,
   "id": "fcc333c0",
   "metadata": {},
   "outputs": [],
   "source": [
    "cv2.imshow('img',img)\n",
    "cv2.waitKey(0)\n",
    "cv2.destroyAllWindows()"
   ]
  },
  {
   "cell_type": "code",
   "execution_count": null,
   "id": "08af4d38",
   "metadata": {},
   "outputs": [],
   "source": []
  }
 ],
 "metadata": {
  "kernelspec": {
   "display_name": "Python 3 (ipykernel)",
   "language": "python",
   "name": "python3"
  },
  "language_info": {
   "codemirror_mode": {
    "name": "ipython",
    "version": 3
   },
   "file_extension": ".py",
   "mimetype": "text/x-python",
   "name": "python",
   "nbconvert_exporter": "python",
   "pygments_lexer": "ipython3",
   "version": "3.10.9"
  }
 },
 "nbformat": 4,
 "nbformat_minor": 5
}
