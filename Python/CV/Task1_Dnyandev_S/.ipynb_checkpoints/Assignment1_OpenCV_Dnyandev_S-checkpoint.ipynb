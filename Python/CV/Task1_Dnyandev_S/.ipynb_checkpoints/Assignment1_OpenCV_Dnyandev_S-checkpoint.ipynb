{
 "cells": [
  {
   "cell_type": "markdown",
   "id": "7bddb5c1",
   "metadata": {},
   "source": [
    "# Problem Statement :\n",
    "**Perform the following functions on the image provided\n",
    "1. Read and display an image in Grayscale \n",
    "2. Find the shape(height, width, channel) of the RGB image\n",
    "3. Crop the text \"e-Yantra\"from the given image\n"
   ]
  },
  {
   "cell_type": "code",
   "execution_count": 2,
   "id": "1c15b680",
   "metadata": {},
   "outputs": [],
   "source": [
    "import cv2,os,numpy as np"
   ]
  },
  {
   "cell_type": "code",
   "execution_count": null,
   "id": "ab55e72b",
   "metadata": {},
   "outputs": [],
   "source": [
    "C:\\Users\\prajw\\Downloads\\openCV\\Day2\\Day2\\Task1"
   ]
  }
 ],
 "metadata": {
  "kernelspec": {
   "display_name": "Python 3",
   "language": "python",
   "name": "python3"
  },
  "language_info": {
   "codemirror_mode": {
    "name": "ipython",
    "version": 3
   },
   "file_extension": ".py",
   "mimetype": "text/x-python",
   "name": "python",
   "nbconvert_exporter": "python",
   "pygments_lexer": "ipython3",
   "version": "3.9.5"
  }
 },
 "nbformat": 4,
 "nbformat_minor": 5
}
