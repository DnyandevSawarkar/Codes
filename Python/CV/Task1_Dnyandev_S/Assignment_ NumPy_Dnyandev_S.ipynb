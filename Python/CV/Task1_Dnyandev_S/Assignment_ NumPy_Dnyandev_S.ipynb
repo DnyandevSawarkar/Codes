{
 "cells": [
  {
   "cell_type": "markdown",
   "id": "dfed893e",
   "metadata": {},
   "source": [
    "#  Question 1 :\n",
    "\n",
    "Write a Python script to check the dimension of array given below:\n",
    "[[[[(1.2),(4.5,6.2,2.3),(2.4,8.7)]]]]\n",
    " "
   ]
  },
  {
   "cell_type": "code",
   "execution_count": 1,
   "id": "3075ba05",
   "metadata": {},
   "outputs": [],
   "source": [
    "import numpy as np"
   ]
  },
  {
   "cell_type": "code",
   "execution_count": 4,
   "id": "01be3f43",
   "metadata": {},
   "outputs": [
    {
     "name": "stdout",
     "output_type": "stream",
     "text": [
      "4\n"
     ]
    }
   ],
   "source": [
    "a = np.array([[[[(1.2),(4.5,6.2,2.3),(2.4,8.7)]]]],dtype=object)\n",
    "print(a.ndim)"
   ]
  },
  {
   "cell_type": "markdown",
   "id": "8a7a49ef",
   "metadata": {},
   "source": [
    "# Question 2 :\n",
    "\n",
    "Write a python script to find the logarithmic value of array given below: [1,3,6,2**4]\n"
   ]
  },
  {
   "cell_type": "code",
   "execution_count": 7,
   "id": "57d5a136",
   "metadata": {},
   "outputs": [
    {
     "name": "stdout",
     "output_type": "stream",
     "text": [
      "[0.         1.09861229 1.79175947 2.77258872]\n"
     ]
    }
   ],
   "source": [
    "b = np.array([1,3,6,2**4])\n",
    "print(np.log(b))"
   ]
  },
  {
   "cell_type": "markdown",
   "id": "f28e85f5",
   "metadata": {},
   "source": [
    "# Question 3\n",
    "\n",
    "Write a python script to print 2.4 and 5.23 using slicing method in the given array: ([(1,2.4,7),(4,5.23,6.0),(17,23,9)]) \n"
   ]
  },
  {
   "cell_type": "code",
   "execution_count": 9,
   "id": "d65cb40f",
   "metadata": {},
   "outputs": [
    {
     "name": "stdout",
     "output_type": "stream",
     "text": [
      "[2.4]\n"
     ]
    }
   ],
   "source": [
    "c = np.array ([(1,2.4,7),(4,5.23,6.0),(17,23,9)])\n",
    "print(c[0:1,1])"
   ]
  },
  {
   "cell_type": "code",
   "execution_count": null,
   "id": "0835cbb3",
   "metadata": {},
   "outputs": [],
   "source": []
  }
 ],
 "metadata": {
  "kernelspec": {
   "display_name": "Python 3 (ipykernel)",
   "language": "python",
   "name": "python3"
  },
  "language_info": {
   "codemirror_mode": {
    "name": "ipython",
    "version": 3
   },
   "file_extension": ".py",
   "mimetype": "text/x-python",
   "name": "python",
   "nbconvert_exporter": "python",
   "pygments_lexer": "ipython3",
   "version": "3.9.13"
  }
 },
 "nbformat": 4,
 "nbformat_minor": 5
}
