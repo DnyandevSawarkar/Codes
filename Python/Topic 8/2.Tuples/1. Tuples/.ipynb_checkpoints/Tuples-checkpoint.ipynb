{
 "cells": [
  {
   "cell_type": "markdown",
   "metadata": {},
   "source": [
    "# <center>TUPLES IN PYTHON</center>\n",
    "\n",
    "## <center>Author: R-LABS Team</center>"
   ]
  },
  {
   "cell_type": "markdown",
   "metadata": {},
   "source": [
    "## Topics to be covered\n",
    "\n",
    "1.  Creating Tuples  \n",
    "\n",
    "2.  Accessing Elements In A Tuple\n",
    "\n",
    "            -indexing\n",
    "            -slicing\n",
    "            \n",
    "3.  basic operations\n",
    "\n",
    "            -Concatenation\n",
    "            -Length\n",
    "            -Repetition\n",
    "            -Membership\n",
    "            -Iteration\n",
    "            -max() and min() function\n",
    "            \n",
    "4.  Tuple Methods\n",
    "\n",
    "            -count \n",
    "            -indexing\n",
    "            \n",
    "5.  Changing A Tuple\n",
    "\n",
    "6.  Deleting A Tuple\n",
    "\n",
    "7.  other examples \n",
    "\n",
    "# Learn By Doing"
   ]
  },
  {
   "cell_type": "markdown",
   "metadata": {},
   "source": [
    "## 1. Creating tuples"
   ]
  },
  {
   "cell_type": "code",
   "execution_count": 1,
   "metadata": {},
   "outputs": [
    {
     "name": "stdout",
     "output_type": "stream",
     "text": [
      "t: ('nagpur', 'bhandara', 'chandrapur', 'gondia')\n"
     ]
    }
   ],
   "source": [
    "# HOMOGENEOUS TUPLE\n",
    "\n",
    "# Now lets create a tuple filled with string \n",
    "t = \"nagpur\",\"bhandara\",\"chandrapur\",\"gondia\"\n",
    "# As you can see we have a string element in our list now\n",
    "print(\"t:\",t )"
   ]
  },
  {
   "cell_type": "code",
   "execution_count": 2,
   "metadata": {},
   "outputs": [
    {
     "name": "stdout",
     "output_type": "stream",
     "text": [
      "t: (1, 2, 'rlabs', 4.5, True)\n"
     ]
    }
   ],
   "source": [
    "# HETEROGENEOUS TUPLE\n",
    "\n",
    "# Lets create one more tuple, this time lets fill it with some mixed datatypes.\n",
    "t = 1, 2, \"rlabs\", 4.5 , True \n",
    "# As you can see we have a string, a interger, a float and a boolean element in our list now.\n",
    "print(\"t:\",t )"
   ]
  },
  {
   "cell_type": "code",
   "execution_count": 3,
   "metadata": {},
   "outputs": [
    {
     "name": "stdout",
     "output_type": "stream",
     "text": [
      "t: ((1, 2, 3), (4, 5, 6), (7, 8, 9))\n"
     ]
    }
   ],
   "source": [
    "# Now lets create a more complex tuple, lets create some tuples inside a tuple.\n",
    "t = ((1,2,3),(4,5,6),(7,8,9))\n",
    "print(\"t:\",t )"
   ]
  },
  {
   "cell_type": "markdown",
   "metadata": {},
   "source": [
    "###### EXERCISE "
   ]
  },
  {
   "cell_type": "code",
   "execution_count": 4,
   "metadata": {},
   "outputs": [],
   "source": [
    "# create a tuple and fill it with some values and then print it.\n",
    "# write your code here :\n"
   ]
  },
  {
   "cell_type": "markdown",
   "metadata": {},
   "source": [
    "## 2. Accessing Elements In A Tuple"
   ]
  },
  {
   "cell_type": "markdown",
   "metadata": {},
   "source": [
    "- While working with tuples, we store different data as different tuple elements.Sometimes, there is a need to print a specific information from the tuple. \n",
    "- We can access the elements of a list in 2 ways either by using index or by using slicing."
   ]
  },
  {
   "cell_type": "markdown",
   "metadata": {},
   "source": [
    "##### 2.1.\t Indexing in Tuples:"
   ]
  },
  {
   "cell_type": "markdown",
   "metadata": {},
   "source": [
    "- Indexing in tuples is also pretty similar to that in lists, the first element has index zero, and it keeps on increasing for the next consecutive elements. Also, backward indexing is also valid in tuples, i.e., the last element can be accessed using the index -1 and the consecutive previous numbers by -2, -3 and so on"
   ]
  },
  {
   "cell_type": "code",
   "execution_count": null,
   "metadata": {},
   "outputs": [],
   "source": [
    "# Write your code here for indexing "
   ]
  },
  {
   "cell_type": "markdown",
   "metadata": {},
   "source": [
    "##### 2.2.\t Slicing in Tuples:"
   ]
  },
  {
   "cell_type": "markdown",
   "metadata": {},
   "source": [
    "- When you want to extract part of a string, or some part of a list, you use a slice. Slicing in tuples, works exactly the same like in the case of lists. \n",
    "- Syntax:\n",
    "  string[start:end:step]\n"
   ]
  },
  {
   "cell_type": "code",
   "execution_count": 1,
   "metadata": {},
   "outputs": [
    {
     "name": "stdout",
     "output_type": "stream",
     "text": [
      "(2, 3, 4, 5, 6, 7, 8, 9)\n",
      "(3, 4)\n",
      "(1, 3, 5, 7, 9)\n"
     ]
    }
   ],
   "source": [
    "# lets create tuple filled with interger  and  foat  \n",
    "t = 1,2,3,4,5,6,7,8,9 \n",
    "\n",
    "# starting value is from index 1 and ending value to last element in tuple and if it is noy mentioned then by default \n",
    "# step value is one \n",
    "print(t[1:]) \n",
    "\n",
    "# here starting value is from index 2 and ending value is index 3 because in end element it always -1 in indexing\n",
    "# and by default step value is one\n",
    "print(t[2:4])\n",
    "\n",
    "# here starting value is from 1st element in tuple  and ending value to last element in tuple and  step value is two\n",
    "print (t[::2])\n"
   ]
  },
  {
   "cell_type": "code",
   "execution_count": null,
   "metadata": {},
   "outputs": [],
   "source": [
    "#### Write your code here for slicing with different example "
   ]
  },
  {
   "cell_type": "markdown",
   "metadata": {},
   "source": [
    "## 3. Basic operations"
   ]
  },
  {
   "cell_type": "markdown",
   "metadata": {},
   "source": [
    "##### 3.1 \tConcatenation of Tuples:"
   ]
  },
  {
   "cell_type": "code",
   "execution_count": 1,
   "metadata": {},
   "outputs": [],
   "source": [
    "# Write your code here for Concatenation of Tuples "
   ]
  },
  {
   "cell_type": "markdown",
   "metadata": {},
   "source": [
    "##### 3.2 Length:"
   ]
  },
  {
   "cell_type": "code",
   "execution_count": 2,
   "metadata": {},
   "outputs": [
    {
     "name": "stdout",
     "output_type": "stream",
     "text": [
      "9\n"
     ]
    }
   ],
   "source": [
    "# len() function As  you might have already guessed, this function is used to get the number of elements inside any tuple.\n",
    "t = 8,1,\"python\",2.2,5,2,1,2,6\n",
    "print(len(t))"
   ]
  },
  {
   "cell_type": "markdown",
   "metadata": {},
   "source": [
    "##### 3.3 Repetition in tuple:"
   ]
  },
  {
   "cell_type": "code",
   "execution_count": null,
   "metadata": {},
   "outputs": [],
   "source": [
    "# here created a tuple filled with integer value  \n",
    "t =  (1,2,3)\n",
    "# here we have repeted the tuple (t) 4 times using * operator  \n",
    "u = (t) * 4\n",
    "print (u)"
   ]
  },
  {
   "cell_type": "markdown",
   "metadata": {},
   "source": [
    "##### 3.4  Membership of tuple:"
   ]
  },
  {
   "cell_type": "code",
   "execution_count": null,
   "metadata": {},
   "outputs": [],
   "source": [
    "t = 8,1,\"python\",2.2,5,2,1,2,6\n",
    "#  here we checked is 2.2 is member of tuple t or not \n",
    "# if 2.2 is member of tuple t then it will print True\n",
    "print (2.2 in t)"
   ]
  },
  {
   "cell_type": "code",
   "execution_count": null,
   "metadata": {},
   "outputs": [],
   "source": [
    "# if 2.2 is not member of tuple t then it will print False\n",
    "print (2.2 not in t)"
   ]
  },
  {
   "cell_type": "markdown",
   "metadata": {},
   "source": [
    "##### 3.5 Iterate Through Tuple Elements  :"
   ]
  },
  {
   "cell_type": "code",
   "execution_count": null,
   "metadata": {},
   "outputs": [],
   "source": [
    "# Write your code here for Iteration with different example "
   ]
  },
  {
   "cell_type": "markdown",
   "metadata": {},
   "source": [
    "##### 3.6 max() and min() function:"
   ]
  },
  {
   "cell_type": "markdown",
   "metadata": {},
   "source": [
    "- To find the maximum value in a tuple, we can use the max() function\n",
    "- while for finding the minimum value, min() function can be used.\n"
   ]
  },
  {
   "cell_type": "code",
   "execution_count": null,
   "metadata": {},
   "outputs": [],
   "source": [
    "t = (1,2,3,4,5,6,7,8,9)\n",
    "# maximum value of t will show\n",
    "print (max(t)) \n",
    "\n",
    "# min value of t will show\n",
    "print (min(t)) "
   ]
  },
  {
   "cell_type": "markdown",
   "metadata": {},
   "source": [
    "## 4. Tuple Methods"
   ]
  },
  {
   "cell_type": "markdown",
   "metadata": {},
   "source": [
    "###### 4.1 Count():"
   ]
  },
  {
   "cell_type": "markdown",
   "metadata": {},
   "source": [
    "- Tt Returns the number of times a specified value occurs  in a tuple"
   ]
  },
  {
   "cell_type": "markdown",
   "metadata": {},
   "source": [
    "#### 4.2 index():"
   ]
  },
  {
   "cell_type": "markdown",
   "metadata": {},
   "source": [
    "- Searches the  tuple  for  a  specified  value  and  returns   the  position  of  where  it  was   found."
   ]
  },
  {
   "cell_type": "markdown",
   "metadata": {},
   "source": [
    "###### EXERCISE "
   ]
  },
  {
   "cell_type": "code",
   "execution_count": 5,
   "metadata": {},
   "outputs": [],
   "source": [
    "# create tuple and perform tuple methods()\n",
    "# write your code here :"
   ]
  },
  {
   "cell_type": "markdown",
   "metadata": {},
   "source": [
    "## 5. Changing A Tuple"
   ]
  },
  {
   "cell_type": "markdown",
   "metadata": {},
   "source": [
    "- We can convert the tuple into a list, change the list, and convert the list back into a tuple."
   ]
  },
  {
   "cell_type": "code",
   "execution_count": null,
   "metadata": {},
   "outputs": [],
   "source": [
    "# here we have created tuple\n",
    "x = (1,2,3,4,5)\n",
    "# converted into list\n",
    "y = list(x)\n",
    "print (y)"
   ]
  },
  {
   "cell_type": "code",
   "execution_count": null,
   "metadata": {},
   "outputs": [],
   "source": [
    "# we replace index 1 of value 2 to 8\n",
    "y[1] = 8\n",
    "# again converted into tuple\n",
    "x = tuple(y)\n",
    "print(x)"
   ]
  },
  {
   "cell_type": "markdown",
   "metadata": {},
   "source": [
    "## 6. Deleting A Tuple"
   ]
  },
  {
   "cell_type": "markdown",
   "metadata": {},
   "source": [
    "- Tuples are immutable and cannot be deleted. You cannot delete or remove items from a tuple. But deleting tuple entirely is possible by using the keyword <b>del</b>. Similar to string."
   ]
  },
  {
   "cell_type": "code",
   "execution_count": null,
   "metadata": {},
   "outputs": [],
   "source": [
    "# Write your code here for deleting tuple  with different example "
   ]
  },
  {
   "cell_type": "markdown",
   "metadata": {},
   "source": [
    "## 7. other examples "
   ]
  },
  {
   "cell_type": "markdown",
   "metadata": {},
   "source": [
    "##### 7.1 The tuple( ) Constructor:"
   ]
  },
  {
   "cell_type": "markdown",
   "metadata": {},
   "source": [
    "- It is also possible to use the tuple() constructor to make a tuple. It is use for typecasting or creating tuples ."
   ]
  },
  {
   "cell_type": "code",
   "execution_count": null,
   "metadata": {},
   "outputs": [],
   "source": [
    "##### Write your code here for constructor  with different example"
   ]
  },
  {
   "cell_type": "markdown",
   "metadata": {},
   "source": [
    "##### 7.2 Packing and Unpacking:"
   ]
  },
  {
   "cell_type": "markdown",
   "metadata": {},
   "source": [
    "- In packing, we place value into a new tuple while in unpacking we extract those values back into variables. "
   ]
  },
  {
   "cell_type": "code",
   "execution_count": null,
   "metadata": {},
   "outputs": [],
   "source": [
    "##### Write your code here for packing and unpacking  with different example"
   ]
  }
 ],
 "metadata": {
  "kernelspec": {
   "display_name": "Python 3",
   "language": "python",
   "name": "python3"
  },
  "language_info": {
   "codemirror_mode": {
    "name": "ipython",
    "version": 3
   },
   "file_extension": ".py",
   "mimetype": "text/x-python",
   "name": "python",
   "nbconvert_exporter": "python",
   "pygments_lexer": "ipython3",
   "version": "3.9.5"
  }
 },
 "nbformat": 4,
 "nbformat_minor": 2
}
