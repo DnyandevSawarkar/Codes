{
 "cells": [
  {
   "cell_type": "markdown",
   "metadata": {},
   "source": [
    "# Assignment 1\n",
    "\n",
    "Write a python script to count the total number of key:value pairs in dictionary."
   ]
  },
  {
   "cell_type": "code",
   "execution_count": 1,
   "metadata": {},
   "outputs": [
    {
     "name": "stdout",
     "output_type": "stream",
     "text": [
      "4\n"
     ]
    }
   ],
   "source": [
    "dict1 = {\"a\":1,\"b\":2,\"c\":3,\"d\":4}  # assing distionary (dict1)\n",
    "\n",
    "print(len(dict1))                  # output of count of  total number of key:value pairs"
   ]
  },
  {
   "cell_type": "markdown",
   "metadata": {},
   "source": [
    "# Assignment 2\n",
    "\n",
    "Write a Python program to identify the similar key value pair in two dictionaries."
   ]
  },
  {
   "cell_type": "code",
   "execution_count": 2,
   "metadata": {},
   "outputs": [
    {
     "name": "stdout",
     "output_type": "stream",
     "text": [
      "a : 1\n",
      "b : 2\n"
     ]
    }
   ],
   "source": [
    "dict1 = {'a': 1, 'b': 2, 'c': 3,'d': 4}                     # assing dictionaries_1\n",
    "dict2 = {'a': 1, 'e': 2,'f':6,'b':2}                        # assing dictionaries_2\n",
    "\n",
    "for (key,value) in set(dict1.items()) & set(dict2.items()): # for loop with condtion same key value dict_1 and dict_2\n",
    "    print(key,':',value)                                    # output of pair of key:value similaer in both dictionaries"
   ]
  },
  {
   "cell_type": "markdown",
   "metadata": {},
   "source": [
    "# Assignment 3"
   ]
  },
  {
   "cell_type": "markdown",
   "metadata": {},
   "source": [
    "Write a program to check whether the username and password entered by the user are correct or not.\n",
    "\n",
    "### Steps to follow : \n",
    "- Initialise a dictionary with 10 key:value pairs.\n",
    "- Ask user to enter username and password.\n",
    "- If username is not there in the dictionary, then it should print \n",
    "     <b> \" The person is not a valid user of the system\" </b>\n",
    "- If username is correct it should ask user to enter the password\n",
    "- If password entered is wrong, then it should print \n",
    "     <b> \" The Password is invalid </b>\n",
    "- If both are correct then it should display\n",
    "     <b> \" You are logged into the system </b>"
   ]
  },
  {
   "cell_type": "code",
   "execution_count": 3,
   "metadata": {},
   "outputs": [
    {
     "name": "stdout",
     "output_type": "stream",
     "text": [
      "Enter your username : user1\n",
      "Enter your password : pass1\n",
      "You are logged into the system\n"
     ]
    }
   ],
   "source": [
    "# dictionary with 10 user:pass combination\n",
    "user_password = {'user1':'pass1','user2':'pass2','user3':'pass3','user4':'pass4','user5':'pass5',\n",
    "                 'user6':'pass6','user7':'pass7','user8':'pass8','user9':'pass9','user10':'pass10'}                        \n",
    "\n",
    "username = input(\"Enter your username : \")                  # input for taking username\n",
    "password = input(\"Enter your password : \")                  # using input for taking password\n",
    "\n",
    "if username in user_password:                               # here we using if else statement             \n",
    "    if user_password[username] == password:                 # first condition\n",
    "        print(\"You are logged into the system\")             # if both codition statisfied then we will get this output\n",
    "    else:  \n",
    "        print(\"password is invalid\")                        # if the password entered is wrong then it will be our output\n",
    "else:\n",
    "    print(\"The person is not a valid user of the system\")   # if the username is not in there the dictionary then this will be our output"
   ]
  }
 ],
 "metadata": {
  "kernelspec": {
   "display_name": "Python 3",
   "language": "python",
   "name": "python3"
  },
  "language_info": {
   "codemirror_mode": {
    "name": "ipython",
    "version": 3
   },
   "file_extension": ".py",
   "mimetype": "text/x-python",
   "name": "python",
   "nbconvert_exporter": "python",
   "pygments_lexer": "ipython3",
   "version": "3.9.5"
  }
 },
 "nbformat": 4,
 "nbformat_minor": 4
}
