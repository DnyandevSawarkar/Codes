{
 "cells": [
  {
   "cell_type": "markdown",
   "metadata": {},
   "source": [
    "# Assignment 1\n",
    "\n",
    "Write a python script to count the total number of key:value pairs in dictionary."
   ]
  },
  {
   "cell_type": "code",
   "execution_count": 33,
   "metadata": {},
   "outputs": [
    {
     "name": "stdout",
     "output_type": "stream",
     "text": [
      "4\n"
     ]
    }
   ],
   "source": [
    "dict_1 = {\"a\":102,\"b\":202,\"c\":302,\"d\":402}  \n",
    "print(len(dict_1))                  # output of count of  total number of key:value pairs"
   ]
  },
  {
   "cell_type": "markdown",
   "metadata": {},
   "source": [
    "# Assignment 2\n",
    "\n",
    "Write a Python program to identify the similar key value pair in two dictionaries."
   ]
  },
  {
   "cell_type": "code",
   "execution_count": 34,
   "metadata": {},
   "outputs": [
    {
     "name": "stdout",
     "output_type": "stream",
     "text": [
      "b : 20\n",
      "a : 10\n"
     ]
    }
   ],
   "source": [
    "dict_1 = {'a': 10, 'b': 20, 'c': 30,'d': 40}                     \n",
    "dict_2 = {'a': 10, 'e': 60,'f':60,'b':20}                        \n",
    "for (key,value) in set(dict_1.items()) & set(dict_2.items()): # for loop with condtion same key value dict_1 and dict_2\n",
    "    print(key,':',value)                                      # output "
   ]
  },
  {
   "cell_type": "markdown",
   "metadata": {},
   "source": [
    "# Assignment 3"
   ]
  },
  {
   "cell_type": "markdown",
   "metadata": {},
   "source": [
    "Write a program to check whether the username and password entered by the user are correct or not.\n",
    "\n",
    "### Steps to follow : \n",
    "- Initialise a dictionary with 10 key:value pairs.\n",
    "- Ask user to enter username and password.\n",
    "- If username is not there in the dictionary, then it should print \n",
    "     <b> \" The person is not a valid user of the system\" </b>\n",
    "- If username is correct it should ask user to enter the password\n",
    "- If password entered is wrong, then it should print \n",
    "     <b> \" The Password is invalid </b>\n",
    "- If both are correct then it should display\n",
    "     <b> \" You are logged into the system </b>"
   ]
  },
  {
   "cell_type": "code",
   "execution_count": 35,
   "metadata": {},
   "outputs": [
    {
     "name": "stdout",
     "output_type": "stream",
     "text": [
      "Enter your username : jojo\n",
      "Enter your password : 124\n",
      "The person is not a valid user of the system\n"
     ]
    }
   ],
   "source": [
    "user_password = {'username_1':'password1',\n",
    "                 'username_2':'password2',\n",
    "                 'username_3':'password3',\n",
    "                 'username_4':'password4',\n",
    "                 'username_5':'password5',\n",
    "                 'username_6':'password6',\n",
    "                 'username_7':'password7',\n",
    "                 'username_8':'password8',\n",
    "                 'username_9':'password9',\n",
    "                 'username_10':'password10'}                     # \n",
    "\n",
    "username = input(\"Enter your username : \")                  # input for taking username\n",
    "password = input(\"Enter your password : \")                  # using input for taking password\n",
    "if username in user_password:                               # here we using if else statement             \n",
    "    if user_password[username] == password:                 # first condition\n",
    "        print(\"You are logged into the system\")             # if both codition statisfied then we will get this output\n",
    "    else:  \n",
    "        print(\"password is invalid\")                        # if the password entered is wrong then it will be our output\n",
    "else:\n",
    "    print(\"The person is not a valid user of the system\")   # if the username is not in there the dictionary then this will be our output"
   ]
  }
 ],
 "metadata": {
  "kernelspec": {
   "display_name": "Python 3",
   "language": "python",
   "name": "python3"
  },
  "language_info": {
   "codemirror_mode": {
    "name": "ipython",
    "version": 3
   },
   "file_extension": ".py",
   "mimetype": "text/x-python",
   "name": "python",
   "nbconvert_exporter": "python",
   "pygments_lexer": "ipython3",
   "version": "3.9.5"
  }
 },
 "nbformat": 4,
 "nbformat_minor": 4
}
