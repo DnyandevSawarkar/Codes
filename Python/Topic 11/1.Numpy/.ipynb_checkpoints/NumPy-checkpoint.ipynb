{
 "cells": [
  {
   "cell_type": "markdown",
   "metadata": {
    "id": "luUt1fX7SphH"
   },
   "source": [
    "# <center> NUMPY"
   ]
  },
  {
   "cell_type": "markdown",
   "metadata": {
    "id": "DxLeuBBIS54-"
   },
   "source": [
    "# AGENDA:\n",
    "**1.** **What is Numpy?**\n",
    "\n",
    "**2. What is NumPy Array?**\n",
    "\n",
    "**3.** **Numpy Vs List.**\n",
    "\n",
    "**4.** **Numpy Operations.**\n",
    "\n",
    "**5.** **Numpy Special Functions.** "
   ]
  },
  {
   "cell_type": "markdown",
   "metadata": {
    "id": "vhh1aBBCTZpZ"
   },
   "source": [
    "**1. What is NumPy?**\n",
    "\n",
    "*   NumPy is a Python package which stands for ‘Numerical Python’.\n",
    "\n",
    "*   It is the core library for scientific computing, which contains a powerful n-dimensional array object, provide tools for integrating C, C++ etc.\n",
    "\n",
    "*   It provides a high performance multidimensional array objects and tools for  working with these arrays.\n",
    "\n",
    "*   It helps us to perform fast mathematical operations over arrays.\n",
    "\n",
    "\n",
    "\n",
    "\n",
    "\n",
    "\n"
   ]
  },
  {
   "cell_type": "markdown",
   "metadata": {
    "id": "r1yTLiSVpod2"
   },
   "source": [
    "**2. What is NumPy Array?**\n",
    "\n",
    "*  Numpy array is a powerful N-dimensional array object which is in the form of rows and columns.\n",
    "*  We can initialize numpy arrays from nested Python lists and access it elements.\n",
    "\n"
   ]
  },
  {
   "cell_type": "markdown",
   "metadata": {
    "id": "dIhUO_E7T2q1"
   },
   "source": [
    "Example 1: To create a NumPy array:"
   ]
  },
  {
   "cell_type": "code",
   "execution_count": null,
   "metadata": {
    "colab": {
     "base_uri": "https://localhost:8080/",
     "height": 34
    },
    "id": "lGzct9pnv7ux",
    "outputId": "064e0788-e7c6-45d9-919c-0da36ac0e35a"
   },
   "outputs": [
    {
     "name": "stdout",
     "output_type": "stream",
     "text": [
      "[1 2 3 4]\n"
     ]
    }
   ],
   "source": [
    "#Creating a single dimensional array  \n",
    "import numpy as np                                                #importing the numpy library as np\n",
    "a = np.array([1,2,3,4])                                           #creating a one dimensional array using numpy \n",
    "print(a)                                                          #printing the array"
   ]
  },
  {
   "cell_type": "code",
   "execution_count": null,
   "metadata": {
    "colab": {
     "base_uri": "https://localhost:8080/",
     "height": 34
    },
    "id": "Ek9HPqqlrqB7",
    "outputId": "49efcc55-beb9-4cf1-9cad-29dad7b7b833"
   },
   "outputs": [
    {
     "name": "stdout",
     "output_type": "stream",
     "text": [
      "[0.2 5.2 3. ]\n"
     ]
    }
   ],
   "source": [
    "#creating a ndarray having elements of float data type\n",
    "import numpy as np \n",
    "a = np.array([0.2, 5.2, 3]) \n",
    "print(a)"
   ]
  },
  {
   "cell_type": "markdown",
   "metadata": {
    "id": "apxMuAC4tKTt"
   },
   "source": [
    "Code 1: Write a Python script to create a numpy array having elements of complex data type."
   ]
  },
  {
   "cell_type": "code",
   "execution_count": null,
   "metadata": {
    "id": "1jHNhqvatO_0"
   },
   "outputs": [],
   "source": [
    "#import numpy package\n",
    "#initialise a numpy array\n",
    "#print the array"
   ]
  },
  {
   "cell_type": "markdown",
   "metadata": {
    "id": "WmZCVP8QvG_i"
   },
   "source": [
    "**2.1 What is Multi-Dimensional NumPy Array?**\n",
    "\n",
    "*  Consider that we have different elements that are stored in their respective memory locations. \n",
    "\n",
    "*  Consider a 3x3 matrix which has 3 rows and 3 columns respectively. This is said to be two dimensional because it has certain number of rows and columns.\n",
    "\n",
    "*  Thus, a matrix is an example of multi-dimensional numpy array.\n",
    "\n",
    "\n",
    "\n"
   ]
  },
  {
   "cell_type": "markdown",
   "metadata": {
    "id": "fR_DgKSgZQd_"
   },
   "source": [
    "Example 2:Creating a two dimensional array"
   ]
  },
  {
   "cell_type": "code",
   "execution_count": null,
   "metadata": {
    "colab": {
     "base_uri": "https://localhost:8080/",
     "height": 50
    },
    "id": "pWIRbuVuv-tq",
    "outputId": "0f4c42cc-27a2-4ed6-ced0-921b18281c4c"
   },
   "outputs": [
    {
     "name": "stdout",
     "output_type": "stream",
     "text": [
      "[[1 2 3]\n",
      " [4 5 6]]\n"
     ]
    }
   ],
   "source": [
    "#creating a two dimensional array\n",
    "import numpy as np\n",
    "b = np.array([(1,2,3), (4,5,6)])\n",
    "print(b)"
   ]
  },
  {
   "cell_type": "markdown",
   "metadata": {
    "id": "wKXCsfc07NGS"
   },
   "source": [
    "Code 2: Write a python script to create three dimensional numpy array."
   ]
  },
  {
   "cell_type": "code",
   "execution_count": null,
   "metadata": {
    "id": "VD7GXRcg79F9"
   },
   "outputs": [],
   "source": [
    "#import the numpy package\n",
    "#create a three dimensional array\n",
    "#print the array"
   ]
  },
  {
   "cell_type": "markdown",
   "metadata": {
    "id": "ddiAuipCYCZy"
   },
   "source": [
    "**2. NumPy Vs List:**\n",
    "\n",
    "\n",
    "*   NumPy data structures occupy less memory as compared to list.\n",
    "\n",
    "*   It is pretty much fast in terms of execution than list.\n",
    "\n",
    "\n",
    "*   It is more convenient to use as compared to list. \n",
    "\n",
    "\n",
    "\n",
    "\n"
   ]
  },
  {
   "cell_type": "markdown",
   "metadata": {
    "id": "lxxIp3x7Zhcx"
   },
   "source": [
    "Example 3:To check how much size is occupied by List and NumPy array. "
   ]
  },
  {
   "cell_type": "code",
   "execution_count": null,
   "metadata": {
    "colab": {
     "base_uri": "https://localhost:8080/",
     "height": 50
    },
    "id": "MI6rqJhNxE8O",
    "outputId": "8351dce4-988d-4822-e59c-9c7b10d45c2e"
   },
   "outputs": [
    {
     "name": "stdout",
     "output_type": "stream",
     "text": [
      "The space occupied by lists:  48000\n",
      "The space occupied by NumPy data structures:  8000\n"
     ]
    }
   ],
   "source": [
    "import numpy as np\n",
    "import time\n",
    "import sys \n",
    "\n",
    "c = range(1000)\n",
    "print(\"The space occupied by lists: \",sys.getsizeof(c)*len(c))               \n",
    "\n",
    "d = np.arange(1000)\n",
    "print(\"The space occupied by NumPy data structures: \",d.size*d.itemsize)\n"
   ]
  },
  {
   "cell_type": "markdown",
   "metadata": {
    "id": "RrrsT0a5adqC"
   },
   "source": [
    "Example 4: To check how fast NumPy works as compared to List"
   ]
  },
  {
   "cell_type": "code",
   "execution_count": null,
   "metadata": {
    "colab": {
     "base_uri": "https://localhost:8080/",
     "height": 67
    },
    "id": "Yu0GZkMczkuh",
    "outputId": "07af2a43-f5f8-4b17-8da6-b4b54a878002"
   },
   "outputs": [
    {
     "name": "stdout",
     "output_type": "stream",
     "text": [
      "The performance of List is  0.00027179718017578125\n",
      "The performance of NumPy is  0.0001468658447265625\n",
      "Numpy is in this example 1.8506493506493507 faster!\n"
     ]
    }
   ],
   "source": [
    "import time\n",
    "import numpy as np\n",
    "\n",
    "size = 1000\n",
    "\n",
    "def list_version():\n",
    "    t1 = time.time()\n",
    "    X = range(size)\n",
    "    Y = range(size)\n",
    "    Z = [X[i] + Y[i] for i in range(len(X)) ]\n",
    "    return time.time() - t1\n",
    "\n",
    "def numpy_version():\n",
    "    t1 = time.time()\n",
    "    X = np.arange(size)\n",
    "    Y = np.arange(size)\n",
    "    Z = X + Y\n",
    "    return time.time() - t1\n",
    "\n",
    "\n",
    "t1 = list_version()\n",
    "t2 = numpy_version()\n",
    "#print(t1, t2)\n",
    "print(\"The performance of List is \",t1)\n",
    "print(\"The performance of NumPy is \",t2)\n",
    "print(\"Numpy is in this example \" + str(t1/t2) + \" faster!\")"
   ]
  },
  {
   "cell_type": "markdown",
   "metadata": {
    "id": "FT_aSf8weclV"
   },
   "source": [
    "**3. NumPy Operations:** It helps us in finding the:\n",
    "\n",
    "\n",
    "*   dimension of the array.\n",
    "*   byte size of each element.\n",
    "\n",
    "\n",
    "*   data \n",
    "*   List item\n",
    "\n",
    "\n",
    "\n"
   ]
  },
  {
   "cell_type": "markdown",
   "metadata": {
    "id": "752Ld_Wimcc2"
   },
   "source": [
    "***ndim():***\n",
    "\n",
    "*   This function helps us to find the dimension of the array, whether it is a two-dimensional array or a single dimensional array. \n",
    "\n",
    "\n"
   ]
  },
  {
   "cell_type": "markdown",
   "metadata": {
    "id": "U9VFaYst1LB-"
   },
   "source": [
    "Example 5: To find the dimension of array."
   ]
  },
  {
   "cell_type": "code",
   "execution_count": null,
   "metadata": {
    "colab": {
     "base_uri": "https://localhost:8080/",
     "height": 34
    },
    "id": "dpwf8bu1xL0d",
    "outputId": "922f160a-e71f-4169-da84-28da5efa6777"
   },
   "outputs": [
    {
     "name": "stdout",
     "output_type": "stream",
     "text": [
      "2\n"
     ]
    }
   ],
   "source": [
    "import numpy as np\n",
    "a = np.array([(1,2,3), (2,3,4)])\n",
    "print(a.ndim)"
   ]
  },
  {
   "cell_type": "markdown",
   "metadata": {
    "id": "usUMuebB08q0"
   },
   "source": [
    "Code 3: Write a Python script to create a ndarray of evenly spaced 25 elements and then determine it's dimension."
   ]
  },
  {
   "cell_type": "code",
   "execution_count": null,
   "metadata": {
    "id": "3utRz0LH1OtQ"
   },
   "outputs": [],
   "source": [
    "#import numpy package\n",
    "#use the required function to create an evenly spaced array of 25 elements\n",
    "#print the output"
   ]
  },
  {
   "cell_type": "markdown",
   "metadata": {
    "id": "62O6RmbPnbvk"
   },
   "source": [
    "***item size():***\n",
    "\n",
    "*   This function can calculate the byte size of each element. \n",
    "\n",
    "\n"
   ]
  },
  {
   "cell_type": "markdown",
   "metadata": {
    "id": "bmKYt1MQB0V_"
   },
   "source": [
    "Example 6: To check the size of a single element in the array"
   ]
  },
  {
   "cell_type": "code",
   "execution_count": null,
   "metadata": {
    "colab": {
     "base_uri": "https://localhost:8080/",
     "height": 34
    },
    "id": "xuktEzq0cGqf",
    "outputId": "42e671ba-9ea8-4c9c-ce65-365085a73a84"
   },
   "outputs": [
    {
     "name": "stdout",
     "output_type": "stream",
     "text": [
      "1\n"
     ]
    }
   ],
   "source": [
    "import numpy as np\n",
    "a = np.array([1,2,3,4,5,6], dtype = np.int8)\n",
    "print(a.itemsize)"
   ]
  },
  {
   "cell_type": "markdown",
   "metadata": {
    "id": "efQsGOfx3bMC"
   },
   "source": [
    "Code 4: Write a Python script to check the size of array having elements of data type float32. "
   ]
  },
  {
   "cell_type": "code",
   "execution_count": null,
   "metadata": {
    "id": "UC9C2PTt3CTE"
   },
   "outputs": [],
   "source": [
    "# import numpy package\n",
    "#initialise the the variable and required data type\n",
    "#print the output \n"
   ]
  },
  {
   "cell_type": "markdown",
   "metadata": {
    "id": "O9cE5WBPn63F"
   },
   "source": [
    "***dtype():***\n",
    "\n",
    "*   We can find the data type of the elements that are stored in an array. \n",
    "*   So, if we want to know the data type of a particular element, we can use ‘dtype’ function which will print the datatype along with the size.\n",
    "\n",
    "\n"
   ]
  },
  {
   "cell_type": "markdown",
   "metadata": {
    "id": "iKCqscYaHH1B"
   },
   "source": [
    "Example 7: To find the data type of the elements of the array"
   ]
  },
  {
   "cell_type": "code",
   "execution_count": null,
   "metadata": {
    "colab": {
     "base_uri": "https://localhost:8080/",
     "height": 34
    },
    "id": "AhLh9RL6BIIE",
    "outputId": "216d38fd-1049-45b1-e6af-b32c359d7a9c"
   },
   "outputs": [
    {
     "name": "stdout",
     "output_type": "stream",
     "text": [
      "The data type of the elements of array is:  float64\n"
     ]
    }
   ],
   "source": [
    "import numpy as np\n",
    "a = np.array([4.5, 22.8, 6.2, 1.1])\n",
    "print(\"The data type of the elements of array is: \", a.dtype)"
   ]
  },
  {
   "cell_type": "markdown",
   "metadata": {
    "id": "tGcbavtYHQfL"
   },
   "source": [
    "\n",
    "*   ***Size of Array:*** The size of array means the total number of elements present in the array.\n",
    "*    ***Shape of Array:*** The shape of array means the number of rows and columns present in it.\n",
    "\n"
   ]
  },
  {
   "cell_type": "markdown",
   "metadata": {
    "id": "EX1YAQWbG78L"
   },
   "source": [
    "Example 8: To find the size  of an array:"
   ]
  },
  {
   "cell_type": "code",
   "execution_count": null,
   "metadata": {
    "colab": {
     "base_uri": "https://localhost:8080/",
     "height": 34
    },
    "id": "Zrxsk3T8C3c9",
    "outputId": "e33a9d9f-1e68-4fb5-c396-ac6bd0bb5e89"
   },
   "outputs": [
    {
     "name": "stdout",
     "output_type": "stream",
     "text": [
      "6\n"
     ]
    }
   ],
   "source": [
    "\n",
    "import numpy as np\n",
    "a = np.array([(22.3, 4.2, 12.1), (1.4, 5.0, 3.3)])\n",
    "print(a.size)"
   ]
  },
  {
   "cell_type": "markdown",
   "metadata": {
    "id": "PlT52-wHJ9I1"
   },
   "source": [
    "Example 9: To find the shape of an array:"
   ]
  },
  {
   "cell_type": "code",
   "execution_count": null,
   "metadata": {
    "colab": {
     "base_uri": "https://localhost:8080/",
     "height": 34
    },
    "id": "mTJoxHrxJr05",
    "outputId": "85128234-e1c4-4a2e-c2b4-63c3e06a9be9"
   },
   "outputs": [
    {
     "name": "stdout",
     "output_type": "stream",
     "text": [
      "(5,)\n"
     ]
    }
   ],
   "source": [
    "import numpy as np\n",
    "a = np.array([1, 2, 3, 4, 5])\n",
    "print(a.shape)"
   ]
  },
  {
   "cell_type": "markdown",
   "metadata": {
    "id": "FoCKrDpMX5oo"
   },
   "source": [
    "In the above example 9, we get \"(5, )\" as output since the array created was a single dimensional array therefore, it gives us such output which tells us that it has 5 elements since it has just a single row and zero columns so, we don't get the number of rows and columns in the output. "
   ]
  },
  {
   "cell_type": "code",
   "execution_count": null,
   "metadata": {
    "colab": {
     "base_uri": "https://localhost:8080/",
     "height": 34
    },
    "id": "3YbXwykvJZMA",
    "outputId": "8f034ad5-e464-4022-b7e7-ee3489e0c9bd"
   },
   "outputs": [
    {
     "name": "stdout",
     "output_type": "stream",
     "text": [
      "(2, 3)\n"
     ]
    }
   ],
   "source": [
    "import numpy as np\n",
    "a = np.array([(22.3, 4.2, 12.1), (1.4, 5.0, 3.3)])\n",
    "print(a.shape)"
   ]
  },
  {
   "cell_type": "markdown",
   "metadata": {
    "id": "Ds34Z-u1Yy4R"
   },
   "source": [
    "In the above example, we get the output \"(2, 3)\" which indicates that we've two rows and three columns in the array."
   ]
  },
  {
   "cell_type": "markdown",
   "metadata": {
    "id": "lx_uvaoFxIkL"
   },
   "source": [
    "Code 5: Write a Python script to resize a ndarray say from having 2 rows and 3 columns to 3 rows, 2 columns.\n"
   ]
  },
  {
   "cell_type": "code",
   "execution_count": null,
   "metadata": {
    "id": "wIKp5DxsgNeh"
   },
   "outputs": [],
   "source": [
    "\n",
    "#import numpy package\n",
    "#initialise array\n",
    "#use required function to resize ndarray\n",
    "#print the resized array"
   ]
  },
  {
   "cell_type": "markdown",
   "metadata": {
    "id": "wyAbSKrmS4Pe"
   },
   "source": [
    "***numpy.reshape():***\n",
    "*   It is one of the method of NumPy array manipulation.\n",
    "\n",
    "*   It shapes an array without changing data of array.\n",
    "\n",
    "*    **Syntax:\n",
    "numpy.reshape(a, newshape, order='C')**\n",
    "\n",
    "where\n",
    "\n",
    "*   *a: Array to be reshaped.*\n",
    "\n",
    "*   *newshape: int or tuple of ints*\n",
    "The new shape should be compatible with the original shape. If an integer, then the result will be a 1-D array of that length.One shape dimension can be -1. In this case, the value is inferred from the length of the array and remaining dimensions.\n",
    "\n",
    "*   *order*: Read the elements of a using this index order, and place the elements into the reshaped array using this index order. \n",
    "‘C’ means to read / write the elements using C-like index order, with the last axis index changing fastest, back to the first axis index changing slowest. \n",
    "\n",
    "\n",
    "\n",
    "\n",
    "This function **returns the reshaped array.**\n"
   ]
  },
  {
   "cell_type": "markdown",
   "metadata": {
    "id": "D437QTO2Xemg"
   },
   "source": [
    "Example 10: To get a reshaped array using the reshape function"
   ]
  },
  {
   "cell_type": "code",
   "execution_count": null,
   "metadata": {
    "colab": {
     "base_uri": "https://localhost:8080/",
     "height": 118
    },
    "id": "3TqfxorKW0qX",
    "outputId": "fa1f6a9f-b987-4f85-8690-c5e14b76de0e"
   },
   "outputs": [
    {
     "name": "stdout",
     "output_type": "stream",
     "text": [
      "Originally 'a' was  [[1 2 3 4]\n",
      " [5 6 7 8]]\n",
      "The reshaped 'a' is  [[1 2]\n",
      " [3 4]\n",
      " [5 6]\n",
      " [7 8]]\n"
     ]
    }
   ],
   "source": [
    "import numpy as np\n",
    "a = np.array([(1,2,3,4), (5,6,7,8)])\n",
    "print(\"Originally 'a' was \", a)\n",
    "a = a.reshape(4,2)\n",
    "print(\"The reshaped 'a' is \",a)"
   ]
  },
  {
   "cell_type": "markdown",
   "metadata": {
    "id": "_rPB_XIQZRcm"
   },
   "source": [
    "Code 6: Write a python script to reshape an array which is to be created by using function \"arange()\" and print both the arrays : original and reshaped."
   ]
  },
  {
   "cell_type": "code",
   "execution_count": null,
   "metadata": {
    "id": "22s3WCxRZtpL"
   },
   "outputs": [],
   "source": [
    "#import numpy package\n",
    "#initialise ndarray using arange()\n",
    "#use required function to reshape the array\n",
    "#print both the arrays\n"
   ]
  },
  {
   "cell_type": "markdown",
   "metadata": {
    "id": "q1ZUJWK7J9At"
   },
   "source": [
    "***Slicing:***\n",
    "\n",
    "\n",
    "*   This enables accessing parts of sequences like strings, tuples, and lists.\n",
    "\n",
    "*   It can also be used to modify or delete the items of mutable sequences such as lists.\n",
    "\n",
    "*   Slices can also be applied on third-party objects like NumPy arrays, as well as Pandas series and data frames.\n",
    "\n",
    "*   Slicing enables writing clean, concise, and readable code.\n",
    "\n",
    "*   It is similar to indexing but returns a sequence of items instead of a single item. The indices used for slicing are also zero-based.\n",
    "\n",
    "\n",
    "\n",
    "\n"
   ]
  },
  {
   "cell_type": "markdown",
   "metadata": {
    "id": "QCVKRWxYthMQ"
   },
   "source": [
    "Example 11: To slice a ndarray"
   ]
  },
  {
   "cell_type": "code",
   "execution_count": null,
   "metadata": {
    "colab": {
     "base_uri": "https://localhost:8080/",
     "height": 34
    },
    "id": "Tr-2SR8vJiMQ",
    "outputId": "80918c3d-c60e-4eaa-f6cc-8c7be4d3ff21"
   },
   "outputs": [
    {
     "name": "stdout",
     "output_type": "stream",
     "text": [
      "3\n"
     ]
    }
   ],
   "source": [
    "import numpy as np\n",
    "a = np.array([(1,2, 3, 4), (3, 4, 5, 6)])\n",
    "print(a[0,2])"
   ]
  },
  {
   "cell_type": "code",
   "execution_count": null,
   "metadata": {
    "colab": {
     "base_uri": "https://localhost:8080/",
     "height": 34
    },
    "id": "n3hMgy_2SB2O",
    "outputId": "dba77151-b97d-4ddd-9ce0-1381cf94e2fa"
   },
   "outputs": [
    {
     "name": "stdout",
     "output_type": "stream",
     "text": [
      "[4 6]\n"
     ]
    }
   ],
   "source": [
    "import numpy as np\n",
    "a=np.array([(1,2,3,4),(3,4,5,6)])\n",
    "print(a[0:,3])"
   ]
  },
  {
   "cell_type": "markdown",
   "metadata": {
    "id": "aAa5GTEjtt5F"
   },
   "source": [
    "In the above example, since we have written the code as \"print(a[0:,3])\" hence, it gives us the third element of all the rows since, \"0;\" this means it will go for all the rows."
   ]
  },
  {
   "cell_type": "code",
   "execution_count": null,
   "metadata": {
    "colab": {
     "base_uri": "https://localhost:8080/",
     "height": 34
    },
    "id": "_0-CwwkpSLGN",
    "outputId": "75a97c45-934c-4c03-ae1e-107875ee8e9d"
   },
   "outputs": [
    {
     "name": "stdout",
     "output_type": "stream",
     "text": [
      "[4 8]\n"
     ]
    }
   ],
   "source": [
    "import numpy as np\n",
    "a = np.array([(1,2,3,4), (5,6,7,8), (9,10,11,12)])\n",
    "print(a[0:2, 3])"
   ]
  },
  {
   "cell_type": "markdown",
   "metadata": {
    "id": "xlrBftCau0Cs"
   },
   "source": [
    "In the above example we want to print \"(a[0:2, 3])\" which means we will get the third element of the first two rows of the array as we have mentioned \"0:2\". "
   ]
  },
  {
   "cell_type": "code",
   "execution_count": null,
   "metadata": {
    "colab": {
     "base_uri": "https://localhost:8080/",
     "height": 34
    },
    "id": "F327XUsdrlFX",
    "outputId": "5aaa7c01-f23d-4209-d752-be18b92feaed"
   },
   "outputs": [
    {
     "name": "stdout",
     "output_type": "stream",
     "text": [
      "[0 3 6 9]\n"
     ]
    }
   ],
   "source": [
    "import numpy as np\n",
    "a = np.array([0,1,2,3,4,5,6,7,8,9,10,11])\n",
    "s = slice(0,11,3)\n",
    "print(a[s])"
   ]
  },
  {
   "cell_type": "markdown",
   "metadata": {
    "id": "5gnEuc_SvPnH"
   },
   "source": [
    "In the above example, we have used the slice function to slice the ndarray starting from 0 to 11 in the steps of 3."
   ]
  },
  {
   "cell_type": "markdown",
   "metadata": {
    "id": "iO_x4tgbqB2u"
   },
   "source": [
    "Code 7: Write a Python script to slice the even elements of an array containing 10 elements ranging from 0 to 10"
   ]
  },
  {
   "cell_type": "code",
   "execution_count": null,
   "metadata": {
    "colab": {
     "base_uri": "https://localhost:8080/",
     "height": 34
    },
    "id": "CAnoDkFIqX7M",
    "outputId": "5fe04f10-bc53-42ae-d68a-de70179d4ed7"
   },
   "outputs": [
    {
     "name": "stdout",
     "output_type": "stream",
     "text": [
      "[2 4 6 8]\n"
     ]
    }
   ],
   "source": [
    "#import numpy package\n",
    "#initialise a ndarray\n",
    "#slice the array according to requirement and use the required function for slicing\n",
    "#print the output\n"
   ]
  },
  {
   "cell_type": "markdown",
   "metadata": {
    "id": "qyJ1u3VGaf4l"
   },
   "source": [
    "***numpy.linspace():***\n",
    "\n",
    "*   It is a tool in Python for creating numeric sequences.\n",
    "*   creates sequences of evenly spaced values within a defined interval.\n",
    "*   We have to specify a starting point and an ending point of an interval, and then specify the total number of breakpoints you want within that interval (including the start and end points).\n",
    "*   The np.linspace function will return a sequence of evenly spaced values on that interval.\n",
    "*   **Syntax:**\n",
    "np.linspace(start, stop, num)\n",
    "where\n",
    "\n",
    "*   start: indicatesthe point from which the sequence should start.\n",
    "\n",
    "*   stop: indicates the point at which the sequence should end.\n",
    "\n",
    "*   num: indicates the number of breakpoints required.\n",
    "\n",
    "\n",
    "\n",
    "\n",
    "\n",
    "\n",
    "\n",
    "\n",
    "\n",
    "\n",
    "\n",
    "\n",
    "\n",
    "\n"
   ]
  },
  {
   "cell_type": "markdown",
   "metadata": {
    "id": "WzFp3ksuvp8-"
   },
   "source": [
    "Example 12: To get the evenly spaced values of the given range."
   ]
  },
  {
   "cell_type": "code",
   "execution_count": null,
   "metadata": {
    "colab": {
     "base_uri": "https://localhost:8080/",
     "height": 34
    },
    "id": "YmyTIrVPSwIy",
    "outputId": "7fd084e2-5784-44bd-a2b4-b0b0721da716"
   },
   "outputs": [
    {
     "name": "stdout",
     "output_type": "stream",
     "text": [
      "[1.   1.25 1.5  1.75 2.  ]\n"
     ]
    }
   ],
   "source": [
    "import numpy as np\n",
    "a = np.linspace(1,2,5)\n",
    "print(a)"
   ]
  },
  {
   "cell_type": "markdown",
   "metadata": {
    "id": "CFVJgY2X5VKT"
   },
   "source": [
    "There are few more operations such as **maximum, minimum and sum.** We can get the maximum,minimum values and the sum of NumPy array by using the these functions as shown below:"
   ]
  },
  {
   "cell_type": "code",
   "execution_count": null,
   "metadata": {
    "colab": {
     "base_uri": "https://localhost:8080/",
     "height": 67
    },
    "id": "zQtAlU23abbv",
    "outputId": "e1236ce9-9e14-4226-fef6-be17b821b68b"
   },
   "outputs": [
    {
     "name": "stdout",
     "output_type": "stream",
     "text": [
      "The minimum value is  2\n",
      "The maximum value is  10\n",
      "the sum comes  30\n"
     ]
    }
   ],
   "source": [
    "import numpy as np\n",
    "a = np.array([(10,2,3),(4,5,6)])\n",
    "print(\"The minimum value is \",a.min())\n",
    "print(\"The maximum value is \",a.max())\n",
    "print(\"the sum comes \", a.sum())"
   ]
  },
  {
   "cell_type": "markdown",
   "metadata": {
    "id": "mUmW-kG7MlDF"
   },
   "source": [
    "***Axis 0 and Axis 1:*** \n",
    "\n",
    "*   The rows of NumPy array are known as Axis 1.\n",
    "\n",
    "*   The columns of NumPy array are known as Axis 0.\n",
    "\n",
    "*   Suppose if we want to calculate the sum of all the columns and rows then we can find it using Axis 0 and Axis 1 respectively.\n",
    "\n",
    "\n",
    "\n"
   ]
  },
  {
   "cell_type": "code",
   "execution_count": null,
   "metadata": {
    "colab": {
     "base_uri": "https://localhost:8080/",
     "height": 50
    },
    "id": "yEhAepvw6Tcy",
    "outputId": "b44da2b3-0aec-490c-d9fb-94c3f0b0a49b"
   },
   "outputs": [
    {
     "name": "stdout",
     "output_type": "stream",
     "text": [
      "The sum of all the columns =  [ 7 12]\n",
      "The sum of all the rows =  [ 6 13]\n"
     ]
    }
   ],
   "source": [
    "b = np.array([(2,4), (5,8)])\n",
    "#prints the sum of all the columns\n",
    "print(\"The sum of all the columns = \", b.sum(axis=0))  \n",
    "#prints the sum of all the rows\n",
    "print(\"The sum of all the rows = \", b.sum(axis=1))"
   ]
  },
  {
   "cell_type": "markdown",
   "metadata": {
    "id": "gsH-UW0XPmHq"
   },
   "source": [
    "***Square Root And Standard Deviation:***\n",
    "\n",
    "*   We can also find the square root and standard deviation(i.e. how much element varies from the mean value of the python numpy array) of array using the following functions:\n",
    "      1. sqrt(name of array)\n",
    "      2. std(name of array)\n"
   ]
  },
  {
   "cell_type": "code",
   "execution_count": null,
   "metadata": {
    "colab": {
     "base_uri": "https://localhost:8080/",
     "height": 67
    },
    "id": "mMighwLi6o5R",
    "outputId": "599f3d3d-4d6f-4e7c-d79f-73ee61ecef27"
   },
   "outputs": [
    {
     "name": "stdout",
     "output_type": "stream",
     "text": [
      "Square root:  [[1.41421356 1.73205081 2.        ]\n",
      " [4.         5.         5.47722558]]\n",
      "Standard Deviation:  11.130538571375999\n"
     ]
    }
   ],
   "source": [
    "import numpy as np\n",
    "a = np.array([(2,3,4),(16,25,30)])\n",
    "#prints the square root of each element of the array\n",
    "print(\"Square root: \",np.sqrt(a))\n",
    "#prints the standard deviation of the elements \n",
    "print(\"Standard Deviation: \",np.std(a))\n"
   ]
  },
  {
   "cell_type": "markdown",
   "metadata": {
    "id": "6_6bENDpUdo8"
   },
   "source": [
    "***Basic Mathematical Operations:***\n",
    "We can also perform the basic mathematical operations such as addition, subtraction, multiplication and division.\n"
   ]
  },
  {
   "cell_type": "markdown",
   "metadata": {
    "id": "KYdgjTMpv6KQ"
   },
   "source": [
    "Example 13: To perform addition of two ndarrays. "
   ]
  },
  {
   "cell_type": "code",
   "execution_count": null,
   "metadata": {
    "colab": {
     "base_uri": "https://localhost:8080/",
     "height": 50
    },
    "id": "gy13Sg1XTHOz",
    "outputId": "85a2f0e3-2f02-4e3d-c189-0867eecc43d7"
   },
   "outputs": [
    {
     "name": "stdout",
     "output_type": "stream",
     "text": [
      "Addition:  [[ 3  6  9]\n",
      " [ 5  8 11]]\n"
     ]
    }
   ],
   "source": [
    "import numpy as np\n",
    "x = np.array([(1,2,3),(4,5,6)])\n",
    "y = np.array([(2,4,6),(1,3,5)])\n",
    "print(\"Addition: \",x+y)\n"
   ]
  },
  {
   "cell_type": "markdown",
   "metadata": {
    "id": "COPWJCyyYD_x"
   },
   "source": [
    "Thus, we can see in the output that the addition is performed element by element as it is done in the case of matrices."
   ]
  },
  {
   "cell_type": "markdown",
   "metadata": {
    "id": "H3hlubwuYUNR"
   },
   "source": [
    "Code 8: Write a Python script to perform subtraction, multiplication and division."
   ]
  },
  {
   "cell_type": "code",
   "execution_count": null,
   "metadata": {
    "id": "_fFCQJQPWoRF"
   },
   "outputs": [],
   "source": [
    "#import numpy package\n",
    "#initialise two numpy arrays\n",
    "#print the results"
   ]
  },
  {
   "cell_type": "markdown",
   "metadata": {
    "id": "jlj2fL2Paln5"
   },
   "source": [
    "**5.** **Numpy Special Functions.** \n",
    "There are various special functions available in numpy such as:\n",
    "\n",
    "*   sine i.e. sin(x)\n",
    "*   cosine i.e. cos(x)\n",
    "*   tan i.e. tan(x)\n",
    "*   logarithm i.e. log(x)\n",
    "*   exponential i.e. e^x\n",
    "\n",
    "\n",
    "\n",
    "\n"
   ]
  },
  {
   "cell_type": "markdown",
   "metadata": {
    "id": "PqZYP3xneUVs"
   },
   "source": [
    "Example 14: To plot a graph for sine function."
   ]
  },
  {
   "cell_type": "code",
   "execution_count": null,
   "metadata": {
    "colab": {
     "base_uri": "https://localhost:8080/",
     "height": 265
    },
    "id": "Z0ewjmGvYmM-",
    "outputId": "9a556e8e-5c69-46a0-cfaa-d4717f3eb1eb"
   },
   "outputs": [
    {
     "data": {
      "image/png": "[encoded data removed]",
      "text/plain": [
       "<Figure size 432x288 with 1 Axes>"
      ]
     },
     "metadata": {
      "needs_background": "light",
      "tags": []
     },
     "output_type": "display_data"
    }
   ],
   "source": [
    "import numpy as np\n",
    "import matplotlib.pyplot as plt\n",
    "x = np.arange(0,3*np.pi,0.1)\n",
    "y = np.sin(x)\n",
    "plt.plot(x,y)\n",
    "plt.show()"
   ]
  },
  {
   "cell_type": "markdown",
   "metadata": {
    "id": "lmyxSMw_csvR"
   },
   "source": [
    "Similarly, we can plot graph for trigonometric functions such as cos, tan,etc. \n"
   ]
  },
  {
   "cell_type": "markdown",
   "metadata": {
    "id": "EX8lzBjPc9fj"
   },
   "source": [
    "Code 9: Write a python script to plot a graph for tan.\n"
   ]
  },
  {
   "cell_type": "code",
   "execution_count": null,
   "metadata": {
    "id": "3WzmYpdJbpB8"
   },
   "outputs": [],
   "source": [
    "#import the required packages\n",
    "#initialise array\n",
    "#plot the graph\n",
    "#show the output"
   ]
  },
  {
   "cell_type": "markdown",
   "metadata": {
    "id": "W3zp9q0gdlYD"
   },
   "source": [
    "Example 15: To calculate the natural log of the elements of an array."
   ]
  },
  {
   "cell_type": "code",
   "execution_count": null,
   "metadata": {
    "colab": {
     "base_uri": "https://localhost:8080/",
     "height": 34
    },
    "id": "g7xRo6HSbqU1",
    "outputId": "c2866e6f-8b61-4b1e-e8de-0b855baea02c"
   },
   "outputs": [
    {
     "name": "stdout",
     "output_type": "stream",
     "text": [
      "The natural log comes out as:  [0.         0.30103    0.47712125]\n"
     ]
    }
   ],
   "source": [
    "import numpy as np\n",
    "import matplotlib.pyplot as plt\n",
    "a = np.array([1,2,3])\n",
    "l = np.log10(a)\n",
    "print(\"The natural log comes out as: \", l)"
   ]
  },
  {
   "cell_type": "markdown",
   "metadata": {
    "id": "QRn6ixCYlU14"
   },
   "source": [
    "Code 10: Write a Python script to find the exponential of array."
   ]
  },
  {
   "cell_type": "code",
   "execution_count": null,
   "metadata": {
    "id": "UqdxpWcAkb3M"
   },
   "outputs": [],
   "source": [
    "#import numpy package\n",
    "#initialise array\n",
    "#find the exponential and print the value"
   ]
  },
  {
   "cell_type": "code",
   "execution_count": null,
   "metadata": {
    "id": "OJ8Q32sImVCx"
   },
   "outputs": [],
   "source": []
  }
 ],
 "metadata": {
  "colab": {
   "collapsed_sections": [],
   "name": "NumPy_NB.ipynb",
   "provenance": []
  },
  "kernelspec": {
   "display_name": "Python 3",
   "language": "python",
   "name": "python3"
  },
  "language_info": {
   "codemirror_mode": {
    "name": "ipython",
    "version": 3
   },
   "file_extension": ".py",
   "mimetype": "text/x-python",
   "name": "python",
   "nbconvert_exporter": "python",
   "pygments_lexer": "ipython3",
   "version": "3.9.5"
  }
 },
 "nbformat": 4,
 "nbformat_minor": 1
}
