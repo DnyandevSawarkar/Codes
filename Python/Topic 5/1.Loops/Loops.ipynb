{
 "cells": [
  {
   "cell_type": "markdown",
   "metadata": {},
   "source": [
    "#  LOOPS\n",
    "1. Declare variables and create list. \n",
    "2. We can create loops in Python using for loop and while loop.\n",
    "3. The for loop is used to iterate over a collection of items such as Tuple, List, Set, Dictionary, String, etc.\n",
    "4. Python for loop is always used with the “in” operator.\n",
    "5. The while loop is used to execute a block of code until the specified condition becomes False.\n",
    "6. Python has two loop control statements – break and continue.\n",
    "7. Python also supports nested loops.\n",
    "8. We can use “else” block with for loop and while loop to execute a block of1 code if the loop terminates naturally."
   ]
  },
  {
   "cell_type": "markdown",
   "metadata": {},
   "source": [
    "## Topics Covered\n",
    "- For loop\n",
    "- While loop\n",
    "- Break statement \n",
    "- Continue statement\n",
    "- range()function\n",
    "- Nested for loop\n",
    "- reverse() function"
   ]
  },
  {
   "cell_type": "markdown",
   "metadata": {},
   "source": [
    "## Learn By Doing"
   ]
  },
  {
   "cell_type": "markdown",
   "metadata": {},
   "source": [
    "##  For Loop\n",
    "1. A for loop is used to repeat a piece of code n number of times. The for loop is usually used with a list of things. \n",
    "2. Every for loop must reference a list or a range.\n",
    "3. Every for loop must close with a colon(:).\n",
    "4. Code to be executed as part of the for loop must be indented by four spaces (or one press of the Tab key).\n",
    "5. To use individual items in the list or range, we have to create a variable (item in the syntax above). There’s no need to declare this variable before creating the for loop. You can also reuse the same variable for other for loops."
   ]
  },
  {
   "cell_type": "code",
   "execution_count": 3,
   "metadata": {},
   "outputs": [],
   "source": [
    "# The complete syntax of python loops along with the else clause is :\n",
    "# for <variable_name> in <sequence>:\n",
    "#      statement1\n",
    "#      statement2\n",
    "#      .\n",
    "#      .\n",
    "# else:\n",
    "#      statement(s)"
   ]
  },
  {
   "cell_type": "markdown",
   "metadata": {},
   "source": []
  },
  {
   "cell_type": "markdown",
   "metadata": {},
   "source": [
    "In the below code 'x' defines a string. When for loop begins i gets the value of the first letter of the string, i.e., 'P' and prints the same, next time when the loop runs i gets the value 'Y' and print it. This process goes on till the end of the string. When it reach the last letter, i.e., 'N' it prints it and stop the run."
   ]
  },
  {
   "cell_type": "code",
   "execution_count": 1,
   "metadata": {
    "collapsed": true
   },
   "outputs": [
    {
     "name": "stdout",
     "output_type": "stream",
     "text": [
      "P\n",
      "Y\n",
      "T\n",
      "H\n",
      "O\n",
      "N\n"
     ]
    }
   ],
   "source": [
    "x = \"PYTHON\"  #Creating a list\n",
    "for i in x:  #Here, i  is the variable used to refer to individual items in the list\n",
    "    print(i)"
   ]
  },
  {
   "cell_type": "markdown",
   "metadata": {},
   "source": [
    "<b>QUESTION FOR YOU : Write a python code to print string letter by letter</b>"
   ]
  },
  {
   "cell_type": "code",
   "execution_count": 7,
   "metadata": {},
   "outputs": [],
   "source": [
    "a = \"FOR LOOPS\"\n",
    "# Write your code here\n"
   ]
  },
  {
   "cell_type": "markdown",
   "metadata": {},
   "source": [
    " #### Write a python code to print last 4 letter of string"
   ]
  },
  {
   "cell_type": "code",
   "execution_count": null,
   "metadata": {},
   "outputs": [],
   "source": [
    "a = \"CORONA\"\n",
    "#Write your code here"
   ]
  },
  {
   "cell_type": "markdown",
   "metadata": {},
   "source": [
    "# range() function in for loops"
   ]
  },
  {
   "cell_type": "markdown",
   "metadata": {},
   "source": [
    "To loop through a set of code a specified number of times, we can use the range() function,\n",
    "The range() function returns a sequence of numbers, starting from 0 by default, and increments by 1 (by default), and ends at a specified number - 1."
   ]
  },
  {
   "cell_type": "code",
   "execution_count": 6,
   "metadata": {},
   "outputs": [
    {
     "name": "stdout",
     "output_type": "stream",
     "text": [
      "PYTHON\n",
      "PYTHON\n",
      "PYTHON\n"
     ]
    }
   ],
   "source": [
    "# For Example : If I want to print a single word thrice. \n",
    "for i in range(0,3):\n",
    "    print(\"PYTHON\")"
   ]
  },
  {
   "cell_type": "code",
   "execution_count": 7,
   "metadata": {},
   "outputs": [
    {
     "name": "stdout",
     "output_type": "stream",
     "text": [
      "0\n",
      "1\n",
      "2\n",
      "3\n",
      "4\n",
      "5\n",
      "6\n",
      "7\n",
      "8\n",
      "9\n",
      "10\n"
     ]
    }
   ],
   "source": [
    "# Here as you can see that range() function has been used. \n",
    "# So as we know that default starting range is 0, stopping point we have given as 11 and increments by 1 by default\n",
    "# so each time i takes the value and print it.\n",
    "# when the value of i becomes 11 loop breaks.\n",
    "# From these two examples we can see that for loop runs in the range from 0(by default) to n-1.\n",
    "for i in range (11):\n",
    "    print(i)"
   ]
  },
  {
   "cell_type": "markdown",
   "metadata": {},
   "source": [
    "<b>QUESTION FOR YOU : Write a program to print numbers from 2 to 7 using for loop.</b>"
   ]
  },
  {
   "cell_type": "code",
   "execution_count": null,
   "metadata": {},
   "outputs": [],
   "source": [
    "# Write your code here "
   ]
  },
  {
   "cell_type": "markdown",
   "metadata": {},
   "source": [
    "<b>QUESTION FOR YOU : Write a python code for the table of 5 using for loop</b>"
   ]
  },
  {
   "cell_type": "code",
   "execution_count": 11,
   "metadata": {},
   "outputs": [],
   "source": [
    "# Write your code here "
   ]
  },
  {
   "cell_type": "markdown",
   "metadata": {},
   "source": [
    "<b>QUESTION FOR YOU : Write a python code to print even numbers between 1 to 10.</b>"
   ]
  },
  {
   "cell_type": "code",
   "execution_count": null,
   "metadata": {},
   "outputs": [],
   "source": []
  },
  {
   "cell_type": "markdown",
   "metadata": {},
   "source": [
    "##### But what if we do not want the default increment, see the below code"
   ]
  },
  {
   "cell_type": "code",
   "execution_count": 1,
   "metadata": {},
   "outputs": [
    {
     "name": "stdout",
     "output_type": "stream",
     "text": [
      "0\n",
      "2\n",
      "4\n",
      "6\n",
      "8\n",
      "10\n",
      "12\n",
      "14\n",
      "16\n",
      "18\n",
      "20\n"
     ]
    }
   ],
   "source": [
    "# We want to print all the numbers till 20 with the step of 2\n",
    "for i in range (0,21,2):\n",
    "    print(i)\n",
    "    \n",
    "# As you can see that every number is printed preceding with step 2."
   ]
  },
  {
   "cell_type": "markdown",
   "metadata": {},
   "source": [
    "<I> REMEMBER : We know that the default start point is 0 and we have not written it in the above code but here we mentioned that too. Because if we write (21,2)then will not give any output it can't run in the reverse order.\n",
    "    TRY THIS !!!!</I>"
   ]
  },
  {
   "cell_type": "markdown",
   "metadata": {},
   "source": [
    "# continue statement"
   ]
  },
  {
   "cell_type": "markdown",
   "metadata": {},
   "source": [
    "With the continue statement we can stop the current iteration of the loop, and continue with the next."
   ]
  },
  {
   "cell_type": "markdown",
   "metadata": {},
   "source": [
    "The below code runs in the same manner as we have seen above but when number <b>6</b> appears in the list it skip it and still continue the run. "
   ]
  },
  {
   "cell_type": "code",
   "execution_count": 9,
   "metadata": {},
   "outputs": [
    {
     "name": "stdout",
     "output_type": "stream",
     "text": [
      "0\n",
      "1\n",
      "2\n",
      "3\n",
      "4\n",
      "5\n",
      "7\n",
      "8\n",
      "9\n",
      "10\n"
     ]
    }
   ],
   "source": [
    "# See this example\n",
    "for x in range(11):\n",
    "  if x == 6:\n",
    "    continue\n",
    "  print(x)"
   ]
  },
  {
   "cell_type": "markdown",
   "metadata": {},
   "source": [
    "<b>QUESTION FOR YOU : Write a python code to print table of 10 but when 50 appears it should skip it.</b>"
   ]
  },
  {
   "cell_type": "code",
   "execution_count": 6,
   "metadata": {},
   "outputs": [
    {
     "name": "stdout",
     "output_type": "stream",
     "text": [
      "5\n",
      "7\n",
      "21\n"
     ]
    }
   ],
   "source": [
    "# Try a given problem.\n",
    "                                     \n",
    "# write your code here\n"
   ]
  },
  {
   "cell_type": "markdown",
   "metadata": {},
   "source": [
    "# break Statement\n",
    "Break is used to exit a for loop or a while loop"
   ]
  },
  {
   "cell_type": "code",
   "execution_count": 11,
   "metadata": {},
   "outputs": [
    {
     "name": "stdout",
     "output_type": "stream",
     "text": [
      "0\n",
      "1\n",
      "2\n",
      "3\n",
      "4\n",
      "5\n"
     ]
    }
   ],
   "source": [
    "# Considering the same example, here initially there was a continue statement.\n",
    "# now if i replace it with the break statement, then....\n",
    "for x in range(11):\n",
    "  if x == 6:\n",
    "    break\n",
    "  print(x)\n",
    "\n",
    "# It only print values from 0 to 5 as output, \n",
    "# because whenever condition gets satisfy it breaks the loop rather than continue the run."
   ]
  },
  {
   "cell_type": "markdown",
   "metadata": {},
   "source": [
    "<b>QUESTION FOR YOU : Write a python code to print table of 10 but when 50 appears it should break the loop.</b>\n",
    "                      "
   ]
  },
  {
   "cell_type": "code",
   "execution_count": null,
   "metadata": {},
   "outputs": [],
   "source": [
    "# Write your code here\n"
   ]
  },
  {
   "cell_type": "markdown",
   "metadata": {},
   "source": [
    "# while loop\n",
    "- Python supports two kinds of loops: for and while. \n",
    "- while loops run infinitesimally until the condition becomes false, they can often cause programs to throw off errors or crash\n",
    "- They are quite similar in syntax and operation, but differ in one crucial aspect: a while loop will run infinitesimally as long as the condition is being met."
   ]
  },
  {
   "cell_type": "code",
   "execution_count": null,
   "metadata": {},
   "outputs": [],
   "source": [
    "#The syntax for while loop is : \n",
    "\n",
    "# while expression:\n",
    "#      statement(s)"
   ]
  },
  {
   "cell_type": "markdown",
   "metadata": {},
   "source": [
    "<b>QUESTION FOR YOU : Program to print twenty numbers using while loop</b>"
   ]
  },
  {
   "cell_type": "code",
   "execution_count": 12,
   "metadata": {
    "collapsed": true
   },
   "outputs": [
    {
     "name": "stdout",
     "output_type": "stream",
     "text": [
      "1\n",
      "2\n",
      "3\n",
      "4\n",
      "5\n",
      "6\n",
      "7\n",
      "8\n",
      "9\n",
      "10\n",
      "11\n",
      "12\n",
      "13\n",
      "14\n",
      "15\n",
      "16\n",
      "17\n",
      "18\n",
      "19\n",
      "20\n"
     ]
    }
   ],
   "source": [
    "i = 0         # declaration\n",
    "while i < 20: #Loops\n",
    "   i = i + 1  #This statement is required to make the while loop condition false\n",
    "   print (i)"
   ]
  },
  {
   "cell_type": "markdown",
   "metadata": {},
   "source": [
    "<b>QUESTION FOR YOU : Program to print even numbers less than twenty using while loop</b>"
   ]
  },
  {
   "cell_type": "code",
   "execution_count": null,
   "metadata": {},
   "outputs": [],
   "source": []
  },
  {
   "cell_type": "markdown",
   "metadata": {},
   "source": [
    "# while with else\n",
    "We have seen the syntax if if statement."
   ]
  },
  {
   "cell_type": "code",
   "execution_count": 18,
   "metadata": {},
   "outputs": [],
   "source": [
    "# Thw syntax for while with else is similar to if statement.\n",
    "# SYNTAX :\n",
    "# while <condition>:\n",
    "#      statement(s)\n",
    "# else :\n",
    "#      statement(s)"
   ]
  },
  {
   "cell_type": "code",
   "execution_count": 20,
   "metadata": {},
   "outputs": [
    {
     "name": "stdout",
     "output_type": "stream",
     "text": [
      "Hello ALL\n",
      "Hello ALL\n",
      "Hello ALL\n",
      "In Else Block\n"
     ]
    }
   ],
   "source": [
    "count = 0\n",
    "while (count < 3):     \n",
    "    count = count + 1\n",
    "    print(\"Hello ALL\") \n",
    "else: \n",
    "    print(\"In Else Block\")\n",
    "    \n",
    "# As we can see from the above code that when the value of count becomes greater than 4."
   ]
  },
  {
   "cell_type": "markdown",
   "metadata": {},
   "source": [
    "<b> QUESTION FOR YOU : Write a program to reverse print number from 10 to 9"
   ]
  },
  {
   "cell_type": "code",
   "execution_count": 1,
   "metadata": {
    "collapsed": true
   },
   "outputs": [
    {
     "name": "stdout",
     "output_type": "stream",
     "text": [
      "10\n",
      "9\n",
      "8\n",
      "7\n",
      "6\n",
      "5\n",
      "4\n",
      "3\n",
      "2\n",
      "1\n"
     ]
    }
   ],
   "source": [
    "# write your code here\n"
   ]
  }
 ],
 "metadata": {
  "kernelspec": {
   "display_name": "Python 3",
   "language": "python",
   "name": "python3"
  },
  "language_info": {
   "codemirror_mode": {
    "name": "ipython",
    "version": 3
   },
   "file_extension": ".py",
   "mimetype": "text/x-python",
   "name": "python",
   "nbconvert_exporter": "python",
   "pygments_lexer": "ipython3",
   "version": "3.9.5"
  }
 },
 "nbformat": 4,
 "nbformat_minor": 2
}
