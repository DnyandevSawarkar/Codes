{
 "cells": [
  {
   "cell_type": "code",
   "execution_count": 2,
   "id": "0e096b58",
   "metadata": {},
   "outputs": [],
   "source": [
    "class numm:                               # creating class numm\n",
    "    \n",
    "    def limit(self):                      # function limit is use to store limit \n",
    "        num = int(input('limit :'))       # num is used to store input value of num\n",
    "        self.num = num                    # assing self.num equal to num\n",
    "\n",
    "    def increasing_value(self):           # function increasing_value to store all number in ranger\n",
    "        for self.op in range(0,self.num): # for loop with ranger 0 to input limit(self.num)\n",
    "            print(self.op)                # printing all the numbers in range 0 to input limit(self.num)\n",
    "\n",
    "    def checking_value(self):             # function checking_value is use to check number is even or odd\n",
    "        for self.op in range(0,self.num): # for loop with ranger 0 to input limit(self.num)\n",
    "            if (self.op%2 == 0):          # if reminder of number/2 is 0 then it prints output_1\n",
    "                print(self.op,': even')   # output_1\n",
    "            else:                         # if not then it prints output_2\n",
    "                print(self.op,': odd')    # output_2\n"
   ]
  }
 ],
 "metadata": {
  "kernelspec": {
   "display_name": "Python 3",
   "language": "python",
   "name": "python3"
  },
  "language_info": {
   "codemirror_mode": {
    "name": "ipython",
    "version": 3
   },
   "file_extension": ".py",
   "mimetype": "text/x-python",
   "name": "python",
   "nbconvert_exporter": "python",
   "pygments_lexer": "ipython3",
   "version": "3.9.5"
  }
 },
 "nbformat": 4,
 "nbformat_minor": 5
}
