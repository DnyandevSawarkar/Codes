{
 "cells": [
  {
   "cell_type": "code",
   "execution_count": null,
   "id": "8bac60ae",
   "metadata": {},
   "outputs": [],
   "source": [
    "def code(x,y):                   # creating function code\n",
    "    gender = x                   # assing x equal to gender\n",
    "    age = y                      # assing y equal to age\n",
    "   \n",
    "    if(y < 60 ):                 # if loop condition y is less than 60\n",
    "    \n",
    "        if(20 < y <=60):         # if loop condition 20 is less than y is less than equal to 60\n",
    "        \n",
    "            if(20 < y <= 50):    # if loop condition 20 is less than y is less than equal to 50\n",
    "\n",
    "                if (x == \"male\"): # if x is male it prints output_1\n",
    "                    print(\"avg salary for\",x,\"is 50000\") # output_1\n",
    "                else:                                    # condition fails it prints output_2\n",
    "                    print(\"avg salary for\",x,\"is 55000\") # output_2\n",
    "\n",
    "            elif(50 < y <= 60):                          # elif with condition 60 is less than y is less than equal to 60\n",
    "\n",
    "                if(x == \"male\"):  # if x is male it prints output_3\n",
    "                    print(\"avg salary for\",x,\"is 30000\") # output_3\n",
    "                else:                                    # condition fails it prints output_4\n",
    "                    print(\"avg salary for\",x,\"is 25000\") #output_4\n",
    "    else:                                      # all condition fails it prints output_5\n",
    "        print(\"Retired\")    #output_4"
   ]
  }
 ],
 "metadata": {
  "kernelspec": {
   "display_name": "Python 3",
   "language": "python",
   "name": "python3"
  },
  "language_info": {
   "codemirror_mode": {
    "name": "ipython",
    "version": 3
   },
   "file_extension": ".py",
   "mimetype": "text/x-python",
   "name": "python",
   "nbconvert_exporter": "python",
   "pygments_lexer": "ipython3",
   "version": "3.9.5"
  }
 },
 "nbformat": 4,
 "nbformat_minor": 5
}
