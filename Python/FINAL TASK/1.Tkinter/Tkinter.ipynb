{
 "cells": [
  {
   "cell_type": "markdown",
   "metadata": {},
   "source": [
    "# Tkinter Library"
   ]
  },
  {
   "cell_type": "markdown",
   "metadata": {},
   "source": [
    "## Importing library & Tkinter container"
   ]
  },
  {
   "cell_type": "code",
   "execution_count": 1,
   "metadata": {},
   "outputs": [],
   "source": [
    "import tkinter"
   ]
  },
  {
   "cell_type": "code",
   "execution_count": 2,
   "metadata": {},
   "outputs": [],
   "source": [
    "import tkinter           #importing tkinter module\n",
    "root = tkinter.Tk()          #tkinter container\n",
    "\n",
    "\n",
    "root.mainloop()              #mainloop function for tkinter container"
   ]
  },
  {
   "cell_type": "markdown",
   "metadata": {},
   "source": [
    "## Tkinter window"
   ]
  },
  {
   "cell_type": "code",
   "execution_count": 7,
   "metadata": {},
   "outputs": [],
   "source": [
    "import tkinter                 #importing tkinter module\n",
    "root = tkinter.Tk()            #tkinter container\n",
    "\n",
    "\n",
    "root.title(\"Window\")           #window title\n",
    "root.geometry(\"300x300\")       #window size\n",
    "\n",
    "\n",
    "root.mainloop()                #mainloop function for tkinter container"
   ]
  },
  {
   "cell_type": "markdown",
   "metadata": {},
   "source": [
    "## Label widget"
   ]
  },
  {
   "cell_type": "code",
   "execution_count": 3,
   "metadata": {},
   "outputs": [],
   "source": [
    "import tkinter                 #importing tkinter module\n",
    "root = tkinter.Tk()            #tkinter container\n",
    "\n",
    "\n",
    "root.title(\"Label\")            #window title\n",
    "root.geometry(\"300x300\")       #window size\n",
    "\n",
    "\n",
    "instructions = tkinter.Label(root, text = \"Hello World!!\", font = ('Helvetica', 12))     #label for instructions\n",
    "instructions.place(x=10, y=5)                                                            #allignment of instructions\n",
    "\n",
    "\n",
    "root.mainloop()                #mainloop function for tkinter container"
   ]
  },
  {
   "cell_type": "markdown",
   "metadata": {},
   "source": [
    "## Entry widget"
   ]
  },
  {
   "cell_type": "code",
   "execution_count": 7,
   "metadata": {},
   "outputs": [],
   "source": [
    "import tkinter                      #importing tkinter module\n",
    "\n",
    "\n",
    "def key_press(event):               #function for accepting key values\n",
    "    global box_string\n",
    "    box_string = box.get()          #variable for storing the key press values\n",
    "\n",
    "\n",
    "root = tkinter.Tk()                 #tkinter container\n",
    "root.title(\"Entry\")\n",
    "root.geometry(\"300x300\")\n",
    "\n",
    "\n",
    "instructions = tkinter.Label(root, text = \"Enter the string: \", font = ('Helvetica', 12))\n",
    "instructions.place(x=10, y=5)\n",
    "\n",
    "\n",
    "box = tkinter.Entry(root)         #entry widget\n",
    "root.bind('<Key>', key_press)     #binding key press to key_press function\n",
    "box.place(x=150, y=5)             #box allignment\n",
    "box.focus_set()                   #making the box cursor active\n",
    "\n",
    "\n",
    "root.mainloop()"
   ]
  },
  {
   "cell_type": "markdown",
   "metadata": {},
   "source": [
    "## Button widget"
   ]
  },
  {
   "cell_type": "code",
   "execution_count": 19,
   "metadata": {},
   "outputs": [],
   "source": [
    "import tkinter                          #importing tkinter module\n",
    "\n",
    "def key_press(event):\n",
    "    global box_string\n",
    "    box_string = box.get()\n",
    "    \n",
    "def show():\n",
    "    global box_string\n",
    "    output = tkinter.Label(root, text = \"My string is \"+str(box_string), font = ('Helvetica', 12))#label showing entered string\n",
    "    output.place(x = 10, y = 70)        #allignment for output\n",
    "\n",
    "    \n",
    "root = tkinter.Tk()                     #tkinter container\n",
    "root.title(\"Button\")\n",
    "root.geometry(\"300x300\")\n",
    "\n",
    "\n",
    "instructions = tkinter.Label(root, text = \"Enter the string: \", font = ('Helvetica', 12))\n",
    "instructions.place(x=10, y=5)\n",
    "\n",
    "\n",
    "box = tkinter.Entry(root)         #entry widget\n",
    "root.bind('<Key>', key_press)     #binding key press to key_press function\n",
    "box.place(x=150, y=5)             #box allignment\n",
    "box.focus_set()                   #making the box cursor active\n",
    "\n",
    "\n",
    "button = tkinter.Button(root, text = \"Show\", command = show)     #button widget\n",
    "button.place(x=195, y=30)         #allignment of button widget\n",
    "\n",
    "\n",
    "root.mainloop()"
   ]
  },
  {
   "cell_type": "markdown",
   "metadata": {},
   "source": [
    "## Sample Program : Table of any number"
   ]
  },
  {
   "cell_type": "code",
   "execution_count": 15,
   "metadata": {},
   "outputs": [],
   "source": [
    "import tkinter                        #importing tkinter module\n",
    "\n",
    "\n",
    "font = ('Helvetica', 12)              #font for the program output\n",
    "\n",
    "\n",
    "def key_press(event):                 #function for accepting key values\n",
    "    global box_num\n",
    "    box_num = box.get()               #variable for storing the key press values\n",
    "\n",
    "    \n",
    "def show():                           #function to show table\n",
    "    global box_num\n",
    "    c=int(box_num)\n",
    "    r=70\n",
    "    \n",
    "    \n",
    "    for i in range(1,11):             #loop for printing table\n",
    "        tkinter.Label(root, text = str(c)+\"   *   \"+str(i)+\"   =   \"+str(c*i), font = font).place(x = 100, y = r)\n",
    "        r=r+20\n",
    "    \n",
    "    \n",
    "    box.delete(0, tkinter.END)        #function for clearing the entry box\n",
    "\n",
    "\n",
    "if __name__ == \"__main__\":            #main function\n",
    "    root = tkinter.Tk()               #tkinter container\n",
    "    root.title(\"TABLE\")               #window title\n",
    "    root.geometry(\"300x300\")          #window size\n",
    "    \n",
    "    \n",
    "    instructions = tkinter.Label(root, text = \"Enter the Number: \", font = font) #label widget\n",
    "    instructions.place(x=10, y=5)     #label allignment\n",
    "    \n",
    "    \n",
    "    box = tkinter.Entry(root)         #entry widget\n",
    "    root.bind('<Key>', key_press)     #binding key press to key_press function\n",
    "    box.place(x=150, y=5)             #box allignment\n",
    "    box.focus_set()                   #making the box cursor active\n",
    "    \n",
    "    \n",
    "    button = tkinter.Button(root, text = \"Show\", command = show)       #button widget\n",
    "    button.place(x=195, y=30)         #button allignment\n",
    "    \n",
    "    \n",
    "    root.mainloop()                   #mainloop function for tkinter container"
   ]
  },
  {
   "cell_type": "code",
   "execution_count": null,
   "metadata": {},
   "outputs": [],
   "source": []
  },
  {
   "cell_type": "code",
   "execution_count": null,
   "metadata": {},
   "outputs": [],
   "source": []
  }
 ],
 "metadata": {
  "interpreter": {
   "hash": "8666b84ec7daad6f43aadc2e819b260a367449a0e216194626d7428b0b545e93"
  },
  "kernelspec": {
   "display_name": "Python 3",
   "language": "python",
   "name": "python3"
  },
  "language_info": {
   "codemirror_mode": {
    "name": "ipython",
    "version": 3
   },
   "file_extension": ".py",
   "mimetype": "text/x-python",
   "name": "python",
   "nbconvert_exporter": "python",
   "pygments_lexer": "ipython3",
   "version": "3.9.5"
  }
 },
 "nbformat": 4,
 "nbformat_minor": 2
}
